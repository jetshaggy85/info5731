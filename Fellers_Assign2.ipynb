{
 "cells": [
  {
   "cell_type": "markdown",
   "metadata": {},
   "source": [
    "https://github.com/jetshaggy85/info5731"
   ]
  },
  {
   "cell_type": "markdown",
   "metadata": {
    "collapsed": true
   },
   "source": [
    "Question 1. (20 points). Which of the following statements contain only valid builtin functions in Python 3? If the statement is valid, explain what it does. If it is not\n",
    "valid, explain why not.\n",
    "<br>\n",
    "<br>\n",
    "1.1 \"A\".isupper()\n",
    "<br>\n",
    "1.2 print \"This is my Python class\";\n",
    "<br>\n",
    "1.3 $x == 1$ AND $y > x$\n",
    "<br>\n",
    "1.4 return t[1:]\n",
    "<br>\n",
    "1.5 if \"fruit\" in \"apple\":\n",
    "<br>\n",
    "1.6 with open(\"myfile.txt\", \"r\") as f: \n",
    ">text = f.read().decode(\"UTF-8\")\n",
    "\n",
    "1.7 foo == None\n",
    "\n",
    "1.8 name = \"My name is Brenda\"\n",
    ">name[0] = \"A\"\n",
    "\n",
    "1.9 $x = 3$\n",
    "<br>$x**3$\n",
    "<br>\n",
    "1.10 20%7"
   ]
  },
  {
   "cell_type": "markdown",
   "metadata": {
    "collapsed": true
   },
   "source": [
    "1.1 - Valid, checks to see if the called string is upper case\n",
    "<br>\n",
    "1.2 - Invalid, this code does not work in Python 3 because it does not include the parenthesis surroudning the string\n",
    "<br>\n",
    "1.3 - Invalid, this type of boolean check does not work.  One equal sign must be used to assign values to variables.\n",
    "<br>\n",
    "1.4 - Invalid, \"Return\" can only be used inside of defining a function\n",
    "<br>\n",
    "1.5 - Invalid, this \"if\" statement is not closed with a return\n",
    "<br>\n",
    "1.6 - Valid, imports the file in UTF-8 format\n",
    "<br>\n",
    "1.7 - Invalid, one equal sign must be used to assign values to variables.\n",
    "<br>\n",
    "1.8 - Invalid, the variable is populated correctly but you cannot assign a position in a string variable using this method.\n",
    "<br>\n",
    "1.9 - Valid, this populates the variabled called x and multiplies it by 3.\n",
    "<br>\n",
    "1.10 - Valid, this calculates the remained of diving 7s into 20."
   ]
  },
  {
   "cell_type": "markdown",
   "metadata": {},
   "source": [
    "Question 2. (15 points). Write a program to prompt for a score between 0 and 100.\n",
    "If the score is out of range, print an error message. If the score is between 0 and 100,\n",
    "print a grade using the following table:\n",
    "2\n",
    "\n",
    "Score Grade\n",
    "<br>\n",
    "\">= 90\" A\n",
    "<br>\n",
    "\">= 80\" B\n",
    "<br>\n",
    "\">= 70\" C\n",
    "<br>\n",
    "\">= 60\" D\n",
    "<br>\n",
    "\"< 60\" F"
   ]
  },
  {
   "cell_type": "code",
   "execution_count": null,
   "metadata": {},
   "outputs": [],
   "source": [
    "def score(x):\n",
    "    if 0<=x<60:\n",
    "        print(\"F\")\n",
    "    elif 60<=x<70:\n",
    "        print(\"D\")\n",
    "    elif 70<=x<80:\n",
    "        print(\"C\")\n",
    "    elif 80<=x<90:\n",
    "        print(\"B\")\n",
    "    elif 90<=x<=100:\n",
    "        print(\"A\")\n",
    "    else:\n",
    "        print(\"Score is out of range\")\n",
    "score(89)"
   ]
  },
  {
   "cell_type": "markdown",
   "metadata": {},
   "source": [
    "Question 3. (20 points). Write a Python program to generate 12 random numbers\n",
    "between 1 and 100. Sort the list of numbers in ascending order and print it out. Sort\n",
    "the list of numbers in descending order and print it out. Calculate the average for the\n",
    "group and print it out."
   ]
  },
  {
   "cell_type": "code",
   "execution_count": null,
   "metadata": {},
   "outputs": [],
   "source": [
    "import random\n",
    "\n",
    "def randomnumbers(howmany):\n",
    "    somerandomnumbers = random.sample(range(1, 101), howmany)\n",
    "    somerandomnumbers.sort()\n",
    "    print(somerandomnumbers)\n",
    "    somerandomnumbers.sort(reverse=True)\n",
    "    print(somerandomnumbers)\n",
    "    avg=sum(somerandomnumbers)/len(somerandomnumbers)\n",
    "    print(avg)\n",
    "randomnumbers(12)"
   ]
  },
  {
   "cell_type": "markdown",
   "metadata": {},
   "source": [
    "Question 4. (20 points). The formula that describes the volume V of a sphere with\n",
    "radius r is the following:\n",
    "\n",
    "𝑉 =4/3∗ 𝜋 ∗ 𝑟3\n",
    "\n",
    "Write a program to calculate the value of V when r is in the range of 1– 10. Output\n",
    "the result in the following format:\n",
    "<br>\n",
    "r V\n",
    "<br>\n",
    "1 …\n",
    "<br>\n",
    "2 …\n",
    "<br>\n",
    "3 …"
   ]
  },
  {
   "cell_type": "code",
   "execution_count": null,
   "metadata": {},
   "outputs": [],
   "source": [
    "def Volume(r):\n",
    "    if r <= 0:\n",
    "        return True\n",
    "    else:\n",
    "        vlm=(4/3)*math.pi*math.pow(r,3)\n",
    "        print(r,vlm)\n",
    "        Volume(r-1)\n",
    "print(\"r\",\"V\")\n",
    "Volume(10)"
   ]
  },
  {
   "cell_type": "markdown",
   "metadata": {},
   "source": [
    "Question 5. (25 points). Write a program that will do the following string\n",
    "formatting tasks:\n",
    "\n",
    "5.1 Ask the user to enter two sentences\n",
    "<br>\n",
    "5.2 Make each sentence into a list. Each element in the list should correspond to\n",
    "a word in the sentence. For example, if the sentence is \"Alas! Am I alive? This\n",
    "is my first python program\", the program should print out ['Alas!', 'Am', 'I',\n",
    "'alive?', 'This', 'is', 'my', 'first', 'python', 'program'] or ['Alas, '!', 'Am', 'I', 'alive,\n",
    "'?', 'This', 'is', 'my', 'first', 'python', 'program']\n",
    "<br>\n",
    "5.3 Compare the two sentences. Print out a list of words that occur in both\n",
    "sentences.\n",
    "<br>\n",
    "5.4 Remove any punctuation from the sentence and print it back out. It should\n",
    "remove at least the following characters, but it can remove more: period(“.”),\n",
    "comma (“,”), semicolon (“;”), and colon (“:”)\n",
    "<br>\n",
    "5.5 Count the number of vowels in the sentences. Print out each vowel and the\n",
    "number of times it appears in the sentences, such as: a:2, e:1, i:0, etc. "
   ]
  },
  {
   "cell_type": "code",
   "execution_count": 51,
   "metadata": {},
   "outputs": [
    {
     "name": "stdout",
     "output_type": "stream",
     "text": [
      "Please enter a sentence:\n",
      "this is a test of punctuation.\n",
      "Please enter a sensentence:\n",
      "yeah; but does it work\n",
      "['this', 'is', 'a', 'test', 'of', 'punctuation.']\n",
      "['yeah;', 'but', 'does', 'it', 'work']\n",
      "set()\n",
      "this is a test of punctuation\n",
      "yeah but does it work\n"
     ]
    }
   ],
   "source": [
    "sent1 = input('Please enter a sentence:\\n')\n",
    "#this is my first attempt to try this and it may not work\n",
    "sent2= input('Please enter a sensentence:\\n')\n",
    "#ok but I think you are wise to practice and it may work\n",
    "splitsent1=sent1.split()\n",
    "print(splitsent1)\n",
    "splitsent2=sent2.split()\n",
    "print(splitsent2)\n",
    "common = set(splitsent1).intersection( set(splitsent2) )\n",
    "print(common)\n",
    "sent1 = sent1.replace(\".\", \"\")\n",
    "sent1 = sent1.replace(\",\", \"\")\n",
    "sent1 = sent1.replace(\":\", \"\")\n",
    "sent1 = sent1.replace(\";\", \"\")\n",
    "print(sent1)\n",
    "sent2 = sent2.replace(\".\", \"\")\n",
    "sent2 = sent2.replace(\",\", \"\")\n",
    "sent2 = sent2.replace(\";\", \"\")\n",
    "sent2 = sent2.replace(\":\", \"\")\n",
    "print(sent2)"
   ]
  },
  {
   "cell_type": "code",
   "execution_count": 55,
   "metadata": {},
   "outputs": [
    {
     "name": "stdout",
     "output_type": "stream",
     "text": [
      "{'t': 5, 'h': 1, 'i': 3, 's': 3, ' ': 5, 'a': 2, 'e': 1, 'o': 2, 'f': 1, 'p': 1, 'u': 2, 'n': 2, 'c': 1}\n",
      "{'y': 1, 'e': 2, 'a': 1, 'h': 1, ' ': 4, 'b': 1, 'u': 1, 't': 2, 'd': 1, 'o': 2, 's': 1, 'i': 1, 'w': 1, 'r': 1, 'k': 1}\n"
     ]
    }
   ],
   "source": [
    "def histogram(s):\n",
    "    d = dict()\n",
    "    for c in s:\n",
    "        if c not in d:\n",
    "            d[c] = 1\n",
    "        else:\n",
    "            d[c] += 1\n",
    "    return d\n",
    "sent1hist = histogram(sent1)\n",
    "print(sent1hist)\n",
    "sent2hist = histogram(sent2)\n",
    "print(sent2hist)"
   ]
  },
  {
   "cell_type": "code",
   "execution_count": null,
   "metadata": {
    "collapsed": true
   },
   "outputs": [],
   "source": []
  }
 ],
 "metadata": {
  "kernelspec": {
   "display_name": "Python 3",
   "language": "python",
   "name": "python3"
  },
  "language_info": {
   "codemirror_mode": {
    "name": "ipython",
    "version": 3
   },
   "file_extension": ".py",
   "mimetype": "text/x-python",
   "name": "python",
   "nbconvert_exporter": "python",
   "pygments_lexer": "ipython3",
   "version": "3.6.3"
  }
 },
 "nbformat": 4,
 "nbformat_minor": 2
}
