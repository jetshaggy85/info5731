{
  "nbformat": 4,
  "nbformat_minor": 0,
  "metadata": {
    "colab": {
      "name": "Copy of lesson-2-code.py.ipynb",
      "version": "0.3.2",
      "provenance": [],
      "include_colab_link": true
    },
    "kernelspec": {
      "display_name": "Python 3",
      "language": "python",
      "name": "python3"
    }
  },
  "cells": [
    {
      "cell_type": "markdown",
      "metadata": {
        "id": "view-in-github",
        "colab_type": "text"
      },
      "source": [
        "<a href=\"https://colab.research.google.com/github/jetshaggy85/info5731/blob/master/Copy_of_lesson_2_code_py.ipynb\" target=\"_parent\"><img src=\"https://colab.research.google.com/assets/colab-badge.svg\" alt=\"Open In Colab\"/></a>"
      ]
    },
    {
      "metadata": {
        "id": "qceG3rlccaff",
        "colab_type": "code",
        "colab": {}
      },
      "cell_type": "code",
      "source": [
        "message='And now for something completely different'"
      ],
      "execution_count": 0,
      "outputs": []
    },
    {
      "metadata": {
        "id": "UVcOz_6gcafj",
        "colab_type": "code",
        "colab": {}
      },
      "cell_type": "code",
      "source": [
        "n=17"
      ],
      "execution_count": 0,
      "outputs": []
    },
    {
      "metadata": {
        "id": "fifPKb4Scafl",
        "colab_type": "code",
        "colab": {}
      },
      "cell_type": "code",
      "source": [
        "pi=3.141592653589793"
      ],
      "execution_count": 0,
      "outputs": []
    },
    {
      "metadata": {
        "id": "d3j4WxVTcafn",
        "colab_type": "code",
        "outputId": "e93a1cc2-8e11-4a16-c1e1-8508e3520347",
        "colab": {}
      },
      "cell_type": "code",
      "source": [
        "42"
      ],
      "execution_count": 0,
      "outputs": [
        {
          "output_type": "execute_result",
          "data": {
            "text/plain": [
              "42"
            ]
          },
          "metadata": {
            "tags": []
          },
          "execution_count": 4
        }
      ]
    },
    {
      "metadata": {
        "id": "NXcxgnHvcafr",
        "colab_type": "code",
        "outputId": "742f48fd-35c2-4b32-f884-c198de5e34f7",
        "colab": {}
      },
      "cell_type": "code",
      "source": [
        "n"
      ],
      "execution_count": 0,
      "outputs": [
        {
          "output_type": "execute_result",
          "data": {
            "text/plain": [
              "17"
            ]
          },
          "metadata": {
            "tags": []
          },
          "execution_count": 5
        }
      ]
    },
    {
      "metadata": {
        "id": "5BdHfUTzcafx",
        "colab_type": "code",
        "outputId": "8cef647d-32a3-474d-8d68-7df1fe565cdd",
        "colab": {}
      },
      "cell_type": "code",
      "source": [
        "n+25"
      ],
      "execution_count": 0,
      "outputs": [
        {
          "output_type": "execute_result",
          "data": {
            "text/plain": [
              "42"
            ]
          },
          "metadata": {
            "tags": []
          },
          "execution_count": 6
        }
      ]
    },
    {
      "metadata": {
        "id": "FuaTwWfEcaf0",
        "colab_type": "code",
        "colab": {}
      },
      "cell_type": "code",
      "source": [
        "n=17"
      ],
      "execution_count": 0,
      "outputs": []
    },
    {
      "metadata": {
        "id": "vWVj6D6Wcaf2",
        "colab_type": "code",
        "outputId": "e4a8a31c-1f39-48fd-9389-4925a67b5d55",
        "colab": {
          "base_uri": "https://localhost:8080/",
          "height": 34
        }
      },
      "cell_type": "code",
      "source": [
        "print(n)"
      ],
      "execution_count": 0,
      "outputs": [
        {
          "output_type": "stream",
          "text": [
            "17\n"
          ],
          "name": "stdout"
        }
      ]
    },
    {
      "metadata": {
        "id": "lL4VDIOacaf4",
        "colab_type": "code",
        "colab": {}
      },
      "cell_type": "code",
      "source": [
        "miles=26.2"
      ],
      "execution_count": 0,
      "outputs": []
    },
    {
      "metadata": {
        "id": "8Nf43nt0caf7",
        "colab_type": "code",
        "outputId": "b7c271ea-e0fd-4ab6-c89a-690f06020dbc",
        "colab": {}
      },
      "cell_type": "code",
      "source": [
        "miles*1.61"
      ],
      "execution_count": 0,
      "outputs": [
        {
          "output_type": "execute_result",
          "data": {
            "text/plain": [
              "42.182"
            ]
          },
          "metadata": {
            "tags": []
          },
          "execution_count": 10
        }
      ]
    },
    {
      "metadata": {
        "id": "chu4tlFHcaf9",
        "colab_type": "code",
        "colab": {}
      },
      "cell_type": "code",
      "source": [
        "first='throat'"
      ],
      "execution_count": 0,
      "outputs": []
    },
    {
      "metadata": {
        "id": "g6VfgGh8cagA",
        "colab_type": "code",
        "colab": {}
      },
      "cell_type": "code",
      "source": [
        "second='warbler'"
      ],
      "execution_count": 0,
      "outputs": []
    },
    {
      "metadata": {
        "id": "Am75R6O-cagD",
        "colab_type": "code",
        "outputId": "2e49949e-ca96-4b77-d071-7bf86653382a",
        "colab": {}
      },
      "cell_type": "code",
      "source": [
        "first+second"
      ],
      "execution_count": 0,
      "outputs": [
        {
          "output_type": "execute_result",
          "data": {
            "text/plain": [
              "'throatwarbler'"
            ]
          },
          "metadata": {
            "tags": []
          },
          "execution_count": 3
        }
      ]
    },
    {
      "metadata": {
        "id": "aGhF5mk-cagG",
        "colab_type": "code",
        "outputId": "26587eb6-9d38-4b64-8430-48b028d669b9",
        "colab": {}
      },
      "cell_type": "code",
      "source": [
        "type(42)"
      ],
      "execution_count": 0,
      "outputs": [
        {
          "output_type": "execute_result",
          "data": {
            "text/plain": [
              "int"
            ]
          },
          "metadata": {
            "tags": []
          },
          "execution_count": 4
        }
      ]
    },
    {
      "metadata": {
        "id": "v1T9mMtMcagJ",
        "colab_type": "code",
        "outputId": "84aa198e-be1e-4955-ff92-3a09c7387c70",
        "colab": {}
      },
      "cell_type": "code",
      "source": [
        "int(32)"
      ],
      "execution_count": 0,
      "outputs": [
        {
          "output_type": "execute_result",
          "data": {
            "text/plain": [
              "32"
            ]
          },
          "metadata": {
            "tags": []
          },
          "execution_count": 5
        }
      ]
    },
    {
      "metadata": {
        "id": "MpARcoJmcagM",
        "colab_type": "code",
        "outputId": "ead9f42e-7b50-4757-ce7e-a1345dc715c2",
        "colab": {}
      },
      "cell_type": "code",
      "source": [
        "int(3.9999)"
      ],
      "execution_count": 0,
      "outputs": [
        {
          "output_type": "execute_result",
          "data": {
            "text/plain": [
              "3"
            ]
          },
          "metadata": {
            "tags": []
          },
          "execution_count": 7
        }
      ]
    },
    {
      "metadata": {
        "id": "Zx68DCpNcagP",
        "colab_type": "code",
        "outputId": "89c548fe-963e-4eee-a22e-88db002ecd93",
        "colab": {}
      },
      "cell_type": "code",
      "source": [
        "int(-2.3)"
      ],
      "execution_count": 0,
      "outputs": [
        {
          "output_type": "execute_result",
          "data": {
            "text/plain": [
              "-2"
            ]
          },
          "metadata": {
            "tags": []
          },
          "execution_count": 8
        }
      ]
    },
    {
      "metadata": {
        "id": "H2ENDEbQcagT",
        "colab_type": "code",
        "outputId": "8feb9d5a-3739-4a4f-c96d-8b8007f0e9e0",
        "colab": {}
      },
      "cell_type": "code",
      "source": [
        "float(32)"
      ],
      "execution_count": 0,
      "outputs": [
        {
          "output_type": "execute_result",
          "data": {
            "text/plain": [
              "32.0"
            ]
          },
          "metadata": {
            "tags": []
          },
          "execution_count": 9
        }
      ]
    },
    {
      "metadata": {
        "id": "e3Sr7VSucaga",
        "colab_type": "code",
        "outputId": "ccd64626-6b1c-4f76-b964-5b6aa929cd65",
        "colab": {}
      },
      "cell_type": "code",
      "source": [
        "float('3.14159')"
      ],
      "execution_count": 0,
      "outputs": [
        {
          "output_type": "execute_result",
          "data": {
            "text/plain": [
              "3.14159"
            ]
          },
          "metadata": {
            "tags": []
          },
          "execution_count": 10
        }
      ]
    },
    {
      "metadata": {
        "id": "U-B7VPgMcagc",
        "colab_type": "code",
        "outputId": "01353019-6034-46fa-8a3a-e4a8dcd2e343",
        "colab": {}
      },
      "cell_type": "code",
      "source": [
        "str(32)"
      ],
      "execution_count": 0,
      "outputs": [
        {
          "output_type": "execute_result",
          "data": {
            "text/plain": [
              "'32'"
            ]
          },
          "metadata": {
            "tags": []
          },
          "execution_count": 11
        }
      ]
    },
    {
      "metadata": {
        "id": "gxYIH1Xrcagf",
        "colab_type": "code",
        "outputId": "b066031c-0c83-48d8-d986-e70669b37403",
        "colab": {}
      },
      "cell_type": "code",
      "source": [
        "str(3.14156)"
      ],
      "execution_count": 0,
      "outputs": [
        {
          "output_type": "execute_result",
          "data": {
            "text/plain": [
              "'3.14156'"
            ]
          },
          "metadata": {
            "tags": []
          },
          "execution_count": 12
        }
      ]
    },
    {
      "metadata": {
        "id": "ZihwHSYacagi",
        "colab_type": "code",
        "colab": {}
      },
      "cell_type": "code",
      "source": [
        "import math"
      ],
      "execution_count": 0,
      "outputs": []
    },
    {
      "metadata": {
        "id": "nbGuj2ELcagl",
        "colab_type": "code",
        "outputId": "0648277c-3f0f-42f7-e7f5-42852ea7ded6",
        "colab": {}
      },
      "cell_type": "code",
      "source": [
        "math"
      ],
      "execution_count": 0,
      "outputs": [
        {
          "output_type": "execute_result",
          "data": {
            "text/plain": [
              "<module 'math' from '/anaconda3/lib/python3.7/lib-dynload/math.cpython-37m-darwin.so'>"
            ]
          },
          "metadata": {
            "tags": []
          },
          "execution_count": 19
        }
      ]
    },
    {
      "metadata": {
        "id": "hTWNM0llcago",
        "colab_type": "code",
        "colab": {}
      },
      "cell_type": "code",
      "source": [
        "def signal_power():\n",
        "    math.sin()"
      ],
      "execution_count": 0,
      "outputs": []
    },
    {
      "metadata": {
        "id": "xxn154BNcagq",
        "colab_type": "code",
        "colab": {}
      },
      "cell_type": "code",
      "source": [
        "def noise_power():\n",
        "    math.exp()"
      ],
      "execution_count": 0,
      "outputs": []
    },
    {
      "metadata": {
        "id": "5-Nr8Owjcagr",
        "colab_type": "code",
        "outputId": "245f8c4c-08ed-4616-a239-29973fa0fab1",
        "colab": {}
      },
      "cell_type": "code",
      "source": [
        "ratio=signal_power/noise_power"
      ],
      "execution_count": 0,
      "outputs": [
        {
          "output_type": "error",
          "ename": "TypeError",
          "evalue": "unsupported operand type(s) for /: 'function' and 'function'",
          "traceback": [
            "\u001b[0;31m---------------------------------------------------------------------------\u001b[0m",
            "\u001b[0;31mTypeError\u001b[0m                                 Traceback (most recent call last)",
            "\u001b[0;32m<ipython-input-58-cc582679bea0>\u001b[0m in \u001b[0;36m<module>\u001b[0;34m\u001b[0m\n\u001b[0;32m----> 1\u001b[0;31m \u001b[0mratio\u001b[0m\u001b[0;34m=\u001b[0m\u001b[0msignal_power\u001b[0m\u001b[0;34m/\u001b[0m\u001b[0mnoise_power\u001b[0m\u001b[0;34m\u001b[0m\u001b[0;34m\u001b[0m\u001b[0m\n\u001b[0m",
            "\u001b[0;31mTypeError\u001b[0m: unsupported operand type(s) for /: 'function' and 'function'"
          ]
        }
      ]
    },
    {
      "metadata": {
        "id": "67P7jrvFcagu",
        "colab_type": "code",
        "outputId": "db37890f-be68-48c3-a963-aeee5d8bb124",
        "colab": {}
      },
      "cell_type": "code",
      "source": [
        "decibels=10*math.log10(ratio)"
      ],
      "execution_count": 0,
      "outputs": [
        {
          "output_type": "error",
          "ename": "NameError",
          "evalue": "name 'ratio' is not defined",
          "traceback": [
            "\u001b[0;31m---------------------------------------------------------------------------\u001b[0m",
            "\u001b[0;31mNameError\u001b[0m                                 Traceback (most recent call last)",
            "\u001b[0;32m<ipython-input-59-163e4cc9ff44>\u001b[0m in \u001b[0;36m<module>\u001b[0;34m\u001b[0m\n\u001b[0;32m----> 1\u001b[0;31m \u001b[0mdecibels\u001b[0m\u001b[0;34m=\u001b[0m\u001b[0;36m10\u001b[0m\u001b[0;34m*\u001b[0m\u001b[0mmath\u001b[0m\u001b[0;34m.\u001b[0m\u001b[0mlog10\u001b[0m\u001b[0;34m(\u001b[0m\u001b[0mratio\u001b[0m\u001b[0;34m)\u001b[0m\u001b[0;34m\u001b[0m\u001b[0;34m\u001b[0m\u001b[0m\n\u001b[0m",
            "\u001b[0;31mNameError\u001b[0m: name 'ratio' is not defined"
          ]
        }
      ]
    },
    {
      "metadata": {
        "id": "3CcFQE8Ncagw",
        "colab_type": "code",
        "colab": {}
      },
      "cell_type": "code",
      "source": [
        "radians=0.7"
      ],
      "execution_count": 0,
      "outputs": []
    },
    {
      "metadata": {
        "id": "nBwJLKBvcagy",
        "colab_type": "code",
        "colab": {}
      },
      "cell_type": "code",
      "source": [
        "height=math.sin(radians)"
      ],
      "execution_count": 0,
      "outputs": []
    },
    {
      "metadata": {
        "id": "LZ6BhvUdcag0",
        "colab_type": "code",
        "colab": {}
      },
      "cell_type": "code",
      "source": [
        "degrees=45"
      ],
      "execution_count": 0,
      "outputs": []
    },
    {
      "metadata": {
        "id": "T1PHgczMcag2",
        "colab_type": "code",
        "colab": {}
      },
      "cell_type": "code",
      "source": [
        "radians=degrees/180.0*math.pi"
      ],
      "execution_count": 0,
      "outputs": []
    },
    {
      "metadata": {
        "id": "ZVSBMDjicag5",
        "colab_type": "code",
        "outputId": "843016e5-a5b9-4748-c926-a108c09b0375",
        "colab": {}
      },
      "cell_type": "code",
      "source": [
        "math.sin(radians)"
      ],
      "execution_count": 0,
      "outputs": [
        {
          "output_type": "execute_result",
          "data": {
            "text/plain": [
              "0.7071067811865475"
            ]
          },
          "metadata": {
            "tags": []
          },
          "execution_count": 44
        }
      ]
    },
    {
      "metadata": {
        "id": "2lDw3W8jcag6",
        "colab_type": "code",
        "outputId": "cbee2d25-98ca-4a7e-ca4e-8a84280c09f0",
        "colab": {}
      },
      "cell_type": "code",
      "source": [
        "math.sqrt(2)/2.0"
      ],
      "execution_count": 0,
      "outputs": [
        {
          "output_type": "execute_result",
          "data": {
            "text/plain": [
              "0.7071067811865476"
            ]
          },
          "metadata": {
            "tags": []
          },
          "execution_count": 45
        }
      ]
    },
    {
      "metadata": {
        "id": "Pp6LLueycag-",
        "colab_type": "code",
        "colab": {}
      },
      "cell_type": "code",
      "source": [
        "x=math.sin(degrees/360.0*2*math.pi)"
      ],
      "execution_count": 0,
      "outputs": []
    },
    {
      "metadata": {
        "id": "l0ZxKSxTcag_",
        "colab_type": "code",
        "colab": {}
      },
      "cell_type": "code",
      "source": [
        "x=math.exp(math.log(x+1))"
      ],
      "execution_count": 0,
      "outputs": []
    },
    {
      "metadata": {
        "id": "ZPmzlEWEcahC",
        "colab_type": "code",
        "colab": {}
      },
      "cell_type": "code",
      "source": [
        "def print_lyrics():\n",
        "    print(\"I'm a lumberjack, and I'm okay.\")\n",
        "    print(\"I sleep all night and I work all day.\")"
      ],
      "execution_count": 0,
      "outputs": []
    },
    {
      "metadata": {
        "id": "ogXs-WbpcahF",
        "colab_type": "code",
        "outputId": "9644561b-6efb-4671-ed21-a89322189229",
        "colab": {}
      },
      "cell_type": "code",
      "source": [
        "print(print_lyrics)"
      ],
      "execution_count": 0,
      "outputs": [
        {
          "output_type": "stream",
          "text": [
            "<function print_lyrics at 0x10b9276a8>\n"
          ],
          "name": "stdout"
        }
      ]
    },
    {
      "metadata": {
        "id": "mkmZ8S0ScahH",
        "colab_type": "code",
        "outputId": "11c9d729-a270-40b1-d1e3-e86b0b32ced3",
        "colab": {}
      },
      "cell_type": "code",
      "source": [
        "type(print_lyrics)"
      ],
      "execution_count": 0,
      "outputs": [
        {
          "output_type": "execute_result",
          "data": {
            "text/plain": [
              "function"
            ]
          },
          "metadata": {
            "tags": []
          },
          "execution_count": 51
        }
      ]
    },
    {
      "metadata": {
        "id": "xDQN9b61cahN",
        "colab_type": "code",
        "outputId": "f3c6415a-69d2-425b-f7c6-54c6cbaaafb8",
        "colab": {}
      },
      "cell_type": "code",
      "source": [
        "print_lyrics()"
      ],
      "execution_count": 0,
      "outputs": [
        {
          "output_type": "stream",
          "text": [
            "I'm a lumberjack, and I'm okay.\n",
            "I sleep all night and I work all day.\n"
          ],
          "name": "stdout"
        }
      ]
    },
    {
      "metadata": {
        "id": "rfXEYpSmcahP",
        "colab_type": "code",
        "colab": {}
      },
      "cell_type": "code",
      "source": [
        "def repeat_lyrics():\n",
        "    print_lyrics()\n",
        "    print_lyrics()"
      ],
      "execution_count": 0,
      "outputs": []
    },
    {
      "metadata": {
        "id": "3h8d1F5QcahR",
        "colab_type": "code",
        "outputId": "390d10a7-3f59-4ae5-f9dd-6c402882f6aa",
        "colab": {}
      },
      "cell_type": "code",
      "source": [
        "repeat_lyrics()"
      ],
      "execution_count": 0,
      "outputs": [
        {
          "output_type": "stream",
          "text": [
            "I'm a lumberjack, and I'm okay.\n",
            "I sleep all night and I work all day.\n",
            "I'm a lumberjack, and I'm okay.\n",
            "I sleep all night and I work all day.\n"
          ],
          "name": "stdout"
        }
      ]
    },
    {
      "metadata": {
        "id": "ZOi8XiyQcahU",
        "colab_type": "code",
        "colab": {}
      },
      "cell_type": "code",
      "source": [
        "def print_twice():\n",
        "    print(\"spam\")\n",
        "    print(bruce)"
      ],
      "execution_count": 0,
      "outputs": []
    },
    {
      "metadata": {
        "id": "d7MV_GNucahX",
        "colab_type": "code",
        "outputId": "21d28b0d-2d98-4114-8adc-fda4c4051f46",
        "colab": {}
      },
      "cell_type": "code",
      "source": [
        "print_twice('spam')"
      ],
      "execution_count": 0,
      "outputs": [
        {
          "output_type": "stream",
          "text": [
            "spam\n",
            "spam\n"
          ],
          "name": "stdout"
        }
      ]
    },
    {
      "metadata": {
        "id": "zMPerD0dcaha",
        "colab_type": "code",
        "outputId": "c59e5b95-5ff7-4e0c-c9c5-8e843eb68b5f",
        "colab": {}
      },
      "cell_type": "code",
      "source": [
        "print_twice(42)"
      ],
      "execution_count": 0,
      "outputs": [
        {
          "output_type": "stream",
          "text": [
            "42\n",
            "42\n"
          ],
          "name": "stdout"
        }
      ]
    },
    {
      "metadata": {
        "id": "gnPKUq8Icahg",
        "colab_type": "code",
        "outputId": "ab24abf2-c456-41ed-8596-7c4093b10dae",
        "colab": {}
      },
      "cell_type": "code",
      "source": [
        "print_twice(math.pi)"
      ],
      "execution_count": 0,
      "outputs": [
        {
          "output_type": "stream",
          "text": [
            "3.141592653589793\n",
            "3.141592653589793\n"
          ],
          "name": "stdout"
        }
      ]
    },
    {
      "metadata": {
        "id": "G9bV3IrScahi",
        "colab_type": "code",
        "outputId": "e56c80fe-6234-4331-83dc-997b15c2e535",
        "colab": {}
      },
      "cell_type": "code",
      "source": [
        "print_twice('spam '*4)"
      ],
      "execution_count": 0,
      "outputs": [
        {
          "output_type": "stream",
          "text": [
            "spam spam spam spam \n",
            "spam spam spam spam \n"
          ],
          "name": "stdout"
        }
      ]
    },
    {
      "metadata": {
        "id": "zzQ-usDEcahk",
        "colab_type": "code",
        "outputId": "715a8c46-4df4-40fd-fc35-f31ed767231c",
        "colab": {}
      },
      "cell_type": "code",
      "source": [
        "print_twice(math.cos(math.pi))"
      ],
      "execution_count": 0,
      "outputs": [
        {
          "output_type": "stream",
          "text": [
            "-1.0\n",
            "-1.0\n"
          ],
          "name": "stdout"
        }
      ]
    },
    {
      "metadata": {
        "id": "jeDTXs9Hcaho",
        "colab_type": "code",
        "colab": {}
      },
      "cell_type": "code",
      "source": [
        "michael='Eric, the half a bee'"
      ],
      "execution_count": 0,
      "outputs": []
    },
    {
      "metadata": {
        "id": "j2N6jdcJcahq",
        "colab_type": "code",
        "outputId": "031d836f-cbac-43e7-a838-ce8e95adb962",
        "colab": {}
      },
      "cell_type": "code",
      "source": [
        "print_twice(michael)"
      ],
      "execution_count": 0,
      "outputs": [
        {
          "output_type": "stream",
          "text": [
            "Eric, the half a bee\n",
            "Eric, the half a bee\n"
          ],
          "name": "stdout"
        }
      ]
    },
    {
      "metadata": {
        "id": "WDdQwRvDcahs",
        "colab_type": "code",
        "colab": {}
      },
      "cell_type": "code",
      "source": [
        "def cat_twice(part1,part2):\n",
        "    cat=part1+part2\n",
        "    print_twice(cat)"
      ],
      "execution_count": 0,
      "outputs": []
    },
    {
      "metadata": {
        "id": "vvNgDAILcahu",
        "colab_type": "code",
        "colab": {}
      },
      "cell_type": "code",
      "source": [
        "line1='Bing tiddle '"
      ],
      "execution_count": 0,
      "outputs": []
    },
    {
      "metadata": {
        "id": "JBYTFsTHcahv",
        "colab_type": "code",
        "colab": {}
      },
      "cell_type": "code",
      "source": [
        "line2='tiddle bang.'"
      ],
      "execution_count": 0,
      "outputs": []
    },
    {
      "metadata": {
        "id": "U8l2F-HGcahw",
        "colab_type": "code",
        "outputId": "48883160-fb9a-4d65-9d22-d91105bbd5b7",
        "colab": {}
      },
      "cell_type": "code",
      "source": [
        "cat_twice(line1,line2)"
      ],
      "execution_count": 0,
      "outputs": [
        {
          "output_type": "stream",
          "text": [
            "Bing tiddle tiddle bang.\n",
            "Bing tiddle tiddle bang.\n"
          ],
          "name": "stdout"
        }
      ]
    },
    {
      "metadata": {
        "id": "GQ5oPDlWcahy",
        "colab_type": "code",
        "outputId": "1aff2f94-9ce3-4415-cd28-6c7fac96f45b",
        "colab": {}
      },
      "cell_type": "code",
      "source": [
        "math.sqrt(5)"
      ],
      "execution_count": 0,
      "outputs": [
        {
          "output_type": "execute_result",
          "data": {
            "text/plain": [
              "2.23606797749979"
            ]
          },
          "metadata": {
            "tags": []
          },
          "execution_count": 80
        }
      ]
    },
    {
      "metadata": {
        "id": "1CZSk6SScah1",
        "colab_type": "code",
        "outputId": "ac45e4ca-6866-4ddd-8597-9a34e191b48a",
        "colab": {}
      },
      "cell_type": "code",
      "source": [
        "result=print_twice('Bing')"
      ],
      "execution_count": 0,
      "outputs": [
        {
          "output_type": "stream",
          "text": [
            "Bing\n",
            "Bing\n"
          ],
          "name": "stdout"
        }
      ]
    },
    {
      "metadata": {
        "id": "XgHlaDW7cah2",
        "colab_type": "code",
        "outputId": "b85e9fba-1511-4390-b896-44284e02c8ee",
        "colab": {}
      },
      "cell_type": "code",
      "source": [
        "print(result)"
      ],
      "execution_count": 0,
      "outputs": [
        {
          "output_type": "stream",
          "text": [
            "None\n"
          ],
          "name": "stdout"
        }
      ]
    },
    {
      "metadata": {
        "id": "SUkUedQtcah6",
        "colab_type": "code",
        "outputId": "c825d177-17e9-4d31-e27a-e7f937461e07",
        "colab": {}
      },
      "cell_type": "code",
      "source": [
        "print(type(None))"
      ],
      "execution_count": 0,
      "outputs": [
        {
          "output_type": "stream",
          "text": [
            "<class 'NoneType'>\n"
          ],
          "name": "stdout"
        }
      ]
    },
    {
      "metadata": {
        "id": "5DTZFAjZcah_",
        "colab_type": "code",
        "colab": {}
      },
      "cell_type": "code",
      "source": [
        "import turtle"
      ],
      "execution_count": 0,
      "outputs": []
    },
    {
      "metadata": {
        "id": "Ql9wv2incah_",
        "colab_type": "code",
        "colab": {}
      },
      "cell_type": "code",
      "source": [
        "bob=turtle.Turtle()"
      ],
      "execution_count": 0,
      "outputs": []
    },
    {
      "metadata": {
        "id": "9ew0mEsccaiA",
        "colab_type": "code",
        "outputId": "f8488bc0-1874-46dc-91f7-9fce9246a0c1",
        "colab": {}
      },
      "cell_type": "code",
      "source": [
        "print(bob)"
      ],
      "execution_count": 0,
      "outputs": [
        {
          "output_type": "stream",
          "text": [
            "<turtle.Turtle object at 0x110234780>\n"
          ],
          "name": "stdout"
        }
      ]
    },
    {
      "metadata": {
        "id": "JZ3YPpl3caiE",
        "colab_type": "code",
        "colab": {}
      },
      "cell_type": "code",
      "source": [
        "bob.fd(100)"
      ],
      "execution_count": 0,
      "outputs": []
    },
    {
      "metadata": {
        "id": "fiGmPKmacaiF",
        "colab_type": "code",
        "colab": {}
      },
      "cell_type": "code",
      "source": [
        "bob.lt(90)"
      ],
      "execution_count": 0,
      "outputs": []
    },
    {
      "metadata": {
        "id": "JqHrAnMecaiH",
        "colab_type": "code",
        "colab": {}
      },
      "cell_type": "code",
      "source": [
        "bob.fd(100)"
      ],
      "execution_count": 0,
      "outputs": []
    },
    {
      "metadata": {
        "id": "qOEPCsSwcaiI",
        "colab_type": "code",
        "colab": {}
      },
      "cell_type": "code",
      "source": [
        "bob.lt(90)"
      ],
      "execution_count": 0,
      "outputs": []
    },
    {
      "metadata": {
        "id": "RY3xSUf6caiJ",
        "colab_type": "code",
        "colab": {}
      },
      "cell_type": "code",
      "source": [
        "bob.fd(100)"
      ],
      "execution_count": 0,
      "outputs": []
    },
    {
      "metadata": {
        "id": "EbwNOZh1caiK",
        "colab_type": "code",
        "colab": {}
      },
      "cell_type": "code",
      "source": [
        "bob.lt(90)"
      ],
      "execution_count": 0,
      "outputs": []
    },
    {
      "metadata": {
        "id": "DJ2z8Xj0caiN",
        "colab_type": "code",
        "colab": {}
      },
      "cell_type": "code",
      "source": [
        "bob.fd(100)"
      ],
      "execution_count": 0,
      "outputs": []
    },
    {
      "metadata": {
        "id": "hMPjOH1_caiP",
        "colab_type": "code",
        "colab": {}
      },
      "cell_type": "code",
      "source": [
        "turtle.mainloop()"
      ],
      "execution_count": 0,
      "outputs": []
    },
    {
      "metadata": {
        "id": "X89mJBQqcaiQ",
        "colab_type": "code",
        "outputId": "a1081b20-1c40-4e56-d11a-e63fc8908330",
        "colab": {}
      },
      "cell_type": "code",
      "source": [
        "for i in range(4):\n",
        "    print('Hello!')"
      ],
      "execution_count": 0,
      "outputs": [
        {
          "output_type": "stream",
          "text": [
            "Hello!\n",
            "Hello!\n",
            "Hello!\n",
            "Hello!\n"
          ],
          "name": "stdout"
        }
      ]
    },
    {
      "metadata": {
        "id": "fLireHbQcaiS",
        "colab_type": "code",
        "colab": {}
      },
      "cell_type": "code",
      "source": [
        "import turtle"
      ],
      "execution_count": 0,
      "outputs": []
    },
    {
      "metadata": {
        "id": "jBhYvMhFcaiW",
        "colab_type": "code",
        "colab": {}
      },
      "cell_type": "code",
      "source": [
        "bob=turtle.Turtle()"
      ],
      "execution_count": 0,
      "outputs": []
    },
    {
      "metadata": {
        "id": "pydOjrEPcaib",
        "colab_type": "code",
        "outputId": "11182c9a-8d0d-451b-93de-42538caab276",
        "colab": {}
      },
      "cell_type": "code",
      "source": [
        "print(bob)"
      ],
      "execution_count": 0,
      "outputs": [
        {
          "output_type": "stream",
          "text": [
            "<turtle.Turtle object at 0x10fffe048>\n"
          ],
          "name": "stdout"
        }
      ]
    },
    {
      "metadata": {
        "id": "y9_wRvXbcaie",
        "colab_type": "code",
        "colab": {}
      },
      "cell_type": "code",
      "source": [
        "def square(t):\n",
        "    for i in range(4):\n",
        "        t.fd(100)\n",
        "        t.lt(90)"
      ],
      "execution_count": 0,
      "outputs": []
    },
    {
      "metadata": {
        "id": "d5lfNQGJcaig",
        "colab_type": "code",
        "colab": {}
      },
      "cell_type": "code",
      "source": [
        "square(bob)"
      ],
      "execution_count": 0,
      "outputs": []
    },
    {
      "metadata": {
        "id": "X2HKUgD1caih",
        "colab_type": "code",
        "colab": {}
      },
      "cell_type": "code",
      "source": [
        "turtle.mainloop()"
      ],
      "execution_count": 0,
      "outputs": []
    },
    {
      "metadata": {
        "id": "ZpaWFCSscaik",
        "colab_type": "code",
        "colab": {}
      },
      "cell_type": "code",
      "source": [
        "def square(t,length):\n",
        "    for i in range(4):\n",
        "        t.fd(length)\n",
        "        t.lt(90)"
      ],
      "execution_count": 0,
      "outputs": []
    },
    {
      "metadata": {
        "id": "Cg3d6IAccaim",
        "colab_type": "code",
        "outputId": "155cffa3-86a1-4c54-e8d0-953aa744e734",
        "colab": {}
      },
      "cell_type": "code",
      "source": [
        "square(bob,100)"
      ],
      "execution_count": 0,
      "outputs": [
        {
          "output_type": "error",
          "ename": "TypeError",
          "evalue": "square() takes 1 positional argument but 2 were given",
          "traceback": [
            "\u001b[0;31m---------------------------------------------------------------------------\u001b[0m",
            "\u001b[0;31mTypeError\u001b[0m                                 Traceback (most recent call last)",
            "\u001b[0;32m<ipython-input-14-8f710e333222>\u001b[0m in \u001b[0;36m<module>\u001b[0;34m\u001b[0m\n\u001b[0;32m----> 1\u001b[0;31m \u001b[0msquare\u001b[0m\u001b[0;34m(\u001b[0m\u001b[0mbob\u001b[0m\u001b[0;34m,\u001b[0m\u001b[0;36m100\u001b[0m\u001b[0;34m)\u001b[0m\u001b[0;34m\u001b[0m\u001b[0;34m\u001b[0m\u001b[0m\n\u001b[0m",
            "\u001b[0;31mTypeError\u001b[0m: square() takes 1 positional argument but 2 were given"
          ]
        }
      ]
    },
    {
      "metadata": {
        "id": "1TxxISjpcaip",
        "colab_type": "code",
        "colab": {}
      },
      "cell_type": "code",
      "source": [
        "minutes=105"
      ],
      "execution_count": 0,
      "outputs": []
    },
    {
      "metadata": {
        "id": "YsyQ7uAwcais",
        "colab_type": "code",
        "outputId": "e11998d4-5e0d-4580-eb3b-d97b5234260f",
        "colab": {}
      },
      "cell_type": "code",
      "source": [
        "minutes/60"
      ],
      "execution_count": 0,
      "outputs": [
        {
          "output_type": "execute_result",
          "data": {
            "text/plain": [
              "1.75"
            ]
          },
          "metadata": {
            "tags": []
          },
          "execution_count": 46
        }
      ]
    },
    {
      "metadata": {
        "id": "pGgA0t4Ncai0",
        "colab_type": "code",
        "colab": {}
      },
      "cell_type": "code",
      "source": [
        "hours=minutes//60"
      ],
      "execution_count": 0,
      "outputs": []
    },
    {
      "metadata": {
        "id": "6Vmq2wWhcai3",
        "colab_type": "code",
        "outputId": "5ef34d15-b331-4125-ecc6-e7051c329915",
        "colab": {}
      },
      "cell_type": "code",
      "source": [
        "hours"
      ],
      "execution_count": 0,
      "outputs": [
        {
          "output_type": "execute_result",
          "data": {
            "text/plain": [
              "1"
            ]
          },
          "metadata": {
            "tags": []
          },
          "execution_count": 48
        }
      ]
    },
    {
      "metadata": {
        "id": "pgFdlCM-cai3",
        "colab_type": "code",
        "colab": {}
      },
      "cell_type": "code",
      "source": [
        "remainder=minutes-hours*60"
      ],
      "execution_count": 0,
      "outputs": []
    },
    {
      "metadata": {
        "id": "1xBkPSDRcai5",
        "colab_type": "code",
        "outputId": "29f3336c-8085-45c2-aa02-76d3375621b9",
        "colab": {}
      },
      "cell_type": "code",
      "source": [
        "remainder"
      ],
      "execution_count": 0,
      "outputs": [
        {
          "output_type": "execute_result",
          "data": {
            "text/plain": [
              "45"
            ]
          },
          "metadata": {
            "tags": []
          },
          "execution_count": 50
        }
      ]
    },
    {
      "metadata": {
        "id": "m7J-9Wdecai6",
        "colab_type": "code",
        "colab": {}
      },
      "cell_type": "code",
      "source": [
        "remainder=minutes%60"
      ],
      "execution_count": 0,
      "outputs": []
    },
    {
      "metadata": {
        "id": "UjOOifVJcai6",
        "colab_type": "code",
        "outputId": "a2234b0f-4040-4635-b7b6-80593b937b5e",
        "colab": {}
      },
      "cell_type": "code",
      "source": [
        "remainder"
      ],
      "execution_count": 0,
      "outputs": [
        {
          "output_type": "execute_result",
          "data": {
            "text/plain": [
              "45"
            ]
          },
          "metadata": {
            "tags": []
          },
          "execution_count": 52
        }
      ]
    },
    {
      "metadata": {
        "id": "BbC4DISDcai8",
        "colab_type": "code",
        "outputId": "c441a53f-38e1-4da3-86b9-6a02d987f9f4",
        "colab": {}
      },
      "cell_type": "code",
      "source": [
        "5==5"
      ],
      "execution_count": 0,
      "outputs": [
        {
          "output_type": "execute_result",
          "data": {
            "text/plain": [
              "True"
            ]
          },
          "metadata": {
            "tags": []
          },
          "execution_count": 53
        }
      ]
    },
    {
      "metadata": {
        "id": "5WV1mjIxcai8",
        "colab_type": "code",
        "outputId": "085b6c79-4d7c-4ebd-9513-b413ef600257",
        "colab": {}
      },
      "cell_type": "code",
      "source": [
        "5==6"
      ],
      "execution_count": 0,
      "outputs": [
        {
          "output_type": "execute_result",
          "data": {
            "text/plain": [
              "False"
            ]
          },
          "metadata": {
            "tags": []
          },
          "execution_count": 54
        }
      ]
    },
    {
      "metadata": {
        "id": "JJI7_JW-cai-",
        "colab_type": "code",
        "outputId": "11f1f171-5e80-43f8-b3c1-6b6e81d8b9b1",
        "colab": {}
      },
      "cell_type": "code",
      "source": [
        "type(True)"
      ],
      "execution_count": 0,
      "outputs": [
        {
          "output_type": "execute_result",
          "data": {
            "text/plain": [
              "bool"
            ]
          },
          "metadata": {
            "tags": []
          },
          "execution_count": 55
        }
      ]
    },
    {
      "metadata": {
        "id": "nh55F8RUcai-",
        "colab_type": "code",
        "outputId": "548073d8-2c24-4c20-d313-e64a4d3973f9",
        "colab": {}
      },
      "cell_type": "code",
      "source": [
        "type(False)"
      ],
      "execution_count": 0,
      "outputs": [
        {
          "output_type": "execute_result",
          "data": {
            "text/plain": [
              "bool"
            ]
          },
          "metadata": {
            "tags": []
          },
          "execution_count": 56
        }
      ]
    },
    {
      "metadata": {
        "id": "-qIrcV1Rcai_",
        "colab_type": "code",
        "outputId": "ce3bdd35-d979-4e17-dd85-9d71bdecf843",
        "colab": {}
      },
      "cell_type": "code",
      "source": [
        "42 and True"
      ],
      "execution_count": 0,
      "outputs": [
        {
          "output_type": "execute_result",
          "data": {
            "text/plain": [
              "True"
            ]
          },
          "metadata": {
            "tags": []
          },
          "execution_count": 57
        }
      ]
    },
    {
      "metadata": {
        "id": "9lBq3gfscajB",
        "colab_type": "code",
        "outputId": "348acb60-e865-4ba1-fbc4-3f64f8814f87",
        "colab": {}
      },
      "cell_type": "code",
      "source": [
        "text=input()"
      ],
      "execution_count": 0,
      "outputs": [
        {
          "output_type": "stream",
          "text": [
            "What are you waiting for?\n"
          ],
          "name": "stdout"
        }
      ]
    },
    {
      "metadata": {
        "id": "L33rPco6cajC",
        "colab_type": "code",
        "outputId": "98deaa9c-d2e6-47ec-c653-0d5d4ecb6284",
        "colab": {}
      },
      "cell_type": "code",
      "source": [
        "text"
      ],
      "execution_count": 0,
      "outputs": [
        {
          "output_type": "execute_result",
          "data": {
            "text/plain": [
              "'What are you waiting for?'"
            ]
          },
          "metadata": {
            "tags": []
          },
          "execution_count": 60
        }
      ]
    },
    {
      "metadata": {
        "id": "R80gDbpccajD",
        "colab_type": "code",
        "outputId": "576c2277-5fe3-48b9-f067-70d0318bb445",
        "colab": {}
      },
      "cell_type": "code",
      "source": [
        "name=input('What...is your name?\\n')"
      ],
      "execution_count": 0,
      "outputs": [
        {
          "output_type": "stream",
          "text": [
            "What...is your name?\n",
            "Arthur,King of the Britons!\n"
          ],
          "name": "stdout"
        }
      ]
    },
    {
      "metadata": {
        "id": "b9ejEe31cajD",
        "colab_type": "code",
        "outputId": "d3919d49-ee1b-4942-9208-a049c124e979",
        "colab": {}
      },
      "cell_type": "code",
      "source": [
        "name"
      ],
      "execution_count": 0,
      "outputs": [
        {
          "output_type": "execute_result",
          "data": {
            "text/plain": [
              "'Arthur,King of the Britons!'"
            ]
          },
          "metadata": {
            "tags": []
          },
          "execution_count": 62
        }
      ]
    },
    {
      "metadata": {
        "id": "zPRtyD1dcajE",
        "colab_type": "code",
        "colab": {}
      },
      "cell_type": "code",
      "source": [
        "prompt='What...is the airspeed velocity of an unladen swallow?\\n'"
      ],
      "execution_count": 0,
      "outputs": []
    },
    {
      "metadata": {
        "id": "PgLQ1Qj1cajG",
        "colab_type": "code",
        "outputId": "8dfe92d3-d3de-4de6-bdd4-08a3a1ff91f5",
        "colab": {}
      },
      "cell_type": "code",
      "source": [
        "speed=input(prompt)"
      ],
      "execution_count": 0,
      "outputs": [
        {
          "output_type": "stream",
          "text": [
            "What...is the airspeed velocity of an unladen swallow?\n",
            "42\n"
          ],
          "name": "stdout"
        }
      ]
    },
    {
      "metadata": {
        "id": "SRGEg8pIcajG",
        "colab_type": "code",
        "outputId": "6ffaa52d-445e-4194-bba6-fa6b65e1f3e6",
        "colab": {}
      },
      "cell_type": "code",
      "source": [
        "int(speed)"
      ],
      "execution_count": 0,
      "outputs": [
        {
          "output_type": "execute_result",
          "data": {
            "text/plain": [
              "42"
            ]
          },
          "metadata": {
            "tags": []
          },
          "execution_count": 65
        }
      ]
    },
    {
      "metadata": {
        "id": "vidyDEqXcajH",
        "colab_type": "code",
        "colab": {}
      },
      "cell_type": "code",
      "source": [
        "import math"
      ],
      "execution_count": 0,
      "outputs": []
    },
    {
      "metadata": {
        "id": "FgAc0ckHcajI",
        "colab_type": "code",
        "colab": {}
      },
      "cell_type": "code",
      "source": [
        "signal_power=9"
      ],
      "execution_count": 0,
      "outputs": []
    },
    {
      "metadata": {
        "id": "CBBgrKYBcajJ",
        "colab_type": "code",
        "colab": {}
      },
      "cell_type": "code",
      "source": [
        "noise_power=10"
      ],
      "execution_count": 0,
      "outputs": []
    },
    {
      "metadata": {
        "id": "VPw_G3h-cajJ",
        "colab_type": "code",
        "colab": {}
      },
      "cell_type": "code",
      "source": [
        "ratio=signal_power//noise_power"
      ],
      "execution_count": 0,
      "outputs": []
    },
    {
      "metadata": {
        "id": "gYRb-0LCcajJ",
        "colab_type": "code",
        "outputId": "d4520e55-dc8a-49b7-92f8-5bc4a5500881",
        "colab": {}
      },
      "cell_type": "code",
      "source": [
        "decibels=10*math.log10(ratio)"
      ],
      "execution_count": 0,
      "outputs": [
        {
          "output_type": "error",
          "ename": "ValueError",
          "evalue": "math domain error",
          "traceback": [
            "\u001b[0;31m---------------------------------------------------------------------------\u001b[0m",
            "\u001b[0;31mValueError\u001b[0m                                Traceback (most recent call last)",
            "\u001b[0;32m<ipython-input-11-163e4cc9ff44>\u001b[0m in \u001b[0;36m<module>\u001b[0;34m\u001b[0m\n\u001b[0;32m----> 1\u001b[0;31m \u001b[0mdecibels\u001b[0m\u001b[0;34m=\u001b[0m\u001b[0;36m10\u001b[0m\u001b[0;34m*\u001b[0m\u001b[0mmath\u001b[0m\u001b[0;34m.\u001b[0m\u001b[0mlog10\u001b[0m\u001b[0;34m(\u001b[0m\u001b[0mratio\u001b[0m\u001b[0;34m)\u001b[0m\u001b[0;34m\u001b[0m\u001b[0;34m\u001b[0m\u001b[0m\n\u001b[0m",
            "\u001b[0;31mValueError\u001b[0m: math domain error"
          ]
        }
      ]
    },
    {
      "metadata": {
        "id": "jta8q9WGcajK",
        "colab_type": "code",
        "outputId": "fd4b7712-cffb-446c-ffb3-c980023bec70",
        "colab": {}
      },
      "cell_type": "code",
      "source": [
        "print(decibels)"
      ],
      "execution_count": 0,
      "outputs": [
        {
          "output_type": "error",
          "ename": "NameError",
          "evalue": "name 'decibels' is not defined",
          "traceback": [
            "\u001b[0;31m---------------------------------------------------------------------------\u001b[0m",
            "\u001b[0;31mNameError\u001b[0m                                 Traceback (most recent call last)",
            "\u001b[0;32m<ipython-input-12-610cd24b5082>\u001b[0m in \u001b[0;36m<module>\u001b[0;34m\u001b[0m\n\u001b[0;32m----> 1\u001b[0;31m \u001b[0mprint\u001b[0m\u001b[0;34m(\u001b[0m\u001b[0mdecibels\u001b[0m\u001b[0;34m)\u001b[0m\u001b[0;34m\u001b[0m\u001b[0;34m\u001b[0m\u001b[0m\n\u001b[0m",
            "\u001b[0;31mNameError\u001b[0m: name 'decibels' is not defined"
          ]
        }
      ]
    },
    {
      "metadata": {
        "id": "8zgRU8U0cajL",
        "colab_type": "code",
        "colab": {}
      },
      "cell_type": "code",
      "source": [
        "def distance(x1,y1,x2,y2):\n",
        "    dx=x2-x1\n",
        "    dy=y2-y1\n",
        "    print('dx is',dx)\n",
        "    print('dy is', dy)\n",
        "    dsquared=dx**2+dy**2\n",
        "    result=math.sqrt(dsquared)\n",
        "    return result"
      ],
      "execution_count": 0,
      "outputs": []
    },
    {
      "metadata": {
        "id": "r9ZJVzCscajM",
        "colab_type": "code",
        "outputId": "0fb43638-7ee4-4aa2-9591-148b7c5e260e",
        "colab": {}
      },
      "cell_type": "code",
      "source": [
        "distance(5,8,2,4)"
      ],
      "execution_count": 0,
      "outputs": [
        {
          "output_type": "stream",
          "text": [
            "dx is -3\n",
            "dy is -4\n"
          ],
          "name": "stdout"
        },
        {
          "output_type": "execute_result",
          "data": {
            "text/plain": [
              "5.0"
            ]
          },
          "metadata": {
            "tags": []
          },
          "execution_count": 19
        }
      ]
    },
    {
      "metadata": {
        "id": "1ErV1CZCcajM",
        "colab_type": "code",
        "colab": {}
      },
      "cell_type": "code",
      "source": [
        "def radius(xc,yc,xp,yp):\n",
        "    px=xp-xc\n",
        "    py=yp-yc\n",
        "    dsquared=px**2+py**2\n",
        "    result=math.sqrt(dsquared)\n",
        "    return result"
      ],
      "execution_count": 0,
      "outputs": []
    },
    {
      "metadata": {
        "id": "BpeunDSjcajN",
        "colab_type": "code",
        "colab": {}
      },
      "cell_type": "code",
      "source": [
        "def circle_area(xc,yc,xp,yp):\n",
        "    result=math.pi*(radius(xc,yc,xp,yp)**2)\n",
        "    return result"
      ],
      "execution_count": 0,
      "outputs": []
    },
    {
      "metadata": {
        "id": "MYpnijiacajO",
        "colab_type": "code",
        "outputId": "98b05bdc-8086-4d41-f22b-50ea217c27f6",
        "colab": {}
      },
      "cell_type": "code",
      "source": [
        "circle_area(3,4,6,8)"
      ],
      "execution_count": 0,
      "outputs": [
        {
          "output_type": "execute_result",
          "data": {
            "text/plain": [
              "78.53981633974483"
            ]
          },
          "metadata": {
            "tags": []
          },
          "execution_count": 33
        }
      ]
    },
    {
      "metadata": {
        "id": "Qr0i8yX1cajP",
        "colab_type": "code",
        "colab": {}
      },
      "cell_type": "code",
      "source": [
        "def is_divisible(x,y):\n",
        "    if x%y==0:\n",
        "        return True\n",
        "    else:\n",
        "        return False"
      ],
      "execution_count": 0,
      "outputs": []
    },
    {
      "metadata": {
        "id": "vHZtytT8cajQ",
        "colab_type": "code",
        "outputId": "8de9402f-6082-47af-ea3d-31a39fba3a7a",
        "colab": {}
      },
      "cell_type": "code",
      "source": [
        "is_divisible(6,4)"
      ],
      "execution_count": 0,
      "outputs": [
        {
          "output_type": "execute_result",
          "data": {
            "text/plain": [
              "False"
            ]
          },
          "metadata": {
            "tags": []
          },
          "execution_count": 35
        }
      ]
    },
    {
      "metadata": {
        "id": "WYc9rxyTcajR",
        "colab_type": "code",
        "outputId": "f8cacc8a-1755-477c-de04-955ddd8f1b7e",
        "colab": {}
      },
      "cell_type": "code",
      "source": [
        "is_divisible(6,3)"
      ],
      "execution_count": 0,
      "outputs": [
        {
          "output_type": "execute_result",
          "data": {
            "text/plain": [
              "True"
            ]
          },
          "metadata": {
            "tags": []
          },
          "execution_count": 36
        }
      ]
    },
    {
      "metadata": {
        "id": "XpIUrDLOcajT",
        "colab_type": "code",
        "colab": {}
      },
      "cell_type": "code",
      "source": [
        "def factorial(n):\n",
        "    if n==0:\n",
        "        return 1\n",
        "    else:\n",
        "        recurse=factorial(n-1)\n",
        "        result=n*recurse\n",
        "        return result"
      ],
      "execution_count": 0,
      "outputs": []
    },
    {
      "metadata": {
        "id": "yjo4DKHDcajU",
        "colab_type": "code",
        "outputId": "7f6c0077-7898-4a12-9ad4-a95466912b4c",
        "colab": {}
      },
      "cell_type": "code",
      "source": [
        "factorial(8)"
      ],
      "execution_count": 0,
      "outputs": [
        {
          "output_type": "execute_result",
          "data": {
            "text/plain": [
              "40320"
            ]
          },
          "metadata": {
            "tags": []
          },
          "execution_count": 40
        }
      ]
    },
    {
      "metadata": {
        "id": "5abTDy6qcajW",
        "colab_type": "code",
        "colab": {}
      },
      "cell_type": "code",
      "source": [
        "def factorial(n):\n",
        "    if not isinstance(n,int):\n",
        "        print('Factorial is only defined for integers.')\n",
        "        return None\n",
        "    elif n<0:\n",
        "        print('Factorial is not defined for negative integers.')\n",
        "        return None\n",
        "    elif n==0:\n",
        "        return 1\n",
        "    else:\n",
        "        return n*factorial(n-1)"
      ],
      "execution_count": 0,
      "outputs": []
    },
    {
      "metadata": {
        "id": "6b8JEwCVcajX",
        "colab_type": "code",
        "outputId": "c1be07a8-61f3-48af-ec78-a92875f2e945",
        "colab": {}
      },
      "cell_type": "code",
      "source": [
        "factorial(8.9)"
      ],
      "execution_count": 0,
      "outputs": [
        {
          "output_type": "stream",
          "text": [
            "Factorial is only defined for integers.\n"
          ],
          "name": "stdout"
        }
      ]
    },
    {
      "metadata": {
        "id": "NbiSOugzcaja",
        "colab_type": "code",
        "outputId": "304493cc-0777-4872-de9a-efde6a67f812",
        "colab": {}
      },
      "cell_type": "code",
      "source": [
        "factorial(-1)"
      ],
      "execution_count": 0,
      "outputs": [
        {
          "output_type": "stream",
          "text": [
            "Factorial is not defined for negative integers.\n"
          ],
          "name": "stdout"
        }
      ]
    },
    {
      "metadata": {
        "id": "K2RHBYfscajc",
        "colab_type": "code",
        "outputId": "d095b8d6-2adc-4d26-c31b-e04b3e6a430e",
        "colab": {}
      },
      "cell_type": "code",
      "source": [
        "factorial(0)"
      ],
      "execution_count": 0,
      "outputs": [
        {
          "output_type": "execute_result",
          "data": {
            "text/plain": [
              "1"
            ]
          },
          "metadata": {
            "tags": []
          },
          "execution_count": 47
        }
      ]
    },
    {
      "metadata": {
        "id": "FAg8BAWJcajc",
        "colab_type": "code",
        "outputId": "e35d9755-e937-45c4-f3d0-f57cac473cd8",
        "colab": {}
      },
      "cell_type": "code",
      "source": [
        "factorial(8)"
      ],
      "execution_count": 0,
      "outputs": [
        {
          "output_type": "execute_result",
          "data": {
            "text/plain": [
              "40320"
            ]
          },
          "metadata": {
            "tags": []
          },
          "execution_count": 48
        }
      ]
    },
    {
      "metadata": {
        "id": "dKhdHtYLcaje",
        "colab_type": "code",
        "colab": {}
      },
      "cell_type": "code",
      "source": [
        "def factorial(n):\n",
        "    space=' '*(4*n)\n",
        "    print(space,'factorial',n)\n",
        "    if n==0:\n",
        "        print(space,'returning 1')\n",
        "        return 1\n",
        "    else:\n",
        "        recurse=factorial(n-1)\n",
        "        result=n*recurse\n",
        "        print(space,'returning',result)\n",
        "        return result"
      ],
      "execution_count": 0,
      "outputs": []
    },
    {
      "metadata": {
        "id": "0JjYS9I_caje",
        "colab_type": "code",
        "outputId": "08f722f8-af69-459a-f36f-53f2f36dbdbf",
        "colab": {}
      },
      "cell_type": "code",
      "source": [
        "factorial(4)"
      ],
      "execution_count": 0,
      "outputs": [
        {
          "output_type": "stream",
          "text": [
            "                 factorial 4\n",
            "             factorial 3\n",
            "         factorial 2\n",
            "     factorial 1\n",
            " factorial 0\n",
            " returning 1\n",
            "     returning 1\n",
            "         returning 2\n",
            "             returning 6\n",
            "                 returning 24\n"
          ],
          "name": "stdout"
        },
        {
          "output_type": "execute_result",
          "data": {
            "text/plain": [
              "24"
            ]
          },
          "metadata": {
            "tags": []
          },
          "execution_count": 52
        }
      ]
    },
    {
      "metadata": {
        "id": "owkjdLYGcajf",
        "colab_type": "code",
        "colab": {}
      },
      "cell_type": "code",
      "source": [
        "x=5"
      ],
      "execution_count": 0,
      "outputs": []
    },
    {
      "metadata": {
        "id": "QbQ2wvBwcajg",
        "colab_type": "code",
        "outputId": "e3ddd6c0-54d6-4114-bff3-77c15fe7c621",
        "colab": {}
      },
      "cell_type": "code",
      "source": [
        "x"
      ],
      "execution_count": 0,
      "outputs": [
        {
          "output_type": "execute_result",
          "data": {
            "text/plain": [
              "5"
            ]
          },
          "metadata": {
            "tags": []
          },
          "execution_count": 54
        }
      ]
    },
    {
      "metadata": {
        "id": "3hw4XpC1cajj",
        "colab_type": "code",
        "colab": {}
      },
      "cell_type": "code",
      "source": [
        "x=7"
      ],
      "execution_count": 0,
      "outputs": []
    },
    {
      "metadata": {
        "id": "O9Bsb88Ucajj",
        "colab_type": "code",
        "outputId": "e418854d-9c3a-493e-9014-18cfbb9a76cd",
        "colab": {}
      },
      "cell_type": "code",
      "source": [
        "x"
      ],
      "execution_count": 0,
      "outputs": [
        {
          "output_type": "execute_result",
          "data": {
            "text/plain": [
              "7"
            ]
          },
          "metadata": {
            "tags": []
          },
          "execution_count": 56
        }
      ]
    },
    {
      "metadata": {
        "id": "QfGHXve_cajk",
        "colab_type": "code",
        "colab": {}
      },
      "cell_type": "code",
      "source": [
        "a=5"
      ],
      "execution_count": 0,
      "outputs": []
    },
    {
      "metadata": {
        "id": "Vh0APAg-cajl",
        "colab_type": "code",
        "colab": {}
      },
      "cell_type": "code",
      "source": [
        "b=a"
      ],
      "execution_count": 0,
      "outputs": []
    },
    {
      "metadata": {
        "id": "jC7trZrGcajm",
        "colab_type": "code",
        "colab": {}
      },
      "cell_type": "code",
      "source": [
        "a=3"
      ],
      "execution_count": 0,
      "outputs": []
    },
    {
      "metadata": {
        "id": "fb7mfi6vcajn",
        "colab_type": "code",
        "colab": {}
      },
      "cell_type": "code",
      "source": [
        "x=x+1"
      ],
      "execution_count": 0,
      "outputs": []
    },
    {
      "metadata": {
        "id": "dfXJs_uucajn",
        "colab_type": "code",
        "colab": {}
      },
      "cell_type": "code",
      "source": [
        "x=0"
      ],
      "execution_count": 0,
      "outputs": []
    },
    {
      "metadata": {
        "id": "2ffhzwYTcajp",
        "colab_type": "code",
        "colab": {}
      },
      "cell_type": "code",
      "source": [
        "def countdown(n):\n",
        "    while n>0:\n",
        "        print(n)\n",
        "        n=n-1\n",
        "    print('Blastoff!')"
      ],
      "execution_count": 0,
      "outputs": []
    },
    {
      "metadata": {
        "id": "e2KglzvUcajp",
        "colab_type": "code",
        "outputId": "8eb18b9c-218c-4495-de6b-d237493abf85",
        "colab": {}
      },
      "cell_type": "code",
      "source": [
        "countdown(8)"
      ],
      "execution_count": 0,
      "outputs": [
        {
          "output_type": "stream",
          "text": [
            "8\n",
            "7\n",
            "6\n",
            "5\n",
            "4\n",
            "3\n",
            "2\n",
            "1\n",
            "Blastoff!\n"
          ],
          "name": "stdout"
        }
      ]
    },
    {
      "metadata": {
        "id": "Xcv0GiW-cajr",
        "colab_type": "code",
        "colab": {}
      },
      "cell_type": "code",
      "source": [
        "def sequence(n):\n",
        "    while n!=1:\n",
        "        print(n)\n",
        "        if n%2==0:\n",
        "            n=n/2\n",
        "        else:\n",
        "            n=n*3+1"
      ],
      "execution_count": 0,
      "outputs": []
    },
    {
      "metadata": {
        "id": "32ZYmSXTcajr",
        "colab_type": "code",
        "outputId": "85f175ab-159d-404a-fcbc-7fd5c2bd84d8",
        "colab": {}
      },
      "cell_type": "code",
      "source": [
        "sequence(4)"
      ],
      "execution_count": 0,
      "outputs": [
        {
          "output_type": "stream",
          "text": [
            "4\n",
            "2.0\n"
          ],
          "name": "stdout"
        }
      ]
    },
    {
      "metadata": {
        "id": "SEkyXWeycajt",
        "colab_type": "code",
        "outputId": "1a65d22e-723b-4d8d-e8e6-1fac0175e67a",
        "colab": {}
      },
      "cell_type": "code",
      "source": [
        "while True:\n",
        "    line=input('> ')\n",
        "    if line=='done':\n",
        "        break\n",
        "    print(line)\n",
        "print('Done!')"
      ],
      "execution_count": 0,
      "outputs": [
        {
          "output_type": "stream",
          "text": [
            "> not done\n",
            "not done\n",
            "> not done\n",
            "not done\n",
            "> 111\n",
            "111\n",
            "> 333\n",
            "333\n",
            "> done\n",
            "Done!\n"
          ],
          "name": "stdout"
        }
      ]
    },
    {
      "metadata": {
        "id": "g9Pz6qqccajx",
        "colab_type": "code",
        "colab": {}
      },
      "cell_type": "code",
      "source": [
        "a=4"
      ],
      "execution_count": 0,
      "outputs": []
    },
    {
      "metadata": {
        "id": "9tpUtGjCcajy",
        "colab_type": "code",
        "colab": {}
      },
      "cell_type": "code",
      "source": [
        "x=3"
      ],
      "execution_count": 0,
      "outputs": []
    },
    {
      "metadata": {
        "id": "BYLn3CRzcajy",
        "colab_type": "code",
        "colab": {}
      },
      "cell_type": "code",
      "source": [
        "y=(x+a/x)/2"
      ],
      "execution_count": 0,
      "outputs": []
    },
    {
      "metadata": {
        "id": "ArUGS37Tcajz",
        "colab_type": "code",
        "outputId": "5d2c45ac-4d7c-4644-9126-755dd7fda1eb",
        "colab": {}
      },
      "cell_type": "code",
      "source": [
        "y"
      ],
      "execution_count": 0,
      "outputs": [
        {
          "output_type": "execute_result",
          "data": {
            "text/plain": [
              "2.1666666666666665"
            ]
          },
          "metadata": {
            "tags": []
          },
          "execution_count": 75
        }
      ]
    },
    {
      "metadata": {
        "id": "8fNbDTrxcaj1",
        "colab_type": "code",
        "colab": {}
      },
      "cell_type": "code",
      "source": [
        "x=y"
      ],
      "execution_count": 0,
      "outputs": []
    },
    {
      "metadata": {
        "id": "xwQMpLfncaj2",
        "colab_type": "code",
        "colab": {}
      },
      "cell_type": "code",
      "source": [
        "y=(x+a/x)/2"
      ],
      "execution_count": 0,
      "outputs": []
    },
    {
      "metadata": {
        "id": "wglLq1_Fcaj3",
        "colab_type": "code",
        "outputId": "a70489d5-2806-4b87-9767-63c57eb3564b",
        "colab": {}
      },
      "cell_type": "code",
      "source": [
        "y"
      ],
      "execution_count": 0,
      "outputs": [
        {
          "output_type": "execute_result",
          "data": {
            "text/plain": [
              "2.0064102564102564"
            ]
          },
          "metadata": {
            "tags": []
          },
          "execution_count": 78
        }
      ]
    },
    {
      "metadata": {
        "id": "HhUHQC3vcaj6",
        "colab_type": "code",
        "colab": {}
      },
      "cell_type": "code",
      "source": [
        "x=y"
      ],
      "execution_count": 0,
      "outputs": []
    },
    {
      "metadata": {
        "id": "05BL3obwcaj7",
        "colab_type": "code",
        "colab": {}
      },
      "cell_type": "code",
      "source": [
        "y=(x+a/x)/2"
      ],
      "execution_count": 0,
      "outputs": []
    },
    {
      "metadata": {
        "id": "foXLe-Swcaj8",
        "colab_type": "code",
        "outputId": "9677d945-1409-424d-edc6-42b8ecf2565c",
        "colab": {}
      },
      "cell_type": "code",
      "source": [
        "y"
      ],
      "execution_count": 0,
      "outputs": [
        {
          "output_type": "execute_result",
          "data": {
            "text/plain": [
              "2.0000102400262145"
            ]
          },
          "metadata": {
            "tags": []
          },
          "execution_count": 81
        }
      ]
    },
    {
      "metadata": {
        "id": "ivpSX1mQcaj8",
        "colab_type": "code",
        "colab": {}
      },
      "cell_type": "code",
      "source": [
        "x=y"
      ],
      "execution_count": 0,
      "outputs": []
    },
    {
      "metadata": {
        "id": "uFF7xvyHcaj9",
        "colab_type": "code",
        "colab": {}
      },
      "cell_type": "code",
      "source": [
        "y=(x+a/x)/2"
      ],
      "execution_count": 0,
      "outputs": []
    },
    {
      "metadata": {
        "id": "1iyLLIQmcaj-",
        "colab_type": "code",
        "outputId": "48dec8a1-43ea-427e-96d5-1fcd32121368",
        "colab": {}
      },
      "cell_type": "code",
      "source": [
        "y"
      ],
      "execution_count": 0,
      "outputs": [
        {
          "output_type": "execute_result",
          "data": {
            "text/plain": [
              "2.0000000000262146"
            ]
          },
          "metadata": {
            "tags": []
          },
          "execution_count": 84
        }
      ]
    },
    {
      "metadata": {
        "id": "ppZIb8MLcaj_",
        "colab_type": "code",
        "colab": {}
      },
      "cell_type": "code",
      "source": [
        "while True:\n",
        "    print(x)\n",
        "    y=(x+a/x)/2\n",
        "    if y==x:\n",
        "        break\n",
        "    x=y"
      ],
      "execution_count": 0,
      "outputs": []
    },
    {
      "metadata": {
        "id": "26qZAk-4cakA",
        "colab_type": "code",
        "colab": {}
      },
      "cell_type": "code",
      "source": [
        ""
      ],
      "execution_count": 0,
      "outputs": []
    }
  ]
}