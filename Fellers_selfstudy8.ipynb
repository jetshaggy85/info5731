{
  "nbformat": 4,
  "nbformat_minor": 0,
  "metadata": {
    "colab": {
      "name": "Fellers_selfstudy8.ipynb",
      "version": "0.3.2",
      "provenance": [],
      "collapsed_sections": [],
      "include_colab_link": true
    },
    "kernelspec": {
      "name": "python3",
      "display_name": "Python 3"
    }
  },
  "cells": [
    {
      "cell_type": "markdown",
      "metadata": {
        "id": "view-in-github",
        "colab_type": "text"
      },
      "source": [
        "<a href=\"https://colab.research.google.com/github/jetshaggy85/info5731/blob/master/Fellers_selfstudy8.ipynb\" target=\"_parent\"><img src=\"https://colab.research.google.com/assets/colab-badge.svg\" alt=\"Open In Colab\"/></a>"
      ]
    },
    {
      "metadata": {
        "id": "peL8jX5bFeca",
        "colab_type": "code",
        "colab": {}
      },
      "cell_type": "code",
      "source": [
        "users = [\n",
        "{ \"id\": 0, \"name\": \"Hero\" },\n",
        "{ \"id\": 1, \"name\": \"Dunn\" },\n",
        "{ \"id\": 2, \"name\": \"Sue\" },\n",
        "{ \"id\": 3, \"name\": \"Chi\" },\n",
        "{ \"id\": 4, \"name\": \"Thor\" },\n",
        "{ \"id\": 5, \"name\": \"Clive\" },\n",
        "{ \"id\": 6, \"name\": \"Hicks\" },\n",
        "{ \"id\": 7, \"name\": \"Devin\" },\n",
        "{ \"id\": 8, \"name\": \"Kate\" },\n",
        "{ \"id\": 9, \"name\": \"Klein\" }\n",
        "]"
      ],
      "execution_count": 0,
      "outputs": []
    },
    {
      "metadata": {
        "id": "pP6ZUyf5FuYS",
        "colab_type": "code",
        "colab": {}
      },
      "cell_type": "code",
      "source": [
        "friendships = [(0, 1), (0, 2), (1, 2), (1, 3), (2, 3), (3, 4),\n",
        "(4, 5), (5, 6), (5, 7), (6, 8), (7, 8), (8, 9)]"
      ],
      "execution_count": 0,
      "outputs": []
    },
    {
      "metadata": {
        "id": "PVR5_sCTFu-l",
        "colab_type": "code",
        "colab": {}
      },
      "cell_type": "code",
      "source": [
        "for user in users:\n",
        "  user[\"friends\"] = []"
      ],
      "execution_count": 0,
      "outputs": []
    },
    {
      "metadata": {
        "id": "odAwsIV_Fu5X",
        "colab_type": "code",
        "colab": {}
      },
      "cell_type": "code",
      "source": [
        "for i, j in friendships:\n",
        "  # this works because users[i] is the user whose id is i\n",
        "  users[i][\"friends\"].append(users[j]) # add j as a friend of i\n",
        "  users[j][\"friends\"].append(users[i]) # add i as a friend of j"
      ],
      "execution_count": 0,
      "outputs": []
    },
    {
      "metadata": {
        "id": "hhRUQgpwFu0L",
        "colab_type": "code",
        "colab": {}
      },
      "cell_type": "code",
      "source": [
        "def number_of_friends(user):\n",
        "  \"\"\"how many friends does _user_ have?\"\"\"\n",
        "  return len(user[\"friends\"]) # length of friend_ids list\n",
        "\n",
        "total_connections = sum(number_of_friends(user)\n",
        "  for user in users) # 24"
      ],
      "execution_count": 0,
      "outputs": []
    },
    {
      "metadata": {
        "id": "hIS0Vx1wFuvQ",
        "colab_type": "code",
        "colab": {}
      },
      "cell_type": "code",
      "source": [
        "from __future__ import division # integer division is lame\n",
        "num_users = len(users) # length of the users list\n",
        "avg_connections = total_connections / num_users # 2.4"
      ],
      "execution_count": 0,
      "outputs": []
    },
    {
      "metadata": {
        "id": "XG95uh9_FuqN",
        "colab_type": "code",
        "colab": {}
      },
      "cell_type": "code",
      "source": [
        "# create a list (user_id, number_of_friends)\n",
        "num_friends_by_id = [(user[\"id\"], number_of_friends(user))\n",
        "  for user in users]"
      ],
      "execution_count": 0,
      "outputs": []
    },
    {
      "metadata": {
        "id": "80yVWvyJFuSt",
        "colab_type": "code",
        "colab": {}
      },
      "cell_type": "code",
      "source": [
        "def friends_of_friend_ids_bad(user):\n",
        "  # \"foaf\" is short for \"friend of a friend\"\n",
        "  return [foaf[\"id\"]\n",
        "    for friend in user[\"friends\"] # for each of user's friends\n",
        "    for foaf in friend[\"friends\"]] # get each of _their_ friends"
      ],
      "execution_count": 0,
      "outputs": []
    },
    {
      "metadata": {
        "id": "0Mq0BuGDFuNV",
        "colab_type": "code",
        "colab": {
          "base_uri": "https://localhost:8080/",
          "height": 34
        },
        "outputId": "11f1f546-69c7-49fe-b04d-c598248951a1"
      },
      "cell_type": "code",
      "source": [
        "print(friends_of_friend_ids_bad(users[0])) # Counter({0: 2, 5: 1})"
      ],
      "execution_count": 26,
      "outputs": [
        {
          "output_type": "stream",
          "text": [
            "[0, 2, 3, 0, 1, 3]\n"
          ],
          "name": "stdout"
        }
      ]
    },
    {
      "metadata": {
        "id": "xqL_ZvSpH8Xh",
        "colab_type": "code",
        "colab": {
          "base_uri": "https://localhost:8080/",
          "height": 34
        },
        "outputId": "c8749b86-bfd4-41c2-d637-180de942df3e"
      },
      "cell_type": "code",
      "source": [
        "from collections import Counter # not loaded by default\n",
        "\n",
        "def not_the_same(user, other_user):\n",
        "  \"\"\"two users are not the same if they have different ids\"\"\"\n",
        "  return user[\"id\"] != other_user[\"id\"]\n",
        "\n",
        "def not_friends(user, other_user):\n",
        "  \"\"\"other_user is not a friend if he's not in user[\"friends\"];\n",
        "  that is, if he's not_the_same as all the people in user[\"friends\"]\"\"\"\n",
        "  return all(not_the_same(friend, other_user)\n",
        "    for friend in user[\"friends\"])\n",
        "\n",
        "def friends_of_friend_ids(user):\n",
        "  return Counter(foaf[\"id\"]\n",
        "    for friend in user[\"friends\"] # for each of my friends\n",
        "    for foaf in friend[\"friends\"] # count *their* friends\n",
        "    if not_the_same(user, foaf) # who aren't me\n",
        "    and not_friends(user, foaf)) # and aren't my friends\n",
        "\n",
        "print(friends_of_friend_ids(users[3])) # Counter({0: 2, 5: 1})"
      ],
      "execution_count": 25,
      "outputs": [
        {
          "output_type": "stream",
          "text": [
            "Counter({0: 2, 5: 1})\n"
          ],
          "name": "stdout"
        }
      ]
    },
    {
      "metadata": {
        "id": "x5ibe16FH8TU",
        "colab_type": "code",
        "colab": {}
      },
      "cell_type": "code",
      "source": [
        "interests = [\n",
        "(0, \"Hadoop\"), (0, \"Big Data\"), (0, \"HBase\"), (0, \"Java\"),\n",
        "(0, \"Spark\"), (0, \"Storm\"), (0, \"Cassandra\"),\n",
        "(1, \"NoSQL\"), (1, \"MongoDB\"), (1, \"Cassandra\"), (1, \"HBase\"),\n",
        "(1, \"Postgres\"), (2, \"Python\"), (2, \"scikit-learn\"), (2, \"scipy\"),\n",
        "(2, \"numpy\"), (2, \"statsmodels\"), (2, \"pandas\"), (3, \"R\"), (3, \"Python\"),\n",
        "(3, \"statistics\"), (3, \"regression\"), (3, \"probability\"),\n",
        "(4, \"machine learning\"), (4, \"regression\"), (4, \"decision trees\"),\n",
        "(4, \"libsvm\"), (5, \"Python\"), (5, \"R\"), (5, \"Java\"), (5, \"C++\"),\n",
        "(5, \"Haskell\"), (5, \"programming languages\"), (6, \"statistics\"),\n",
        "(6, \"probability\"), (6, \"mathematics\"), (6, \"theory\"),\n",
        "(7, \"machine learning\"), (7, \"scikit-learn\"), (7, \"Mahout\"),\n",
        "(7, \"neural networks\"), (8, \"neural networks\"), (8, \"deep learning\"),\n",
        "(8, \"Big Data\"), (8, \"artificial intelligence\"), (9, \"Hadoop\"),\n",
        "(9, \"Java\"), (9, \"MapReduce\"), (9, \"Big Data\")\n",
        "]"
      ],
      "execution_count": 0,
      "outputs": []
    },
    {
      "metadata": {
        "id": "p9uDuy58H8Ps",
        "colab_type": "code",
        "colab": {}
      },
      "cell_type": "code",
      "source": [
        "def data_scientists_who_like(target_interest):\n",
        "  return [user_id\n",
        "    for user_id, user_interest in interests\n",
        "    if user_interest == target_interest]"
      ],
      "execution_count": 0,
      "outputs": []
    },
    {
      "metadata": {
        "id": "Sus4we-SH8Ka",
        "colab_type": "code",
        "colab": {}
      },
      "cell_type": "code",
      "source": [
        "from collections import defaultdict\n",
        "\n",
        "# keys are interests, values are lists of user_ids with that interest\n",
        "user_ids_by_interest = defaultdict(list)\n",
        "\n",
        "for user_id, interest in interests:\n",
        "  user_ids_by_interest[interest].append(user_id)"
      ],
      "execution_count": 0,
      "outputs": []
    },
    {
      "metadata": {
        "id": "Nq2ZtZuYH8Gg",
        "colab_type": "code",
        "colab": {}
      },
      "cell_type": "code",
      "source": [
        "# keys are user_ids, values are lists of interests for that user_id\n",
        "interests_by_user_id = defaultdict(list)\n",
        "\n",
        "for user_id, interest in interests:\n",
        "  interests_by_user_id[user_id].append(interest)"
      ],
      "execution_count": 0,
      "outputs": []
    },
    {
      "metadata": {
        "id": "gz-uj5d0H8AK",
        "colab_type": "code",
        "colab": {}
      },
      "cell_type": "code",
      "source": [
        "def most_common_interests_with(user):\n",
        "  return Counter(interested_user_id\n",
        "    for interest in interests_by_user_id[user[\"id\"]]\n",
        "    for interested_user_id in user_ids_by_interest[interest]\n",
        "    if interested_user_id != user[\"id\"])"
      ],
      "execution_count": 0,
      "outputs": []
    },
    {
      "metadata": {
        "id": "M8rY_KFKFuHf",
        "colab_type": "code",
        "colab": {}
      },
      "cell_type": "code",
      "source": [
        "salaries_and_tenures = [(83000, 8.7), (88000, 8.1),\n",
        "(48000, 0.7), (76000, 6),\n",
        "(69000, 6.5), (76000, 7.5),\n",
        "(60000, 2.5), (83000, 10),\n",
        "(48000, 1.9), (63000, 4.2)]"
      ],
      "execution_count": 0,
      "outputs": []
    },
    {
      "metadata": {
        "id": "rXqJFnJgFt_m",
        "colab_type": "code",
        "colab": {}
      },
      "cell_type": "code",
      "source": [
        "# keys are years, values are lists of the salaries for each tenure\n",
        "salary_by_tenure = defaultdict(list)\n",
        "\n",
        "for salary, tenure in salaries_and_tenures:\n",
        "  salary_by_tenure[tenure].append(salary)\n",
        "\n",
        "# keys are years, each value is average salary for that tenure\n",
        "average_salary_by_tenure = {\n",
        "  tenure : sum(salaries) / len(salaries)\n",
        "  for tenure, salaries in salary_by_tenure.items()\n",
        "}"
      ],
      "execution_count": 0,
      "outputs": []
    },
    {
      "metadata": {
        "id": "-0bj5i0aJE8T",
        "colab_type": "code",
        "colab": {}
      },
      "cell_type": "code",
      "source": [
        "def tenure_bucket(tenure):\n",
        "  if tenure < 2:\n",
        "    return \"less than two\"\n",
        "  elif tenure < 5:\n",
        "    return \"between two and five\"\n",
        "  else:\n",
        "    return \"more than five\""
      ],
      "execution_count": 0,
      "outputs": []
    },
    {
      "metadata": {
        "id": "EWbi3cEWJE5W",
        "colab_type": "code",
        "colab": {}
      },
      "cell_type": "code",
      "source": [
        "# keys are tenure buckets, values are lists of salaries for that bucket\n",
        "salary_by_tenure_bucket = defaultdict(list)\n",
        "\n",
        "for salary, tenure in salaries_and_tenures:\n",
        "  bucket = tenure_bucket(tenure)\n",
        "  salary_by_tenure_bucket[bucket].append(salary)"
      ],
      "execution_count": 0,
      "outputs": []
    },
    {
      "metadata": {
        "id": "QKhttNYyJE2H",
        "colab_type": "code",
        "colab": {}
      },
      "cell_type": "code",
      "source": [
        "# keys are tenure buckets, values are average salary for that bucket\n",
        "average_salary_by_bucket = {\n",
        "  tenure_bucket : sum(salaries) / len(salaries)\n",
        "  for tenure_bucket, salaries in salary_by_tenure_bucket.items()\n",
        "}"
      ],
      "execution_count": 0,
      "outputs": []
    },
    {
      "metadata": {
        "id": "gfHzgE8aJEyJ",
        "colab_type": "code",
        "colab": {}
      },
      "cell_type": "code",
      "source": [
        "def predict_paid_or_unpaid(years_experience):\n",
        "  if years_experience < 3.0:\n",
        "    return \"paid\"\n",
        "  elif years_experience < 8.5:\n",
        "    return \"unpaid\"\n",
        "  else:\n",
        "    return \"paid\""
      ],
      "execution_count": 0,
      "outputs": []
    },
    {
      "metadata": {
        "id": "4anpEGy4JEtT",
        "colab_type": "code",
        "colab": {}
      },
      "cell_type": "code",
      "source": [
        "words_and_counts = Counter(word\n",
        "  for user, interest in interests\n",
        "  for word in interest.lower().split())"
      ],
      "execution_count": 0,
      "outputs": []
    },
    {
      "metadata": {
        "id": "-g_J7fO3JEnW",
        "colab_type": "code",
        "colab": {
          "base_uri": "https://localhost:8080/",
          "height": 286
        },
        "outputId": "0cc935cb-0c7f-416e-a4ac-fcb5d78ff255"
      },
      "cell_type": "code",
      "source": [
        "for word, count in words_and_counts.most_common():\n",
        "  if count > 1:\n",
        "    print(word, count)"
      ],
      "execution_count": 41,
      "outputs": [
        {
          "output_type": "stream",
          "text": [
            "big 3\n",
            "data 3\n",
            "java 3\n",
            "python 3\n",
            "learning 3\n",
            "hadoop 2\n",
            "hbase 2\n",
            "cassandra 2\n",
            "scikit-learn 2\n",
            "r 2\n",
            "statistics 2\n",
            "regression 2\n",
            "probability 2\n",
            "machine 2\n",
            "neural 2\n",
            "networks 2\n"
          ],
          "name": "stdout"
        }
      ]
    },
    {
      "metadata": {
        "id": "EIa_xHO_JEhP",
        "colab_type": "code",
        "colab": {
          "base_uri": "https://localhost:8080/",
          "height": 362
        },
        "outputId": "ee8023ec-b7ed-44c9-f90c-5d7dd6c66678"
      },
      "cell_type": "code",
      "source": [
        "from matplotlib import pyplot as plt\n",
        "years = [1950, 1960, 1970, 1980, 1990, 2000, 2010]\n",
        "gdp = [300.2, 543.3, 1075.9, 2862.5, 5979.6, 10289.7, 14958.3]\n",
        "# create a line chart, years on x-axis, gdp on y-axis\n",
        "plt.plot(years, gdp, color='green', marker='o', linestyle='solid')\n",
        "# add a title\n",
        "plt.title(\"Nominal GDP\")\n",
        "# add a label to the y-axis\n",
        "plt.ylabel(\"Billions of $\")\n",
        "plt.show()"
      ],
      "execution_count": 42,
      "outputs": [
        {
          "output_type": "display_data",
          "data": {
            "image/png": "[encoded data removed]",
            "text/plain": [
              "<Figure size 576x396 with 1 Axes>"
            ]
          },
          "metadata": {
            "tags": []
          }
        }
      ]
    },
    {
      "metadata": {
        "id": "7aejmXesKC45",
        "colab_type": "code",
        "colab": {
          "base_uri": "https://localhost:8080/",
          "height": 362
        },
        "outputId": "96774b0b-3fc4-4f3f-ddb3-c0befeacc868"
      },
      "cell_type": "code",
      "source": [
        "movies = [\"Annie Hall\", \"Ben-Hur\", \"Casablanca\", \"Gandhi\", \"West Side Story\"]\n",
        "num_oscars = [5, 11, 3, 8, 10]\n",
        "# bars are by default width 0.8, so we'll add 0.1 to the left coordinates\n",
        "# so that each bar is centered\n",
        "xs = [i + 0.1 for i, _ in enumerate(movies)]\n",
        "# plot bars with left x-coordinates [xs], heights [num_oscars]\n",
        "plt.bar(xs, num_oscars)\n",
        "plt.ylabel(\"# of Academy Awards\")\n",
        "plt.title(\"My Favorite Movies\")\n",
        "# label x-axis with movie names at bar centers\n",
        "plt.xticks([i + 0.5 for i, _ in enumerate(movies)], movies)\n",
        "plt.show()"
      ],
      "execution_count": 43,
      "outputs": [
        {
          "output_type": "display_data",
          "data": {
            "image/png": "[encoded data removed]",
            "text/plain": [
              "<Figure size 576x396 with 1 Axes>"
            ]
          },
          "metadata": {
            "tags": []
          }
        }
      ]
    },
    {
      "metadata": {
        "id": "6an_JlAAKC1s",
        "colab_type": "code",
        "colab": {
          "base_uri": "https://localhost:8080/",
          "height": 376
        },
        "outputId": "2cd2eabf-8b6b-4bfc-91f6-9a4ba5b86468"
      },
      "cell_type": "code",
      "source": [
        "from collections import Counter\n",
        "grades = [83,95,91,87,70,0,85,82,100,67,73,77,0]\n",
        "decile = lambda grade: grade // 10 * 10\n",
        "histogram = Counter(decile(grade) for grade in grades)\n",
        "plt.bar([x - 4 for x in histogram.keys()], # shift each bar to the left by 4\n",
        "histogram.values(), # give each bar its correct height\n",
        "8) # give each bar a width of 8\n",
        "plt.axis([-5, 105, 0, 5]) # x-axis from -5 to 105,\n",
        "# y-axis from 0 to 5\n",
        "plt.xticks([10 * i for i in range(11)]) # x-axis labels at 0, 10, ..., 100\n",
        "plt.xlabel(\"Decile\")\n",
        "plt.ylabel(\"# of Students\")\n",
        "plt.title(\"Distribution of Exam 1 Grades\")\n",
        "plt.show()"
      ],
      "execution_count": 44,
      "outputs": [
        {
          "output_type": "display_data",
          "data": {
            "image/png": "[encoded data removed]",
            "text/plain": [
              "<Figure size 576x396 with 1 Axes>"
            ]
          },
          "metadata": {
            "tags": []
          }
        }
      ]
    },
    {
      "metadata": {
        "id": "WMQR1wopKCw6",
        "colab_type": "code",
        "colab": {
          "base_uri": "https://localhost:8080/",
          "height": 362
        },
        "outputId": "008343f9-f3ee-4c64-db85-f47ebd54f125"
      },
      "cell_type": "code",
      "source": [
        "mentions = [500, 505]\n",
        "years = [2013, 2014]\n",
        "plt.bar([2012.6, 2013.6], mentions, 0.8)\n",
        "plt.xticks(years)\n",
        "plt.ylabel(\"# of times I heard someone say 'data science'\")\n",
        "# if you don't do this, matplotlib will label the x-axis 0, 1\n",
        "# and then add a +2.013e3 off in the corner (bad matplotlib!)\n",
        "plt.ticklabel_format(useOffset=False)\n",
        "# misleading y-axis only shows the part above 500\n",
        "plt.axis([2012.5,2014.5,499,506])\n",
        "plt.title(\"Look at the 'Huge' Increase!\")\n",
        "plt.show()"
      ],
      "execution_count": 45,
      "outputs": [
        {
          "output_type": "display_data",
          "data": {
            "image/png": "[encoded data removed]",
            "text/plain": [
              "<Figure size 576x396 with 1 Axes>"
            ]
          },
          "metadata": {
            "tags": []
          }
        }
      ]
    },
    {
      "metadata": {
        "id": "1bL0g6HnKCr-",
        "colab_type": "code",
        "colab": {
          "base_uri": "https://localhost:8080/",
          "height": 362
        },
        "outputId": "0dbad63c-53e9-4fd7-cf83-1241d9dd1668"
      },
      "cell_type": "code",
      "source": [
        "mentions = [500, 505]\n",
        "years = [2013, 2014]\n",
        "plt.bar([2012.6, 2013.6], mentions, 0.8)\n",
        "plt.xticks(years)\n",
        "plt.ylabel(\"# of times I heard someone say 'data science'\")\n",
        "# if you don't do this, matplotlib will label the x-axis 0, 1\n",
        "# and then add a +2.013e3 off in the corner (bad matplotlib!)\n",
        "plt.ticklabel_format(useOffset=False)\n",
        "# misleading y-axis only shows the part above 500\n",
        "plt.axis([2012.5,2014.5,0,550])\n",
        "plt.title(\"Not So Huge Anymore\")\n",
        "plt.show()"
      ],
      "execution_count": 47,
      "outputs": [
        {
          "output_type": "display_data",
          "data": {
            "image/png": "[encoded data removed]",
            "text/plain": [
              "<Figure size 576x396 with 1 Axes>"
            ]
          },
          "metadata": {
            "tags": []
          }
        }
      ]
    },
    {
      "metadata": {
        "id": "EsEeepNSKCmu",
        "colab_type": "code",
        "colab": {
          "base_uri": "https://localhost:8080/",
          "height": 376
        },
        "outputId": "d72a48f3-fef3-4067-a4b7-91abb5a18a3f"
      },
      "cell_type": "code",
      "source": [
        "variance = [1, 2, 4, 8, 16, 32, 64, 128, 256]\n",
        "bias_squared = [256, 128, 64, 32, 16, 8, 4, 2, 1]\n",
        "total_error = [x + y for x, y in zip(variance, bias_squared)]\n",
        "xs = [i for i, _ in enumerate(variance)]\n",
        "# we can make multiple calls to plt.plot\n",
        "# to show multiple series on the same chart\n",
        "plt.plot(xs, variance, 'g-', label='variance') # green solid line\n",
        "plt.plot(xs, bias_squared, 'r-.', label='bias^2') # red dot-dashed line\n",
        "plt.plot(xs, total_error, 'b:', label='total error') # blue dotted line\n",
        "# because we've assigned labels to each series\n",
        "# we can get a legend for free\n",
        "# loc=9 means \"top center\"\n",
        "plt.legend(loc=9)\n",
        "plt.xlabel(\"model complexity\")\n",
        "plt.title(\"The Bias-Variance Tradeoff\")\n",
        "plt.show()"
      ],
      "execution_count": 48,
      "outputs": [
        {
          "output_type": "display_data",
          "data": {
            "image/png": "[encoded data removed]",
            "text/plain": [
              "<Figure size 576x396 with 1 Axes>"
            ]
          },
          "metadata": {
            "tags": []
          }
        }
      ]
    },
    {
      "metadata": {
        "id": "zVKwQNmpKCgx",
        "colab_type": "code",
        "colab": {
          "base_uri": "https://localhost:8080/",
          "height": 376
        },
        "outputId": "91c0e45e-f041-417c-a556-8694d8fce2c8"
      },
      "cell_type": "code",
      "source": [
        "friends = [ 70, 65, 72, 63, 71, 64, 60, 64, 67]\n",
        "minutes = [175, 170, 205, 120, 220, 130, 105, 145, 190]\n",
        "labels = ['a', 'b', 'c', 'd', 'e', 'f', 'g', 'h', 'i']\n",
        "plt.scatter(friends, minutes)\n",
        "# label each point\n",
        "for label, friend_count, minute_count in zip(labels, friends, minutes):\n",
        "  plt.annotate(label,\n",
        "    xy=(friend_count, minute_count), # put the label with its point\n",
        "    xytext=(5, -5), # but slightly offset\n",
        "    textcoords='offset points')\n",
        "plt.title(\"Daily Minutes vs. Number of Friends\")\n",
        "plt.xlabel(\"# of friends\")\n",
        "plt.ylabel(\"daily minutes spent on the site\")\n",
        "plt.show()"
      ],
      "execution_count": 50,
      "outputs": [
        {
          "output_type": "display_data",
          "data": {
            "image/png": "[encoded data removed]",
            "text/plain": [
              "<Figure size 576x396 with 1 Axes>"
            ]
          },
          "metadata": {
            "tags": []
          }
        }
      ]
    },
    {
      "metadata": {
        "id": "ogq5MozDKCbS",
        "colab_type": "code",
        "colab": {
          "base_uri": "https://localhost:8080/",
          "height": 376
        },
        "outputId": "752e622f-b488-4d3b-f287-332c082878b6"
      },
      "cell_type": "code",
      "source": [
        "test_1_grades = [ 99, 90, 85, 97, 80]\n",
        "test_2_grades = [100, 85, 60, 90, 70]\n",
        "plt.scatter(test_1_grades, test_2_grades)\n",
        "plt.title(\"Axes Aren't Comparable\")\n",
        "plt.xlabel(\"test 1 grade\")\n",
        "plt.ylabel(\"test 2 grade\")\n",
        "plt.show()"
      ],
      "execution_count": 51,
      "outputs": [
        {
          "output_type": "display_data",
          "data": {
            "image/png": "[encoded data removed]",
            "text/plain": [
              "<Figure size 576x396 with 1 Axes>"
            ]
          },
          "metadata": {
            "tags": []
          }
        }
      ]
    },
    {
      "metadata": {
        "id": "7LA8eIoBKCPC",
        "colab_type": "code",
        "colab": {}
      },
      "cell_type": "code",
      "source": [
        "height_weight_age = [70, # inches,\n",
        "170, # pounds,\n",
        "40 ] # years\n",
        "grades = [95, # exam1\n",
        "80, # exam2\n",
        "75, # exam3\n",
        "62 ] # exam4          "
      ],
      "execution_count": 0,
      "outputs": []
    },
    {
      "metadata": {
        "id": "QZK6XFvjLAFa",
        "colab_type": "code",
        "colab": {}
      },
      "cell_type": "code",
      "source": [
        "def vector_add(v, w):\n",
        "  \"\"\"adds corresponding elements\"\"\"\n",
        "  return [v_i + w_i\n",
        "    for v_i, w_i in zip(v, w)]"
      ],
      "execution_count": 0,
      "outputs": []
    },
    {
      "metadata": {
        "id": "4uw3kVdALAQp",
        "colab_type": "code",
        "colab": {}
      },
      "cell_type": "code",
      "source": [
        "def vector_subtract(v, w):\n",
        "  \"\"\"subtracts corresponding elements\"\"\"\n",
        "  return [v_i - w_i\n",
        "    for v_i, w_i in zip(v, w)]"
      ],
      "execution_count": 0,
      "outputs": []
    },
    {
      "metadata": {
        "id": "345AbvK8LAaZ",
        "colab_type": "code",
        "colab": {}
      },
      "cell_type": "code",
      "source": [
        "def vector_sum(vectors):\n",
        "  \"\"\"sums all corresponding elements\"\"\"\n",
        "  result = vectors[0] # start with the first vector\n",
        "  for vector in vectors[1:]: # then loop over the others\n",
        "    result = vector_add(result, vector) # and add them to the result\n",
        "  return result"
      ],
      "execution_count": 0,
      "outputs": []
    },
    {
      "metadata": {
        "id": "g7eXBSw7LAmQ",
        "colab_type": "code",
        "colab": {}
      },
      "cell_type": "code",
      "source": [
        "def vector_sum(vectors):\n",
        "  return reduce(vector_add, vectors)"
      ],
      "execution_count": 0,
      "outputs": []
    },
    {
      "metadata": {
        "id": "Dx7KV671LA8M",
        "colab_type": "code",
        "colab": {}
      },
      "cell_type": "code",
      "source": [
        "def scalar_multiply(c, v):\n",
        "  \"\"\"c is a number, v is a vector\"\"\"\n",
        "  return [c * v_i for v_i in v]"
      ],
      "execution_count": 0,
      "outputs": []
    },
    {
      "metadata": {
        "id": "-P9vhPiyLBLQ",
        "colab_type": "code",
        "colab": {}
      },
      "cell_type": "code",
      "source": [
        "def vector_mean(vectors):\n",
        "  \"\"\"compute the vector whose ith element is the mean of the\n",
        "  ith elements of the input vectors\"\"\"\n",
        "  n = len(vectors)\n",
        "  return scalar_multiply(1/n, vector_sum(vectors))"
      ],
      "execution_count": 0,
      "outputs": []
    },
    {
      "metadata": {
        "id": "wg9OEdgNLBaP",
        "colab_type": "code",
        "colab": {}
      },
      "cell_type": "code",
      "source": [
        "def dot(v, w):\n",
        "  \"\"\"v_1 * w_1 + ... + v_n * w_n\"\"\"\n",
        "  return sum(v_i * w_i\n",
        "    for v_i, w_i in zip(v, w))"
      ],
      "execution_count": 0,
      "outputs": []
    },
    {
      "metadata": {
        "id": "df43sAl3K_-Q",
        "colab_type": "code",
        "colab": {}
      },
      "cell_type": "code",
      "source": [
        "def sum_of_squares(v):\n",
        "  \"\"\"v_1 * v_1 + ... + v_n * v_n\"\"\"\n",
        "  return dot(v, v)"
      ],
      "execution_count": 0,
      "outputs": []
    },
    {
      "metadata": {
        "id": "uwGKSU6sLuoM",
        "colab_type": "code",
        "colab": {}
      },
      "cell_type": "code",
      "source": [
        "import math\n",
        "def magnitude(v):\n",
        "  return math.sqrt(sum_of_squares(v)) # math.sqrt is square root function"
      ],
      "execution_count": 0,
      "outputs": []
    },
    {
      "metadata": {
        "id": "2itZVzzDLuhv",
        "colab_type": "code",
        "colab": {}
      },
      "cell_type": "code",
      "source": [
        "def squared_distance(v, w):\n",
        "  \"\"\"(v_1 - w_1) ** 2 + ... + (v_n - w_n) ** 2\"\"\"\n",
        "  return sum_of_squares(vector_subtract(v, w))\n",
        "\n",
        "def distance(v, w):\n",
        "  return math.sqrt(squared_distance(v, w))"
      ],
      "execution_count": 0,
      "outputs": []
    },
    {
      "metadata": {
        "id": "SVFat6B0Lud3",
        "colab_type": "code",
        "colab": {}
      },
      "cell_type": "code",
      "source": [
        "def distance(v, w):\n",
        "  return magnitude(vector_subtract(v, w))"
      ],
      "execution_count": 0,
      "outputs": []
    },
    {
      "metadata": {
        "id": "2meJIqcwLuaQ",
        "colab_type": "code",
        "colab": {}
      },
      "cell_type": "code",
      "source": [
        ""
      ],
      "execution_count": 0,
      "outputs": []
    },
    {
      "metadata": {
        "id": "DMfT6I9XLuU5",
        "colab_type": "code",
        "colab": {}
      },
      "cell_type": "code",
      "source": [
        "def shape(A):\n",
        "  num_rows = len(A)\n",
        "  num_cols = len(A[0]) if A else 0 # number of elements in first row\n",
        "  return num_rows, num_cols"
      ],
      "execution_count": 0,
      "outputs": []
    },
    {
      "metadata": {
        "id": "2xfBtFZ5LuN3",
        "colab_type": "code",
        "colab": {}
      },
      "cell_type": "code",
      "source": [
        "def get_row(A, i):\n",
        "  return A[i] # A[i] is already the ith row\n",
        "\n",
        "def get_column(A, j):\n",
        "  return [A_i[j] # jth element of row A_i\n",
        "    for A_i in A] # for each row A_i"
      ],
      "execution_count": 0,
      "outputs": []
    },
    {
      "metadata": {
        "id": "Vkla_GnHLuE1",
        "colab_type": "code",
        "colab": {}
      },
      "cell_type": "code",
      "source": [
        "def make_matrix(num_rows, num_cols, entry_fn):\n",
        "  \"\"\"returns a num_rows x num_cols matrix\n",
        "  whose (i,j)th entry is entry_fn(i, j)\"\"\"\n",
        "  return [[entry_fn(i, j) # given i, create a list\n",
        "    for j in range(num_cols)] # [entry_fn(i, 0), ... ]\n",
        "    for i in range(num_rows)] # create one list for each i"
      ],
      "execution_count": 0,
      "outputs": []
    },
    {
      "metadata": {
        "id": "sQhDpY1-Lt5V",
        "colab_type": "code",
        "colab": {
          "base_uri": "https://localhost:8080/",
          "height": 101
        },
        "outputId": "8026624f-31f1-43fa-c010-5afcb74020f0"
      },
      "cell_type": "code",
      "source": [
        "def is_diagonal(i, j):\n",
        "  \"\"\"1's on the 'diagonal', 0's everywhere else\"\"\"\n",
        "  return 1 if i == j else 0\n",
        "identity_matrix = make_matrix(5, 5, is_diagonal)\n",
        "identity_matrix"
      ],
      "execution_count": 73,
      "outputs": [
        {
          "output_type": "execute_result",
          "data": {
            "text/plain": [
              "[[1, 0, 0, 0, 0],\n",
              " [0, 1, 0, 0, 0],\n",
              " [0, 0, 1, 0, 0],\n",
              " [0, 0, 0, 1, 0],\n",
              " [0, 0, 0, 0, 1]]"
            ]
          },
          "metadata": {
            "tags": []
          },
          "execution_count": 73
        }
      ]
    },
    {
      "metadata": {
        "id": "R3ojZziNMVHX",
        "colab_type": "code",
        "colab": {}
      },
      "cell_type": "code",
      "source": [
        "friendships = [(0, 1), (0, 2), (1, 2), (1, 3), (2, 3), (3, 4),\n",
        "(4, 5), (5, 6), (5, 7), (6, 8), (7, 8), (8, 9)]"
      ],
      "execution_count": 0,
      "outputs": []
    },
    {
      "metadata": {
        "id": "MTi3hxYyMV37",
        "colab_type": "code",
        "colab": {}
      },
      "cell_type": "code",
      "source": [
        "friendships = [[0, 1, 1, 0, 0, 0, 0, 0, 0, 0], # user 0\n",
        "[1, 0, 1, 1, 0, 0, 0, 0, 0, 0], # user 1\n",
        "[1, 1, 0, 1, 0, 0, 0, 0, 0, 0], # user 2\n",
        "[0, 1, 1, 0, 1, 0, 0, 0, 0, 0], # user 3\n",
        "[0, 0, 0, 1, 0, 1, 0, 0, 0, 0], # user 4\n",
        "[0, 0, 0, 0, 1, 0, 1, 1, 0, 0], # user 5\n",
        "[0, 0, 0, 0, 0, 1, 0, 0, 1, 0], # user 6\n",
        "[0, 0, 0, 0, 0, 1, 0, 0, 1, 0], # user 7\n",
        "[0, 0, 0, 0, 0, 0, 1, 1, 0, 1], # user 8\n",
        "[0, 0, 0, 0, 0, 0, 0, 0, 1, 0]] # user 9"
      ],
      "execution_count": 0,
      "outputs": []
    },
    {
      "metadata": {
        "id": "0oy5lpdmMVy6",
        "colab_type": "code",
        "colab": {
          "base_uri": "https://localhost:8080/",
          "height": 34
        },
        "outputId": "cfd90bc6-259e-467d-b209-226c7ecc8c4c"
      },
      "cell_type": "code",
      "source": [
        "friendships[0][2] == 1 # True, 0 and 2 are friends\n",
        "friendships[0][8] == 1 # False, 0 and 8 are not friends"
      ],
      "execution_count": 76,
      "outputs": [
        {
          "output_type": "execute_result",
          "data": {
            "text/plain": [
              "False"
            ]
          },
          "metadata": {
            "tags": []
          },
          "execution_count": 76
        }
      ]
    },
    {
      "metadata": {
        "id": "iiApkaiHMVu6",
        "colab_type": "code",
        "colab": {}
      },
      "cell_type": "code",
      "source": [
        "friends_of_five = [i # only need\n",
        "for i, is_friend in enumerate(friendships[5]) # to look at\n",
        "if is_friend] # one row"
      ],
      "execution_count": 0,
      "outputs": []
    },
    {
      "metadata": {
        "id": "ixButRliM7d3",
        "colab_type": "code",
        "colab": {}
      },
      "cell_type": "code",
      "source": [
        "from collections import Counter, defaultdict\n",
        "from functools import partial, reduce\n",
        "#from linear_algebra import shape, get_row, get_column, make_matrix, \\\n",
        "#    vector_mean, vector_sum, dot, magnitude, vector_subtract, scalar_multiply\n",
        "#from stats import correlation, standard_deviation, mean\n",
        "#from probability import inverse_normal_cdf\n",
        "#from gradient_descent import maximize_batch\n",
        "import math, random, csv\n",
        "import matplotlib.pyplot as plt\n",
        "import dateutil.parser\n",
        "from scipy.stats import norm\n",
        "import numpy as np"
      ],
      "execution_count": 0,
      "outputs": []
    },
    {
      "metadata": {
        "id": "DROHTe2ZMVqu",
        "colab_type": "code",
        "colab": {}
      },
      "cell_type": "code",
      "source": [
        "def bucketize(point, bucket_size):\n",
        "  \"\"\"floor the point to the next lower multiple of bucket_size\"\"\"\n",
        "  return bucket_size * math.floor(point / bucket_size)\n",
        "\n",
        "def make_histogram(points, bucket_size):\n",
        "  \"\"\"buckets the points and counts how many in each bucket\"\"\"\n",
        "  return Counter(bucketize(point, bucket_size) for point in points)\n",
        "\n",
        "def plot_histogram(points, bucket_size, title=\"\"):\n",
        "  histogram = make_histogram(points, bucket_size)\n",
        "  plt.bar(histogram.keys(), histogram.values(), width=bucket_size)\n",
        "  plt.title(title)\n",
        "  plt.show()"
      ],
      "execution_count": 0,
      "outputs": []
    },
    {
      "metadata": {
        "id": "WwAyV1tFMVmh",
        "colab_type": "code",
        "colab": {}
      },
      "cell_type": "code",
      "source": [
        "def random_normal():\n",
        "  \"\"\"returns a random draw from a standard normal distribution\"\"\"\n",
        "  return norm.cdf(random.random())\n",
        "xs = [random_normal() for _ in range(1000)]\n",
        "ys1 = [ x + random_normal() / 2 for x in xs]\n",
        "ys2 = [-x + random_normal() / 2 for x in xs]"
      ],
      "execution_count": 0,
      "outputs": []
    },
    {
      "metadata": {
        "id": "IckaheKOMVhi",
        "colab_type": "code",
        "colab": {
          "base_uri": "https://localhost:8080/",
          "height": 376
        },
        "outputId": "e6341bfa-4886-4f13-a6aa-e4917f7ca04b"
      },
      "cell_type": "code",
      "source": [
        "plt.scatter(xs, ys1, marker='.', color='black', label='ys1')\n",
        "plt.scatter(xs, ys2, marker='.', color='gray', label='ys2')\n",
        "plt.xlabel('xs')\n",
        "plt.ylabel('ys')\n",
        "plt.legend(loc=9)\n",
        "plt.title(\"Very Different Joint Distributions\")\n",
        "plt.show()"
      ],
      "execution_count": 93,
      "outputs": [
        {
          "output_type": "display_data",
          "data": {
            "image/png": "[encoded data removed]",
            "text/plain": [
              "<Figure size 576x396 with 1 Axes>"
            ]
          },
          "metadata": {
            "tags": []
          }
        }
      ]
    },
    {
      "metadata": {
        "id": "ZiPcIGHbMVcU",
        "colab_type": "code",
        "colab": {
          "base_uri": "https://localhost:8080/",
          "height": 84
        },
        "outputId": "0c0e03d3-1c17-4c53-f4e3-8c5e33b2f634"
      },
      "cell_type": "code",
      "source": [
        "print(np.corrcoef(xs, ys1)) # 0.9\n",
        "print(np.corrcoef(xs, ys2)) # -0.9"
      ],
      "execution_count": 98,
      "outputs": [
        {
          "output_type": "stream",
          "text": [
            "[[1.        0.8936297]\n",
            " [0.8936297 1.       ]]\n",
            "[[ 1.         -0.89258827]\n",
            " [-0.89258827  1.        ]]\n"
          ],
          "name": "stdout"
        }
      ]
    },
    {
      "metadata": {
        "id": "fT31DqEaMVVw",
        "colab_type": "code",
        "colab": {}
      },
      "cell_type": "code",
      "source": [
        "def correlation_matrix(data):\n",
        "  \"\"\"returns the num_columns x num_columns matrix whose (i, j)th entry\n",
        "  is the correlation between columns i and j of data\"\"\"\n",
        "\n",
        "  _, num_columns = shape(data)\n",
        "\n",
        "  def matrix_entry(i, j):\n",
        "    return np.corrcoef(get_column(data, i), get_column(data, j))\n",
        "\n",
        "  return make_matrix(num_columns, num_columns, matrix_entry)"
      ],
      "execution_count": 0,
      "outputs": []
    },
    {
      "metadata": {
        "id": "2YWlOCQuP0Ns",
        "colab_type": "code",
        "colab": {
          "base_uri": "https://localhost:8080/",
          "height": 229
        },
        "outputId": "53154e3a-e746-4651-936f-dd413dd3ef89"
      },
      "cell_type": "code",
      "source": [
        ""
      ],
      "execution_count": 103,
      "outputs": [
        {
          "output_type": "error",
          "ename": "NameError",
          "evalue": "ignored",
          "traceback": [
            "\u001b[0;31m---------------------------------------------------------------------------\u001b[0m",
            "\u001b[0;31mNameError\u001b[0m                                 Traceback (most recent call last)",
            "\u001b[0;32m<ipython-input-103-3cb227969a98>\u001b[0m in \u001b[0;36m<module>\u001b[0;34m()\u001b[0m\n\u001b[1;32m      1\u001b[0m \u001b[0;32mimport\u001b[0m \u001b[0mmatplotlib\u001b[0m\u001b[0;34m.\u001b[0m\u001b[0mpyplot\u001b[0m \u001b[0;32mas\u001b[0m \u001b[0mplt\u001b[0m\u001b[0;34m\u001b[0m\u001b[0;34m\u001b[0m\u001b[0m\n\u001b[1;32m      2\u001b[0m \u001b[0;34m\u001b[0m\u001b[0m\n\u001b[0;32m----> 3\u001b[0;31m \u001b[0m_\u001b[0m\u001b[0;34m,\u001b[0m \u001b[0mnum_columns\u001b[0m \u001b[0;34m=\u001b[0m \u001b[0mshape\u001b[0m\u001b[0;34m(\u001b[0m\u001b[0mdata\u001b[0m\u001b[0;34m)\u001b[0m\u001b[0;34m\u001b[0m\u001b[0;34m\u001b[0m\u001b[0m\n\u001b[0m\u001b[1;32m      4\u001b[0m \u001b[0mfig\u001b[0m\u001b[0;34m,\u001b[0m \u001b[0max\u001b[0m \u001b[0;34m=\u001b[0m \u001b[0mplt\u001b[0m\u001b[0;34m.\u001b[0m\u001b[0msubplots\u001b[0m\u001b[0;34m(\u001b[0m\u001b[0mnum_columns\u001b[0m\u001b[0;34m,\u001b[0m \u001b[0mnum_columns\u001b[0m\u001b[0;34m)\u001b[0m\u001b[0;34m\u001b[0m\u001b[0;34m\u001b[0m\u001b[0m\n\u001b[1;32m      5\u001b[0m \u001b[0;34m\u001b[0m\u001b[0m\n",
            "\u001b[0;31mNameError\u001b[0m: name 'data' is not defined"
          ]
        }
      ]
    },
    {
      "metadata": {
        "id": "JxlleKLmP0HE",
        "colab_type": "code",
        "colab": {}
      },
      "cell_type": "code",
      "source": [
        ""
      ],
      "execution_count": 0,
      "outputs": []
    },
    {
      "metadata": {
        "id": "acZ3FhGuPz-G",
        "colab_type": "code",
        "colab": {}
      },
      "cell_type": "code",
      "source": [
        ""
      ],
      "execution_count": 0,
      "outputs": []
    },
    {
      "metadata": {
        "id": "iI33Mkx0Pz4S",
        "colab_type": "code",
        "colab": {}
      },
      "cell_type": "code",
      "source": [
        ""
      ],
      "execution_count": 0,
      "outputs": []
    }
  ]
}