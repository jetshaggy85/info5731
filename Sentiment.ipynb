{
  "nbformat": 4,
  "nbformat_minor": 0,
  "metadata": {
    "colab": {
      "name": "Sentiment.ipynb",
      "version": "0.3.2",
      "provenance": [],
      "collapsed_sections": [],
      "include_colab_link": true
    },
    "kernelspec": {
      "name": "python3",
      "display_name": "Python 3"
    }
  },
  "cells": [
    {
      "cell_type": "markdown",
      "metadata": {
        "id": "view-in-github",
        "colab_type": "text"
      },
      "source": [
        "<a href=\"https://colab.research.google.com/github/jetshaggy85/info5731/blob/master/Sentiment.ipynb\" target=\"_parent\"><img src=\"https://colab.research.google.com/assets/colab-badge.svg\" alt=\"Open In Colab\"/></a>"
      ]
    },
    {
      "metadata": {
        "id": "T4k67xC7o_QI",
        "colab_type": "code",
        "colab": {
          "base_uri": "https://localhost:8080/",
          "height": 309
        },
        "outputId": "f4ee3d82-ad62-4723-8be0-0fb64a75cd05"
      },
      "cell_type": "code",
      "source": [
        "!wget https://github.com/wshuyi/info-5731-public/raw/master/yelp_review_polarity_small_sample_200.csv"
      ],
      "execution_count": 1,
      "outputs": [
        {
          "output_type": "stream",
          "text": [
            "--2019-02-26 21:12:16--  https://github.com/wshuyi/info-5731-public/raw/master/yelp_review_polarity_small_sample_200.csv\n",
            "Resolving github.com (github.com)... 192.30.253.112, 192.30.253.113\n",
            "Connecting to github.com (github.com)|192.30.253.112|:443... connected.\n",
            "HTTP request sent, awaiting response... 302 Found\n",
            "Location: https://raw.githubusercontent.com/wshuyi/info-5731-public/master/yelp_review_polarity_small_sample_200.csv [following]\n",
            "--2019-02-26 21:12:16--  https://raw.githubusercontent.com/wshuyi/info-5731-public/master/yelp_review_polarity_small_sample_200.csv\n",
            "Resolving raw.githubusercontent.com (raw.githubusercontent.com)... 151.101.0.133, 151.101.64.133, 151.101.128.133, ...\n",
            "Connecting to raw.githubusercontent.com (raw.githubusercontent.com)|151.101.0.133|:443... connected.\n",
            "HTTP request sent, awaiting response... 200 OK\n",
            "Length: 146780 (143K) [text/plain]\n",
            "Saving to: ‘yelp_review_polarity_small_sample_200.csv’\n",
            "\n",
            "\r          yelp_revi   0%[                    ]       0  --.-KB/s               \ryelp_review_polarit 100%[===================>] 143.34K  --.-KB/s    in 0.02s   \n",
            "\n",
            "2019-02-26 21:12:16 (6.46 MB/s) - ‘yelp_review_polarity_small_sample_200.csv’ saved [146780/146780]\n",
            "\n"
          ],
          "name": "stdout"
        }
      ]
    },
    {
      "metadata": {
        "id": "sIT3PtS6prtl",
        "colab_type": "code",
        "colab": {}
      },
      "cell_type": "code",
      "source": [
        "import pandas as pd"
      ],
      "execution_count": 0,
      "outputs": []
    },
    {
      "metadata": {
        "id": "RmN56L2fpryf",
        "colab_type": "code",
        "colab": {
          "base_uri": "https://localhost:8080/",
          "height": 204
        },
        "outputId": "c5c48c03-8372-4a8e-9264-406bc8888c9d"
      },
      "cell_type": "code",
      "source": [
        "df=pd.read_csv(\"https://github.com/wshuyi/info-5731-public/raw/master/yelp_review_polarity_small_sample_200.csv\")\n",
        "df.head()"
      ],
      "execution_count": 13,
      "outputs": [
        {
          "output_type": "execute_result",
          "data": {
            "text/html": [
              "<div>\n",
              "<style scoped>\n",
              "    .dataframe tbody tr th:only-of-type {\n",
              "        vertical-align: middle;\n",
              "    }\n",
              "\n",
              "    .dataframe tbody tr th {\n",
              "        vertical-align: top;\n",
              "    }\n",
              "\n",
              "    .dataframe thead th {\n",
              "        text-align: right;\n",
              "    }\n",
              "</style>\n",
              "<table border=\"1\" class=\"dataframe\">\n",
              "  <thead>\n",
              "    <tr style=\"text-align: right;\">\n",
              "      <th></th>\n",
              "      <th>sentiment</th>\n",
              "      <th>text</th>\n",
              "    </tr>\n",
              "  </thead>\n",
              "  <tbody>\n",
              "    <tr>\n",
              "      <th>0</th>\n",
              "      <td>1</td>\n",
              "      <td>Great chicken and rib combs which include a dr...</td>\n",
              "    </tr>\n",
              "    <tr>\n",
              "      <th>1</th>\n",
              "      <td>0</td>\n",
              "      <td>This place is a joke.  The food tastes like it...</td>\n",
              "    </tr>\n",
              "    <tr>\n",
              "      <th>2</th>\n",
              "      <td>1</td>\n",
              "      <td>Good food with a fun atmosphere.  I like every...</td>\n",
              "    </tr>\n",
              "    <tr>\n",
              "      <th>3</th>\n",
              "      <td>0</td>\n",
              "      <td>What a painful process it was purchasing our c...</td>\n",
              "    </tr>\n",
              "    <tr>\n",
              "      <th>4</th>\n",
              "      <td>1</td>\n",
              "      <td>Headed here yesterday in search of a food mill...</td>\n",
              "    </tr>\n",
              "  </tbody>\n",
              "</table>\n",
              "</div>"
            ],
            "text/plain": [
              "   sentiment                                               text\n",
              "0          1  Great chicken and rib combs which include a dr...\n",
              "1          0  This place is a joke.  The food tastes like it...\n",
              "2          1  Good food with a fun atmosphere.  I like every...\n",
              "3          0  What a painful process it was purchasing our c...\n",
              "4          1  Headed here yesterday in search of a food mill..."
            ]
          },
          "metadata": {
            "tags": []
          },
          "execution_count": 13
        }
      ]
    },
    {
      "metadata": {
        "id": "nZifw_vKpr3l",
        "colab_type": "code",
        "colab": {}
      },
      "cell_type": "code",
      "source": [
        "from textblob import TextBlob"
      ],
      "execution_count": 0,
      "outputs": []
    },
    {
      "metadata": {
        "id": "WJEM5Ykrpr6H",
        "colab_type": "code",
        "colab": {}
      },
      "cell_type": "code",
      "source": [
        "test_str=df.iloc[0].text"
      ],
      "execution_count": 0,
      "outputs": []
    },
    {
      "metadata": {
        "id": "PXXgMX0_pr80",
        "colab_type": "code",
        "colab": {
          "base_uri": "https://localhost:8080/",
          "height": 54
        },
        "outputId": "c4455280-c2dd-4de1-975f-7d3c5b394896"
      },
      "cell_type": "code",
      "source": [
        "blob=TextBlob(test_str); blob"
      ],
      "execution_count": 72,
      "outputs": [
        {
          "output_type": "execute_result",
          "data": {
            "text/plain": [
              "TextBlob(\"This place is a joke.  The food tastes like it came out of cans and boxes, absolutely no flavor at all, overpriced, and the person who took our order was rude and generally unpleasant.  If you want good Italian food go to Gaetano's.  It's just a few miles north on Eastern.  It is much better the atmosphere is much more pleasant, and the people are friendly and knowledgeable.  Or if you are willing to go a little further there is also Maggiano's Little Italy, at the fashion show Mall.  Go anywhere, but but this place, it is a waste of time and money.\")"
            ]
          },
          "metadata": {
            "tags": []
          },
          "execution_count": 72
        }
      ]
    },
    {
      "metadata": {
        "id": "g01YOygxpr_e",
        "colab_type": "code",
        "colab": {
          "base_uri": "https://localhost:8080/",
          "height": 34
        },
        "outputId": "1d590825-140d-49da-9eca-ac5564252a80"
      },
      "cell_type": "code",
      "source": [
        "blob.sentiment"
      ],
      "execution_count": 16,
      "outputs": [
        {
          "output_type": "execute_result",
          "data": {
            "text/plain": [
              "Sentiment(polarity=0.08222222222222224, subjectivity=0.5244444444444445)"
            ]
          },
          "metadata": {
            "tags": []
          },
          "execution_count": 16
        }
      ]
    },
    {
      "metadata": {
        "id": "EKCsvKINpsCD",
        "colab_type": "code",
        "colab": {}
      },
      "cell_type": "code",
      "source": [
        "pred=[]\n",
        "for x in range(len(df.text)):\n",
        "  test_str=df.iloc[x].text\n",
        "  blob=TextBlob(test_str)\n",
        "  a=blob.sentiment.polarity\n",
        "  if(a<=0):\n",
        "    pred.append(0);\n",
        "  else:\n",
        "    pred.append(1);"
      ],
      "execution_count": 0,
      "outputs": []
    },
    {
      "metadata": {
        "id": "fqFmhUmMpsEm",
        "colab_type": "code",
        "colab": {}
      },
      "cell_type": "code",
      "source": [
        "def get_sentiment(text):\n",
        "  pred=TextBlob(text).sentiment[0]\n",
        "  if pred > 0:\n",
        "    return 1\n",
        "  else:\n",
        "    return 0"
      ],
      "execution_count": 0,
      "outputs": []
    },
    {
      "metadata": {
        "id": "B5Xu2TCSpsHH",
        "colab_type": "code",
        "colab": {
          "base_uri": "https://localhost:8080/",
          "height": 34
        },
        "outputId": "4923372c-1387-45fd-d61a-d66d6f16ea08"
      },
      "cell_type": "code",
      "source": [
        "get_sentiment(test_str)"
      ],
      "execution_count": 75,
      "outputs": [
        {
          "output_type": "execute_result",
          "data": {
            "text/plain": [
              "1"
            ]
          },
          "metadata": {
            "tags": []
          },
          "execution_count": 75
        }
      ]
    },
    {
      "metadata": {
        "id": "wOA-CVJFpsJt",
        "colab_type": "code",
        "colab": {}
      },
      "cell_type": "code",
      "source": [
        "df[\"pred\"]=df.text.apply(get_sentiment)"
      ],
      "execution_count": 0,
      "outputs": []
    },
    {
      "metadata": {
        "id": "VMdMVIkppsMB",
        "colab_type": "code",
        "colab": {
          "base_uri": "https://localhost:8080/",
          "height": 34
        },
        "outputId": "25a7a523-8dd1-4bc7-8291-c7cb8080fe19"
      },
      "cell_type": "code",
      "source": [
        "error=df.pred-df.sentiment\n",
        "error.mean()"
      ],
      "execution_count": 83,
      "outputs": [
        {
          "output_type": "execute_result",
          "data": {
            "text/plain": [
              "0.325"
            ]
          },
          "metadata": {
            "tags": []
          },
          "execution_count": 83
        }
      ]
    },
    {
      "metadata": {
        "id": "-EpfabIJxtNK",
        "colab_type": "code",
        "colab": {}
      },
      "cell_type": "code",
      "source": [
        "import numpy as np\n",
        "from sklearn.metrics import accuracy_score"
      ],
      "execution_count": 0,
      "outputs": []
    },
    {
      "metadata": {
        "id": "5eaOMRM2x6Cr",
        "colab_type": "code",
        "colab": {
          "base_uri": "https://localhost:8080/",
          "height": 34
        },
        "outputId": "4596e8e7-5da3-4d10-bf2c-0216c542a9bc"
      },
      "cell_type": "code",
      "source": [
        "accuracy_score(df.sentiment,df.pred)"
      ],
      "execution_count": 85,
      "outputs": [
        {
          "output_type": "execute_result",
          "data": {
            "text/plain": [
              "0.655"
            ]
          },
          "metadata": {
            "tags": []
          },
          "execution_count": 85
        }
      ]
    },
    {
      "metadata": {
        "id": "GApcCpBhx6E0",
        "colab_type": "code",
        "colab": {
          "base_uri": "https://localhost:8080/",
          "height": 34
        },
        "outputId": "a736a0d4-0762-4cd1-b9a6-d099ab54db1a"
      },
      "cell_type": "code",
      "source": [
        "(df.sentiment==df.pred).sum()/len(df)"
      ],
      "execution_count": 86,
      "outputs": [
        {
          "output_type": "execute_result",
          "data": {
            "text/plain": [
              "0.655"
            ]
          },
          "metadata": {
            "tags": []
          },
          "execution_count": 86
        }
      ]
    },
    {
      "metadata": {
        "id": "jcaggYK4x6HY",
        "colab_type": "code",
        "colab": {
          "base_uri": "https://localhost:8080/",
          "height": 54
        },
        "outputId": "fe46510d-f771-4a75-b2e0-0a5c7203c017"
      },
      "cell_type": "code",
      "source": [
        "blob.translate(to='de')"
      ],
      "execution_count": 96,
      "outputs": [
        {
          "output_type": "execute_result",
          "data": {
            "text/plain": [
              "TextBlob(\"Dieser Ort ist ein Witz. Das Essen schmeckt, als ob es aus Dosen und Kisten kam, absolut geschmacklos, überteuert, und die Person, die unsere Bestellung aufnahm, war unhöflich und generell unangenehm. Wenn Sie gutes italienisches Essen wollen, besuchen Sie das Gaetano. Es ist nur ein paar Kilometer nördlich von Eastern. Es ist viel besser, die Atmosphäre ist viel angenehmer und die Leute sind freundlich und kompetent. Oder wenn Sie bereit sind, noch ein bisschen weiter zu gehen, gibt es auch Maggianos Little Italy in der Modenschau Mall. Gehen Sie überall hin, aber dieser Ort ist Zeit- und Geldverschwendung.\")"
            ]
          },
          "metadata": {
            "tags": []
          },
          "execution_count": 96
        }
      ]
    },
    {
      "metadata": {
        "id": "xfDxBHl-1_hP",
        "colab_type": "code",
        "colab": {
          "base_uri": "https://localhost:8080/",
          "height": 68
        },
        "outputId": "cf1e71ff-3811-4247-f533-de641b648a1b"
      },
      "cell_type": "code",
      "source": [
        "import nltk\n",
        "nltk.download('punkt')"
      ],
      "execution_count": 99,
      "outputs": [
        {
          "output_type": "stream",
          "text": [
            "[nltk_data] Downloading package punkt to /root/nltk_data...\n",
            "[nltk_data]   Unzipping tokenizers/punkt.zip.\n"
          ],
          "name": "stdout"
        },
        {
          "output_type": "execute_result",
          "data": {
            "text/plain": [
              "True"
            ]
          },
          "metadata": {
            "tags": []
          },
          "execution_count": 99
        }
      ]
    },
    {
      "metadata": {
        "id": "6PTDK_0rx6K0",
        "colab_type": "code",
        "colab": {
          "base_uri": "https://localhost:8080/",
          "height": 1802
        },
        "outputId": "182b5119-56ec-4d1a-93e5-ac9f20f259a8"
      },
      "cell_type": "code",
      "source": [
        "\n",
        "blob.ngrams(2)"
      ],
      "execution_count": 100,
      "outputs": [
        {
          "output_type": "execute_result",
          "data": {
            "text/plain": [
              "[WordList(['This', 'place']),\n",
              " WordList(['place', 'is']),\n",
              " WordList(['is', 'a']),\n",
              " WordList(['a', 'joke']),\n",
              " WordList(['joke', 'The']),\n",
              " WordList(['The', 'food']),\n",
              " WordList(['food', 'tastes']),\n",
              " WordList(['tastes', 'like']),\n",
              " WordList(['like', 'it']),\n",
              " WordList(['it', 'came']),\n",
              " WordList(['came', 'out']),\n",
              " WordList(['out', 'of']),\n",
              " WordList(['of', 'cans']),\n",
              " WordList(['cans', 'and']),\n",
              " WordList(['and', 'boxes']),\n",
              " WordList(['boxes', 'absolutely']),\n",
              " WordList(['absolutely', 'no']),\n",
              " WordList(['no', 'flavor']),\n",
              " WordList(['flavor', 'at']),\n",
              " WordList(['at', 'all']),\n",
              " WordList(['all', 'overpriced']),\n",
              " WordList(['overpriced', 'and']),\n",
              " WordList(['and', 'the']),\n",
              " WordList(['the', 'person']),\n",
              " WordList(['person', 'who']),\n",
              " WordList(['who', 'took']),\n",
              " WordList(['took', 'our']),\n",
              " WordList(['our', 'order']),\n",
              " WordList(['order', 'was']),\n",
              " WordList(['was', 'rude']),\n",
              " WordList(['rude', 'and']),\n",
              " WordList(['and', 'generally']),\n",
              " WordList(['generally', 'unpleasant']),\n",
              " WordList(['unpleasant', 'If']),\n",
              " WordList(['If', 'you']),\n",
              " WordList(['you', 'want']),\n",
              " WordList(['want', 'good']),\n",
              " WordList(['good', 'Italian']),\n",
              " WordList(['Italian', 'food']),\n",
              " WordList(['food', 'go']),\n",
              " WordList(['go', 'to']),\n",
              " WordList(['to', 'Gaetano']),\n",
              " WordList(['Gaetano', \"'s\"]),\n",
              " WordList([\"'s\", 'It']),\n",
              " WordList(['It', \"'s\"]),\n",
              " WordList([\"'s\", 'just']),\n",
              " WordList(['just', 'a']),\n",
              " WordList(['a', 'few']),\n",
              " WordList(['few', 'miles']),\n",
              " WordList(['miles', 'north']),\n",
              " WordList(['north', 'on']),\n",
              " WordList(['on', 'Eastern']),\n",
              " WordList(['Eastern', 'It']),\n",
              " WordList(['It', 'is']),\n",
              " WordList(['is', 'much']),\n",
              " WordList(['much', 'better']),\n",
              " WordList(['better', 'the']),\n",
              " WordList(['the', 'atmosphere']),\n",
              " WordList(['atmosphere', 'is']),\n",
              " WordList(['is', 'much']),\n",
              " WordList(['much', 'more']),\n",
              " WordList(['more', 'pleasant']),\n",
              " WordList(['pleasant', 'and']),\n",
              " WordList(['and', 'the']),\n",
              " WordList(['the', 'people']),\n",
              " WordList(['people', 'are']),\n",
              " WordList(['are', 'friendly']),\n",
              " WordList(['friendly', 'and']),\n",
              " WordList(['and', 'knowledgeable']),\n",
              " WordList(['knowledgeable', 'Or']),\n",
              " WordList(['Or', 'if']),\n",
              " WordList(['if', 'you']),\n",
              " WordList(['you', 'are']),\n",
              " WordList(['are', 'willing']),\n",
              " WordList(['willing', 'to']),\n",
              " WordList(['to', 'go']),\n",
              " WordList(['go', 'a']),\n",
              " WordList(['a', 'little']),\n",
              " WordList(['little', 'further']),\n",
              " WordList(['further', 'there']),\n",
              " WordList(['there', 'is']),\n",
              " WordList(['is', 'also']),\n",
              " WordList(['also', 'Maggiano']),\n",
              " WordList(['Maggiano', \"'s\"]),\n",
              " WordList([\"'s\", 'Little']),\n",
              " WordList(['Little', 'Italy']),\n",
              " WordList(['Italy', 'at']),\n",
              " WordList(['at', 'the']),\n",
              " WordList(['the', 'fashion']),\n",
              " WordList(['fashion', 'show']),\n",
              " WordList(['show', 'Mall']),\n",
              " WordList(['Mall', 'Go']),\n",
              " WordList(['Go', 'anywhere']),\n",
              " WordList(['anywhere', 'but']),\n",
              " WordList(['but', 'but']),\n",
              " WordList(['but', 'this']),\n",
              " WordList(['this', 'place']),\n",
              " WordList(['place', 'it']),\n",
              " WordList(['it', 'is']),\n",
              " WordList(['is', 'a']),\n",
              " WordList(['a', 'waste']),\n",
              " WordList(['waste', 'of']),\n",
              " WordList(['of', 'time']),\n",
              " WordList(['time', 'and']),\n",
              " WordList(['and', 'money'])]"
            ]
          },
          "metadata": {
            "tags": []
          },
          "execution_count": 100
        }
      ]
    }
  ]
}