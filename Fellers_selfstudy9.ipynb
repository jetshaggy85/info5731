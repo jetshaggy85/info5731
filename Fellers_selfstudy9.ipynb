{
  "nbformat": 4,
  "nbformat_minor": 0,
  "metadata": {
    "colab": {
      "name": "Fellers_selfstudy9.ipynb",
      "version": "0.3.2",
      "provenance": [],
      "collapsed_sections": [],
      "include_colab_link": true
    },
    "kernelspec": {
      "name": "python3",
      "display_name": "Python 3"
    }
  },
  "cells": [
    {
      "cell_type": "markdown",
      "metadata": {
        "id": "view-in-github",
        "colab_type": "text"
      },
      "source": [
        "<a href=\"https://colab.research.google.com/github/jetshaggy85/info5731/blob/master/Fellers_selfstudy9.ipynb\" target=\"_parent\"><img src=\"https://colab.research.google.com/assets/colab-badge.svg\" alt=\"Open In Colab\"/></a>"
      ]
    },
    {
      "metadata": {
        "id": "n-62AjCWJDoy",
        "colab_type": "code",
        "colab": {}
      },
      "cell_type": "code",
      "source": [
        "num_friends = [100,49,41,40,25,21,21,19,19,18,18,16,15,15,15,15,14,14,13,13,13,13,12,12,11,10,10,10,10,10,10,10,10,10,10,10,10,10,10,10,9,9,9,9,9,9,9,9,9,9,9,9,9,9,9,9,9,9,8,8,8,8,8,8,8,8,8,8,8,8,8,7,7,7,7,7,7,7,7,7,7,7,7,7,7,7,6,6,6,6,6,6,6,6,6,6,6,6,6,6,6,6,6,6,6,6,6,6,5,5,5,5,5,5,5,5,5,5,5,5,5,5,5,5,5,4,4,4,4,4,4,4,4,4,4,4,4,4,4,4,4,4,4,4,4,3,3,3,3,3,3,3,3,3,3,3,3,3,3,3,3,3,3,3,3,2,2,2,2,2,2,2,2,2,2,2,2,2,2,2,2,2,1,1,1,1,1,1,1,1,1,1,1,1,1,1,1,1,1,1,1,1,1,1]\n",
        "daily_minutes = [1,68.77,51.25,52.08,38.36,44.54,57.13,51.4,41.42,31.22,34.76,54.01,38.79,47.59,49.1,27.66,41.03,36.73,48.65,28.12,46.62,35.57,32.98,35,26.07,23.77,39.73,40.57,31.65,31.21,36.32,20.45,21.93,26.02,27.34,23.49,46.94,30.5,33.8,24.23,21.4,27.94,32.24,40.57,25.07,19.42,22.39,18.42,46.96,23.72,26.41,26.97,36.76,40.32,35.02,29.47,30.2,31,38.11,38.18,36.31,21.03,30.86,36.07,28.66,29.08,37.28,15.28,24.17,22.31,30.17,25.53,19.85,35.37,44.6,17.23,13.47,26.33,35.02,32.09,24.81,19.33,28.77,24.26,31.98,25.73,24.86,16.28,34.51,15.23,39.72,40.8,26.06,35.76,34.76,16.13,44.04,18.03,19.65,32.62,35.59,39.43,14.18,35.24,40.13,41.82,35.45,36.07,43.67,24.61,20.9,21.9,18.79,27.61,27.21,26.61,29.77,20.59,27.53,13.82,33.2,25,33.1,36.65,18.63,14.87,22.2,36.81,25.53,24.62,26.25,18.21,28.08,19.42,29.79,32.8,35.99,28.32,27.79,35.88,29.06,36.28,14.1,36.63,37.49,26.9,18.58,38.48,24.48,18.95,33.55,14.24,29.04,32.51,25.63,22.22,19,32.73,15.16,13.9,27.2,32.01,29.27,33,13.74,20.42,27.32,18.23,35.35,28.48,9.08,24.62,20.12,35.26,19.92,31.02,16.49,12.16,30.7,31.22,34.65,13.13,27.51,33.2,31.57,14.1,33.42,17.44,10.12,24.42,9.82,23.39,30.93,15.03,21.67,31.09,33.29,22.61,26.89,23.48,8.38,27.81,32.35,23.84]"
      ],
      "execution_count": 0,
      "outputs": []
    },
    {
      "metadata": {
        "id": "-NDaTA77PSi2",
        "colab_type": "code",
        "colab": {}
      },
      "cell_type": "code",
      "source": [
        "from collections import Counter\n",
        "import matplotlib.pyplot as plt\n",
        "import math"
      ],
      "execution_count": 0,
      "outputs": []
    },
    {
      "metadata": {
        "id": "ca4mqFuiJMbG",
        "colab_type": "code",
        "colab": {
          "base_uri": "https://localhost:8080/",
          "height": 376
        },
        "outputId": "fedae880-266b-4b46-bb8b-28a1feac1f51"
      },
      "cell_type": "code",
      "source": [
        "friend_counts = Counter(num_friends)\n",
        "xs = range(101) # largest value is 100\n",
        "ys = [friend_counts[x] for x in xs] # height is just # of friends\n",
        "plt.bar(xs, ys)\n",
        "plt.axis([0, 101, 0, 25])\n",
        "plt.title(\"Histogram of Friend Counts\")\n",
        "plt.xlabel(\"# of friends\")\n",
        "plt.ylabel(\"# of people\")\n",
        "plt.show()"
      ],
      "execution_count": 28,
      "outputs": [
        {
          "output_type": "display_data",
          "data": {
            "image/png": "[encoded data removed]",
            "text/plain": [
              "<Figure size 576x396 with 1 Axes>"
            ]
          },
          "metadata": {
            "tags": []
          }
        }
      ]
    },
    {
      "metadata": {
        "id": "VORvBsesJMdW",
        "colab_type": "code",
        "colab": {}
      },
      "cell_type": "code",
      "source": [
        "num_points = len(num_friends)\n",
        "largest_value = max(num_friends) # 100\n",
        "smallest_value = min(num_friends) # 1"
      ],
      "execution_count": 0,
      "outputs": []
    },
    {
      "metadata": {
        "id": "HXx1Si7TJMfm",
        "colab_type": "code",
        "colab": {}
      },
      "cell_type": "code",
      "source": [
        "sorted_values = sorted(num_friends)\n",
        "smallest_value = sorted_values[0] # 1\n",
        "second_smallest_value = sorted_values[1] # 1\n",
        "second_largest_value = sorted_values[-2] # 49"
      ],
      "execution_count": 0,
      "outputs": []
    },
    {
      "metadata": {
        "id": "i62uRZ4aJMiO",
        "colab_type": "code",
        "colab": {
          "base_uri": "https://localhost:8080/",
          "height": 34
        },
        "outputId": "892c4d34-2e5f-411c-d5ac-f7fd0cec0564"
      },
      "cell_type": "code",
      "source": [
        "# this isn't right if you don't from __future__ import division\n",
        "def mean(x):\n",
        "  return sum(x) / len(x)\n",
        "mean(num_friends) # 7.333333"
      ],
      "execution_count": 31,
      "outputs": [
        {
          "output_type": "execute_result",
          "data": {
            "text/plain": [
              "7.333333333333333"
            ]
          },
          "metadata": {
            "tags": []
          },
          "execution_count": 31
        }
      ]
    },
    {
      "metadata": {
        "id": "CAXC9jE_JMkv",
        "colab_type": "code",
        "colab": {
          "base_uri": "https://localhost:8080/",
          "height": 34
        },
        "outputId": "d2f62f54-a6d1-4e8c-e0b9-af25dda12890"
      },
      "cell_type": "code",
      "source": [
        "def median(v):\n",
        "  \"\"\"finds the 'middle-most' value of v\"\"\"\n",
        "  n = len(v)\n",
        "  sorted_v = sorted(v)\n",
        "  midpoint = n // 2\n",
        "\n",
        "  if n % 2 == 1:\n",
        "    # if odd, return the middle value\n",
        "    return sorted_v[midpoint]\n",
        "  else:\n",
        "    # if even, return the average of the middle values\n",
        "    lo = midpoint - 1\n",
        "    hi = midpoint\n",
        "    return (sorted_v[lo] + sorted_v[hi]) / 2\n",
        "median(num_friends) # 6.0"
      ],
      "execution_count": 32,
      "outputs": [
        {
          "output_type": "execute_result",
          "data": {
            "text/plain": [
              "6.0"
            ]
          },
          "metadata": {
            "tags": []
          },
          "execution_count": 32
        }
      ]
    },
    {
      "metadata": {
        "id": "amDxI2jPJMnO",
        "colab_type": "code",
        "colab": {
          "base_uri": "https://localhost:8080/",
          "height": 34
        },
        "outputId": "4e55e771-f9a9-4151-e94d-e6e471d4b044"
      },
      "cell_type": "code",
      "source": [
        "def quantile(x, p):\n",
        "  \"\"\"returns the pth-percentile value in x\"\"\"\n",
        "  p_index = int(p * len(x))\n",
        "  return sorted(x)[p_index]\n",
        "quantile(num_friends, 0.10) # 1\n",
        "quantile(num_friends, 0.25) # 3\n",
        "quantile(num_friends, 0.75) # 9\n",
        "quantile(num_friends, 0.90) # 13"
      ],
      "execution_count": 33,
      "outputs": [
        {
          "output_type": "execute_result",
          "data": {
            "text/plain": [
              "13"
            ]
          },
          "metadata": {
            "tags": []
          },
          "execution_count": 33
        }
      ]
    },
    {
      "metadata": {
        "id": "EOS2s-yiJMpv",
        "colab_type": "code",
        "colab": {
          "base_uri": "https://localhost:8080/",
          "height": 34
        },
        "outputId": "1f1a303e-da90-4945-eb35-cc1cc290b068"
      },
      "cell_type": "code",
      "source": [
        "def mode(x):\n",
        "  \"\"\"returns a list, might be more than one mode\"\"\"\n",
        "  counts = Counter(x)\n",
        "  max_count = max(counts.values())\n",
        "  return [x_i for x_i, count in counts.items()\n",
        "    if count == max_count]\n",
        "mode(num_friends) # 1 and 6"
      ],
      "execution_count": 34,
      "outputs": [
        {
          "output_type": "execute_result",
          "data": {
            "text/plain": [
              "[6, 1]"
            ]
          },
          "metadata": {
            "tags": []
          },
          "execution_count": 34
        }
      ]
    },
    {
      "metadata": {
        "id": "O_xKXiGcJMr-",
        "colab_type": "code",
        "colab": {
          "base_uri": "https://localhost:8080/",
          "height": 34
        },
        "outputId": "90671652-7749-4483-9d65-9aba871e738a"
      },
      "cell_type": "code",
      "source": [
        "# \"range\" already means something in Python, so we'll use a different name\n",
        "def data_range(x):\n",
        "  return max(x) - min(x)\n",
        "data_range(num_friends) # 99"
      ],
      "execution_count": 35,
      "outputs": [
        {
          "output_type": "execute_result",
          "data": {
            "text/plain": [
              "99"
            ]
          },
          "metadata": {
            "tags": []
          },
          "execution_count": 35
        }
      ]
    },
    {
      "metadata": {
        "id": "Sr68t1g6JMuO",
        "colab_type": "code",
        "colab": {
          "base_uri": "https://localhost:8080/",
          "height": 34
        },
        "outputId": "58e310f7-9482-4a1d-f014-804f8bea3072"
      },
      "cell_type": "code",
      "source": [
        "def sum_of_squares(v):\n",
        "    \"\"\" v1 * v1 + v2 * v2 ... + vn * vn\"\"\"\n",
        "    # or return dot_product(v, v)\n",
        "    return sum(vi ** 2 for vi in v)\n",
        "def de_mean(x):\n",
        "  \"\"\"translate x by subtracting its mean (so the result has mean 0)\"\"\"\n",
        "  x_bar = mean(x)\n",
        "  return [x_i - x_bar for x_i in x]\n",
        "def variance(x):\n",
        "  \"\"\"assumes x has at least two elements\"\"\"\n",
        "  n = len(x)\n",
        "  deviations = de_mean(x)\n",
        "  return sum_of_squares(deviations) / (n - 1)\n",
        "variance(num_friends) # 81.54"
      ],
      "execution_count": 36,
      "outputs": [
        {
          "output_type": "execute_result",
          "data": {
            "text/plain": [
              "81.54351395730716"
            ]
          },
          "metadata": {
            "tags": []
          },
          "execution_count": 36
        }
      ]
    },
    {
      "metadata": {
        "id": "WaDxneY-0ZKN",
        "colab_type": "code",
        "colab": {
          "base_uri": "https://localhost:8080/",
          "height": 34
        },
        "outputId": "5dc39858-2ae1-40fe-f7c8-2c0c187da25d"
      },
      "cell_type": "code",
      "source": [
        "def standard_deviation(x):\n",
        "  return math.sqrt(variance(x))\n",
        "standard_deviation(num_friends) # 9.03"
      ],
      "execution_count": 37,
      "outputs": [
        {
          "output_type": "execute_result",
          "data": {
            "text/plain": [
              "9.03014473623248"
            ]
          },
          "metadata": {
            "tags": []
          },
          "execution_count": 37
        }
      ]
    },
    {
      "metadata": {
        "id": "5vXfZf1k0ZNE",
        "colab_type": "code",
        "colab": {
          "base_uri": "https://localhost:8080/",
          "height": 34
        },
        "outputId": "c2a464e4-e7ce-448d-e9a0-c45d31e3b823"
      },
      "cell_type": "code",
      "source": [
        "def interquartile_range(x):\n",
        "  return quantile(x, 0.75) - quantile(x, 0.25)\n",
        "interquartile_range(num_friends) # 6"
      ],
      "execution_count": 38,
      "outputs": [
        {
          "output_type": "execute_result",
          "data": {
            "text/plain": [
              "6"
            ]
          },
          "metadata": {
            "tags": []
          },
          "execution_count": 38
        }
      ]
    },
    {
      "metadata": {
        "id": "5XgwIyve0ZP2",
        "colab_type": "code",
        "colab": {
          "base_uri": "https://localhost:8080/",
          "height": 34
        },
        "outputId": "3b2f039e-5493-4daa-d3ac-4eaf21a152d3"
      },
      "cell_type": "code",
      "source": [
        "def dot(v, w):\n",
        "    \"\"\"v1 * w1 + .. + vn * wn\"\"\"\n",
        "    return sum(vi * wi for vi, wi in zip(v, w))\n",
        "def covariance(x, y):\n",
        "  n = len(x)\n",
        "  return dot(de_mean(x), de_mean(y)) / (n - 1)\n",
        "covariance(num_friends, daily_minutes) # 22.43"
      ],
      "execution_count": 43,
      "outputs": [
        {
          "output_type": "execute_result",
          "data": {
            "text/plain": [
              "22.425435139573064"
            ]
          },
          "metadata": {
            "tags": []
          },
          "execution_count": 43
        }
      ]
    },
    {
      "metadata": {
        "id": "0zrqQq6j0ZS_",
        "colab_type": "code",
        "colab": {
          "base_uri": "https://localhost:8080/",
          "height": 34
        },
        "outputId": "bf1e329f-cd88-47e5-f8ec-c35abc769816"
      },
      "cell_type": "code",
      "source": [
        "def correlation(x, y):\n",
        "  stdev_x = standard_deviation(x)\n",
        "  stdev_y = standard_deviation(y)\n",
        "  if stdev_x > 0 and stdev_y > 0:\n",
        "    return covariance(x, y) / stdev_x / stdev_y\n",
        "  else:\n",
        "    return 0 # if no variation, correlation is zero\n",
        "correlation(num_friends, daily_minutes) # 0.25"
      ],
      "execution_count": 44,
      "outputs": [
        {
          "output_type": "execute_result",
          "data": {
            "text/plain": [
              "0.24736957366478218"
            ]
          },
          "metadata": {
            "tags": []
          },
          "execution_count": 44
        }
      ]
    },
    {
      "metadata": {
        "id": "mqvjNNi90ZVP",
        "colab_type": "code",
        "colab": {
          "base_uri": "https://localhost:8080/",
          "height": 34
        },
        "outputId": "76437641-64a4-4c4b-da3c-eda8e6e55260"
      },
      "cell_type": "code",
      "source": [
        "outlier = num_friends.index(100) # index of outlier\n",
        "num_friends_good = [x\n",
        "for i, x in enumerate(num_friends)\n",
        "if i != outlier]\n",
        "daily_minutes_good = [x\n",
        "for i, x in enumerate(daily_minutes)\n",
        "if i != outlier]\n",
        "correlation(num_friends_good, daily_minutes_good) # 0.57"
      ],
      "execution_count": 45,
      "outputs": [
        {
          "output_type": "execute_result",
          "data": {
            "text/plain": [
              "0.5736792115665573"
            ]
          },
          "metadata": {
            "tags": []
          },
          "execution_count": 45
        }
      ]
    },
    {
      "metadata": {
        "id": "QxzmVtLu0ZYi",
        "colab_type": "code",
        "colab": {}
      },
      "cell_type": "code",
      "source": [
        ""
      ],
      "execution_count": 0,
      "outputs": []
    },
    {
      "metadata": {
        "id": "owLPclae0ZbA",
        "colab_type": "code",
        "colab": {}
      },
      "cell_type": "code",
      "source": [
        ""
      ],
      "execution_count": 0,
      "outputs": []
    }
  ]
}