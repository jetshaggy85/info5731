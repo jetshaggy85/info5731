{
  "nbformat": 4,
  "nbformat_minor": 0,
  "metadata": {
    "colab": {
      "name": "Fellers_selfstudy9.ipynb",
      "version": "0.3.2",
      "provenance": [],
      "collapsed_sections": [],
      "include_colab_link": true
    },
    "kernelspec": {
      "name": "python3",
      "display_name": "Python 3"
    }
  },
  "cells": [
    {
      "cell_type": "markdown",
      "metadata": {
        "id": "view-in-github",
        "colab_type": "text"
      },
      "source": [
        "<a href=\"https://colab.research.google.com/github/jetshaggy85/info5731/blob/master/Fellers_selfstudy9.ipynb\" target=\"_parent\"><img src=\"https://colab.research.google.com/assets/colab-badge.svg\" alt=\"Open In Colab\"/></a>"
      ]
    },
    {
      "metadata": {
        "id": "n-62AjCWJDoy",
        "colab_type": "code",
        "colab": {}
      },
      "cell_type": "code",
      "source": [
        "num_friends = [100,49,41,40,25,21,21,19,19,18,18,16,15,15,15,15,14,14,13,13,13,13,12,12,11,10,10,10,10,10,10,10,10,10,10,10,10,10,10,10,9,9,9,9,9,9,9,9,9,9,9,9,9,9,9,9,9,9,8,8,8,8,8,8,8,8,8,8,8,8,8,7,7,7,7,7,7,7,7,7,7,7,7,7,7,7,6,6,6,6,6,6,6,6,6,6,6,6,6,6,6,6,6,6,6,6,6,6,5,5,5,5,5,5,5,5,5,5,5,5,5,5,5,5,5,4,4,4,4,4,4,4,4,4,4,4,4,4,4,4,4,4,4,4,4,3,3,3,3,3,3,3,3,3,3,3,3,3,3,3,3,3,3,3,3,2,2,2,2,2,2,2,2,2,2,2,2,2,2,2,2,2,1,1,1,1,1,1,1,1,1,1,1,1,1,1,1,1,1,1,1,1,1,1]\n",
        "daily_minutes = [1,68.77,51.25,52.08,38.36,44.54,57.13,51.4,41.42,31.22,34.76,54.01,38.79,47.59,49.1,27.66,41.03,36.73,48.65,28.12,46.62,35.57,32.98,35,26.07,23.77,39.73,40.57,31.65,31.21,36.32,20.45,21.93,26.02,27.34,23.49,46.94,30.5,33.8,24.23,21.4,27.94,32.24,40.57,25.07,19.42,22.39,18.42,46.96,23.72,26.41,26.97,36.76,40.32,35.02,29.47,30.2,31,38.11,38.18,36.31,21.03,30.86,36.07,28.66,29.08,37.28,15.28,24.17,22.31,30.17,25.53,19.85,35.37,44.6,17.23,13.47,26.33,35.02,32.09,24.81,19.33,28.77,24.26,31.98,25.73,24.86,16.28,34.51,15.23,39.72,40.8,26.06,35.76,34.76,16.13,44.04,18.03,19.65,32.62,35.59,39.43,14.18,35.24,40.13,41.82,35.45,36.07,43.67,24.61,20.9,21.9,18.79,27.61,27.21,26.61,29.77,20.59,27.53,13.82,33.2,25,33.1,36.65,18.63,14.87,22.2,36.81,25.53,24.62,26.25,18.21,28.08,19.42,29.79,32.8,35.99,28.32,27.79,35.88,29.06,36.28,14.1,36.63,37.49,26.9,18.58,38.48,24.48,18.95,33.55,14.24,29.04,32.51,25.63,22.22,19,32.73,15.16,13.9,27.2,32.01,29.27,33,13.74,20.42,27.32,18.23,35.35,28.48,9.08,24.62,20.12,35.26,19.92,31.02,16.49,12.16,30.7,31.22,34.65,13.13,27.51,33.2,31.57,14.1,33.42,17.44,10.12,24.42,9.82,23.39,30.93,15.03,21.67,31.09,33.29,22.61,26.89,23.48,8.38,27.81,32.35,23.84]"
      ],
      "execution_count": 0,
      "outputs": []
    },
    {
      "metadata": {
        "id": "-NDaTA77PSi2",
        "colab_type": "code",
        "colab": {}
      },
      "cell_type": "code",
      "source": [
        "from collections import Counter\n",
        "import matplotlib.pyplot as plt\n",
        "import math, random"
      ],
      "execution_count": 0,
      "outputs": []
    },
    {
      "metadata": {
        "id": "ca4mqFuiJMbG",
        "colab_type": "code",
        "colab": {
          "base_uri": "https://localhost:8080/",
          "height": 376
        },
        "outputId": "fedae880-266b-4b46-bb8b-28a1feac1f51"
      },
      "cell_type": "code",
      "source": [
        "friend_counts = Counter(num_friends)\n",
        "xs = range(101) # largest value is 100\n",
        "ys = [friend_counts[x] for x in xs] # height is just # of friends\n",
        "plt.bar(xs, ys)\n",
        "plt.axis([0, 101, 0, 25])\n",
        "plt.title(\"Histogram of Friend Counts\")\n",
        "plt.xlabel(\"# of friends\")\n",
        "plt.ylabel(\"# of people\")\n",
        "plt.show()"
      ],
      "execution_count": 28,
      "outputs": [
        {
          "output_type": "display_data",
          "data": {
            "image/png": "[encoded data removed]",
            "text/plain": [
              "<Figure size 576x396 with 1 Axes>"
            ]
          },
          "metadata": {
            "tags": []
          }
        }
      ]
    },
    {
      "metadata": {
        "id": "VORvBsesJMdW",
        "colab_type": "code",
        "colab": {}
      },
      "cell_type": "code",
      "source": [
        "num_points = len(num_friends)\n",
        "largest_value = max(num_friends) # 100\n",
        "smallest_value = min(num_friends) # 1"
      ],
      "execution_count": 0,
      "outputs": []
    },
    {
      "metadata": {
        "id": "HXx1Si7TJMfm",
        "colab_type": "code",
        "colab": {}
      },
      "cell_type": "code",
      "source": [
        "sorted_values = sorted(num_friends)\n",
        "smallest_value = sorted_values[0] # 1\n",
        "second_smallest_value = sorted_values[1] # 1\n",
        "second_largest_value = sorted_values[-2] # 49"
      ],
      "execution_count": 0,
      "outputs": []
    },
    {
      "metadata": {
        "id": "i62uRZ4aJMiO",
        "colab_type": "code",
        "colab": {
          "base_uri": "https://localhost:8080/",
          "height": 34
        },
        "outputId": "892c4d34-2e5f-411c-d5ac-f7fd0cec0564"
      },
      "cell_type": "code",
      "source": [
        "# this isn't right if you don't from __future__ import division\n",
        "def mean(x):\n",
        "  return sum(x) / len(x)\n",
        "mean(num_friends) # 7.333333"
      ],
      "execution_count": 31,
      "outputs": [
        {
          "output_type": "execute_result",
          "data": {
            "text/plain": [
              "7.333333333333333"
            ]
          },
          "metadata": {
            "tags": []
          },
          "execution_count": 31
        }
      ]
    },
    {
      "metadata": {
        "id": "CAXC9jE_JMkv",
        "colab_type": "code",
        "colab": {
          "base_uri": "https://localhost:8080/",
          "height": 34
        },
        "outputId": "d2f62f54-a6d1-4e8c-e0b9-af25dda12890"
      },
      "cell_type": "code",
      "source": [
        "def median(v):\n",
        "  \"\"\"finds the 'middle-most' value of v\"\"\"\n",
        "  n = len(v)\n",
        "  sorted_v = sorted(v)\n",
        "  midpoint = n // 2\n",
        "\n",
        "  if n % 2 == 1:\n",
        "    # if odd, return the middle value\n",
        "    return sorted_v[midpoint]\n",
        "  else:\n",
        "    # if even, return the average of the middle values\n",
        "    lo = midpoint - 1\n",
        "    hi = midpoint\n",
        "    return (sorted_v[lo] + sorted_v[hi]) / 2\n",
        "median(num_friends) # 6.0"
      ],
      "execution_count": 32,
      "outputs": [
        {
          "output_type": "execute_result",
          "data": {
            "text/plain": [
              "6.0"
            ]
          },
          "metadata": {
            "tags": []
          },
          "execution_count": 32
        }
      ]
    },
    {
      "metadata": {
        "id": "amDxI2jPJMnO",
        "colab_type": "code",
        "colab": {
          "base_uri": "https://localhost:8080/",
          "height": 34
        },
        "outputId": "4e55e771-f9a9-4151-e94d-e6e471d4b044"
      },
      "cell_type": "code",
      "source": [
        "def quantile(x, p):\n",
        "  \"\"\"returns the pth-percentile value in x\"\"\"\n",
        "  p_index = int(p * len(x))\n",
        "  return sorted(x)[p_index]\n",
        "quantile(num_friends, 0.10) # 1\n",
        "quantile(num_friends, 0.25) # 3\n",
        "quantile(num_friends, 0.75) # 9\n",
        "quantile(num_friends, 0.90) # 13"
      ],
      "execution_count": 33,
      "outputs": [
        {
          "output_type": "execute_result",
          "data": {
            "text/plain": [
              "13"
            ]
          },
          "metadata": {
            "tags": []
          },
          "execution_count": 33
        }
      ]
    },
    {
      "metadata": {
        "id": "EOS2s-yiJMpv",
        "colab_type": "code",
        "colab": {
          "base_uri": "https://localhost:8080/",
          "height": 34
        },
        "outputId": "1f1a303e-da90-4945-eb35-cc1cc290b068"
      },
      "cell_type": "code",
      "source": [
        "def mode(x):\n",
        "  \"\"\"returns a list, might be more than one mode\"\"\"\n",
        "  counts = Counter(x)\n",
        "  max_count = max(counts.values())\n",
        "  return [x_i for x_i, count in counts.items()\n",
        "    if count == max_count]\n",
        "mode(num_friends) # 1 and 6"
      ],
      "execution_count": 34,
      "outputs": [
        {
          "output_type": "execute_result",
          "data": {
            "text/plain": [
              "[6, 1]"
            ]
          },
          "metadata": {
            "tags": []
          },
          "execution_count": 34
        }
      ]
    },
    {
      "metadata": {
        "id": "O_xKXiGcJMr-",
        "colab_type": "code",
        "colab": {
          "base_uri": "https://localhost:8080/",
          "height": 34
        },
        "outputId": "90671652-7749-4483-9d65-9aba871e738a"
      },
      "cell_type": "code",
      "source": [
        "# \"range\" already means something in Python, so we'll use a different name\n",
        "def data_range(x):\n",
        "  return max(x) - min(x)\n",
        "data_range(num_friends) # 99"
      ],
      "execution_count": 35,
      "outputs": [
        {
          "output_type": "execute_result",
          "data": {
            "text/plain": [
              "99"
            ]
          },
          "metadata": {
            "tags": []
          },
          "execution_count": 35
        }
      ]
    },
    {
      "metadata": {
        "id": "Sr68t1g6JMuO",
        "colab_type": "code",
        "colab": {
          "base_uri": "https://localhost:8080/",
          "height": 34
        },
        "outputId": "58e310f7-9482-4a1d-f014-804f8bea3072"
      },
      "cell_type": "code",
      "source": [
        "def sum_of_squares(v):\n",
        "    \"\"\" v1 * v1 + v2 * v2 ... + vn * vn\"\"\"\n",
        "    # or return dot_product(v, v)\n",
        "    return sum(vi ** 2 for vi in v)\n",
        "def de_mean(x):\n",
        "  \"\"\"translate x by subtracting its mean (so the result has mean 0)\"\"\"\n",
        "  x_bar = mean(x)\n",
        "  return [x_i - x_bar for x_i in x]\n",
        "def variance(x):\n",
        "  \"\"\"assumes x has at least two elements\"\"\"\n",
        "  n = len(x)\n",
        "  deviations = de_mean(x)\n",
        "  return sum_of_squares(deviations) / (n - 1)\n",
        "variance(num_friends) # 81.54"
      ],
      "execution_count": 36,
      "outputs": [
        {
          "output_type": "execute_result",
          "data": {
            "text/plain": [
              "81.54351395730716"
            ]
          },
          "metadata": {
            "tags": []
          },
          "execution_count": 36
        }
      ]
    },
    {
      "metadata": {
        "id": "WaDxneY-0ZKN",
        "colab_type": "code",
        "colab": {
          "base_uri": "https://localhost:8080/",
          "height": 34
        },
        "outputId": "5dc39858-2ae1-40fe-f7c8-2c0c187da25d"
      },
      "cell_type": "code",
      "source": [
        "def standard_deviation(x):\n",
        "  return math.sqrt(variance(x))\n",
        "standard_deviation(num_friends) # 9.03"
      ],
      "execution_count": 37,
      "outputs": [
        {
          "output_type": "execute_result",
          "data": {
            "text/plain": [
              "9.03014473623248"
            ]
          },
          "metadata": {
            "tags": []
          },
          "execution_count": 37
        }
      ]
    },
    {
      "metadata": {
        "id": "5vXfZf1k0ZNE",
        "colab_type": "code",
        "colab": {
          "base_uri": "https://localhost:8080/",
          "height": 34
        },
        "outputId": "c2a464e4-e7ce-448d-e9a0-c45d31e3b823"
      },
      "cell_type": "code",
      "source": [
        "def interquartile_range(x):\n",
        "  return quantile(x, 0.75) - quantile(x, 0.25)\n",
        "interquartile_range(num_friends) # 6"
      ],
      "execution_count": 38,
      "outputs": [
        {
          "output_type": "execute_result",
          "data": {
            "text/plain": [
              "6"
            ]
          },
          "metadata": {
            "tags": []
          },
          "execution_count": 38
        }
      ]
    },
    {
      "metadata": {
        "id": "5XgwIyve0ZP2",
        "colab_type": "code",
        "colab": {
          "base_uri": "https://localhost:8080/",
          "height": 34
        },
        "outputId": "3b2f039e-5493-4daa-d3ac-4eaf21a152d3"
      },
      "cell_type": "code",
      "source": [
        "def dot(v, w):\n",
        "    \"\"\"v1 * w1 + .. + vn * wn\"\"\"\n",
        "    return sum(vi * wi for vi, wi in zip(v, w))\n",
        "def covariance(x, y):\n",
        "  n = len(x)\n",
        "  return dot(de_mean(x), de_mean(y)) / (n - 1)\n",
        "covariance(num_friends, daily_minutes) # 22.43"
      ],
      "execution_count": 43,
      "outputs": [
        {
          "output_type": "execute_result",
          "data": {
            "text/plain": [
              "22.425435139573064"
            ]
          },
          "metadata": {
            "tags": []
          },
          "execution_count": 43
        }
      ]
    },
    {
      "metadata": {
        "id": "0zrqQq6j0ZS_",
        "colab_type": "code",
        "colab": {
          "base_uri": "https://localhost:8080/",
          "height": 34
        },
        "outputId": "bf1e329f-cd88-47e5-f8ec-c35abc769816"
      },
      "cell_type": "code",
      "source": [
        "def correlation(x, y):\n",
        "  stdev_x = standard_deviation(x)\n",
        "  stdev_y = standard_deviation(y)\n",
        "  if stdev_x > 0 and stdev_y > 0:\n",
        "    return covariance(x, y) / stdev_x / stdev_y\n",
        "  else:\n",
        "    return 0 # if no variation, correlation is zero\n",
        "correlation(num_friends, daily_minutes) # 0.25"
      ],
      "execution_count": 44,
      "outputs": [
        {
          "output_type": "execute_result",
          "data": {
            "text/plain": [
              "0.24736957366478218"
            ]
          },
          "metadata": {
            "tags": []
          },
          "execution_count": 44
        }
      ]
    },
    {
      "metadata": {
        "id": "mqvjNNi90ZVP",
        "colab_type": "code",
        "colab": {
          "base_uri": "https://localhost:8080/",
          "height": 34
        },
        "outputId": "76437641-64a4-4c4b-da3c-eda8e6e55260"
      },
      "cell_type": "code",
      "source": [
        "outlier = num_friends.index(100) # index of outlier\n",
        "num_friends_good = [x\n",
        "for i, x in enumerate(num_friends)\n",
        "if i != outlier]\n",
        "daily_minutes_good = [x\n",
        "for i, x in enumerate(daily_minutes)\n",
        "if i != outlier]\n",
        "correlation(num_friends_good, daily_minutes_good) # 0.57"
      ],
      "execution_count": 45,
      "outputs": [
        {
          "output_type": "execute_result",
          "data": {
            "text/plain": [
              "0.5736792115665573"
            ]
          },
          "metadata": {
            "tags": []
          },
          "execution_count": 45
        }
      ]
    },
    {
      "metadata": {
        "id": "QxzmVtLu0ZYi",
        "colab_type": "code",
        "colab": {
          "base_uri": "https://localhost:8080/",
          "height": 50
        },
        "outputId": "059f50ab-a816-4fd9-ec37-fa75e12d96e8"
      },
      "cell_type": "code",
      "source": [
        "def random_kid():\n",
        "  return random.choice([\"boy\", \"girl\"])\n",
        "both_girls = 0\n",
        "older_girl = 0\n",
        "either_girl = 0\n",
        "\n",
        "random.seed(0)\n",
        "for _ in range(10000):\n",
        "  younger = random_kid()\n",
        "  older = random_kid()\n",
        "  if older == \"girl\":\n",
        "    older_girl += 1\n",
        "  if older == \"girl\" and younger == \"girl\":\n",
        "     both_girls += 1\n",
        "  if older == \"girl\" or younger == \"girl\":\n",
        "    either_girl += 1\n",
        "    \n",
        "print(\"P(both | older):\", both_girls / older_girl) # 0.514 ~ 1/2\n",
        "print(\"P(both | either): \", both_girls / either_girl) # 0.342 ~ 1/3"
      ],
      "execution_count": 7,
      "outputs": [
        {
          "output_type": "stream",
          "text": [
            "P(both | older): 0.5007089325501317\n",
            "P(both | either):  0.3311897106109325\n"
          ],
          "name": "stdout"
        }
      ]
    },
    {
      "metadata": {
        "id": "Q9IyHkA_oJk-",
        "colab_type": "code",
        "colab": {}
      },
      "cell_type": "code",
      "source": [
        "def uniform_pdf(x):\n",
        "  return 1 if x >= 0 and x < 1 else 0"
      ],
      "execution_count": 0,
      "outputs": []
    },
    {
      "metadata": {
        "id": "msJ0a8DGoqa3",
        "colab_type": "code",
        "colab": {}
      },
      "cell_type": "code",
      "source": [
        "def uniform_cdf(x):\n",
        "  \"returns the probability that a uniform random variable is <= x\"\n",
        "  if x < 0: return 0 # uniform random is never less than 0\n",
        "  elif x < 1: return x # e.g. P(X <= 0.4) = 0.4\n",
        "  else: return 1 # uniform random is always less than 1"
      ],
      "execution_count": 0,
      "outputs": []
    },
    {
      "metadata": {
        "id": "3ZNWcPrNoqmt",
        "colab_type": "code",
        "colab": {}
      },
      "cell_type": "code",
      "source": [
        "def normal_pdf(x, mu=0, sigma=1):\n",
        "  sqrt_two_pi = math.sqrt(2 * math.pi)\n",
        "  return (math.exp(-(x-mu) ** 2 / 2 / sigma ** 2) / (sqrt_two_pi * sigma))"
      ],
      "execution_count": 0,
      "outputs": []
    },
    {
      "metadata": {
        "id": "asYkT5rEoqpl",
        "colab_type": "code",
        "colab": {
          "base_uri": "https://localhost:8080/",
          "height": 362
        },
        "outputId": "1684223e-4e4e-4913-8e3c-16458cd465ba"
      },
      "cell_type": "code",
      "source": [
        "xs = [x / 10.0 for x in range(-50, 50)]\n",
        "plt.plot(xs,[normal_pdf(x,sigma=1) for x in xs],'-',label='mu=0,sigma=1')\n",
        "plt.plot(xs,[normal_pdf(x,sigma=2) for x in xs],'--',label='mu=0,sigma=2')\n",
        "plt.plot(xs,[normal_pdf(x,sigma=0.5) for x in xs],':',label='mu=0,sigma=0.5')\n",
        "plt.plot(xs,[normal_pdf(x,mu=-1) for x in xs],'-.',label='mu=-1,sigma=1')\n",
        "plt.legend()\n",
        "plt.title(\"Various Normal pdfs\")\n",
        "plt.show()"
      ],
      "execution_count": 11,
      "outputs": [
        {
          "output_type": "display_data",
          "data": {
            "image/png": "[encoded data removed]",
            "text/plain": [
              "<Figure size 576x396 with 1 Axes>"
            ]
          },
          "metadata": {
            "tags": []
          }
        }
      ]
    },
    {
      "metadata": {
        "id": "EYtRM16Moqso",
        "colab_type": "code",
        "colab": {}
      },
      "cell_type": "code",
      "source": [
        "def normal_cdf(x, mu=0,sigma=1):\n",
        "  return (1 + math.erf((x - mu) / math.sqrt(2) / sigma)) / 2"
      ],
      "execution_count": 0,
      "outputs": []
    },
    {
      "metadata": {
        "id": "KDOAzVp-oqvv",
        "colab_type": "code",
        "colab": {
          "base_uri": "https://localhost:8080/",
          "height": 362
        },
        "outputId": "1289baa7-ee3e-4259-cba3-00e592ff00a0"
      },
      "cell_type": "code",
      "source": [
        "xs = [x / 10.0 for x in range(-50, 50)]\n",
        "plt.plot(xs,[normal_cdf(x,sigma=1) for x in xs],'-',label='mu=0,sigma=1')\n",
        "plt.plot(xs,[normal_cdf(x,sigma=2) for x in xs],'--',label='mu=0,sigma=2')\n",
        "plt.plot(xs,[normal_cdf(x,sigma=0.5) for x in xs],':',label='mu=0,sigma=0.5')\n",
        "plt.plot(xs,[normal_cdf(x,mu=-1) for x in xs],'-.',label='mu=-1,sigma=1')\n",
        "plt.legend(loc=4) # bottom right\n",
        "plt.title(\"Various Normal cdfs\")\n",
        "plt.show()"
      ],
      "execution_count": 13,
      "outputs": [
        {
          "output_type": "display_data",
          "data": {
            "image/png": "[encoded data removed]",
            "text/plain": [
              "<Figure size 576x396 with 1 Axes>"
            ]
          },
          "metadata": {
            "tags": []
          }
        }
      ]
    },
    {
      "metadata": {
        "id": "xfj1nESQoqyx",
        "colab_type": "code",
        "colab": {}
      },
      "cell_type": "code",
      "source": [
        "def inverse_normal_cdf(p, mu=0, sigma=1, tolerance=0.00001):\n",
        "  \"\"\"find approximate inverse using binary search\"\"\"\n",
        "  # if not standard, compute standard and rescale\n",
        "  if mu != 0 or sigma != 1:\n",
        "    return mu + sigma * inverse_normal_cdf(p, tolerance=tolerance)\n",
        "  low_z = -10.0 # normal_cdf(-10) is (very close to) 0\n",
        "  hi_z = 10.0 # normal_cdf(10) is (very close to) 1\n",
        "  while hi_z - low_z > tolerance:\n",
        "    mid_z = (low_z + hi_z) / 2 # consider the midpoint\n",
        "    mid_p = normal_cdf(mid_z) # and the cdf's value there\n",
        "    if mid_p < p:\n",
        "      # midpoint is still too low, search above it\n",
        "      low_z = mid_z\n",
        "    elif mid_p > p:\n",
        "      # midpoint is still too high, search below it\n",
        "      hi_z = mid_z\n",
        "    else:\n",
        "      break\n",
        "  return mid_z"
      ],
      "execution_count": 0,
      "outputs": []
    },
    {
      "metadata": {
        "id": "UJcmNeM9oq14",
        "colab_type": "code",
        "colab": {}
      },
      "cell_type": "code",
      "source": [
        "def bernoulli_trial(p):\n",
        "  return 1 if random.random() < p else 0\n",
        "\n",
        "def binomial(n, p):\n",
        "  return sum(bernoulli_trial(p) for _ in range(n))"
      ],
      "execution_count": 0,
      "outputs": []
    },
    {
      "metadata": {
        "id": "6Qe-fUHGoq5S",
        "colab_type": "code",
        "colab": {
          "base_uri": "https://localhost:8080/",
          "height": 362
        },
        "outputId": "e0cffb8d-67af-4021-ff70-531c6b4cfb2b"
      },
      "cell_type": "code",
      "source": [
        "def make_hist(p, n, num_points):\n",
        "  data = [binomial(n, p) for _ in range(num_points)]\n",
        "  # use a bar chart to show the actual binomial samples\n",
        "  histogram = Counter(data)\n",
        "  plt.bar([x - 0.4 for x in histogram.keys()],\n",
        "    [v / num_points for v in histogram.values()],\n",
        "    0.8,\n",
        "    color='0.75')\n",
        "  mu = p * n\n",
        "  sigma = math.sqrt(n * p * (1 - p))\n",
        "  # use a line chart to show the normal approximation\n",
        "  xs = range(min(data), max(data) + 1)\n",
        "  ys = [normal_cdf(i + 0.5, mu, sigma) - normal_cdf(i - 0.5, mu, sigma)\n",
        "    for i in xs]\n",
        "  plt.plot(xs,ys)\n",
        "  plt.title(\"Binomial Distribution vs. Normal Approximation\")\n",
        "  plt.show()\n",
        "make_hist(0.75,100,10000)"
      ],
      "execution_count": 18,
      "outputs": [
        {
          "output_type": "display_data",
          "data": {
            "image/png": "[encoded data removed]",
            "text/plain": [
              "<Figure size 576x396 with 1 Axes>"
            ]
          },
          "metadata": {
            "tags": []
          }
        }
      ]
    },
    {
      "metadata": {
        "id": "_VdTRW3Soq86",
        "colab_type": "code",
        "colab": {}
      },
      "cell_type": "code",
      "source": [
        "def normal_approximation_to_binomial(n, p):\n",
        "  \"\"\"finds mu and sigma corresponding to a Binomial(n, p)\"\"\"\n",
        "  mu = p * n\n",
        "  sigma = math.sqrt(p * (1 - p) * n)\n",
        "  return mu, sigma"
      ],
      "execution_count": 0,
      "outputs": []
    },
    {
      "metadata": {
        "id": "mK7RlXBZpthI",
        "colab_type": "code",
        "colab": {}
      },
      "cell_type": "code",
      "source": [
        "# the normal cdf _is_ the probability the variable is below a threshold\n",
        "normal_probability_below = normal_cdf\n",
        "\n",
        "# it's above the threshold if it's not below the threshold\n",
        "def normal_probability_above(lo, mu=0, sigma=1):\n",
        "  return 1 - normal_cdf(lo, mu, sigma)\n",
        "\n",
        "# it's between if it's less than hi, but not less than lo\n",
        "def normal_probability_between(lo, hi, mu=0, sigma=1):\n",
        "  return normal_cdf(hi, mu, sigma) - normal_cdf(lo, mu, sigma)\n",
        "\n",
        "# it's outside if it's not between\n",
        "def normal_probability_outside(lo, hi, mu=0, sigma=1):\n",
        "  return 1 - normal_probability_between(lo, hi, mu, sigma)"
      ],
      "execution_count": 0,
      "outputs": []
    },
    {
      "metadata": {
        "id": "aD5LBn0yptkH",
        "colab_type": "code",
        "colab": {}
      },
      "cell_type": "code",
      "source": [
        "def normal_upper_bound(probability, mu=0, sigma=1):\n",
        "  \"\"\"returns the z for which P(Z <= z) = probability\"\"\"\n",
        "  return inverse_normal_cdf(probability, mu, sigma)\n",
        "\n",
        "def normal_lower_bound(probability, mu=0, sigma=1):\n",
        "  \"\"\"returns the z for which P(Z >= z) = probability\"\"\"\n",
        "  return inverse_normal_cdf(1 - probability, mu, sigma)\n",
        "\n",
        "def normal_two_sided_bounds(probability, mu=0, sigma=1):\n",
        "  \"\"\"returns the symmetric (about the mean) bounds\n",
        "  that contain the specified probability\"\"\"\n",
        "  tail_probability = (1 - probability) / 2\n",
        "  # upper bound should have tail_probability above it\n",
        "  upper_bound = normal_lower_bound(tail_probability, mu, sigma)\n",
        "\n",
        "  # lower bound should have tail_probability below it\n",
        "  lower_bound = normal_upper_bound(tail_probability, mu, sigma)\n",
        "  return lower_bound, upper_bound"
      ],
      "execution_count": 0,
      "outputs": []
    },
    {
      "metadata": {
        "id": "B0VsTikPptm3",
        "colab_type": "code",
        "colab": {}
      },
      "cell_type": "code",
      "source": [
        "mu_0, sigma_0 = normal_approximation_to_binomial(1000, 0.5)"
      ],
      "execution_count": 0,
      "outputs": []
    },
    {
      "metadata": {
        "id": "-6hHMEcNptps",
        "colab_type": "code",
        "colab": {}
      },
      "cell_type": "code",
      "source": [
        "normal_two_sided_bounds(0.95, mu_0, sigma_0) # (469, 531)"
      ],
      "execution_count": 0,
      "outputs": []
    },
    {
      "metadata": {
        "id": "s_R6jZzmpttA",
        "colab_type": "code",
        "colab": {}
      },
      "cell_type": "code",
      "source": [
        "# 95% bounds based on assumption p is 0.5\n",
        "lo, hi = normal_two_sided_bounds(0.95, mu_0, sigma_0)\n",
        "\n",
        "# actual mu and sigma based on p = 0.55\n",
        "mu_1, sigma_1 = normal_approximation_to_binomial(1000, 0.55)\n",
        "\n",
        "# a type 2 error means we fail to reject the null hypothesis\n",
        "# which will happen when X is still in our original interval\n",
        "type_2_probability = normal_probability_between(lo, hi, mu_1, sigma_1)\n",
        "power = 1 - type_2_probability # 0.887"
      ],
      "execution_count": 0,
      "outputs": []
    },
    {
      "metadata": {
        "id": "qkN9mR0IptwV",
        "colab_type": "code",
        "colab": {}
      },
      "cell_type": "code",
      "source": [
        "hi = normal_upper_bound(0.95, mu_0, sigma_0)\n",
        "# is 526 (< 531, since we need more probability in the upper tail)\n",
        "\n",
        "type_2_probability = normal_probability_below(hi, mu_1, sigma_1)\n",
        "power = 1 - type_2_probability # 0.936"
      ],
      "execution_count": 0,
      "outputs": []
    },
    {
      "metadata": {
        "id": "izqwFdKrpt0B",
        "colab_type": "code",
        "colab": {}
      },
      "cell_type": "code",
      "source": [
        "def two_sided_p_value(x, mu=0, sigma=1):\n",
        "  if x >= mu:\n",
        "    # if x is greater than the mean, the tail is what's greater than x\n",
        "    return 2 * normal_probability_above(x, mu, sigma)\n",
        "  else:\n",
        "    # if x is less than the mean, the tail is what's less than x\n",
        "    return 2 * normal_probability_below(x, mu, sigma)"
      ],
      "execution_count": 0,
      "outputs": []
    },
    {
      "metadata": {
        "id": "owLPclae0ZbA",
        "colab_type": "code",
        "colab": {
          "base_uri": "https://localhost:8080/",
          "height": 34
        },
        "outputId": "511a2434-b343-4def-b980-81e44b8b2979"
      },
      "cell_type": "code",
      "source": [
        "two_sided_p_value(529.5, mu_0, sigma_0) # 0.062"
      ],
      "execution_count": 27,
      "outputs": [
        {
          "output_type": "execute_result",
          "data": {
            "text/plain": [
              "0.06207721579598857"
            ]
          },
          "metadata": {
            "tags": []
          },
          "execution_count": 27
        }
      ]
    },
    {
      "metadata": {
        "id": "8vm8O3sdqezy",
        "colab_type": "code",
        "colab": {
          "base_uri": "https://localhost:8080/",
          "height": 34
        },
        "outputId": "d68c7bd4-d135-48da-b2bb-26df802205e2"
      },
      "cell_type": "code",
      "source": [
        "extreme_value_count = 0\n",
        "for _ in range(100000):\n",
        "  num_heads = sum(1 if random.random() < 0.5 else 0 # count # of heads\n",
        "    for _ in range(1000)) # in 1000 flips\n",
        "  if num_heads >= 530 or num_heads <= 470: # and count how often\n",
        "    extreme_value_count += 1 # the # is 'extreme'\n",
        "print(extreme_value_count / 100000) # 0.062"
      ],
      "execution_count": 29,
      "outputs": [
        {
          "output_type": "stream",
          "text": [
            "0.06248\n"
          ],
          "name": "stdout"
        }
      ]
    },
    {
      "metadata": {
        "id": "ttPOj1tcqe2U",
        "colab_type": "code",
        "colab": {
          "base_uri": "https://localhost:8080/",
          "height": 34
        },
        "outputId": "b2087ab4-b829-4bf7-b6e7-8d38a936f573"
      },
      "cell_type": "code",
      "source": [
        "two_sided_p_value(531.5, mu_0, sigma_0) # 0.0463"
      ],
      "execution_count": 30,
      "outputs": [
        {
          "output_type": "execute_result",
          "data": {
            "text/plain": [
              "0.046345287837786575"
            ]
          },
          "metadata": {
            "tags": []
          },
          "execution_count": 30
        }
      ]
    },
    {
      "metadata": {
        "id": "tXJ5UhAdqe5q",
        "colab_type": "code",
        "colab": {}
      },
      "cell_type": "code",
      "source": [
        "upper_p_value = normal_probability_above\n",
        "lower_p_value = normal_probability_below"
      ],
      "execution_count": 0,
      "outputs": []
    },
    {
      "metadata": {
        "id": "ZrWYif84q35O",
        "colab_type": "code",
        "colab": {
          "base_uri": "https://localhost:8080/",
          "height": 34
        },
        "outputId": "ad6961b9-d288-41cd-edd5-1c5c4f75c409"
      },
      "cell_type": "code",
      "source": [
        "upper_p_value(524.5, mu_0, sigma_0) # 0.061"
      ],
      "execution_count": 32,
      "outputs": [
        {
          "output_type": "execute_result",
          "data": {
            "text/plain": [
              "0.06062885772582083"
            ]
          },
          "metadata": {
            "tags": []
          },
          "execution_count": 32
        }
      ]
    },
    {
      "metadata": {
        "id": "BL8LiO4Kq38R",
        "colab_type": "code",
        "colab": {
          "base_uri": "https://localhost:8080/",
          "height": 34
        },
        "outputId": "9b60c7a6-192a-4af2-88e8-78229c9b38db"
      },
      "cell_type": "code",
      "source": [
        "upper_p_value(526.5, mu_0, sigma_0) # 0.047"
      ],
      "execution_count": 33,
      "outputs": [
        {
          "output_type": "execute_result",
          "data": {
            "text/plain": [
              "0.04686839508859242"
            ]
          },
          "metadata": {
            "tags": []
          },
          "execution_count": 33
        }
      ]
    },
    {
      "metadata": {
        "id": "0RszMrwHq3_p",
        "colab_type": "code",
        "colab": {
          "base_uri": "https://localhost:8080/",
          "height": 34
        },
        "outputId": "d0b74156-7aa0-4825-c19c-6abc5728d7f2"
      },
      "cell_type": "code",
      "source": [
        "p_hat = 525 / 1000\n",
        "mu = p_hat\n",
        "sigma = math.sqrt(p_hat * (1 - p_hat) / 1000) # 0.0158\n",
        "sigma"
      ],
      "execution_count": 38,
      "outputs": [
        {
          "output_type": "execute_result",
          "data": {
            "text/plain": [
              "0.015791611697353755"
            ]
          },
          "metadata": {
            "tags": []
          },
          "execution_count": 38
        }
      ]
    },
    {
      "metadata": {
        "id": "T-aG_A5Oq4Dh",
        "colab_type": "code",
        "colab": {
          "base_uri": "https://localhost:8080/",
          "height": 34
        },
        "outputId": "b5a18ade-157e-4b96-ce49-105765f17463"
      },
      "cell_type": "code",
      "source": [
        "normal_two_sided_bounds(0.95, mu, sigma) # [0.4940, 0.5560]"
      ],
      "execution_count": 39,
      "outputs": [
        {
          "output_type": "execute_result",
          "data": {
            "text/plain": [
              "(0.4940490278129096, 0.5559509721870904)"
            ]
          },
          "metadata": {
            "tags": []
          },
          "execution_count": 39
        }
      ]
    },
    {
      "metadata": {
        "id": "Cmfd51d9rW19",
        "colab_type": "code",
        "colab": {
          "base_uri": "https://localhost:8080/",
          "height": 34
        },
        "outputId": "077ab595-d96d-4f7c-a53c-2141ce2f2977"
      },
      "cell_type": "code",
      "source": [
        "p_hat = 540 / 1000\n",
        "mu = p_hat\n",
        "sigma = math.sqrt(p_hat * (1 - p_hat) / 1000) # 0.0158\n",
        "normal_two_sided_bounds(0.95, mu, sigma) # [0.5091, 0.5709]"
      ],
      "execution_count": 40,
      "outputs": [
        {
          "output_type": "execute_result",
          "data": {
            "text/plain": [
              "(0.5091095927295919, 0.5708904072704082)"
            ]
          },
          "metadata": {
            "tags": []
          },
          "execution_count": 40
        }
      ]
    },
    {
      "metadata": {
        "id": "QRkCPwtZrgcr",
        "colab_type": "code",
        "colab": {
          "base_uri": "https://localhost:8080/",
          "height": 34
        },
        "outputId": "439cfdd4-006c-4a48-9723-4675c99d2fb2"
      },
      "cell_type": "code",
      "source": [
        "def run_experiment():\n",
        "  \"\"\"flip a fair coin 1000 times, True = heads, False = tails\"\"\"\n",
        "  return [random.random() < 0.5 for _ in range(1000)]\n",
        "def reject_fairness(experiment):\n",
        "  \"\"\"using the 5% significance levels\"\"\"\n",
        "  num_heads = len([flip for flip in experiment if flip])\n",
        "  return num_heads < 469 or num_heads > 531\n",
        "\n",
        "random.seed(0)\n",
        "experiments = [run_experiment() for _ in range(1000)]\n",
        "num_rejections = len([experiment\n",
        "  for experiment in experiments\n",
        "  if reject_fairness(experiment)])\n",
        "print(num_rejections) # 46"
      ],
      "execution_count": 42,
      "outputs": [
        {
          "output_type": "stream",
          "text": [
            "46\n"
          ],
          "name": "stdout"
        }
      ]
    },
    {
      "metadata": {
        "id": "BeSZijoVrW4y",
        "colab_type": "code",
        "colab": {}
      },
      "cell_type": "code",
      "source": [
        "def estimated_parameters(N, n):\n",
        "  p = n / N\n",
        "  sigma = math.sqrt(p * (1 - p) / N)\n",
        "  return p, sigma"
      ],
      "execution_count": 0,
      "outputs": []
    },
    {
      "metadata": {
        "id": "1Dn1Vwx6rW7T",
        "colab_type": "code",
        "colab": {}
      },
      "cell_type": "code",
      "source": [
        "def a_b_test_statistic(N_A, n_A, N_B, n_B):\n",
        "  p_A, sigma_A = estimated_parameters(N_A, n_A)\n",
        "  p_B, sigma_B = estimated_parameters(N_B, n_B)\n",
        "  return (p_B - p_A) / math.sqrt(sigma_A ** 2 + sigma_B ** 2)"
      ],
      "execution_count": 0,
      "outputs": []
    },
    {
      "metadata": {
        "id": "_yJ5KbnhrW-_",
        "colab_type": "code",
        "colab": {}
      },
      "cell_type": "code",
      "source": [
        "z = a_b_test_statistic(1000, 200, 1000, 180) # -1.14"
      ],
      "execution_count": 0,
      "outputs": []
    },
    {
      "metadata": {
        "id": "YAGpFQPhrXCq",
        "colab_type": "code",
        "colab": {
          "base_uri": "https://localhost:8080/",
          "height": 34
        },
        "outputId": "902715ef-e2c9-43ee-9103-4bb494298fed"
      },
      "cell_type": "code",
      "source": [
        "two_sided_p_value(z)"
      ],
      "execution_count": 46,
      "outputs": [
        {
          "output_type": "execute_result",
          "data": {
            "text/plain": [
              "0.254141976542236"
            ]
          },
          "metadata": {
            "tags": []
          },
          "execution_count": 46
        }
      ]
    },
    {
      "metadata": {
        "id": "REglAxQjrXIp",
        "colab_type": "code",
        "colab": {
          "base_uri": "https://localhost:8080/",
          "height": 34
        },
        "outputId": "c60a7570-e791-4c96-b981-f91ab4148eea"
      },
      "cell_type": "code",
      "source": [
        "z = a_b_test_statistic(1000, 200, 1000, 150) # -2.94\n",
        "two_sided_p_value(z) # 0.003"
      ],
      "execution_count": 47,
      "outputs": [
        {
          "output_type": "execute_result",
          "data": {
            "text/plain": [
              "0.003189699706216853"
            ]
          },
          "metadata": {
            "tags": []
          },
          "execution_count": 47
        }
      ]
    },
    {
      "metadata": {
        "id": "3rr2Kv2rq4JF",
        "colab_type": "code",
        "colab": {}
      },
      "cell_type": "code",
      "source": [
        "def B(alpha, beta):\n",
        "  \"\"\"a normalizing constant so that the total probability is 1\"\"\"\n",
        "  return math.gamma(alpha) * math.gamma(beta) / math.gamma(alpha + beta)\n",
        "def beta_pdf(x, alpha, beta):\n",
        "  if x <= 0 or x >= 1: # no weight outside of [0, 1]\n",
        "    return 0\n",
        "  return x ** (alpha - 1) * (1 - x) ** (beta - 1) / B(alpha, beta)"
      ],
      "execution_count": 0,
      "outputs": []
    },
    {
      "metadata": {
        "id": "0YzMOkxvv9PP",
        "colab_type": "code",
        "colab": {}
      },
      "cell_type": "code",
      "source": [
        ""
      ],
      "execution_count": 0,
      "outputs": []
    },
    {
      "metadata": {
        "id": "wnFbcE3Xv9SI",
        "colab_type": "code",
        "colab": {}
      },
      "cell_type": "code",
      "source": [
        ""
      ],
      "execution_count": 0,
      "outputs": []
    },
    {
      "metadata": {
        "id": "uJyVONbiv9Uf",
        "colab_type": "code",
        "colab": {}
      },
      "cell_type": "code",
      "source": [
        ""
      ],
      "execution_count": 0,
      "outputs": []
    },
    {
      "metadata": {
        "id": "j9GgZmQQv9Xd",
        "colab_type": "code",
        "colab": {}
      },
      "cell_type": "code",
      "source": [
        ""
      ],
      "execution_count": 0,
      "outputs": []
    }
  ]
}