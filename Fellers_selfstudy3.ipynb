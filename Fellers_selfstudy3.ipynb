{
 "cells": [
  {
   "cell_type": "markdown",
   "metadata": {},
   "source": [
    "Exercise"
   ]
  },
  {
   "cell_type": "code",
   "execution_count": 1,
   "metadata": {
    "collapsed": true
   },
   "outputs": [],
   "source": [
    "url = 'https://www.cleveland.com/metro/index.ssf/2017/12/case_western_reserve_university_president_barbara_snyders_base_salary_and_bonus_pay_tops_among_private_colleges_in_ohio.html'"
   ]
  },
  {
   "cell_type": "code",
   "execution_count": 2,
   "metadata": {
    "collapsed": true
   },
   "outputs": [],
   "source": [
    "from requests_html import HTMLSession"
   ]
  },
  {
   "cell_type": "code",
   "execution_count": 3,
   "metadata": {
    "collapsed": true
   },
   "outputs": [],
   "source": [
    "r=HTMLSession().get(url)"
   ]
  },
  {
   "cell_type": "code",
   "execution_count": 4,
   "metadata": {},
   "outputs": [
    {
     "name": "stdout",
     "output_type": "stream",
     "text": [
      "b'<!doctype html>\\n<!--[if lt IE 7]> <html class=\"no-js lt-ie10 lt-ie9 lt-ie8 lt-ie7\" lang=\"en-US\" xmlns:fb=\"http://www.facebook.com/2008/fbml\" xmlns:og=\"http://ogp.me/ns#\"> <![endif]-->\\n<!--[if IE 7]>    <html class=\"no-js lt-ie10 lt-ie9 lt-ie8\" lang=\"en-US\" xmlns:fb=\"http://www.facebook.com/2008/fbml\" xmlns:og=\"http://ogp.me/ns#\"> <![endif]-->\\n<!--[if IE 8]>    <html class=\"no-js lt-ie10 lt-ie9\" lang=\"en-US\" xmlns:fb=\"http://www.facebook.com/2008/fbml\" xmlns:og=\"http://ogp.me/ns#\"> <![endif]-->\\n<!--[if IE 9]>    <html class=\"no-js lt-ie10\" lang=\"en-US\" xmlns:fb=\"http://www.facebook.com/2008/fbml\" xmlns:og=\"http://ogp.me/ns#\"> <![endif]-->\\n\\n<!--[if gt IE 9]><!--> <html class=\"no-js\" lang=\"en-US\" dir=\"ltr\" prefix=\"fb: http://www.facebook.com/2008/fbml og: http://ogp.me/ns#\"> <!--<![endif]-->\\n\\n\\t<head>\\n\\t\\t\\n\\t\\t\\t\\n\\t\\t\\n\\t\\t\\n\\t\\t\\t<meta http-equiv=\"Content-Type\" content=\"text/html; charset=utf-8\" />\\n\\t\\t\\t<meta http-equiv=\"X-UA-Compatible\" content=\"IE=edge,chrome=1\" />\\n\\t\\t\\t<meta property=\"fb:admins\" content=\"100000302287435\" />\\n\\t\\t\\t<meta name=\"viewport\" content=\"width=device-width,initial-scale=1\">\\n\\n\\t\\t\\t<link rel=\"stylesheet\" href=\"https://static.advance.net/static/cleve/static/css/oap.css\" />\\n\\t\\t\\n\\n\\t\\t\\n\\t\\t\\t\\n\\t\\t\\n\\n\\t\\t\\n\\t\\t<meta http-equiv=\"X-UA-Compatible\" content=\"IE=edge,chrome=1\">\\n\\n\\n  \\n\\n\\n\\n\\n\\n\\n<title>\\tCase Western Reserve University President Barbara Snyder\\'s base salary and bonus pay tops among private colleges in Ohio  | \\t\\t\\t\\t\\t\\tcleveland.com</title>\\n\\n\\n\\t\\n\\t\\n\\n\\t\\n\\n\\t\\n\\t\\n\\t\\t\\t\\t\\t\\t\\t\\t\\t\\t\\t\\t\\t\\t\\t\\t\\t\\t\\t\\t\\t\\t\\t\\t\\t\\t\\t\\t\\t\\t\\n\\t\\n\\n\\t\\n\\t\\t\\t\\t\\t\\t\\t\\t\\t\\t\\t\\t\\t\\t\\t\\t\\t\\t\\t\\t\\t\\t\\t\\t\\t\\t\\t\\t\\t\\t\\n\\n\\t\\n\\t\\t\\n\\t\\n\\t\\n\\t\\n\\n\\t\\n\\t<!--\\n\\t<PageMap>\\n\\t\\t<DataObject type=\"document\">\\n\\t\\t\\t<Attribute name=\"article_title\">Case Western Reserve University President Barbara Snyder\\'s base salary and bonus pay tops among private colleges in Ohio </Attribute>\\n\\t\\t\\t<Attribute name=\"article_publication_name\">cleveland.com</Attribute>\\n\\t\\t\\t<Attribute name=\"article_author\">Karen Farkas, cleveland.com</Attribute>\\n\\t\\t\\t<Attribute name=\"article_description\">Case Western Reserve University President Barbara Snyder\\'s $700,312 base pay and $175,000 bonus in 2015 again made her the highest paid  private college leader in Ohio, according to an annual report.</Attribute>\\n\\t\\t\\t<Attribute name=\"image_src\">https://image.cleveland.com/home/cleve-media/width620/img/plain_dealer_metro/photo/23873711-standard.jpg</Attribute>\\n\\t\\t\\t<Attribute name=\"article_comments\">0</Attribute>\\n\\t\\t\\t<Attribute name=\"article_date_original\">12/10/2017</Attribute>\\n\\t\\t\\t<Attribute name=\"article_date_updated\">12/11/2017</Attribute>\\n\\t\\t</DataObject>\\n\\t</PageMap>\\n\\t-->\\n\\n\\t\\n\\t\\t\\n\\t\\t\\n\\t\\t\\n\\t\\t<script type=\"application/ld+json\">\\n\\t\\t\\t{\\n\\t\\t\\t\\t\"@context\": \"http://schema.org\",\\n\\t\\t\\t\\t\"@type\": \"NewsArticle\",\\n\\t\\t\\t\\t\"mainEntityOfPage\": {\\n\\t\\t\\t\\t\\t\"@type\": \"WebPage\",\\n\\t\\t\\t\\t\\t\"@id\": \"https://www.cleveland.com/metro/index.ssf/2017/12/case_western_reserve_university_president_barbara_snyders_base_salary_and_bonus_pay_tops_among_private_colleges_in_ohio.html\"\\n\\t\\t\\t\\t},\\n\\t\\t\\t\\t\"headline\": \"Case Western Reserve University President Barbara Snyder\\'s base salary and bonus pay tops among private colleges in Ohio \",\\n\\t\\t\\t\\t\"url\": \"https://www.cleveland.com/metro/index.ssf/2017/12/case_western_reserve_university_president_barbara_snyders_base_salary_and_bonus_pay_tops_among_private_colleges_in_ohio.html\",\\n\\t\\t\\t\\t\"thumbnailUrl\": \"https://image.cleveland.com/home/cleve-media/width620/img/plain_dealer_metro/photo/23873711-standard.jpg\",\\n\\t\\t\\t\\t\"image\": \"https://image.cleveland.com/home/cleve-media/width620/img/plain_dealer_metro/photo/23873711-standard.jpg\",\\n\\t\\t\\t\\t\"dateCreated\": \"2017-12-10T22:00:34Z\",\\n\\t\\t\\t\\t\"datePublished\": \"2017-12-10T22:00:34Z\",\\n\\t\\t\\t\\t\"dateModified\": \"2017-12-12T01:42:32Z\",\\n\\t\\t\\t\\t\"publisher\": {\\n\\t\\t\\t\\t\\t\"@type\": \"Organization\",\\n\\t\\t\\t\\t\\t\"name\": \"cleveland.com\",\\n\\t\\t\\t\\t\\t\"logo\": {\\n\\t\\t\\t\\t\\t\\t\"@type\": \"ImageObject\",\\n\\t\\t\\t\\t\\t\\t\"url\": \"http://static.advance.net/static/cleve/static/img/logos/logo_main.png\"\\n\\t\\t\\t\\t\\t}\\n\\t\\t\\t\\t},\\n\\t\\t\\t\\t\"creator\": [\"Karen Farkas, cleveland.com\"],\\n\\t\\t\\t\\t\"author\": {\\n\\t\\t\\t\\t\\t\"@type\": \"Person\",\\n\\t\\t\\t\\t\\t\"name\": \"Karen Farkas, cleveland.com\"\\n\\t\\t\\t\\t},\\n\\t\\t\\t\\t\"keywords\": [\"@fbia\",\"@real-time-news\",\"baldwin-wallace-university\",\"barbara-snyder\",\"case-western-reserve-university\",\"john-carroll-university\",\"oberlin-college\"],\\n\\t\\t\\t\\t\"metadata\": {\"blog_id\": \"8002316\", \"entry_id\": \"21622286\", \"short_title\": \"CWRU president\\'s salary and bonus tops for private colleges\", \"image_url\": \"http://media.cleveland.com/plain_dealer_metro/photo/cwrus-snyder-tops-pay-scale-highest-paid-of-ohio-private-college-chiefs-at-over-1m-yearly-581ba32ba99d75e9.jpg\", \"author_name\": \"kfarkas\", \"author_nickname\": \"Karen Farkas, cleveland.com\", \"author_id\": \"3290\", \"source_blog_name\": \"Metro News\", \"source_blog_url\": \"http://www.cleveland.com/metro/index.ssf/\", \"sponsored_content\": \"0\", \"ampurl\": \"https://articles.cleveland.com/metro/index.ssf/2017/12/case_western_reserve_university_president_barbara_snyders_base_salary_and_bonus_pay_tops_among_private_colleges_in_ohio.amp\" },\\n\\t\\t\\t\\t\"articleSection\": \"News\"\\n\\t\\t\\t}\\n\\t\\t</script>\\n\\t\\n\\n\\t\\n\\n\\t\\n\\t<meta name=\"vf:owner\" content=\"cookie:3290\" />\\n\\t<meta property=\"vf:unique_id\" content=\"273e236291b18c0720f9b1b13da4b999\" />\\n\\t<meta property=\"vf:section\" content=\"www\" />\\n\\n\\t\\n\\t\\n\\n\\t\\n\\t\\n\\n\\t\\n\\t\\t\\n\\t\\n\\t\\n\\t\\n\\t\\t\\n\\t\\n\\n\\t\\n\\t<meta property=\"fb:app_id\" content=\"125188170846713\"/>\\n\\t<meta name=\"title\" content=\"Case Western Reserve University President Barbara Snyder\\'s base salary and bonus pay tops among private colleges in Ohio \" />\\n\\t<meta name=\"article_publication_name\" content=\"cleveland.com\" />\\n\\t<meta name=\"article_author\" content=\"Karen Farkas, cleveland.com\" />\\n\\t<meta name=\"article_date_original\" content=\"Sunday, December 10, 2017,  6:00 PM\" />\\n\\t<meta name=\"article_date_updated\" content=\"Monday, December 11, 2017,  9:42 PM\" />\\n\\t<link rel=\"image_src\" href=\"https://image.cleveland.com/home/cleve-media/width620/img/plain_dealer_metro/photo/23873711-standard.jpg\" />\\n\\t\\n\\t<meta name=\"news_keywords\" content=\"president, Ohio, University of Mount Union, Case Western Reserve University, The Chronicle, baldwin-wallace-university, barbara-snyder, case-western-reserve-university, john-carroll-university, oberlin-college, news\">\\n\\t\\n\\t\\t<meta property=\"article:author\" content=\"https://www.facebook.com/clevelandcom/\" />\\n\\t\\n\\t<meta property=\"article:modified_time\" content=\"2017-12-12T01:42:32Z\" />\\n\\n\\t\\n\\t\\n\\n\\t\\n\\t\\n\\t\\t\\n\\t\\n\\n\\t\\n\\t\\n\\t\\t\\n\\t\\t\\t\\n\\t\\t\\t\\t<meta name=\"twitter:card\" content=\"summary_large_image\" />\\n\\t\\t\\t\\n\\t\\t\\n\\t\\t<meta name=\"twitter:description\" content=\"Case Western Reserve University President Barbara Snyder\\'s $700,312 base pay and $175,000 bonus in 2015 again made her the highest paid  private college leader in Ohio, according to an annual report.\" />\\n\\t\\t<meta name=\"twitter:image\" content=\"https://image.cleveland.com/home/cleve-media/width620/img/plain_dealer_metro/photo/23873711-standard.jpg\" />\\n\\t\\n\\t\\n\\t\\t<meta name=\"twitter:title\" content=\"Case Western Reserve University President Barbara Snyder\\'s base salary and bonus pay tops among private colleges in Ohio \" />\\n\\t\\t<meta name=\"twitter:site\" content=\"@clevelanddotcom\" />\\n\\t\\t<meta name=\"twitter:creator\" content=\"@karen_farkas\" />\\n\\t\\n\\n\\t<meta property=\"og:title\" content=\"Case Western Reserve University President Barbara Snyder\\'s base salary and bonus pay tops among private colleges in Ohio \" />\\n\\t<meta property=\"og:description\" content=\"Case Western Reserve University President Barbara Snyder\\'s $700,312 base pay and $175,000 bonus in 2015 again made her the highest paid  private college leader in Ohio, according to an annual report.\" />\\n\\t<meta property=\"og:site_name\" content=\"cleveland.com\" />\\n\\t<meta property=\"og:url\" content=\"https://www.cleveland.com/metro/index.ssf/2017/12/case_western_reserve_university_president_barbara_snyders_base_salary_and_bonus_pay_tops_among_private_colleges_in_ohio.html\" />\\n\\t<meta property=\"og:type\" content=\"article\" />\\n\\t<meta property=\"og:image\" content=\"https://image.cleveland.com/home/cleve-media/width620/img/plain_dealer_metro/photo/23873711-standard.jpg\" />\\n\\t\\n\\t\\t<meta property=\"og:image:width\" content=\"620\" />\\n\\t\\t<meta property=\"og:image:height\" content=\"411\" />\\n\\t\\n\\t\\n\\n\\t\\n\\n\\t\\n\\t<script type=\"text/javascript\">\\n\\twindow.LF_META = {\\n\\t\\t\"environment\": \"production\",\\n\\t\\t\"networkId\": \"advancedigital.fyre.co\",\\n\\t\\t\"siteId\": \"352331\",\\n\\t\\t\"articleId\": \"273e236291b18c0720f9b1b13da4b999\",\\n\\t\\t\"checksum\": \"9ea75c1e05c5addbfe10c2611884e8de\",\\n\\t\\t\"collectionMeta\":  \"eyJhbGciOiJIUzI1NiJ9.eyJjaGVja3N1bSI6IjllYTc1YzFlMDVjNWFkZGJmZTEwYzI2MTE4ODRlOGRlIiwiYXJ0aWNsZUlkIjoiMjczZTIzNjI5MWIxOGMwNzIwZjliMWIxM2RhNGI5OTkiLCJ1cmwiOiJodHRwOi8vd3d3LmNsZXZlbGFuZC5jb20vbWV0cm8vaW5kZXguc3NmLzIwMTcvMTIvY2FzZV93ZXN0ZXJuX3Jlc2VydmVfdW5pdmVyc2l0eV9wcmVzaWRlbnRfYmFyYmFyYV9zbnlkZXJzX2Jhc2Vfc2FsYXJ5X2FuZF9ib251c19wYXlfdG9wc19hbW9uZ19wcml2YXRlX2NvbGxlZ2VzX2luX29oaW8uaHRtbCIsInRpdGxlIjoiQ2FzZSBXZXN0ZXJuIFJlc2VydmUgVW5pdmVyc2l0eSBQcmVzaWRlbnQgQmFyYmFyYSBTbnlkZXIncyBiYXNlIHNhbGFyeSBhbmQgYm9udXMgcGF5IHRvcHMgYW1vbmcgcHJpdmF0ZSBjb2xsZWdlcyBpbiBPaGlvICIsInRhZ3MiOiJleHBlcnQsQGZiaWEsQHJlYWwtdGltZS1uZXdzLGJhbGR3aW4td2FsbGFjZS11bml2ZXJzaXR5LGJhcmJhcmEtc255ZGVyLGNhc2Utd2VzdGVybi1yZXNlcnZlLXVuaXZlcnNpdHksam9obi1jYXJyb2xsLXVuaXZlcnNpdHksb2Jlcmxpbi1jb2xsZWdlIn0.VRXHAktXYmJhvrqXQoGyyMAS7YV0iT9xXex7EgtfIGE\",\\n\\t\\t\"readOnly\": \"false\",\\n\\t\\t\"articleAuthorID\": \"3290\"\\n\\t};\\n</script>\\n\\n\\t\\n\\t<script type=\"text/javascript\">\\n\\t\\t\\n\\t\\tvar rtb_comments_readonly = false;\\n\\t</script>\\n\\n\\n<link rel=\"alternate\" type=\"application/atom+xml\" title=\"Metro News\" href=\"http://www.cleveland.com/metro/index.ssf//atom.xml\" />\\n\\n    \\n\\n    \\n        \\n    \\n\\n    \\n \\n    \\n        \\n    \\n    \\n\\n\\n\\n\\n\\n    \\n\\n\\n\\n\\n\\n\\n\\n\\t\\t\\n\\t\\t\\t\\n\\t\\t\\t\\n\\t\\t\\t\\n\\t\\t\\t\\n\\n\\t\\t\\t\\n            \\n                <link rel=\"amphtml\" href=\"https://articles.cleveland.com/metro/index.ssf/2017/12/case_western_reserve_university_president_barbara_snyders_base_salary_and_bonus_pay_tops_among_private_colleges_in_ohio.amp\" />\\n            \\n\\n\\t\\t\\t\\n\\n\\t\\t\\t\\n\\t\\t\\t\\t<meta name=\"Description\" content=\"Case Western Reserve University President Barbara Snyder\\'s $700,312 base pay and $175,000 bonus in 2015 again made her the highest paid  private college leader in Ohio, according to an annual report.\" />\\n\\t\\t\\t\\t\\n\\t\\t\\t\\t\\t\\n\\t\\t\\t\\t\\t\\t<link rel=\"author\" href=\"https://plus.google.com/101448797314004031479/\" title=\"Karen Farkas, cleveland.com on Google+\" />\\n\\t\\t\\t\\t\\t\\n\\t\\t\\t\\t\\n\\t\\t\\t\\t \\n\\n\\t\\t\\t\\t\\n\\n\\t\\t\\t\\t\\n\\t\\t\\t\\n\\n\\t\\t\\t\\n\\t\\t\\t\\n\\t\\t\\t\\t\\n\\t\\t\\t\\t<script>\\n\\t\\t\\t\\t\\twindow.adiData = ({\\n\\t\\t\\t\\t\\t\\t\\'pageType\\': \\'cal\\',\\n\\t\\t\\t\\t\\t\\t\\'siteSection\\': \\'News\\',\\n\\t\\t\\t\\t\\t\\t\\'entryHeadline\\': \\'Case Western Reserve University President Barbara Snyder\\\\\\'s base salary and bonus pay tops among private colleges in Ohio \\',\\n\\t\\t\\t\\t\\t\\t\\'entryTags\\': \\'@fbia;@real-time-news;baldwin-wallace-university;barbara-snyder;case-western-reserve-university;john-carroll-university;oberlin-college\\',\\n\\t\\t\\t\\t\\t\\t\\'entryId\\':\\'21622286\\',\\n\\t\\t\\t\\t\\t\\t\\'entryDepth\\':\\'1\\',\\n\\t\\t\\t\\t\\t\\t\\'blogName\\':\\'Metro News\\',\\n\\t\\t\\t\\t\\t\\t\\'entryAuthorUsername\\':\\'kfarkas\\',\\n\\t\\t\\t\\t\\t\\t\\'blogCategory\\':\\'\\',\\n\\t\\t\\t\\t\\t\\t\\'blogId\\':\\'8002316\\',\\n\\t\\t\\t\\t\\t\\t\\'entryWordcount\\':\\'672\\',\\n\\t\\t\\t\\t\\t\\t\\'entryDateOriginal\\':\\'2017-12-10T22:00:00Z\\',\\n\\t\\t\\t\\t\\t\\t\\'entryDateUpdated\\':\\'2017-12-12T01:42:32Z\\',\\n\\t\\t\\t\\t\\t});\\n\\t\\t\\t\\t\\twindow.dataLayer = window.dataLayer || [];\\n\\t\\t\\t\\t\\twindow.dataLayer.push(window.adiData);\\n\\n\\t\\t\\t\\t\\t\\n\\t\\t\\t\\t\\t\\n\\t\\t\\t\\t\\t\\t// GTM Tag\\n\\t\\t\\t\\t\\t\\t(function(w,d,s,l,i){\\n\\t\\t\\t\\t\\t\\t\\tw[l]=w[l]||[];\\n\\t\\t\\t\\t\\t\\t\\tw[l].push({\\n\\t\\t\\t\\t\\t\\t\\t\\t\\'gtm.start\\': new Date().getTime(),\\n\\t\\t\\t\\t\\t\\t\\t\\tevent: \\'gtm.js\\'\\n\\t\\t\\t\\t\\t\\t\\t});\\n\\t\\t\\t\\t\\t\\t\\tvar f=d.getElementsByTagName(s)[0],\\n\\t\\t\\t\\t\\t\\t\\t\\tj=d.createElement(s),\\n\\t\\t\\t\\t\\t\\t\\t\\tdl=l!=\\'dataLayer\\'?\\'&l=\\'+l:\\'\\';\\n\\t\\t\\t\\t\\t\\t\\tj.async=true;\\n\\t\\t\\t\\t\\t\\t\\tj.src=\\'https://www.googletagmanager.com/gtm.js?id=\\'+i+dl;\\n\\t\\t\\t\\t\\t\\t\\tf.parentNode.insertBefore(j,f);\\n\\t\\t\\t\\t\\t\\t})(window,document,\\'script\\',\\'dataLayer\\',\\'GTM-5FH8H3G\\');\\n\\t\\t\\t\\t\\t\\n\\t\\t\\t\\t</script>\\n\\t\\t\\t\\n\\n\\t\\t\\t\\n\\t\\t\\n\\t</head>\\n\\n\\t<body class=\"cma\">\\n\\t\\t<div class=\"skip-to-article\">\\n\\t\\t\\t<a href=\"#article\">Skip to Article</a>\\n\\t\\t</div>\\n\\n\\t\\t\\n\\t\\t<!-- Start Masthead -->\\n\\t\\t\\n\\t\\t\\t\\n\\t\\t\\n\\t\\t<!-- ./templates/global/shared/nav/masthead.mtml start -->\\n\\n\\t\\n\\t\\t\\n\\t\\t\\t\\n\\t\\t\\n\\t\\t\\n\\n\\n<!-- toprail -->\\n<section id=\"adv_network\">\\n    <div class=\"advWrapper\">\\n        <div class=\"Popup\"><div class=\"Popup adunit nomobilead\" id=\"Popup\"></div></div>\\n        <div class=\"adunit\" id=\"TopRail_Above\"></div>\\n    </div>\\n</section>\\n\\n<header class=\"advtoprail\">\\n  <div class=\"advtoprail__left-corner\">\\n    <div class=\"advtoprail__mainmenu\">\\n      <nav class=\"advtoprail__mainmenu-nav\">\\n        \\n        <button class=\"advtoprail__mainmenu-button js-button-masthead\" aria-expanded=\"false\" aria-label=\"Open the Main Navigation\" data-buttonname=\"main\">\\n          <span class=\"advtoprail__mainmenu-button-icon\"></span>\\n          <span class=\"advtoprail__mainmenu-button-label\" id=\"mainmenu-label\">Menu</span>\\n        </button>\\n        \\n        <div class=\"advtoprail__dropdown js-dropdown js-dropdown-main\" aria-labelledby=\"mainmenu_label\" aria-hidden=\"true\" aria-expanded=\"false\" role=\"navigation\">\\n          <div class=\"advtoprail__menuborderarrow\"></div>\\n          <div class=\"advtoprail__dropdown-outer js-mainmenu\">\\n            <div class=\"advtoprail__dropdown-inner js-mainmenu-list\">\\n              <ul class=\"advtoprail__mainmenu-menulist\">\\n                \\n                    \\n                \\n                <li class=\"advtoprail__mainmenu-menuitem js-mainmenu-item\"><a class=\"advtoprail__mainmenu-menuitem-link js-mainmenu-link\" href=\"http://www.cleveland.com/\">Home</a></li>\\n                \\n                <li class=\"advtoprail__mainmenu-menuitem--mobile\">\\n                  <button class=\"advtoprail__weather-button js-button-weather-mobile\" aria-label=\"Weather\" aria-expanded=\"false\">\\n                    <span class=\"advtoprail__weather-conditions js-weather-conditions\">\\n                      <span class=\"advtoprail__weather-title--menu js-weather-location\"></span>\\n                      <span class=\"advtoprail__weather-temperature js-weather-temperature\"></span>\\n                    </span>\\n                  </button>\\n                </li>\\n                \\n                  <li class=\"advtoprail__mainmenu-menuitem js-expandable\">\\n                    \\n                      <a class=\"advtoprail__mainmenu-menuitem-link js-mainmenu-link\" href=\"https://www.cleveland.com/news/\">News</a>\\n                    \\n                    \\n                      <button class=\"advtoprail__button-submenu js-button-mainmenu\" aria-label=\"Open the News submenu\" aria-expanded=\"false\"><span class=\"advtoprail__button-submenu--open\">&rsaquo;</span><span class=\"advtoprail__button-submenu--close\">&lsaquo;</span></button>\\n                      \\n\\n\\n    <ul class=\"advtoprail__mainmenu-menulist--submenu js-submenu\">\\n      <li class=\"advtoprail__mainmenu-menuitem--submenu-backtomain\">\\n        <button class=\"advtoprail__button-mobile-backtomain js-button-backtomain\">\\n          <span class=\"advtoprail__button-icon--backmm\"></span>\\n          <span class=\"advtoprail__button-label--backmm\">Back To Main Menu</span>\\n        </button>\\n      </li>\\n        \\n            <li class=\"advtoprail__mainmenu-menuitem--submenu js-menuitem-submenu\">\\n                \\n                  <a class=\"advtoprail__mainmenu-menuitem-link js-mainmenu-link\" href=\"https://www.cleveland.com/metro/\">Metro</a>\\n                \\n                \\n                </li>\\n        \\n            <li class=\"advtoprail__mainmenu-menuitem--submenu js-menuitem-submenu\">\\n                \\n                  <a class=\"advtoprail__mainmenu-menuitem-link js-mainmenu-link\" href=\"https://www.cleveland.com/plaindealer/\">The Plain Dealer</a>\\n                \\n                \\n                </li>\\n        \\n            <li class=\"advtoprail__mainmenu-menuitem--submenu js-menuitem-submenu\">\\n                \\n                  <a class=\"advtoprail__mainmenu-menuitem-link js-mainmenu-link\" href=\"https://www.cleveland.com/weather/\">Weather</a>\\n                \\n                \\n                </li>\\n        \\n            <li class=\"advtoprail__mainmenu-menuitem--submenu js-menuitem-submenu\">\\n                \\n                  <a class=\"advtoprail__mainmenu-menuitem-link js-mainmenu-link\" href=\"https://www.cleveland.com/healthfit\">Health &amp; Medical</a>\\n                \\n                \\n                </li>\\n        \\n            <li class=\"advtoprail__mainmenu-menuitem--submenu js-menuitem-submenu\">\\n                \\n                  <a class=\"advtoprail__mainmenu-menuitem-link js-mainmenu-link\" href=\"https://www.cleveland.com/crime/\">Crime</a>\\n                \\n                \\n                </li>\\n        \\n            <li class=\"advtoprail__mainmenu-menuitem--submenu js-menuitem-submenu\">\\n                \\n                  <a class=\"advtoprail__mainmenu-menuitem-link js-mainmenu-link\" href=\"https://www.cleveland.com/datacentral\">Data Central</a>\\n                \\n                \\n                </li>\\n        \\n            <li class=\"advtoprail__mainmenu-menuitem--submenu js-menuitem-submenu js-expandable\">\\n                \\n                  <a class=\"advtoprail__mainmenu-menuitem-link js-mainmenu-link\" href=\"https://www.cleveland.com/columns/\">Columnists</a>\\n                \\n                \\n                  <button class=\"advtoprail__button-submenu js-button-mainmenu\" aria-label=\"Open the Columnists submenu\" aria-expanded=\"false\"><span class=\"advtoprail__button-submenu--open\">&rsaquo;</span><span class=\"advtoprail__button-submenu--close\">&lsaquo;</span></button>\\n                  \\n\\n\\n    <ul class=\"advtoprail__mainmenu-menulist--subsubmenu js-submenu\">\\n      <li class=\"advtoprail__mainmenu-menuitem--submenu-backtomain\">\\n        <button class=\"advtoprail__button-mobile-backtomain js-button-backtomain\">\\n          <span class=\"advtoprail__button-icon--backmm\"></span>\\n          <span class=\"advtoprail__button-label--backmm\">Back To Main Menu</span>\\n        </button>\\n      </li>\\n        \\n            <li class=\"advtoprail__mainmenu-menuitem--submenu js-menuitem-submenu\">\\n                \\n                  <a class=\"advtoprail__mainmenu-menuitem-link js-mainmenu-link\" href=\"https://www.cleveland.com/naymik\">Mark Naymik</a>\\n                \\n                \\n                </li>\\n        \\n            <li class=\"advtoprail__mainmenu-menuitem--submenu js-menuitem-submenu\">\\n                \\n                  <a class=\"advtoprail__mainmenu-menuitem-link js-mainmenu-link\" href=\"https://www.cleveland.com/tipoff\">Michael McIntyre</a>\\n                \\n                \\n                </li>\\n        \\n            <li class=\"advtoprail__mainmenu-menuitem--submenu js-menuitem-submenu\">\\n                \\n                  <a class=\"advtoprail__mainmenu-menuitem-link js-mainmenu-link\" href=\"https://www.cleveland.com/morris\">Phillip Morris</a>\\n                \\n                \\n                </li>\\n        \\n    </ul>\\n\\n\\n                \\n                </li>\\n        \\n            <li class=\"advtoprail__mainmenu-menuitem--submenu js-menuitem-submenu\">\\n                \\n                  <a class=\"advtoprail__mainmenu-menuitem-link js-mainmenu-link\" href=\"https://www.cleveland.com/city-club\">City Club of Cleveland</a>\\n                \\n                \\n                </li>\\n        \\n            <li class=\"advtoprail__mainmenu-menuitem--submenu js-menuitem-submenu\">\\n                \\n                  <a class=\"advtoprail__mainmenu-menuitem-link js-mainmenu-link\" href=\"https://www.cleveland.com/court-justice\">Courts</a>\\n                \\n                \\n                </li>\\n        \\n            <li class=\"advtoprail__mainmenu-menuitem--submenu js-menuitem-submenu\">\\n                \\n                  <a class=\"advtoprail__mainmenu-menuitem-link js-mainmenu-link\" href=\"https://www.cleveland.com/nation/\">Nation</a>\\n                \\n                \\n                </li>\\n        \\n            <li class=\"advtoprail__mainmenu-menuitem--submenu js-menuitem-submenu\">\\n                \\n                  <a class=\"advtoprail__mainmenu-menuitem-link js-mainmenu-link\" href=\"https://www.cleveland.com/world/\">World</a>\\n                \\n                \\n                </li>\\n        \\n            <li class=\"advtoprail__mainmenu-menuitem--submenu js-menuitem-submenu js-expandable\">\\n                \\n                  <span class=\"advtoprail__mainmenu-menuitem-label\">Special Reports</span>\\n                \\n                \\n                  <button class=\"advtoprail__button-submenu js-button-mainmenu\" aria-label=\"Open the Special Reports submenu\" aria-expanded=\"false\"><span class=\"advtoprail__button-submenu--open\">&rsaquo;</span><span class=\"advtoprail__button-submenu--close\">&lsaquo;</span></button>\\n                  \\n\\n\\n    <ul class=\"advtoprail__mainmenu-menulist--subsubmenu js-submenu\">\\n      <li class=\"advtoprail__mainmenu-menuitem--submenu-backtomain\">\\n        <button class=\"advtoprail__button-mobile-backtomain js-button-backtomain\">\\n          <span class=\"advtoprail__button-icon--backmm\"></span>\\n          <span class=\"advtoprail__button-label--backmm\">Back To Main Menu</span>\\n        </button>\\n      </li>\\n        \\n            <li class=\"advtoprail__mainmenu-menuitem--submenu js-menuitem-submenu\">\\n                \\n                  <a class=\"advtoprail__mainmenu-menuitem-link js-mainmenu-link\" href=\"https://www.cleveland.com/a-greater-cleveland/\">A Greater Cleveland</a>\\n                \\n                \\n                </li>\\n        \\n            <li class=\"advtoprail__mainmenu-menuitem--submenu js-menuitem-submenu\">\\n                \\n                  <a class=\"advtoprail__mainmenu-menuitem-link js-mainmenu-link\" href=\"https://www.cleveland.com/metro/index.ssf/page/a_critical_choice_plain_dealer_1.html\">A Critical Choice: Nursing home care</a>\\n                \\n                \\n                </li>\\n        \\n            <li class=\"advtoprail__mainmenu-menuitem--submenu js-menuitem-submenu\">\\n                \\n                  <a class=\"advtoprail__mainmenu-menuitem-link js-mainmenu-link\" href=\"https://www.cleveland.com/metro/index.ssf/page/court_costs_in_northeast_ohio.html\">At Any (Court) Cost</a>\\n                \\n                \\n                </li>\\n        \\n            <li class=\"advtoprail__mainmenu-menuitem--submenu js-menuitem-submenu\">\\n                \\n                  <a class=\"advtoprail__mainmenu-menuitem-link js-mainmenu-link\" href=\"https://www.cleveland.com/metro/index.ssf/page/clevelands_bike_life.html\">Cleveland&#39;s Bike Life</a>\\n                \\n                \\n                </li>\\n        \\n            <li class=\"advtoprail__mainmenu-menuitem--submenu js-menuitem-submenu\">\\n                \\n                  <a class=\"advtoprail__mainmenu-menuitem-link js-mainmenu-link\" href=\"https://www.cleveland.com/metro/index.ssf/page/dear_cleveland.html\">Dear Cleveland</a>\\n                \\n                \\n                </li>\\n        \\n            <li class=\"advtoprail__mainmenu-menuitem--submenu js-menuitem-submenu\">\\n                \\n                  <a class=\"advtoprail__mainmenu-menuitem-link js-mainmenu-link\" href=\"https://www.cleveland.com/crime/index.ssf/page/heroin.html\">Heroins Human Toll</a>\\n                \\n                \\n                </li>\\n        \\n            <li class=\"advtoprail__mainmenu-menuitem--submenu js-menuitem-submenu\">\\n                \\n                  <a class=\"advtoprail__mainmenu-menuitem-link js-mainmenu-link\" href=\"https://www.cleveland.com/metro/index.ssf/page/justice_for_all_bail_reform_in.html\">Justice for All: Bail reform</a>\\n                \\n                \\n                </li>\\n        \\n            <li class=\"advtoprail__mainmenu-menuitem--submenu js-menuitem-submenu\">\\n                \\n                  <a class=\"advtoprail__mainmenu-menuitem-link js-mainmenu-link\" href=\"https://www.cleveland.com/knowtherx/\">Know the RX: Opioid addiction resources</a>\\n                \\n                \\n                </li>\\n        \\n            <li class=\"advtoprail__mainmenu-menuitem--submenu js-menuitem-submenu\">\\n                \\n                  <a class=\"advtoprail__mainmenu-menuitem-link js-mainmenu-link\" href=\"https://www.cleveland.com/out-of-line/\">Out of Line: Gerrymandering in Ohio</a>\\n                \\n                \\n                </li>\\n        \\n            <li class=\"advtoprail__mainmenu-menuitem--submenu js-menuitem-submenu\">\\n                \\n                  <a class=\"advtoprail__mainmenu-menuitem-link js-mainmenu-link\" href=\"https://www.cleveland.com/metro/index.ssf/page/recovering_hope.html\">Recovering Hope</a>\\n                \\n                \\n                </li>\\n        \\n            <li class=\"advtoprail__mainmenu-menuitem--submenu js-menuitem-submenu\">\\n                \\n                  <a class=\"advtoprail__mainmenu-menuitem-link js-mainmenu-link\" href=\"https://www.cleveland.com/cavs/index.ssf/page/remaking_the_q.html\">Remaking The Q</a>\\n                \\n                \\n                </li>\\n        \\n            <li class=\"advtoprail__mainmenu-menuitem--submenu js-menuitem-submenu\">\\n                \\n                  <a class=\"advtoprail__mainmenu-menuitem-link js-mainmenu-link\" href=\"https://www.cleveland.com/crime/index.ssf/page/stolen_in_the_suburbs_auto_the.html\">Stolen in the Suburbs</a>\\n                \\n                \\n                </li>\\n        \\n    </ul>\\n\\n\\n                \\n                </li>\\n        \\n    </ul>\\n\\n\\n                    \\n                  </li>\\n                \\n                  <li class=\"advtoprail__mainmenu-menuitem js-expandable\">\\n                    \\n                      <span class=\"advtoprail__mainmenu-menuitem-label\">Politics</span>\\n                    \\n                    \\n                      <button class=\"advtoprail__button-submenu js-button-mainmenu\" aria-label=\"Open the Politics submenu\" aria-expanded=\"false\"><span class=\"advtoprail__button-submenu--open\">&rsaquo;</span><span class=\"advtoprail__button-submenu--close\">&lsaquo;</span></button>\\n                      \\n\\n\\n    <ul class=\"advtoprail__mainmenu-menulist--submenu js-submenu\">\\n      <li class=\"advtoprail__mainmenu-menuitem--submenu-backtomain\">\\n        <button class=\"advtoprail__button-mobile-backtomain js-button-backtomain\">\\n          <span class=\"advtoprail__button-icon--backmm\"></span>\\n          <span class=\"advtoprail__button-label--backmm\">Back To Main Menu</span>\\n        </button>\\n      </li>\\n        \\n            <li class=\"advtoprail__mainmenu-menuitem--submenu js-menuitem-submenu\">\\n                \\n                  <a class=\"advtoprail__mainmenu-menuitem-link js-mainmenu-link\" href=\"https://www.cleveland.com/open/\">State Politics</a>\\n                \\n                \\n                </li>\\n        \\n            <li class=\"advtoprail__mainmenu-menuitem--submenu js-menuitem-submenu\">\\n                \\n                  <a class=\"advtoprail__mainmenu-menuitem-link js-mainmenu-link\" href=\"https://www.cleveland.com/politics/\">National Politics &amp; Elections</a>\\n                \\n                \\n                </li>\\n        \\n            <li class=\"advtoprail__mainmenu-menuitem--submenu js-menuitem-submenu\">\\n                \\n                  <a class=\"advtoprail__mainmenu-menuitem-link js-mainmenu-link\" href=\"https://www.cleveland.com/cityhall\">Cleveland City Hall</a>\\n                \\n                \\n                </li>\\n        \\n            <li class=\"advtoprail__mainmenu-menuitem--submenu js-menuitem-submenu\">\\n                \\n                  <a class=\"advtoprail__mainmenu-menuitem-link js-mainmenu-link\" href=\"https://www.cleveland.com/cuyahoga-county\">Cuyahoga County Insider</a>\\n                \\n                \\n                </li>\\n        \\n            <li class=\"advtoprail__mainmenu-menuitem--submenu js-menuitem-submenu\">\\n                \\n                  <a class=\"advtoprail__mainmenu-menuitem-link js-mainmenu-link\" href=\"https://www.cleveland.com/out-of-line/\">Out of Line: Gerrymandering in Ohio</a>\\n                \\n                \\n                </li>\\n        \\n            <li class=\"advtoprail__mainmenu-menuitem--submenu js-menuitem-submenu\">\\n                \\n                  <a class=\"advtoprail__mainmenu-menuitem-link js-mainmenu-link\" href=\"https://www.cleveland.com/politics/index.ssf/page/ohio_matters_redesign_politica.html\">Special Report: Ohio Matters</a>\\n                \\n                \\n                </li>\\n        \\n    </ul>\\n\\n\\n                    \\n                  </li>\\n                \\n                  <li class=\"advtoprail__mainmenu-menuitem js-expandable\">\\n                    \\n                      <a class=\"advtoprail__mainmenu-menuitem-link js-mainmenu-link\" href=\"https://www.cleveland.com/community\">Local News</a>\\n                    \\n                    \\n                      <button class=\"advtoprail__button-submenu js-button-mainmenu\" aria-label=\"Open the Local News submenu\" aria-expanded=\"false\"><span class=\"advtoprail__button-submenu--open\">&rsaquo;</span><span class=\"advtoprail__button-submenu--close\">&lsaquo;</span></button>\\n                      \\n\\n\\n    <ul class=\"advtoprail__mainmenu-menulist--submenu js-submenu\">\\n      <li class=\"advtoprail__mainmenu-menuitem--submenu-backtomain\">\\n        <button class=\"advtoprail__button-mobile-backtomain js-button-backtomain\">\\n          <span class=\"advtoprail__button-icon--backmm\"></span>\\n          <span class=\"advtoprail__button-label--backmm\">Back To Main Menu</span>\\n        </button>\\n      </li>\\n        \\n            <li class=\"advtoprail__mainmenu-menuitem--submenu js-menuitem-submenu\">\\n                \\n                  <a class=\"advtoprail__mainmenu-menuitem-link js-mainmenu-link\" href=\"https://www.cleveland.com/akron\">Akron</a>\\n                \\n                \\n                </li>\\n        \\n            <li class=\"advtoprail__mainmenu-menuitem--submenu js-menuitem-submenu\">\\n                \\n                  <a class=\"advtoprail__mainmenu-menuitem-link js-mainmenu-link\" href=\"https://www.cleveland.com/beachwood/\">Beachwood</a>\\n                \\n                \\n                </li>\\n        \\n            <li class=\"advtoprail__mainmenu-menuitem--submenu js-menuitem-submenu\">\\n                \\n                  <a class=\"advtoprail__mainmenu-menuitem-link js-mainmenu-link\" href=\"https://www.cleveland.com/berea\">Berea</a>\\n                \\n                \\n                </li>\\n        \\n            <li class=\"advtoprail__mainmenu-menuitem--submenu js-menuitem-submenu\">\\n                \\n                  <a class=\"advtoprail__mainmenu-menuitem-link js-mainmenu-link\" href=\"https://www.cleveland.com/brecksville\">Brecksville</a>\\n                \\n                \\n                </li>\\n        \\n            <li class=\"advtoprail__mainmenu-menuitem--submenu js-menuitem-submenu\">\\n                \\n                  <a class=\"advtoprail__mainmenu-menuitem-link js-mainmenu-link\" href=\"https://www.cleveland.com/brunswick/\">Brunswick</a>\\n                \\n                \\n                </li>\\n        \\n            <li class=\"advtoprail__mainmenu-menuitem--submenu js-menuitem-submenu\">\\n                \\n                  <a class=\"advtoprail__mainmenu-menuitem-link js-mainmenu-link\" href=\"https://www.cleveland.com/chagrin-falls/\">Chagrin Falls</a>\\n                \\n                \\n                </li>\\n        \\n            <li class=\"advtoprail__mainmenu-menuitem--submenu js-menuitem-submenu\">\\n                \\n                  <a class=\"advtoprail__mainmenu-menuitem-link js-mainmenu-link\" href=\"https://www.cleveland.com/cleveland-heights/\">Cleveland Heights</a>\\n                \\n                \\n                </li>\\n        \\n            <li class=\"advtoprail__mainmenu-menuitem--submenu js-menuitem-submenu\">\\n                \\n                  <a class=\"advtoprail__mainmenu-menuitem-link js-mainmenu-link\" href=\"https://www.cleveland.com/hillcrest/\">Hillcrest</a>\\n                \\n                \\n                </li>\\n        \\n            <li class=\"advtoprail__mainmenu-menuitem--submenu js-menuitem-submenu\">\\n                \\n                  <a class=\"advtoprail__mainmenu-menuitem-link js-mainmenu-link\" href=\"https://www.cleveland.com/lakewood/\">Lakewood</a>\\n                \\n                \\n                </li>\\n        \\n            <li class=\"advtoprail__mainmenu-menuitem--submenu js-menuitem-submenu\">\\n                \\n                  <a class=\"advtoprail__mainmenu-menuitem-link js-mainmenu-link\" href=\"https://www.cleveland.com/lyndhurst-south-euclid/\">Lyndhurst-South Euclid</a>\\n                \\n                \\n                </li>\\n        \\n            <li class=\"advtoprail__mainmenu-menuitem--submenu js-menuitem-submenu\">\\n                \\n                  <a class=\"advtoprail__mainmenu-menuitem-link js-mainmenu-link\" href=\"https://www.cleveland.com/medina/\">Medina</a>\\n                \\n                \\n                </li>\\n        \\n            <li class=\"advtoprail__mainmenu-menuitem--submenu js-menuitem-submenu\">\\n                \\n                  <a class=\"advtoprail__mainmenu-menuitem-link js-mainmenu-link\" href=\"https://www.cleveland.com/parma/\">Parma</a>\\n                \\n                \\n                </li>\\n        \\n            <li class=\"advtoprail__mainmenu-menuitem--submenu js-menuitem-submenu\">\\n                \\n                  <a class=\"advtoprail__mainmenu-menuitem-link js-mainmenu-link\" href=\"https://www.cleveland.com/shaker-heights/\">Shaker Heights</a>\\n                \\n                \\n                </li>\\n        \\n            <li class=\"advtoprail__mainmenu-menuitem--submenu js-menuitem-submenu\">\\n                \\n                  <a class=\"advtoprail__mainmenu-menuitem-link js-mainmenu-link\" href=\"https://www.cleveland.com/solon/\">Solon</a>\\n                \\n                \\n                </li>\\n        \\n            <li class=\"advtoprail__mainmenu-menuitem--submenu js-menuitem-submenu\">\\n                \\n                  <a class=\"advtoprail__mainmenu-menuitem-link js-mainmenu-link\" href=\"https://www.cleveland.com/strongsville/\">Strongsville</a>\\n                \\n                \\n                </li>\\n        \\n            <li class=\"advtoprail__mainmenu-menuitem--submenu js-menuitem-submenu\">\\n                \\n                  <a class=\"advtoprail__mainmenu-menuitem-link js-mainmenu-link\" href=\"https://www.cleveland.com/westlake/\">Westlake</a>\\n                \\n                \\n                </li>\\n        \\n            <li class=\"advtoprail__mainmenu-menuitem--submenu js-menuitem-submenu\">\\n                \\n                  <a class=\"advtoprail__mainmenu-menuitem-link js-mainmenu-link\" href=\"https://www.cleveland.com/sunnews/index.ssf/2013/01/read_the_news_from_east_and_so.html\">More East Side</a>\\n                \\n                \\n                </li>\\n        \\n            <li class=\"advtoprail__mainmenu-menuitem--submenu js-menuitem-submenu\">\\n                \\n                  <a class=\"advtoprail__mainmenu-menuitem-link js-mainmenu-link\" href=\"https://www.cleveland.com/sunnews/index.ssf/2013/01/read_the_news_from_west_and_so.html\">More West Side</a>\\n                \\n                \\n                </li>\\n        \\n    </ul>\\n\\n\\n                    \\n                  </li>\\n                \\n                  <li class=\"advtoprail__mainmenu-menuitem js-expandable\">\\n                    \\n                      <a class=\"advtoprail__mainmenu-menuitem-link js-mainmenu-link\" href=\"https://www.cleveland.com/opinion/\">Opinion</a>\\n                    \\n                    \\n                      <button class=\"advtoprail__button-submenu js-button-mainmenu\" aria-label=\"Open the Opinion submenu\" aria-expanded=\"false\"><span class=\"advtoprail__button-submenu--open\">&rsaquo;</span><span class=\"advtoprail__button-submenu--close\">&lsaquo;</span></button>\\n                      \\n\\n\\n    <ul class=\"advtoprail__mainmenu-menulist--submenu js-submenu\">\\n      <li class=\"advtoprail__mainmenu-menuitem--submenu-backtomain\">\\n        <button class=\"advtoprail__button-mobile-backtomain js-button-backtomain\">\\n          <span class=\"advtoprail__button-icon--backmm\"></span>\\n          <span class=\"advtoprail__button-label--backmm\">Back To Main Menu</span>\\n        </button>\\n      </li>\\n        \\n            <li class=\"advtoprail__mainmenu-menuitem--submenu js-menuitem-submenu\">\\n                \\n                  <a class=\"advtoprail__mainmenu-menuitem-link js-mainmenu-link\" href=\"https://www.cleveland.com/letters/\">Letters to the Editor</a>\\n                \\n                \\n                </li>\\n        \\n            <li class=\"advtoprail__mainmenu-menuitem--submenu js-menuitem-submenu\">\\n                \\n                  <a class=\"advtoprail__mainmenu-menuitem-link js-mainmenu-link\" href=\"https://www.cleveland.com/darcy\">Jeff Darcy&#39;s Cartoons</a>\\n                \\n                \\n                </li>\\n        \\n            <li class=\"advtoprail__mainmenu-menuitem--submenu js-menuitem-submenu\">\\n                \\n                  <a class=\"advtoprail__mainmenu-menuitem-link js-mainmenu-link\" href=\"https://www.cleveland.com/columns/\">More columnists</a>\\n                \\n                \\n                </li>\\n        \\n    </ul>\\n\\n\\n                    \\n                  </li>\\n                \\n                  <li class=\"advtoprail__mainmenu-menuitem js-expandable\">\\n                    \\n                      <a class=\"advtoprail__mainmenu-menuitem-link js-mainmenu-link\" href=\"https://www.cleveland.com/business/\">Business</a>\\n                    \\n                    \\n                      <button class=\"advtoprail__button-submenu js-button-mainmenu\" aria-label=\"Open the Business submenu\" aria-expanded=\"false\"><span class=\"advtoprail__button-submenu--open\">&rsaquo;</span><span class=\"advtoprail__button-submenu--close\">&lsaquo;</span></button>\\n                      \\n\\n\\n    <ul class=\"advtoprail__mainmenu-menulist--submenu js-submenu\">\\n      <li class=\"advtoprail__mainmenu-menuitem--submenu-backtomain\">\\n        <button class=\"advtoprail__button-mobile-backtomain js-button-backtomain\">\\n          <span class=\"advtoprail__button-icon--backmm\"></span>\\n          <span class=\"advtoprail__button-label--backmm\">Back To Main Menu</span>\\n        </button>\\n      </li>\\n        \\n            <li class=\"advtoprail__mainmenu-menuitem--submenu js-menuitem-submenu\">\\n                \\n                  <a class=\"advtoprail__mainmenu-menuitem-link js-mainmenu-link\" href=\"https://realestate.cleveland.com/realestate-news/\">Real Estate</a>\\n                \\n                \\n                </li>\\n        \\n            <li class=\"advtoprail__mainmenu-menuitem--submenu js-menuitem-submenu\">\\n                \\n                  <a class=\"advtoprail__mainmenu-menuitem-link js-mainmenu-link\" href=\"https://www.cleveland.com/ohio-utilities/\">Energy</a>\\n                \\n                \\n                </li>\\n        \\n            <li class=\"advtoprail__mainmenu-menuitem--submenu js-menuitem-submenu\">\\n                \\n                  <a class=\"advtoprail__mainmenu-menuitem-link js-mainmenu-link\" href=\"https://www.cleveland.com/consumeraffairs/\">Consumer Affairs</a>\\n                \\n                \\n                </li>\\n        \\n            <li class=\"advtoprail__mainmenu-menuitem--submenu js-menuitem-submenu\">\\n                \\n                  <a class=\"advtoprail__mainmenu-menuitem-link js-mainmenu-link\" href=\"https://www.cleveland.com/personalfinance/\">Personal Finance</a>\\n                \\n                \\n                </li>\\n        \\n            <li class=\"advtoprail__mainmenu-menuitem--submenu js-menuitem-submenu\">\\n                \\n                  <a class=\"advtoprail__mainmenu-menuitem-link js-mainmenu-link\" href=\"https://www.cleveland.com/top-workplaces\">Top Workplaces</a>\\n                \\n                \\n                </li>\\n        \\n    </ul>\\n\\n\\n                    \\n                  </li>\\n                \\n                  <li class=\"advtoprail__mainmenu-menuitem js-expandable\">\\n                    \\n                      <a class=\"advtoprail__mainmenu-menuitem-link js-mainmenu-link\" href=\"https://www.cleveland.com/sports/\">Sports</a>\\n                    \\n                    \\n                      <button class=\"advtoprail__button-submenu js-button-mainmenu\" aria-label=\"Open the Sports submenu\" aria-expanded=\"false\"><span class=\"advtoprail__button-submenu--open\">&rsaquo;</span><span class=\"advtoprail__button-submenu--close\">&lsaquo;</span></button>\\n                      \\n\\n\\n    <ul class=\"advtoprail__mainmenu-menulist--submenu js-submenu\">\\n      <li class=\"advtoprail__mainmenu-menuitem--submenu-backtomain\">\\n        <button class=\"advtoprail__button-mobile-backtomain js-button-backtomain\">\\n          <span class=\"advtoprail__button-icon--backmm\"></span>\\n          <span class=\"advtoprail__button-label--backmm\">Back To Main Menu</span>\\n        </button>\\n      </li>\\n        \\n            <li class=\"advtoprail__mainmenu-menuitem--submenu js-menuitem-submenu\">\\n                \\n                  <a class=\"advtoprail__mainmenu-menuitem-link js-mainmenu-link\" href=\"https://www.cleveland.com/browns/\">Browns</a>\\n                \\n                \\n                </li>\\n        \\n            <li class=\"advtoprail__mainmenu-menuitem--submenu js-menuitem-submenu\">\\n                \\n                  <a class=\"advtoprail__mainmenu-menuitem-link js-mainmenu-link\" href=\"https://www.cleveland.com/tribe/\">Indians</a>\\n                \\n                \\n                </li>\\n        \\n            <li class=\"advtoprail__mainmenu-menuitem--submenu js-menuitem-submenu\">\\n                \\n                  <a class=\"advtoprail__mainmenu-menuitem-link js-mainmenu-link\" href=\"https://www.cleveland.com/cavs/\">Cavaliers</a>\\n                \\n                \\n                </li>\\n        \\n            <li class=\"advtoprail__mainmenu-menuitem--submenu js-menuitem-submenu\">\\n                \\n                  <a class=\"advtoprail__mainmenu-menuitem-link js-mainmenu-link\" href=\"https://www.cleveland.com/osu/\">Ohio State</a>\\n                \\n                \\n                </li>\\n        \\n            <li class=\"advtoprail__mainmenu-menuitem--submenu js-menuitem-submenu\">\\n                \\n                  <a class=\"advtoprail__mainmenu-menuitem-link js-mainmenu-link\" href=\"https://www.cleveland.com/big-ten-football/\">Big 10 &amp; Recruiting</a>\\n                \\n                \\n                </li>\\n        \\n            <li class=\"advtoprail__mainmenu-menuitem--submenu js-menuitem-submenu\">\\n                \\n                  <a class=\"advtoprail__mainmenu-menuitem-link js-mainmenu-link\" href=\"https://www.cleveland.com/sports/college/\">College</a>\\n                \\n                \\n                </li>\\n        \\n            <li class=\"advtoprail__mainmenu-menuitem--submenu js-menuitem-submenu js-expandable\">\\n                \\n                  <a class=\"advtoprail__mainmenu-menuitem-link js-mainmenu-link\" href=\"https://www.cleveland.com/sports/columns/\">Columns</a>\\n                \\n                \\n                  <button class=\"advtoprail__button-submenu js-button-mainmenu\" aria-label=\"Open the Columns submenu\" aria-expanded=\"false\"><span class=\"advtoprail__button-submenu--open\">&rsaquo;</span><span class=\"advtoprail__button-submenu--close\">&lsaquo;</span></button>\\n                  \\n\\n\\n    <ul class=\"advtoprail__mainmenu-menulist--subsubmenu js-submenu\">\\n      <li class=\"advtoprail__mainmenu-menuitem--submenu-backtomain\">\\n        <button class=\"advtoprail__button-mobile-backtomain js-button-backtomain\">\\n          <span class=\"advtoprail__button-icon--backmm\"></span>\\n          <span class=\"advtoprail__button-label--backmm\">Back To Main Menu</span>\\n        </button>\\n      </li>\\n        \\n            <li class=\"advtoprail__mainmenu-menuitem--submenu js-menuitem-submenu\">\\n                \\n                  <a class=\"advtoprail__mainmenu-menuitem-link js-mainmenu-link\" href=\"https://connect.cleveland.com/staff/dlesmeri/posts.html\">Doug Lesmerises</a>\\n                \\n                \\n                </li>\\n        \\n            <li class=\"advtoprail__mainmenu-menuitem--submenu js-menuitem-submenu\">\\n                \\n                  <a class=\"advtoprail__mainmenu-menuitem-link js-mainmenu-link\" href=\"https://www.cleveland.com/livingston\">Bill Livingston</a>\\n                \\n                \\n                </li>\\n        \\n            <li class=\"advtoprail__mainmenu-menuitem--submenu js-menuitem-submenu\">\\n                \\n                  <a class=\"advtoprail__mainmenu-menuitem-link js-mainmenu-link\" href=\"https://connect.cleveland.com/staff/dmanolof/posts.html\">Dennis Manoloff</a>\\n                \\n                \\n                </li>\\n        \\n            <li class=\"advtoprail__mainmenu-menuitem--submenu js-menuitem-submenu\">\\n                \\n                  <a class=\"advtoprail__mainmenu-menuitem-link js-mainmenu-link\" href=\"https://www.cleveland.com/pluto\">Terry Pluto</a>\\n                \\n                \\n                </li>\\n        \\n            <li class=\"advtoprail__mainmenu-menuitem--submenu js-menuitem-submenu\">\\n                \\n                  <a class=\"advtoprail__mainmenu-menuitem-link js-mainmenu-link\" href=\"https://www.cleveland.com/budshaw\">Bud Shaw</a>\\n                \\n                \\n                </li>\\n        \\n    </ul>\\n\\n\\n                \\n                </li>\\n        \\n            <li class=\"advtoprail__mainmenu-menuitem--submenu js-menuitem-submenu\">\\n                \\n                  <a class=\"advtoprail__mainmenu-menuitem-link js-mainmenu-link\" href=\"https://www.cleveland.com/monsters/\">Monsters</a>\\n                \\n                \\n                </li>\\n        \\n            <li class=\"advtoprail__mainmenu-menuitem--submenu js-menuitem-submenu\">\\n                \\n                  <a class=\"advtoprail__mainmenu-menuitem-link js-mainmenu-link\" href=\"https://www.cleveland.com/golf/\">Golf</a>\\n                \\n                \\n                </li>\\n        \\n            <li class=\"advtoprail__mainmenu-menuitem--submenu js-menuitem-submenu\">\\n                \\n                  <a class=\"advtoprail__mainmenu-menuitem-link js-mainmenu-link\" href=\"https://www.cleveland.com/horseracing\">Horse Racing</a>\\n                \\n                \\n                </li>\\n        \\n            <li class=\"advtoprail__mainmenu-menuitem--submenu js-menuitem-submenu\">\\n                \\n                  <a class=\"advtoprail__mainmenu-menuitem-link js-mainmenu-link\" href=\"https://www.cleveland.com/outdoors/\">Outdoors</a>\\n                \\n                \\n                </li>\\n        \\n            <li class=\"advtoprail__mainmenu-menuitem--submenu js-menuitem-submenu\">\\n                \\n                  <a class=\"advtoprail__mainmenu-menuitem-link js-mainmenu-link\" href=\"https://www.cleveland.com/sportsinsider/\">Sports Insider</a>\\n                \\n                \\n                </li>\\n        \\n            <li class=\"advtoprail__mainmenu-menuitem--submenu js-menuitem-submenu js-expandable\">\\n                \\n                  <a class=\"advtoprail__mainmenu-menuitem-link js-mainmenu-link\" href=\"https://www.youtube.com/channel/UCJkc1COQO0WiZ2CI7dRdwAQ\">Videos</a>\\n                \\n                \\n                  <button class=\"advtoprail__button-submenu js-button-mainmenu\" aria-label=\"Open the Videos submenu\" aria-expanded=\"false\"><span class=\"advtoprail__button-submenu--open\">&rsaquo;</span><span class=\"advtoprail__button-submenu--close\">&lsaquo;</span></button>\\n                  \\n\\n\\n    <ul class=\"advtoprail__mainmenu-menulist--subsubmenu js-submenu\">\\n      <li class=\"advtoprail__mainmenu-menuitem--submenu-backtomain\">\\n        <button class=\"advtoprail__button-mobile-backtomain js-button-backtomain\">\\n          <span class=\"advtoprail__button-icon--backmm\"></span>\\n          <span class=\"advtoprail__button-label--backmm\">Back To Main Menu</span>\\n        </button>\\n      </li>\\n        \\n            <li class=\"advtoprail__mainmenu-menuitem--submenu js-menuitem-submenu\">\\n                \\n                  <a class=\"advtoprail__mainmenu-menuitem-link js-mainmenu-link\" href=\"https://www.youtube.com/channel/UCQ49uTYsnoTZXzMvuAs6mnA\">Cleveland Browns Videos</a>\\n                \\n                \\n                </li>\\n        \\n            <li class=\"advtoprail__mainmenu-menuitem--submenu js-menuitem-submenu\">\\n                \\n                  <a class=\"advtoprail__mainmenu-menuitem-link js-mainmenu-link\" href=\"https://www.youtube.com/channel/UCqtAJBbMzm3zY1n1TAQCvXQ\">Cleveland Cavaliers Videos</a>\\n                \\n                \\n                </li>\\n        \\n            <li class=\"advtoprail__mainmenu-menuitem--submenu js-menuitem-submenu\">\\n                \\n                  <a class=\"advtoprail__mainmenu-menuitem-link js-mainmenu-link\" href=\"https://www.youtube.com/channel/UCxReL44y_w9oEhSychUWpyw\">Cleveland Indians Videos</a>\\n                \\n                \\n                </li>\\n        \\n            <li class=\"advtoprail__mainmenu-menuitem--submenu js-menuitem-submenu\">\\n                \\n                  <a class=\"advtoprail__mainmenu-menuitem-link js-mainmenu-link\" href=\"https://www.youtube.com/channel/UCbwXqt6It5lTZ4Wnqa32sfQ\">Ohio State Football Videos</a>\\n                \\n                \\n                </li>\\n        \\n    </ul>\\n\\n\\n                \\n                </li>\\n        \\n            <li class=\"advtoprail__mainmenu-menuitem--submenu js-menuitem-submenu\">\\n                \\n                  <a class=\"advtoprail__mainmenu-menuitem-link js-mainmenu-link\" href=\"https://photos.cleveland.com/category/4501/sports/index.html\">Photos</a>\\n                \\n                \\n                </li>\\n        \\n    </ul>\\n\\n\\n                    \\n                  </li>\\n                \\n                  <li class=\"advtoprail__mainmenu-menuitem js-expandable\">\\n                    \\n                      <a class=\"advtoprail__mainmenu-menuitem-link js-mainmenu-link\" href=\"http://highschoolsports.cleveland.com/\">High School Sports</a>\\n                    \\n                    \\n                      <button class=\"advtoprail__button-submenu js-button-mainmenu\" aria-label=\"Open the High School Sports submenu\" aria-expanded=\"false\"><span class=\"advtoprail__button-submenu--open\">&rsaquo;</span><span class=\"advtoprail__button-submenu--close\">&lsaquo;</span></button>\\n                      \\n\\n\\n    <ul class=\"advtoprail__mainmenu-menulist--submenu js-submenu\">\\n      <li class=\"advtoprail__mainmenu-menuitem--submenu-backtomain\">\\n        <button class=\"advtoprail__button-mobile-backtomain js-button-backtomain\">\\n          <span class=\"advtoprail__button-icon--backmm\"></span>\\n          <span class=\"advtoprail__button-label--backmm\">Back To Main Menu</span>\\n        </button>\\n      </li>\\n        \\n            <li class=\"advtoprail__mainmenu-menuitem--submenu js-menuitem-submenu\">\\n                \\n                  <a class=\"advtoprail__mainmenu-menuitem-link js-mainmenu-link\" href=\"http://highschoolsports.cleveland.com/football\">Football</a>\\n                \\n                \\n                </li>\\n        \\n            <li class=\"advtoprail__mainmenu-menuitem--submenu js-menuitem-submenu\">\\n                \\n                  <a class=\"advtoprail__mainmenu-menuitem-link js-mainmenu-link\" href=\"http://highschoolsports.cleveland.com/boysbasketball\">Boys Basketball</a>\\n                \\n                \\n                </li>\\n        \\n            <li class=\"advtoprail__mainmenu-menuitem--submenu js-menuitem-submenu\">\\n                \\n                  <a class=\"advtoprail__mainmenu-menuitem-link js-mainmenu-link\" href=\"http://highschoolsports.cleveland.com/girlsbasketball\">Girls Basketball</a>\\n                \\n                \\n                </li>\\n        \\n            <li class=\"advtoprail__mainmenu-menuitem--submenu js-menuitem-submenu\">\\n                \\n                  <a class=\"advtoprail__mainmenu-menuitem-link js-mainmenu-link\" href=\"http://highschoolsports.cleveland.com/wrestling\">Wrestling</a>\\n                \\n                \\n                </li>\\n        \\n            <li class=\"advtoprail__mainmenu-menuitem--submenu js-menuitem-submenu js-expandable\">\\n                \\n                  <span class=\"advtoprail__mainmenu-menuitem-label\">More HS Sports</span>\\n                \\n                \\n                  <button class=\"advtoprail__button-submenu js-button-mainmenu\" aria-label=\"Open the More HS Sports submenu\" aria-expanded=\"false\"><span class=\"advtoprail__button-submenu--open\">&rsaquo;</span><span class=\"advtoprail__button-submenu--close\">&lsaquo;</span></button>\\n                  \\n\\n\\n    <ul class=\"advtoprail__mainmenu-menulist--subsubmenu js-submenu\">\\n      <li class=\"advtoprail__mainmenu-menuitem--submenu-backtomain\">\\n        <button class=\"advtoprail__button-mobile-backtomain js-button-backtomain\">\\n          <span class=\"advtoprail__button-icon--backmm\"></span>\\n          <span class=\"advtoprail__button-label--backmm\">Back To Main Menu</span>\\n        </button>\\n      </li>\\n        \\n            <li class=\"advtoprail__mainmenu-menuitem--submenu js-menuitem-submenu\">\\n                \\n                  <a class=\"advtoprail__mainmenu-menuitem-link js-mainmenu-link\" href=\"http://highschoolsports.cleveland.com/baseball\">Baseball</a>\\n                \\n                \\n                </li>\\n        \\n            <li class=\"advtoprail__mainmenu-menuitem--submenu js-menuitem-submenu\">\\n                \\n                  <a class=\"advtoprail__mainmenu-menuitem-link js-mainmenu-link\" href=\"http://highschoolsports.cleveland.com/boysbowling\">Boys Bowling</a>\\n                \\n                \\n                </li>\\n        \\n            <li class=\"advtoprail__mainmenu-menuitem--submenu js-menuitem-submenu\">\\n                \\n                  <a class=\"advtoprail__mainmenu-menuitem-link js-mainmenu-link\" href=\"http://highschoolsports.cleveland.com/girlsbowling\">Girls Bowling</a>\\n                \\n                \\n                </li>\\n        \\n            <li class=\"advtoprail__mainmenu-menuitem--submenu js-menuitem-submenu\">\\n                \\n                  <a class=\"advtoprail__mainmenu-menuitem-link js-mainmenu-link\" href=\"http://highschoolsports.cleveland.com/boyscrosscountry\">Boys Cross Country</a>\\n                \\n                \\n                </li>\\n        \\n            <li class=\"advtoprail__mainmenu-menuitem--submenu js-menuitem-submenu\">\\n                \\n                  <a class=\"advtoprail__mainmenu-menuitem-link js-mainmenu-link\" href=\"http://highschoolsports.cleveland.com/girlscrosscountry\">Girls Cross Country</a>\\n                \\n                \\n                </li>\\n        \\n            <li class=\"advtoprail__mainmenu-menuitem--submenu js-menuitem-submenu\">\\n                \\n                  <a class=\"advtoprail__mainmenu-menuitem-link js-mainmenu-link\" href=\"http://highschoolsports.cleveland.com/fieldhockey\">Field Hockey</a>\\n                \\n                \\n                </li>\\n        \\n            <li class=\"advtoprail__mainmenu-menuitem--submenu js-menuitem-submenu\">\\n                \\n                  <a class=\"advtoprail__mainmenu-menuitem-link js-mainmenu-link\" href=\"http://highschoolsports.cleveland.com/boysgolf\">Boys Golf</a>\\n                \\n                \\n                </li>\\n        \\n            <li class=\"advtoprail__mainmenu-menuitem--submenu js-menuitem-submenu\">\\n                \\n                  <a class=\"advtoprail__mainmenu-menuitem-link js-mainmenu-link\" href=\"http://highschoolsports.cleveland.com/girlsgolf\">Girls Golf</a>\\n                \\n                \\n                </li>\\n        \\n            <li class=\"advtoprail__mainmenu-menuitem--submenu js-menuitem-submenu\">\\n                \\n                  <a class=\"advtoprail__mainmenu-menuitem-link js-mainmenu-link\" href=\"http://highschoolsports.cleveland.com/girlsgymnastics\">Girls Gymnastics</a>\\n                \\n                \\n                </li>\\n        \\n            <li class=\"advtoprail__mainmenu-menuitem--submenu js-menuitem-submenu\">\\n                \\n                  <a class=\"advtoprail__mainmenu-menuitem-link js-mainmenu-link\" href=\"http://highschoolsports.cleveland.com/boysicehockey\">Boys Ice Hockey</a>\\n                \\n                \\n                </li>\\n        \\n            <li class=\"advtoprail__mainmenu-menuitem--submenu js-menuitem-submenu\">\\n                \\n                  <a class=\"advtoprail__mainmenu-menuitem-link js-mainmenu-link\" href=\"http://highschoolsports.cleveland.com/boyslacrosse\">Boys Lacrosse</a>\\n                \\n                \\n                </li>\\n        \\n            <li class=\"advtoprail__mainmenu-menuitem--submenu js-menuitem-submenu\">\\n                \\n                  <a class=\"advtoprail__mainmenu-menuitem-link js-mainmenu-link\" href=\"http://highschoolsports.cleveland.com/girlslacrosse\">Girls Lacrosse</a>\\n                \\n                \\n                </li>\\n        \\n            <li class=\"advtoprail__mainmenu-menuitem--submenu js-menuitem-submenu\">\\n                \\n                  <a class=\"advtoprail__mainmenu-menuitem-link js-mainmenu-link\" href=\"http://highschoolsports.cleveland.com/boyssoccer\">Boys Soccer</a>\\n                \\n                \\n                </li>\\n        \\n            <li class=\"advtoprail__mainmenu-menuitem--submenu js-menuitem-submenu\">\\n                \\n                  <a class=\"advtoprail__mainmenu-menuitem-link js-mainmenu-link\" href=\"http://highschoolsports.cleveland.com/girlssoccer\">Girls Soccer</a>\\n                \\n                \\n                </li>\\n        \\n            <li class=\"advtoprail__mainmenu-menuitem--submenu js-menuitem-submenu\">\\n                \\n                  <a class=\"advtoprail__mainmenu-menuitem-link js-mainmenu-link\" href=\"http://highschoolsports.cleveland.com/softball\">Softball</a>\\n                \\n                \\n                </li>\\n        \\n            <li class=\"advtoprail__mainmenu-menuitem--submenu js-menuitem-submenu\">\\n                \\n                  <a class=\"advtoprail__mainmenu-menuitem-link js-mainmenu-link\" href=\"http://highschoolsports.cleveland.com/boysswimming\">Boys Swimming</a>\\n                \\n                \\n                </li>\\n        \\n            <li class=\"advtoprail__mainmenu-menuitem--submenu js-menuitem-submenu\">\\n                \\n                  <a class=\"advtoprail__mainmenu-menuitem-link js-mainmenu-link\" href=\"http://highschoolsports.cleveland.com/girlsswimming\">Girls Swimming</a>\\n                \\n                \\n                </li>\\n        \\n            <li class=\"advtoprail__mainmenu-menuitem--submenu js-menuitem-submenu\">\\n                \\n                  <a class=\"advtoprail__mainmenu-menuitem-link js-mainmenu-link\" href=\"http://highschoolsports.cleveland.com/boystennis\">Boys Tennis</a>\\n                \\n                \\n                </li>\\n        \\n            <li class=\"advtoprail__mainmenu-menuitem--submenu js-menuitem-submenu\">\\n                \\n                  <a class=\"advtoprail__mainmenu-menuitem-link js-mainmenu-link\" href=\"http://highschoolsports.cleveland.com/girlstennis\">Girls Tennis</a>\\n                \\n                \\n                </li>\\n        \\n            <li class=\"advtoprail__mainmenu-menuitem--submenu js-menuitem-submenu\">\\n                \\n                  <a class=\"advtoprail__mainmenu-menuitem-link js-mainmenu-link\" href=\"http://highschoolsports.cleveland.com/boystrackandfield\">Boys Track and Field</a>\\n                \\n                \\n                </li>\\n        \\n            <li class=\"advtoprail__mainmenu-menuitem--submenu js-menuitem-submenu\">\\n                \\n                  <a class=\"advtoprail__mainmenu-menuitem-link js-mainmenu-link\" href=\"http://highschoolsports.cleveland.com/girlstrackandfield\">Girls Track and Field</a>\\n                \\n                \\n                </li>\\n        \\n            <li class=\"advtoprail__mainmenu-menuitem--submenu js-menuitem-submenu\">\\n                \\n                  <a class=\"advtoprail__mainmenu-menuitem-link js-mainmenu-link\" href=\"http://highschoolsports.cleveland.com/girlsvolleyball\">Girls Volleyball</a>\\n                \\n                \\n                </li>\\n        \\n    </ul>\\n\\n\\n                \\n                </li>\\n        \\n    </ul>\\n\\n\\n                    \\n                  </li>\\n                \\n                  <li class=\"advtoprail__mainmenu-menuitem js-expandable\">\\n                    \\n                      <a class=\"advtoprail__mainmenu-menuitem-link js-mainmenu-link\" href=\"https://www.cleveland.com/entertainment/\">Entertainment</a>\\n                    \\n                    \\n                      <button class=\"advtoprail__button-submenu js-button-mainmenu\" aria-label=\"Open the Entertainment submenu\" aria-expanded=\"false\"><span class=\"advtoprail__button-submenu--open\">&rsaquo;</span><span class=\"advtoprail__button-submenu--close\">&lsaquo;</span></button>\\n                      \\n\\n\\n    <ul class=\"advtoprail__mainmenu-menulist--submenu js-submenu\">\\n      <li class=\"advtoprail__mainmenu-menuitem--submenu-backtomain\">\\n        <button class=\"advtoprail__button-mobile-backtomain js-button-backtomain\">\\n          <span class=\"advtoprail__button-icon--backmm\"></span>\\n          <span class=\"advtoprail__button-label--backmm\">Back To Main Menu</span>\\n        </button>\\n      </li>\\n        \\n            <li class=\"advtoprail__mainmenu-menuitem--submenu js-menuitem-submenu js-expandable\">\\n                \\n                  <a class=\"advtoprail__mainmenu-menuitem-link js-mainmenu-link\" href=\"https://www.cleveland.com/food\">Food/Dining</a>\\n                \\n                \\n                  <button class=\"advtoprail__button-submenu js-button-mainmenu\" aria-label=\"Open the Food/Dining submenu\" aria-expanded=\"false\"><span class=\"advtoprail__button-submenu--open\">&rsaquo;</span><span class=\"advtoprail__button-submenu--close\">&lsaquo;</span></button>\\n                  \\n\\n\\n    <ul class=\"advtoprail__mainmenu-menulist--subsubmenu js-submenu\">\\n      <li class=\"advtoprail__mainmenu-menuitem--submenu-backtomain\">\\n        <button class=\"advtoprail__button-mobile-backtomain js-button-backtomain\">\\n          <span class=\"advtoprail__button-icon--backmm\"></span>\\n          <span class=\"advtoprail__button-label--backmm\">Back To Main Menu</span>\\n        </button>\\n      </li>\\n        \\n            <li class=\"advtoprail__mainmenu-menuitem--submenu js-menuitem-submenu\">\\n                \\n                  <a class=\"advtoprail__mainmenu-menuitem-link js-mainmenu-link\" href=\"https://www.cleveland.com/dining\">Dining Guide</a>\\n                \\n                \\n                </li>\\n        \\n            <li class=\"advtoprail__mainmenu-menuitem--submenu js-menuitem-submenu\">\\n                \\n                  <a class=\"advtoprail__mainmenu-menuitem-link js-mainmenu-link\" href=\"https://www.cleveland.com/bars/\">Bars</a>\\n                \\n                \\n                </li>\\n        \\n            <li class=\"advtoprail__mainmenu-menuitem--submenu js-menuitem-submenu\">\\n                \\n                  <a class=\"advtoprail__mainmenu-menuitem-link js-mainmenu-link\" href=\"https://www.cleveland.com/cooking\">Cooking</a>\\n                \\n                \\n                </li>\\n        \\n            <li class=\"advtoprail__mainmenu-menuitem--submenu js-menuitem-submenu\">\\n                \\n                  <a class=\"advtoprail__mainmenu-menuitem-link js-mainmenu-link\" href=\"https://www.cleveland.com/top-restaurants\">Top Restaurants</a>\\n                \\n                \\n                </li>\\n        \\n            <li class=\"advtoprail__mainmenu-menuitem--submenu js-menuitem-submenu\">\\n                \\n                  <a class=\"advtoprail__mainmenu-menuitem-link js-mainmenu-link\" href=\"https://www.cleveland.com/drinks\">Drinks</a>\\n                \\n                \\n                </li>\\n        \\n    </ul>\\n\\n\\n                \\n                </li>\\n        \\n            <li class=\"advtoprail__mainmenu-menuitem--submenu js-menuitem-submenu\">\\n                \\n                  <a class=\"advtoprail__mainmenu-menuitem-link js-mainmenu-link\" href=\"https://www.cleveland.com/best/\">Cleveland&#39;s Best</a>\\n                \\n                \\n                </li>\\n        \\n            <li class=\"advtoprail__mainmenu-menuitem--submenu js-menuitem-submenu\">\\n                \\n                  <a class=\"advtoprail__mainmenu-menuitem-link js-mainmenu-link\" href=\"https://www.cleveland.com/events/\">Events</a>\\n                \\n                \\n                </li>\\n        \\n            <li class=\"advtoprail__mainmenu-menuitem--submenu js-menuitem-submenu\">\\n                \\n                  <a class=\"advtoprail__mainmenu-menuitem-link js-mainmenu-link\" href=\"https://www.cleveland.com/movies/\">Movies</a>\\n                \\n                \\n                </li>\\n        \\n            <li class=\"advtoprail__mainmenu-menuitem--submenu js-menuitem-submenu\">\\n                \\n                  <a class=\"advtoprail__mainmenu-menuitem-link js-mainmenu-link\" href=\"https://www.cleveland.com/music/\">Music</a>\\n                \\n                \\n                </li>\\n        \\n            <li class=\"advtoprail__mainmenu-menuitem--submenu js-menuitem-submenu\">\\n                \\n                  <a class=\"advtoprail__mainmenu-menuitem-link js-mainmenu-link\" href=\"https://www.cleveland.com/tv/\">TV</a>\\n                \\n                \\n                </li>\\n        \\n            <li class=\"advtoprail__mainmenu-menuitem--submenu js-menuitem-submenu\">\\n                \\n                  <a class=\"advtoprail__mainmenu-menuitem-link js-mainmenu-link\" href=\"https://www.cleveland.com/books/\">Books</a>\\n                \\n                \\n                </li>\\n        \\n            <li class=\"advtoprail__mainmenu-menuitem--submenu js-menuitem-submenu\">\\n                \\n                  <a class=\"advtoprail__mainmenu-menuitem-link js-mainmenu-link\" href=\"https://www.cleveland.com/arts/\">Arts</a>\\n                \\n                \\n                </li>\\n        \\n            <li class=\"advtoprail__mainmenu-menuitem--submenu js-menuitem-submenu\">\\n                \\n                  <a class=\"advtoprail__mainmenu-menuitem-link js-mainmenu-link\" href=\"https://www.cleveland.com/onstage/\">Theater</a>\\n                \\n                \\n                </li>\\n        \\n            <li class=\"advtoprail__mainmenu-menuitem--submenu js-menuitem-submenu\">\\n                \\n                  <a class=\"advtoprail__mainmenu-menuitem-link js-mainmenu-link\" href=\"https://www.cleveland.com/friday/\">Friday!</a>\\n                \\n                \\n                </li>\\n        \\n            <li class=\"advtoprail__mainmenu-menuitem--submenu js-menuitem-submenu\">\\n                \\n                  <a class=\"advtoprail__mainmenu-menuitem-link js-mainmenu-link\" href=\"https://www.cleveland.com/people/\">People</a>\\n                \\n                \\n                </li>\\n        \\n            <li class=\"advtoprail__mainmenu-menuitem--submenu js-menuitem-submenu\">\\n                \\n                  <a class=\"advtoprail__mainmenu-menuitem-link js-mainmenu-link\" href=\"https://www.cleveland.com/living/\">Living</a>\\n                \\n                \\n                </li>\\n        \\n            <li class=\"advtoprail__mainmenu-menuitem--submenu js-menuitem-submenu\">\\n                \\n                  <a class=\"advtoprail__mainmenu-menuitem-link js-mainmenu-link\" href=\"https://www.cleveland.com/travel/\">Travel</a>\\n                \\n                \\n                </li>\\n        \\n            <li class=\"advtoprail__mainmenu-menuitem--submenu js-menuitem-submenu\">\\n                \\n                  <a class=\"advtoprail__mainmenu-menuitem-link js-mainmenu-link\" href=\"https://www.cleveland.com/style/\">Style</a>\\n                \\n                \\n                </li>\\n        \\n            <li class=\"advtoprail__mainmenu-menuitem--submenu js-menuitem-submenu\">\\n                \\n                  <a class=\"advtoprail__mainmenu-menuitem-link js-mainmenu-link\" href=\"https://www.cleveland.com/essential/page/visitors-guide.html\">Essential CLE</a>\\n                \\n                \\n                </li>\\n        \\n            <li class=\"advtoprail__mainmenu-menuitem--submenu js-menuitem-submenu\">\\n                \\n                  <a class=\"advtoprail__mainmenu-menuitem-link js-mainmenu-link\" href=\"https://www.cleveland.com/comics\">Comics</a>\\n                \\n                \\n                </li>\\n        \\n            <li class=\"advtoprail__mainmenu-menuitem--submenu js-menuitem-submenu\">\\n                \\n                  <a class=\"advtoprail__mainmenu-menuitem-link js-mainmenu-link\" href=\"https://www.cleveland.com/puzzles-games\">Crossword &amp; Puzzles</a>\\n                \\n                \\n                </li>\\n        \\n    </ul>\\n\\n\\n                    \\n                  </li>\\n                \\n                  <li class=\"advtoprail__mainmenu-menuitem\">\\n                    \\n                      <a class=\"advtoprail__mainmenu-menuitem-link js-mainmenu-link\" href=\"http://obits.cleveland.com/obituaries/cleveland/\">Obituaries</a>\\n                    \\n                    \\n                  </li>\\n                \\n                  <li class=\"advtoprail__mainmenu-menuitem\">\\n                    \\n                      <a class=\"advtoprail__mainmenu-menuitem-link js-mainmenu-link\" href=\"https://www.cleveland.com/jobs/\">Jobs</a>\\n                    \\n                    \\n                  </li>\\n                \\n                  <li class=\"advtoprail__mainmenu-menuitem\">\\n                    \\n                      <a class=\"advtoprail__mainmenu-menuitem-link js-mainmenu-link\" href=\"https://autos.cleveland.com/\">Autos</a>\\n                    \\n                    \\n                  </li>\\n                \\n                  <li class=\"advtoprail__mainmenu-menuitem js-expandable\">\\n                    \\n                      <a class=\"advtoprail__mainmenu-menuitem-link js-mainmenu-link\" href=\"https://realestate.cleveland.com/\">Real Estate</a>\\n                    \\n                    \\n                      <button class=\"advtoprail__button-submenu js-button-mainmenu\" aria-label=\"Open the Real Estate submenu\" aria-expanded=\"false\"><span class=\"advtoprail__button-submenu--open\">&rsaquo;</span><span class=\"advtoprail__button-submenu--close\">&lsaquo;</span></button>\\n                      \\n\\n\\n    <ul class=\"advtoprail__mainmenu-menulist--submenu js-submenu\">\\n      <li class=\"advtoprail__mainmenu-menuitem--submenu-backtomain\">\\n        <button class=\"advtoprail__button-mobile-backtomain js-button-backtomain\">\\n          <span class=\"advtoprail__button-icon--backmm\"></span>\\n          <span class=\"advtoprail__button-label--backmm\">Back To Main Menu</span>\\n        </button>\\n      </li>\\n        \\n            <li class=\"advtoprail__mainmenu-menuitem--submenu js-menuitem-submenu\">\\n                \\n                  <a class=\"advtoprail__mainmenu-menuitem-link js-mainmenu-link\" href=\"https://realestate.cleveland.com/\">Homes</a>\\n                \\n                \\n                </li>\\n        \\n            <li class=\"advtoprail__mainmenu-menuitem--submenu js-menuitem-submenu\">\\n                \\n                  <a class=\"advtoprail__mainmenu-menuitem-link js-mainmenu-link\" href=\"https://realestate.cleveland.com/new-homes/\">New Homes</a>\\n                \\n                \\n                </li>\\n        \\n            <li class=\"advtoprail__mainmenu-menuitem--submenu js-menuitem-submenu\">\\n                \\n                  <a class=\"advtoprail__mainmenu-menuitem-link js-mainmenu-link\" href=\"https://realestate.cleveland.com/for-rent/\">Rent</a>\\n                \\n                \\n                </li>\\n        \\n            <li class=\"advtoprail__mainmenu-menuitem--submenu js-menuitem-submenu\">\\n                \\n                  <a class=\"advtoprail__mainmenu-menuitem-link js-mainmenu-link\" href=\"https://foreclosures.cleveland.com/\">Foreclosures</a>\\n                \\n                \\n                </li>\\n        \\n            <li class=\"advtoprail__mainmenu-menuitem--submenu js-menuitem-submenu\">\\n                \\n                  <a class=\"advtoprail__mainmenu-menuitem-link js-mainmenu-link\" href=\"https://classifieds.cleveland.com/?cur_cat=&amp;orig_cat=&amp;orig_prop=cleveland.com&amp;temp_type=browse&amp;category=results&amp;tp=ME_cleve&amp;property=cleveland.com&amp;classification=Commercial+Real+Estate\">Commercial</a>\\n                \\n                \\n                </li>\\n        \\n            <li class=\"advtoprail__mainmenu-menuitem--submenu js-menuitem-submenu\">\\n                \\n                  <a class=\"advtoprail__mainmenu-menuitem-link js-mainmenu-link\" href=\"https://realestate.cleveland.com/homeideas\">Home Remodeling</a>\\n                \\n                \\n                </li>\\n        \\n            <li class=\"advtoprail__mainmenu-menuitem--submenu js-menuitem-submenu\">\\n                \\n                  <a class=\"advtoprail__mainmenu-menuitem-link js-mainmenu-link\" href=\"https://www.cleveland.com/placead/\">Place an Ad</a>\\n                \\n                \\n                </li>\\n        \\n    </ul>\\n\\n\\n                    \\n                  </li>\\n                \\n                  <li class=\"advtoprail__mainmenu-menuitem js-expandable\">\\n                    \\n                      <a class=\"advtoprail__mainmenu-menuitem-link js-mainmenu-link\" href=\"https://realestate.cleveland.com/for-rent\">Rentals</a>\\n                    \\n                    \\n                      <button class=\"advtoprail__button-submenu js-button-mainmenu\" aria-label=\"Open the Rentals submenu\" aria-expanded=\"false\"><span class=\"advtoprail__button-submenu--open\">&rsaquo;</span><span class=\"advtoprail__button-submenu--close\">&lsaquo;</span></button>\\n                      \\n\\n\\n    <ul class=\"advtoprail__mainmenu-menulist--submenu js-submenu\">\\n      <li class=\"advtoprail__mainmenu-menuitem--submenu-backtomain\">\\n        <button class=\"advtoprail__button-mobile-backtomain js-button-backtomain\">\\n          <span class=\"advtoprail__button-icon--backmm\"></span>\\n          <span class=\"advtoprail__button-label--backmm\">Back To Main Menu</span>\\n        </button>\\n      </li>\\n        \\n            <li class=\"advtoprail__mainmenu-menuitem--submenu js-menuitem-submenu\">\\n                \\n                  <a class=\"advtoprail__mainmenu-menuitem-link js-mainmenu-link\" href=\"https://realestate.cleveland.com/for-rent/\">All Rentals</a>\\n                \\n                \\n                </li>\\n        \\n            <li class=\"advtoprail__mainmenu-menuitem--submenu js-menuitem-submenu\">\\n                \\n                  <a class=\"advtoprail__mainmenu-menuitem-link js-mainmenu-link\" href=\"https://realestate.cleveland.com/for-rent/\">Apartments &amp; Communities</a>\\n                \\n                \\n                </li>\\n        \\n            <li class=\"advtoprail__mainmenu-menuitem--submenu js-menuitem-submenu\">\\n                \\n                  <a class=\"advtoprail__mainmenu-menuitem-link js-mainmenu-link\" href=\"https://www.cityfeet.com/cleveland/\">Commercial Leases</a>\\n                \\n                \\n                </li>\\n        \\n            <li class=\"advtoprail__mainmenu-menuitem--submenu js-menuitem-submenu\">\\n                \\n                  <a class=\"advtoprail__mainmenu-menuitem-link js-mainmenu-link\" href=\"https://www.cleveland.com/placead/\">Place an Ad</a>\\n                \\n                \\n                </li>\\n        \\n    </ul>\\n\\n\\n                    \\n                  </li>\\n                \\n                  <li class=\"advtoprail__mainmenu-menuitem js-expandable\">\\n                    \\n                      <a class=\"advtoprail__mainmenu-menuitem-link js-mainmenu-link\" href=\"https://www.youtube.com/channel/UCJkc1COQO0WiZ2CI7dRdwAQ\">Videos</a>\\n                    \\n                    \\n                      <button class=\"advtoprail__button-submenu js-button-mainmenu\" aria-label=\"Open the Videos submenu\" aria-expanded=\"false\"><span class=\"advtoprail__button-submenu--open\">&rsaquo;</span><span class=\"advtoprail__button-submenu--close\">&lsaquo;</span></button>\\n                      \\n\\n\\n    <ul class=\"advtoprail__mainmenu-menulist--submenu js-submenu\">\\n      <li class=\"advtoprail__mainmenu-menuitem--submenu-backtomain\">\\n        <button class=\"advtoprail__button-mobile-backtomain js-button-backtomain\">\\n          <span class=\"advtoprail__button-icon--backmm\"></span>\\n          <span class=\"advtoprail__button-label--backmm\">Back To Main Menu</span>\\n        </button>\\n      </li>\\n        \\n            <li class=\"advtoprail__mainmenu-menuitem--submenu js-menuitem-submenu\">\\n                \\n                  <a class=\"advtoprail__mainmenu-menuitem-link js-mainmenu-link\" href=\"https://www.youtube.com/channel/UCJkc1COQO0WiZ2CI7dRdwAQ\">cleveland.com Videos</a>\\n                \\n                \\n                </li>\\n        \\n            <li class=\"advtoprail__mainmenu-menuitem--submenu js-menuitem-submenu\">\\n                \\n                  <a class=\"advtoprail__mainmenu-menuitem-link js-mainmenu-link\" href=\"https://www.youtube.com/channel/UCQ49uTYsnoTZXzMvuAs6mnA\">Cleveland Browns Videos</a>\\n                \\n                \\n                </li>\\n        \\n            <li class=\"advtoprail__mainmenu-menuitem--submenu js-menuitem-submenu\">\\n                \\n                  <a class=\"advtoprail__mainmenu-menuitem-link js-mainmenu-link\" href=\"https://www.youtube.com/channel/UCqtAJBbMzm3zY1n1TAQCvXQ\">Cleveland Cavaliers Videos</a>\\n                \\n                \\n                </li>\\n        \\n            <li class=\"advtoprail__mainmenu-menuitem--submenu js-menuitem-submenu\">\\n                \\n                  <a class=\"advtoprail__mainmenu-menuitem-link js-mainmenu-link\" href=\"https://www.youtube.com/channel/UCxReL44y_w9oEhSychUWpyw\">Cleveland Indians Videos</a>\\n                \\n                \\n                </li>\\n        \\n            <li class=\"advtoprail__mainmenu-menuitem--submenu js-menuitem-submenu\">\\n                \\n                  <a class=\"advtoprail__mainmenu-menuitem-link js-mainmenu-link\" href=\"https://www.youtube.com/channel/UCbwXqt6It5lTZ4Wnqa32sfQ\">Ohio State Football Videos</a>\\n                \\n                \\n                </li>\\n        \\n    </ul>\\n\\n\\n                    \\n                  </li>\\n                \\n                  <li class=\"advtoprail__mainmenu-menuitem js-expandable\">\\n                    \\n                      <a class=\"advtoprail__mainmenu-menuitem-link js-mainmenu-link\" href=\"http://photos.cleveland.com/plain-dealer/index.html\">Photos</a>\\n                    \\n                    \\n                      <button class=\"advtoprail__button-submenu js-button-mainmenu\" aria-label=\"Open the Photos submenu\" aria-expanded=\"false\"><span class=\"advtoprail__button-submenu--open\">&rsaquo;</span><span class=\"advtoprail__button-submenu--close\">&lsaquo;</span></button>\\n                      \\n\\n\\n    <ul class=\"advtoprail__mainmenu-menulist--submenu js-submenu\">\\n      <li class=\"advtoprail__mainmenu-menuitem--submenu-backtomain\">\\n        <button class=\"advtoprail__button-mobile-backtomain js-button-backtomain\">\\n          <span class=\"advtoprail__button-icon--backmm\"></span>\\n          <span class=\"advtoprail__button-label--backmm\">Back To Main Menu</span>\\n        </button>\\n      </li>\\n        \\n            <li class=\"advtoprail__mainmenu-menuitem--submenu js-menuitem-submenu\">\\n                \\n                  <a class=\"advtoprail__mainmenu-menuitem-link js-mainmenu-link\" href=\"http://photos.cleveland.com/plain-dealer/index.html\">cleveland.com Photos</a>\\n                \\n                \\n                </li>\\n        \\n            <li class=\"advtoprail__mainmenu-menuitem--submenu js-menuitem-submenu\">\\n                \\n                  <a class=\"advtoprail__mainmenu-menuitem-link js-mainmenu-link\" href=\"http://photos.cleveland.com/photogallery/index.html\">Community Photos</a>\\n                \\n                \\n                </li>\\n        \\n            <li class=\"advtoprail__mainmenu-menuitem--submenu js-menuitem-submenu\">\\n                \\n                  <a class=\"advtoprail__mainmenu-menuitem-link js-mainmenu-link\" href=\"http://photos.cleveland.com/photogallery/upload.html\">Submit Your Photos</a>\\n                \\n                \\n                </li>\\n        \\n    </ul>\\n\\n\\n                    \\n                  </li>\\n                \\n                  <li class=\"advtoprail__mainmenu-menuitem\">\\n                    \\n                      <a class=\"advtoprail__mainmenu-menuitem-link js-mainmenu-link\" href=\"https://www.cleveland.com/akron\">Akron News</a>\\n                    \\n                    \\n                  </li>\\n                \\n                  <li class=\"advtoprail__mainmenu-menuitem\">\\n                    \\n                      <a class=\"advtoprail__mainmenu-menuitem-link js-mainmenu-link\" href=\"https://www.cleveland.com/placead/\">Place an Ad</a>\\n                    \\n                    \\n                  </li>\\n                \\n                  <li class=\"advtoprail__mainmenu-menuitem js-expandable\">\\n                    \\n                      <a class=\"advtoprail__mainmenu-menuitem-link js-mainmenu-link\" href=\"https://classifieds.cleveland.com/\">Classifieds</a>\\n                    \\n                    \\n                      <button class=\"advtoprail__button-submenu js-button-mainmenu\" aria-label=\"Open the Classifieds submenu\" aria-expanded=\"false\"><span class=\"advtoprail__button-submenu--open\">&rsaquo;</span><span class=\"advtoprail__button-submenu--close\">&lsaquo;</span></button>\\n                      \\n\\n\\n    <ul class=\"advtoprail__mainmenu-menulist--submenu js-submenu\">\\n      <li class=\"advtoprail__mainmenu-menuitem--submenu-backtomain\">\\n        <button class=\"advtoprail__button-mobile-backtomain js-button-backtomain\">\\n          <span class=\"advtoprail__button-icon--backmm\"></span>\\n          <span class=\"advtoprail__button-label--backmm\">Back To Main Menu</span>\\n        </button>\\n      </li>\\n        \\n            <li class=\"advtoprail__mainmenu-menuitem--submenu js-menuitem-submenu\">\\n                \\n                  <a class=\"advtoprail__mainmenu-menuitem-link js-mainmenu-link\" href=\"https://classifieds.cleveland.com/?orig_cat=&amp;property=cleveland.com&amp;orig_prop=cleveland.com&amp;temp_type=browse&amp;category=results&amp;tp=ME_cleve&amp;classification=Pets\">Pets</a>\\n                \\n                \\n                </li>\\n        \\n            <li class=\"advtoprail__mainmenu-menuitem--submenu js-menuitem-submenu\">\\n                \\n                  <a class=\"advtoprail__mainmenu-menuitem-link js-mainmenu-link\" href=\"https://classifieds.cleveland.com/?orig_cat=&amp;property=cleveland.com&amp;orig_prop=cleveland.com&amp;temp_type=browse&amp;category=results&amp;tp=ME_cleve&amp;classification=For+Sale\">For Sale</a>\\n                \\n                \\n                </li>\\n        \\n            <li class=\"advtoprail__mainmenu-menuitem--submenu js-menuitem-submenu\">\\n                \\n                  <a class=\"advtoprail__mainmenu-menuitem-link js-mainmenu-link\" href=\"https://classifieds.cleveland.com/?orig_prop=cleveland.com&amp;property=cleveland.com&amp;temp_type=browse&amp;category=results&amp;tp=ME_cleve&amp;classification=Garage-Yard%20and%20Estate%20Sales\">Garage Sales</a>\\n                \\n                \\n                </li>\\n        \\n            <li class=\"advtoprail__mainmenu-menuitem--submenu js-menuitem-submenu\">\\n                \\n                  <a class=\"advtoprail__mainmenu-menuitem-link js-mainmenu-link\" href=\"https://www.cleveland.com/celebrations/\">Celebrations</a>\\n                \\n                \\n                </li>\\n        \\n            <li class=\"advtoprail__mainmenu-menuitem--submenu js-menuitem-submenu\">\\n                \\n                  <a class=\"advtoprail__mainmenu-menuitem-link js-mainmenu-link\" href=\"https://www.cleveland.com/placead/fraud_prevention/index.ssf\">Fraud Prevention</a>\\n                \\n                \\n                </li>\\n        \\n            <li class=\"advtoprail__mainmenu-menuitem--submenu js-menuitem-submenu\">\\n                \\n                  <a class=\"advtoprail__mainmenu-menuitem-link js-mainmenu-link\" href=\"https://www.cleveland.com/placead/manage/index.ssf\">Manage Your Ad</a>\\n                \\n                \\n                </li>\\n        \\n            <li class=\"advtoprail__mainmenu-menuitem--submenu js-menuitem-submenu\">\\n                \\n                  <a class=\"advtoprail__mainmenu-menuitem-link js-mainmenu-link\" href=\"https://www.cleveland.com/placead/\">Place an Ad</a>\\n                \\n                \\n                </li>\\n        \\n    </ul>\\n\\n\\n                    \\n                  </li>\\n                \\n                  <li class=\"advtoprail__mainmenu-menuitem\">\\n                    \\n                      <a class=\"advtoprail__mainmenu-menuitem-link js-mainmenu-link\" href=\"http://findnsave.cleveland.com/?ac=AFFclevelandFSNAVFLS\">Find&amp;Save</a>\\n                    \\n                    \\n                  </li>\\n                \\n                  <li class=\"advtoprail__mainmenu-menuitem js-expandable\">\\n                    \\n                      <a class=\"advtoprail__mainmenu-menuitem-link js-mainmenu-link\" href=\"https://businessfinder.cleveland.com/\">Local Businesses</a>\\n                    \\n                    \\n                      <button class=\"advtoprail__button-submenu js-button-mainmenu\" aria-label=\"Open the Local Businesses submenu\" aria-expanded=\"false\"><span class=\"advtoprail__button-submenu--open\">&rsaquo;</span><span class=\"advtoprail__button-submenu--close\">&lsaquo;</span></button>\\n                      \\n\\n\\n    <ul class=\"advtoprail__mainmenu-menulist--submenu js-submenu\">\\n      <li class=\"advtoprail__mainmenu-menuitem--submenu-backtomain\">\\n        <button class=\"advtoprail__button-mobile-backtomain js-button-backtomain\">\\n          <span class=\"advtoprail__button-icon--backmm\"></span>\\n          <span class=\"advtoprail__button-label--backmm\">Back To Main Menu</span>\\n        </button>\\n      </li>\\n        \\n            <li class=\"advtoprail__mainmenu-menuitem--submenu js-menuitem-submenu\">\\n                \\n                  <a class=\"advtoprail__mainmenu-menuitem-link js-mainmenu-link\" href=\"https://businessfinder.cleveland.com/\">Find A Business</a>\\n                \\n                \\n                </li>\\n        \\n            <li class=\"advtoprail__mainmenu-menuitem--submenu js-menuitem-submenu\">\\n                \\n                  <a class=\"advtoprail__mainmenu-menuitem-link js-mainmenu-link\" href=\"https://businessfinder.cleveland.com/OH-Cleveland/Food-and-Dining\">Food &amp; Dining</a>\\n                \\n                \\n                </li>\\n        \\n            <li class=\"advtoprail__mainmenu-menuitem--submenu js-menuitem-submenu\">\\n                \\n                  <a class=\"advtoprail__mainmenu-menuitem-link js-mainmenu-link\" href=\"https://businessfinder.cleveland.com/OH-Cleveland/Retail-Shopping\">Retail Shopping</a>\\n                \\n                \\n                </li>\\n        \\n            <li class=\"advtoprail__mainmenu-menuitem--submenu js-menuitem-submenu\">\\n                \\n                  <a class=\"advtoprail__mainmenu-menuitem-link js-mainmenu-link\" href=\"https://businessfinder.cleveland.com/OH-Cleveland/Health-and-Medicine\">Health &amp; Medicine</a>\\n                \\n                \\n                </li>\\n        \\n            <li class=\"advtoprail__mainmenu-menuitem--submenu js-menuitem-submenu\">\\n                \\n                  <a class=\"advtoprail__mainmenu-menuitem-link js-mainmenu-link\" href=\"https://businessfinder.cleveland.com/OH-Cleveland/Personal-Care-and-Well-Being\">Personal Care</a>\\n                \\n                \\n                </li>\\n        \\n            <li class=\"advtoprail__mainmenu-menuitem--submenu js-menuitem-submenu\">\\n                \\n                  <a class=\"advtoprail__mainmenu-menuitem-link js-mainmenu-link\" href=\"https://businessfinder.cleveland.com/OH-Cleveland/Entertainment-and-Arts\">Entertainment</a>\\n                \\n                \\n                </li>\\n        \\n            <li class=\"advtoprail__mainmenu-menuitem--submenu js-menuitem-submenu\">\\n                \\n                  <a class=\"advtoprail__mainmenu-menuitem-link js-mainmenu-link\" href=\"https://businessfinder.cleveland.com/OH-Cleveland/Real-Estate\">Real Estate</a>\\n                \\n                \\n                </li>\\n        \\n            <li class=\"advtoprail__mainmenu-menuitem--submenu js-menuitem-submenu\">\\n                \\n                  <a class=\"advtoprail__mainmenu-menuitem-link js-mainmenu-link\" href=\"https://businessfinder.cleveland.com/OH-Cleveland/Automotive\">Automotive</a>\\n                \\n                \\n                </li>\\n        \\n            <li class=\"advtoprail__mainmenu-menuitem--submenu js-menuitem-submenu\">\\n                \\n                  <a class=\"advtoprail__mainmenu-menuitem-link js-mainmenu-link\" href=\"https://businessfinder.cleveland.com/about/advertise.html\">Claim Your Business</a>\\n                \\n                \\n                </li>\\n        \\n    </ul>\\n\\n\\n                    \\n                  </li>\\n                \\n                  <li class=\"advtoprail__mainmenu-menuitem js-expandable\">\\n                    \\n                      <span class=\"advtoprail__mainmenu-menuitem-label\">Follow Us</span>\\n                    \\n                    \\n                      <button class=\"advtoprail__button-submenu js-button-mainmenu\" aria-label=\"Open the Follow Us submenu\" aria-expanded=\"false\"><span class=\"advtoprail__button-submenu--open\">&rsaquo;</span><span class=\"advtoprail__button-submenu--close\">&lsaquo;</span></button>\\n                      \\n\\n\\n    <ul class=\"advtoprail__mainmenu-menulist--submenu js-submenu\">\\n      <li class=\"advtoprail__mainmenu-menuitem--submenu-backtomain\">\\n        <button class=\"advtoprail__button-mobile-backtomain js-button-backtomain\">\\n          <span class=\"advtoprail__button-icon--backmm\"></span>\\n          <span class=\"advtoprail__button-label--backmm\">Back To Main Menu</span>\\n        </button>\\n      </li>\\n        \\n            <li class=\"menuSocial menuFacebookIcon advtoprail__mainmenu-menuitem--social-facebook js-menuitem-submenu\">\\n                \\n                  <a class=\"advtoprail__mainmenu-menuitem-link js-mainmenu-link\" href=\"https://www.facebook.com/pages/clevelandcom/48573742500\">Visit our Facebook Page</a>\\n                \\n                \\n                </li>\\n        \\n            <li class=\"menuSocial menuTwitterIcon advtoprail__mainmenu-menuitem--social-twitter js-menuitem-submenu\">\\n                \\n                  <a class=\"advtoprail__mainmenu-menuitem-link js-mainmenu-link\" href=\"https://twitter.com/clevelanddotcom\">Follow us on Twitter</a>\\n                \\n                \\n                </li>\\n        \\n            <li class=\"menuSocial menuGplusIcon advtoprail__mainmenu-menuitem--social-google js-menuitem-submenu\">\\n                \\n                  <a class=\"advtoprail__mainmenu-menuitem-link js-mainmenu-link\" href=\"https://plus.google.com/u/0/b/107235278707360504631/107235278707360504631/posts\">Visit us on Google Plus</a>\\n                \\n                \\n                </li>\\n        \\n    </ul>\\n\\n\\n                    \\n                  </li>\\n                \\n                \\n                    \\n                    <li class=\"advtoprail__mainmenu-menuitem--subscribe js-expandable\">\\n                        <span id=\"mainmenu-subscriptions\">Subscriptions</span>\\n                        <button class=\"advtoprail__button-submenu js-button-mainmenu\" aria-label=\"Open the subscriptions submenu\" aria-expanded=\"false\">&rsaquo;</button>\\n                        <ul class=\"advtoprail__mainmenu-menulist--submenu js-submenu\">\\n                        <li class=\"advtoprail__mainmenu-menuitem--submenu-backtomain\">\\n                            <button class=\"advtoprail__button-mobile-backtomain js-button-backtomain\">\\n                            <span class=\"advtoprail__button-icon--backmm\"></span>\\n                            <span class=\"advtoprail__button-label--backmm\">Back To Main Menu</span>\\n                            </button>\\n                        </li>\\n                        \\n                            <li class=\"advtoprail__mainmenu-menuitem--submenu\"><a class=\"advtoprail__mainmenu-menuitem-link\" data-value=\"\" href=\"https://members.plaindealer.com/dssSubscribe.aspx\">The Plain Dealer</a></li>\\n                        \\n                            <li class=\"advtoprail__mainmenu-menuitem--submenu\"><a class=\"advtoprail__mainmenu-menuitem-link\" data-value=\"\" href=\"https://members.plaindealer.com/dssSubscribe.aspx\">Sun News</a></li>\\n                        \\n                            <li class=\"advtoprail__mainmenu-menuitem--submenu\"><a class=\"advtoprail__mainmenu-menuitem-link\" data-value=\"\" href=\"https://members.plaindealer.com/\">Media Insider Rewards</a></li>\\n                        \\n                        </ul>\\n                    </li>\\n                    \\n                \\n              </ul>\\n            </div>\\n          </div>\\n        </div>\\n      </nav>\\n    </div>\\n    <div class=\"advtoprail__weather js-weather\">\\n      <button class=\"advtoprail__weather-button js-button-masthead js-button-weather\" aria-label=\"Find Your Local Weather Forecast\" aria-expanded=\"false\"  data-buttonname=\"weatherUnset\">\\n        <span class=\"advtoprail__weather-conditions js-weather-conditions\">\\n          <span class=\"advtoprail__weather-temperature js-weather-temperature\"></span>\\n        </span>\\n      </button>\\n      <div class=\"advtoprail__dropdown--weather js-dropdown\" role=\"dialog\" aria-hidden=\"true\" aria-expanded=\"false\">\\n        <div class=\"advtoprail__menuborderarrow--weather\"></div>\\n        <div class=\"advtoprail__dropdown-outer\">\\n          <div class=\"advtoprail__dropdown-inner--weather\" aria-live=\"polite\">\\n            <button class=\"advtoprail__button-mobile-backtomain js-button-backtomain\">\\n              <span class=\"advtoprail__button-icon--backmm\"></span>\\n              <span class=\"advtoprail__button-label--backmm\">Back To Main Menu</span>\\n            </button>\\n            <button class=\"advtoprail__button--close js-button-close\" aria-label=\"Close the Find Your Weather Forecast popup\">\\n              <span class=\"advtoprail__button-icon--close\">Close</span>\\n            </button>\\n            <div class=\"advtoprail__weather-details js-weather-form\">\\n              <div class=\"advtoprail__weather-title\">Customize Your Weather</div>\\n              <div class=\"advtoprail__weather-label\">Set Your Location:</div>\\n              <div class=\"advtoprail__weather-error js-setweather-error\"></div>\\n              <div class=\"aria-hidden\">Enter City and State or Zip Code</div>\\n              <input class=\"advtoprail__input js-setweather-input\" name=\"advtoprail__input\" type=\"text\" value=\"\" placeholder=\"Enter City and State or Zip Code\" />\\n              <input class=\"advtoprail__submit js-setweather-submit\" type=\"submit\" value=\"Submit\" />\\n            </div>\\n            <div class=\"advtoprail__weather-details js-weather-confirm\">\\n              <div class=\"advtoprail__weather-title\">Congratulations!</div>\\n              <div class=\"advtoprail__weather-label--confirm\">Your weather is set to <span class=\"js-chosen-location\"></span>. You can change the location at any time.</div>\\n              <input class=\"advtoprail__submit js-setweather-done\" type=\"button\" value=\"Done\" />\\n            </div>\\n            <div class=\"advtoprail__weather-details js-weather-forecast\">\\n              <div class=\"advtoprail__weather-subtitle\">AccuWeather.com Quick Look</div>\\n              <div class=\"advtoprail__weather-title js-weather-title\"></div>\\n              <button class=\"advtoprail__weather-button--change-location js-change-location\">Change your current location &raquo;</button>\\n              <div class=\"advtoprail__weather-forecast js-forecasts\">\\n                <div class=\"advtoprail__weather-forecast-period js-forecast-current\">\\n                  <span class=\"advtoprail__weather-forecast-label js-weather-forecast-label\">Current</span>\\n                  <span class=\"advtoprail__weather-forecast-highlow js-weather-forecast-highlow\"></span>\\n                  <span class=\"advtoprail__weather-forecast-temperature js-weather-forecast-temperature\"></span>\\n                  <span class=\"advtoprail__weather-forecast-condition js-weather-forecast-condition\"></span>\\n                </div>\\n                <div class=\"advtoprail__weather-forecast-period js-forecast-tonight\">\\n                  <span class=\"advtoprail__weather-forecast-label js-weather-forecast-label\">Tonight</span>\\n                  <span class=\"advtoprail__weather-forecast-highlow js-weather-forecast-highlow\"></span>\\n                  <span class=\"advtoprail__weather-forecast-temperature js-weather-forecast-temperature\"></span>\\n                  <span class=\"advtoprail__weather-forecast-condition js-weather-forecast-condition\"></span>\\n                </div>\\n                <div class=\"advtoprail__weather-forecast-period js-forecast-tomorrow\">\\n                  <span class=\"advtoprail__weather-forecast-label js-weather-forecast-label\">Tomorrow</span>\\n                  <span class=\"advtoprail__weather-forecast-highlow js-weather-forecast-highlow\"></span>\\n                  <span class=\"advtoprail__weather-forecast-temperature js-weather-forecast-temperature\"></span>\\n                  <span class=\"advtoprail__weather-forecast-condition js-weather-forecast-condition\"></span>\\n                </div>\\n              </div>\\n              <button class=\"advtoprail__weather-button-fullreport js-button-fullreport\">View Full Weather Report</button>\\n            </div>\\n          </div>\\n        </div>\\n      </div>\\n    </div>\\n    <div class=\"adunit nomobilead\" id=\"TopRail_Sponsor\"></div>\\n  </div>\\n  \\n  <div class=\"advtoprail__masthead js-masthead\">\\n    <div class=\"advtoprail__masthead-logo js-masthead-logo\">\\n      <a class=\"advtoprail__masthead-afflink\" href=\"http://www.cleveland.com/\" aria-label=\"Visit the Cleveland.com homepage\">\\n        <span class=\"advtoprail__iconlabel--hidden\">Cleveland.com</span>\\n      </a>\\n      \\n    </div>\\n  </div>\\n  <div class=\"advtoprail__right-corner\">\\n    \\n      \\n        <button class=\"advtoprail__button-subscribe js-button-masthead\" aria-label=\"View all of Cleveland.com\\'s\\' available newspaper subscriptions and email newsletters\" aria-expanded=\"false\"  data-buttonname=\"subscription\">\\n            <div class=\"advtoprail__button-subscribe-label\">Subscribe</div>\\n        </button>\\n        <div class=\"advtoprail__dropdown js-dropdown\" role=\"dialog\" aria-hidden=\"true\" aria-expanded=\"false\">\\n            <div class=\"advtoprail__menuborderarrow\"></div>\\n            <div class=\"advtoprail__dropdown-outer\">\\n            <div class=\"advtoprail__dropdown-inner\">\\n                <ul class=\"advtoprail__subscription-menulist\">\\n                \\n                    <li class=\"advtoprail__subscription-menuitem\"><a class=\"advtoprail__subscription-link js-subscription-link\" href=\"https://members.plaindealer.com/dssSubscribe.aspx\" aria-label=\"Subscribe to The Plain Dealer\">The Plain Dealer</a></li>\\n                \\n                    <li class=\"advtoprail__subscription-menuitem\"><a class=\"advtoprail__subscription-link js-subscription-link\" href=\"https://members.plaindealer.com/dssSubscribe.aspx\" aria-label=\"Subscribe to Sun News\">Sun News</a></li>\\n                \\n                    <li class=\"advtoprail__subscription-menuitem\"><a class=\"advtoprail__subscription-link js-subscription-link\" href=\"https://members.plaindealer.com/\" aria-label=\"Subscribe to Media Insider Rewards\">Media Insider Rewards</a></li>\\n                \\n                </ul>\\n            </div>\\n            </div>\\n        </div>\\n      \\n    \\n    <button class=\"advtoprail__button--account js-button-account\" aria-expanded=\"false\" aria-label=\"Sign in to Cleveland.com\">\\n        <span class=\"advtoprail__button-icon--account\"></span>\\n        <span class=\"advtoprail__iconlabel\">Sign In</span>\\n    </button>\\n    <div class=\"advtoprail__dropdown-user js-dropdown-user\" role=\"dialog\" aria-hidden=\"true\" aria-expanded=\"false\">\\n      <button class=\"advtoprail__button--close js-button-close js-button-account-close\">\\n        <span class=\"advtoprail__button-icon--close\" aria-label=\"Close the User Account section\">Close</span>\\n      </button>\\n      <img class=\"advtoprail__user-profile-image js-account-image\" alt=\"User Profile\"/>\\n      <div class=\"advtoprail__user-profile-nameplate js-account-name\">\\n        You are signed in as<br/>\\n      </div>\\n      <div class=\"advtoprail__user-profile-links\">\\n        <a class=\"advtoprail__link--account-profile js-edit-profile\" aria-label=\"View your public profile\">Public Profile</a>\\n        <a class=\"advtoprail__link--account-edit js-button-edit\" aria-label=\"Edit your profile\">Edit Profile</a>\\n        \\n        <a class=\"advtoprail__link--account-signout js-edit-signout\">Sign Out</a>\\n      </div>\\n    </div>\\n    <button class=\"advtoprail__button--search js-button-search\" id=\"adv_search\" aria-expanded=\"false\" aria-label=\"Search Cleveland.com\">\\n        <span class=\"advtoprail__button-icon--search\"></span>\\n        <span class=\"advtoprail__iconlabel\">Search</span>\\n    </button>\\n  </div>\\n</header>\\n\\n\\n<!-- /toprail -->\\n\\n\\t\\t\\n\\t\\t\\t\\n\\t\\t\\t\\t\\n\\t\\t\\t\\n\\t\\t\\n\\t\\n\\n\\n<!-- ./templates/global/shared/nav/masthead.mtml end -->\\n\\n\\t\\t<!-- End Masthead -->\\n\\n\\t\\t\\n\\t\\t\\t\\n\\t\\t\\t\\n\\t\\n\\t\\n    \\n    \\n    \\n    \\n\\n\\n\\n\\r\\n\\r\\n\\r\\n\\t\\r\\n\\t\\r\\n\\t\\r\\n\\n\\n\\t\\t\\t\\t\\t\\t\\t\\t\\t\\t\\t\\t\\t\\t\\t\\t\\t\\t\\t\\t\\t\\t\\t\\t\\t\\t\\t\\t\\t\\n<div class=\"wrapper\">\\n    <main class=\"main\" role=\"main\" aria-live=\"polite\">\\n        <article id=\"article\" data-article-id=\"21622286\" class=\"article h-entry\">\\n            <header id=\"article__header\" class=\"article__header\">\\n                <nav id=\"articleLabel\" class=\"articleLabel\" aria-label=\"articleLabel\">\\n                    <ol id=\"articleLabel__list\" class=\"articleLabel__list\">\\n                        <li id=\"articleLabel__listItem\" class=\"articleLabel__listItem\">\\n                            <a id=\"articleLabel__link\" href=\"http://www.cleveland.com/metro/index.ssf/\" title=\"Navigate to Metro News\">Metro News</a>\\n                        </li>\\n                    </ol>\\n                </nav>\\n                \\n                <h1 id=\"articleHeadline\" class=\"p-name\">Case Western Reserve University President Barbara Snyder\\'s base salary and bonus pay tops among private colleges in Ohio </h1>\\n                <div id=\"dateline\" class=\"dateline\">\\n                    \\n                    <span class=\"dateline__updated\">Updated <time datetime=\"2017-12-12T01:42:32Z\" aria-label=\"Article updated date and time\">December 11, 2017 at  9:42 PM</time>;</span>\\n                    \\n                    <span class=\"dateline__published\">Posted <time datetime=\"2017-12-10T22:00:00Z\" aria-label=\"Article published date and time\">December 10, 2017 at  6:00 PM</time></span>\\n                </div>\\n                <figure class=\"article__mmm article__mmm--photo\"><div class=\"mmm__wrapper\"><div class=\"mmm__image-wrapper\"><img srcset=\"http://image.cleveland.com/home/cleve-media/width328/img/plain_dealer_metro/photo/cwrus-snyder-tops-pay-scale-highest-paid-of-ohio-private-college-chiefs-at-over-1m-yearly-581ba32ba99d75e9.jpg 328w,\\n                         http://image.cleveland.com/home/cleve-media/width480/img/plain_dealer_metro/photo/cwrus-snyder-tops-pay-scale-highest-paid-of-ohio-private-college-chiefs-at-over-1m-yearly-581ba32ba99d75e9.jpg 480w,\\n                         http://image.cleveland.com/home/cleve-media/width600/img/plain_dealer_metro/photo/cwrus-snyder-tops-pay-scale-highest-paid-of-ohio-private-college-chiefs-at-over-1m-yearly-581ba32ba99d75e9.jpg 600w,\\n                         http://image.cleveland.com/home/cleve-media/width960/img/plain_dealer_metro/photo/cwrus-snyder-tops-pay-scale-highest-paid-of-ohio-private-college-chiefs-at-over-1m-yearly-581ba32ba99d75e9.jpg 960w\"\\n                    sizes=\"(min-width: 980px) 533px,\\n                        (min-width: 600px) 91vw,\\n                        100vw\" \\n                    src=\"http://image.cleveland.com/home/cleve-media/width600/img/plain_dealer_metro/photo/cwrus-snyder-tops-pay-scale-highest-paid-of-ohio-private-college-chiefs-at-over-1m-yearly-581ba32ba99d75e9.jpg\" alt=\"Case Western Reserve University President Barbara Snyder\\'s base pay and bonus for 2015 ranked her first among private college presidents in Ohio. \"></div><figcaption class=\"mmm__caption\" id=\"mmm__caption\">Case Western Reserve University President Barbara Snyder\\'s base pay and bonus for 2015 ranked her first among private college presidents in Ohio. (<cite>John Kuntz, cleveland.com</cite>)\\n            </figcaption></div></figure>\\n    \\n\\n\\n                <!-- Comment Bubble and Gigya Sharebar -->\\n                <div id=\"article__commentBubble-socialShare\" class=\"article__commentBubble-socialShare\">\\n                    <div id=\"commentBubble__container\" class=\"commentBubble__container\">\\n                        <button id=\"commentBubble\" class=\"commentBubble commentBubble--noComments\">\\n                        <span id=\"commentBubbleSpan\" class=\"commentBubbleSpan\" data-type=\"commentBubble\">Comment</span>\\n                        </button>\\n                    </div>\\n                <div id=\"social_21622286\" class=\"adi-share-auto\" data-layout=\"horizontal\" data-link=\"https://www.cleveland.com/metro/index.ssf/2017/12/case_western_reserve_university_president_barbara_snyders_base_salary_and_bonus_pay_tops_among_private_colleges_in_ohio.html\" data-title=\"Case Western Reserve University President Barbara Snyder\\'s base salary and bonus pay tops among private colleges in Ohio \" data-thumbnail=\"http://media.cleveland.com/plain_dealer_metro/photo/23873711-standard.jpg\"></div>\\n                </div>\\n                \\n\\n\\n\\n\\n\\n\\n<div id=\"byline\" class=\"byline\">\\n    <p id=\"byline__author\" class=\"byline__author\">By <a id=\"byline__authorLink\" href=\"http://connect.cleveland.com/staff/kfarkas/posts.html\" title=\"Visit Karen Farkas, cleveland.com\\'s Author Page\">Karen Farkas, cleveland.com</a></p>\\n    \\n        <p id=\"byline__authorEmail\" class=\"byline__authorEmail\"><a id=\"byline__authorEmailLink\" href=\"mailto:kfarkas@cleveland.com \" title=\"Email Karen Farkas, cleveland.com\">kfarkas@cleveland.com </a></p>\\n    \\n    \\n        \\n    \\n</div><!-- /Byline -->\\n\\n            </header>\\n            <div id=\"article__story\" class=\"article__story\">\\n                <!-- Article -->\\n    <div id=\"entryContent\" class=\"entry-content\">\\n        <p>CLEVELAND, Ohio -&nbsp;<a href=\"http://www.case.edu/\">Case Western Reserve University&nbsp;</a>President Barbara Snyder\\'s $700,312 base pay and $175,000 bonus in 2015 again made her the highest paid private college leader in Ohio, according to an annual report.</p>\\n<p>Nationally, Snyder\\'s total compensation of $1.154 million, which can include deferred compensation and other pay, ranked 41st out of 541 presidents of private colleges according to the report by the&nbsp;<a href=\"http://chronicle.com/\">Chronicle of Higher Education.</a></p>\\n<p>She is among 58 presidents to earn $1 million or more. The previous year, 39 private college presidents earned more than $1 million.</p>\\n<p>The Chronicle\\'s <a href=\"https://www.chronicle.com/interactives/executive-compensation#id=table_private_2015\">compensation tables </a>come from a review of federal tax documents from the 2015 calendar year, the most recent available.&nbsp;</p>\\n<p>Former University of Dayton President&nbsp;Daniel Curran, who left in 2016, ranked eighth in the U.S. with a total compensation of $2.44 million, but $1.66 million of that was in other pay, which was likely deferred compensation awarded after he announced his retirement. His total pay in 2014 was $771,354.</p>\\n<p>Following is total compensation for other presidents at private colleges in Ohio in 2015:</p>\\n<ul>\\n<li>Grant Cornwell, College of Wooster (left in 2015): $911,651</li>\\n<li>Marvin Krislov, Oberlin College (left in 2016): &nbsp;$829,913</li>\\n<li>Mark Roosevelt, Antioch College, (left in 2015): $507,672</li>\\n<li>Laurie Joyner, Wittenberg University (left in 2015): $463,504</li>\\n<li>Richard Giese, University of Mount Union (left in 2015): $453,800</li>\\n<li>Sean Decatur,Kenyon College: $451,698</li>\\n<li>Adam Weinberg, Denison University: $435,322</li>\\n<li>Daniel Dibiasio, Ohio Northern University: $414,716</li>\\n<li>Denvy Bowman, Capital University (left in 2016): $388,570</li>\\n<li>Anne Steele, Muskingum University (left in 2016): $384,233</li>\\n<li>Kathy Krendl, Otterbein University: &nbsp;$378,035</li>\\n<li>Rockwell Jones, Ohio Wesleyan University: $366,625</li>\\n<li>Robert Helmer, Baldwin Wallace University: $365,616</li>\\n<li>Robert Huntington, Heidelberg University: $300,005</li>\\n<li>Lori Varlotta, Hiram College: $293,336</li>\\n<li>Joseph Bruno, Marietta College (left in 2016): $288,295</li>\\n<li>W. Richard Merriman Jr., University of Mount Union (started in June 2015): $221,761</li>\\n</ul>\\n<p>The Rev. Robert Niehoff, president of John Carroll University (retired in 2017), Rev. Sean Sheridan of &nbsp;Franciscan University of Steubenville and Rev. Michael Graham Xavier University do not take salaries.</p>\\n<p>See the full list of presidents at&nbsp;<a href=\"http://www.chronicle.com/compensation\">chronicle.com/compensation.</a></p>\\n<p>The Chronicle\\'s list of pay for public college presidents was released in July.</p>\\n<p><a href=\"http://www.cleveland.com/metro/index.ssf/2017/06/ohio_state_university_presiden_6.html\">Ohio State University President Michael Drake is 7th highest paid U.S. public college president</a></p>\\n<p>Ohio State President Michael Drake, with a total compensation of $1.03 million, was one of eight presidents who earned $1 million or more in the 2015-16 fiscal year.</p>\\n<p>But when compared to Ohio State\\'s 2014 annual $5.2 billion operating budget, Drake\\'s pay per million in expenses is $199 -- among the lowest for presidents.</p>\\n<p>By comparison, Cleveland State University President Ronald Berkman, whose total compensation was $641,817, oversaw an annual operating budget of $300.3 million in 2014. His pay per million in expenses was $2,127.</p>\\n<p>Kent State University President Beverly Warren\\'s pay per million in expenses was $1,006. Her total compensation was $560,659 and she oversaw an annual operating budget of $557.4 million in 2014.&nbsp;</p>\\n<p>The<a href=\"http://www.chronicle.com/interactives/executive-compensation\">&nbsp;Chronicle\\'s analysis&nbsp;</a>was based on 254 presidents from 221 colleges.</p>\\n<p>According to the Chronicle:</p>\\n<ul>\\n<li>The average pay of private college presidents who served the full year in 2015 was $569,932, up 9 percent over presidents who served a full year in 2014.</li>\\n<li>Nine of the 10 highest-paid chief executives earned more from bonuses and deferred compensation than they did from base salaries.</li>\\n<li>The analysis is based on the latest available federal tax filings of the 500 private, nonprofit colleges with the largest endowments. The data include compensation figures for 568 presidents who served at 500 institutions for all or part of 2015. There were 352 presidents who served all of 2014 and 2015.</li>\\n<li>The number of presidents earning over $1 million is attributed, in part, to a market where presidents are negotiating more deferred compensation and bonus packages before they take the job.</li>\\n<li>The top two earners, Wake Forest University President Nathan Hatch ($4 million) and former Emory University President James Wagner ($3.5 million) were each paid more than $2 million in deferred compensation in 2015.</li>\\n</ul>\\n<p>The Chronicle also compares pay to presidents in context of their colleges, including looking at each institution\\'s expenses, average tuition and fees and professor salaries.</p>\\n        \\n        \\n    </div>\\n<!-- /Article -->\\n\\n                <div id=\"article__footer\" class=\"article__footer\">\\n                    <button id=\"commentButton\" class=\"commentButton\" type=\"button\">View Comments</button>\\n                </div>\\n            </div>\\n        </article>\\n    </main>\\n    <div id=\"sidebar\" class=\"sidebar\"></div>\\n</div>\\n<script type=\"text/javascript\">\\n    /* <![CDATA[ */\\n    if (window.location.host.substr(0,6) == \"photos\" ) {\\n        var arcs_page_template = \\'gallery\\';\\n    } else {\\n        var arcs_page_template = \\'article\\';\\n    }\\n    /* ]]> */\\n</script>\\n\\n  \\n\\n\\n\\n\\t\\t\\n\\n\\t\\t\\n\\t\\t<!-- ./templates/global/shared/nav/footer.mtml start -->\\n<br />\\n\\n\\n\\t\\n    \\n\\t\\n\\n  <footer id=\"footer\">\\n    <div class=\"wrapper clearfix\">\\n\\n        <div id=\"footer-logos\">\\n            <img src=\"//static.advance.net/static/cleve/static/img/footer-logo-cleve-inc.png\" alt=\"cleveland.com an advance Ohio platform in partnership with The Plain Dealer\">\\n        </div>\\n\\n        \\n            <div id=\"footer-col-1\" class=\"footer-col\">\\n                \\n                    <div class=\"cluster clearfix\">\\n                        <h2>About Us</h2>\\n\\n                        \\n                            <ul  >\\n                                \\n                                    <li class=\"\" style=\"\">\\n                                        \\n                                            <a href=\"https://www.cleveland.com/about-us/\">About Cleveland.com</a>\\n                                        \\n                                    </li>\\n                                \\n                                    <li class=\"\" style=\"\">\\n                                        \\n                                            <a href=\"https://www.advance-ohio.com/about/\">About Advance Ohio</a>\\n                                        \\n                                    </li>\\n                                \\n                                    <li class=\"\" style=\"\">\\n                                        \\n                                            <a href=\"https://www.advance-ohio.com/contact\">Advertise with us</a>\\n                                        \\n                                    </li>\\n                                \\n                                    <li class=\"\" style=\"\">\\n                                        \\n                                            <a href=\"https://www.advance.net/faqs/\">Audience FAQ</a>\\n                                        \\n                                    </li>\\n                                \\n                            </ul>\\n                        \\n                            <ul   aria-label=\"More from About Us\" >\\n                                \\n                                    <li class=\"\" style=\"\">\\n                                        \\n                                            <a href=\"https://www.cleveland.com/contactus/\">Contact Us</a>\\n                                        \\n                                    </li>\\n                                \\n                                    <li class=\"\" style=\"\">\\n                                        \\n                                            <a href=\"https://sjobs.brassring.com/TGWebHost/home.aspx?partnerid=26212&amp;siteid=5254\">Career Opportunities</a>\\n                                        \\n                                    </li>\\n                                \\n                                    <li class=\"\" style=\"\">\\n                                        \\n                                            <a href=\"https://blog.cleveland.com/updates/2009/08/community_faq.html\">Community FAQ</a>\\n                                        \\n                                    </li>\\n                                \\n                            </ul>\\n                        \\n                    </div>\\n                \\n                    <div class=\"cluster clearfix\">\\n                        <h2>Subscribe</h2>\\n\\n                        \\n                            <ul class=\"full-width\" >\\n                                \\n                                    <li class=\"\" style=\"\">\\n                                        \\n                                            <a href=\"https://members.plaindealer.com/dssSubscribe.aspx\">The Plain Dealer</a>\\n                                        \\n                                    </li>\\n                                \\n                                    <li class=\"\" style=\"\">\\n                                        \\n                                            <a href=\"https://members.plaindealer.com/dssSubscribe.aspx\">Sun News</a>\\n                                        \\n                                    </li>\\n                                \\n                                    <li class=\"\" style=\"\">\\n                                        \\n                                            <a href=\"https://www.cleveland.com/newsletters/\">eNewsletters</a>\\n                                        \\n                                    </li>\\n                                \\n                            </ul>\\n                        \\n                    </div>\\n                \\n                    <div class=\"cluster clearfix\">\\n                        <h2>Subscriber Service</h2>\\n\\n                        \\n                            <ul class=\"full-width\" >\\n                                \\n                                    <li class=\"\" style=\"\">\\n                                        \\n                                            <a href=\"https://members.plaindealer.com/\">Media Insider Rewards</a>\\n                                        \\n                                    </li>\\n                                \\n                                    <li class=\"\" style=\"\">\\n                                        \\n                                            <a href=\"https://members.plaindealer.com/login.aspx?ReturnUrl=%2fSecurePage%2fMyProfile.aspx\">View My Profile</a>\\n                                        \\n                                    </li>\\n                                \\n                                    <li class=\"\" style=\"\">\\n                                        \\n                                            <a href=\"https://benefits.plaindealer.com/plain-dealer-retail-rack-buy/\">Pick up The Plain Dealer</a>\\n                                        \\n                                    </li>\\n                                \\n                                    <li class=\"\" style=\"\">\\n                                        \\n                                            <a href=\"https://members.plaindealer.com/login.aspx?ReturnUrl=%2fSecurePage%2fMissedPaper.aspx\">Report a Delivery Issue</a>\\n                                        \\n                                    </li>\\n                                \\n                                    <li class=\"\" style=\"\">\\n                                        \\n                                            <a href=\"https://members.plaindealer.com/login.aspx?ReturnUrl=%2fSecurePage%2fVacationStop.aspx\">Place a Vacation Hold</a>\\n                                        \\n                                    </li>\\n                                \\n                                    <li class=\"\" style=\"\">\\n                                        \\n                                            <a href=\"https://members.plaindealer.com/login.aspx?ReturnUrl=%2fSecurePage%2fPayment.aspx\">Make a Payment</a>\\n                                        \\n                                    </li>\\n                                \\n                                    <li class=\"\" style=\"\">\\n                                        \\n                                            <a href=\"mailto:circhelp@plaindealer.com\">Email The Plain Dealer</a>\\n                                        \\n                                    </li>\\n                                \\n                            </ul>\\n                        \\n                    </div>\\n                \\n            </div>\\n        \\n            <div id=\"footer-col-2\" class=\"footer-col\">\\n                \\n                    <div class=\"cluster clearfix\">\\n                        <h2>Cleveland.com Sections</h2>\\n\\n                        \\n                            <ul  >\\n                                \\n                                    <li class=\"\" style=\"\">\\n                                        \\n                                            <a href=\"https://www.cleveland.com/news/\">News</a>\\n                                        \\n                                    </li>\\n                                \\n                                    <li class=\"\" style=\"\">\\n                                        \\n                                            <a href=\"https://www.cleveland.com/sports/\">Sports</a>\\n                                        \\n                                    </li>\\n                                \\n                                    <li class=\"\" style=\"\">\\n                                        \\n                                            <a href=\"https://www.cleveland.com/entertainment/\">Entertainment</a>\\n                                        \\n                                    </li>\\n                                \\n                                    <li class=\"\" style=\"\">\\n                                        \\n                                            <a href=\"https://www.cleveland.com/business\">Business</a>\\n                                        \\n                                    </li>\\n                                \\n                                    <li class=\"\" style=\"\">\\n                                        \\n                                            <a href=\"https://www.cleveland.com/open/\">Politics</a>\\n                                        \\n                                    </li>\\n                                \\n                                    <li class=\"\" style=\"\">\\n                                        \\n                                            <a href=\"https://www.cleveland.com/opinion/\">Opinion</a>\\n                                        \\n                                    </li>\\n                                \\n                                    <li class=\"\" style=\"\">\\n                                        \\n                                            <a href=\"https://highschoolsports.cleveland.com/\">High School Sports</a>\\n                                        \\n                                    </li>\\n                                \\n                                    <li class=\"\" style=\"\">\\n                                        \\n                                            <a href=\"https://www.cleveland.com/living/\">Living</a>\\n                                        \\n                                    </li>\\n                                \\n                            </ul>\\n                        \\n                            <ul   aria-label=\"More from Cleveland.com Sections\" >\\n                                \\n                                    <li class=\"\" style=\"\">\\n                                        \\n                                            <a href=\"https://obits.cleveland.com/Cleveland/DeathNotices.asp\">Obituaries</a>\\n                                        \\n                                    </li>\\n                                \\n                                    <li class=\"\" style=\"\">\\n                                        \\n                                            <a href=\"https://www.cleveland.com/jobs/\">Jobs</a>\\n                                        \\n                                    </li>\\n                                \\n                                    <li class=\"\" style=\"\">\\n                                        \\n                                            <a href=\"https://autos.cleveland.com/\">Autos</a>\\n                                        \\n                                    </li>\\n                                \\n                                    <li class=\"\" style=\"\">\\n                                        \\n                                            <a href=\"https://realestate.cleveland.com/\">Real Estate</a>\\n                                        \\n                                    </li>\\n                                \\n                                    <li class=\"\" style=\"\">\\n                                        \\n                                            <a href=\"https://realestate.cleveland.com/for-rent\">Rentals</a>\\n                                        \\n                                    </li>\\n                                \\n                                    <li class=\"\" style=\"\">\\n                                        \\n                                            <a href=\"https://classifieds.cleveland.com/\">Classifieds</a>\\n                                        \\n                                    </li>\\n                                \\n                                    <li class=\"\" style=\"\">\\n                                        \\n                                            <a href=\"http://findnsave.cleveland.com/\">Shopping Deals and Coupons</a>\\n                                        \\n                                    </li>\\n                                \\n                                    <li class=\"\" style=\"\">\\n                                        \\n                                            <a href=\"https://businessfinder.cleveland.com/\">Local Businesses</a>\\n                                        \\n                                    </li>\\n                                \\n                                    <li class=\"\" style=\"\">\\n                                        \\n                                            <a href=\"https://www.cleveland.com/newsletters/\">Deals in Your Area</a>\\n                                        \\n                                    </li>\\n                                \\n                            </ul>\\n                        \\n                    </div>\\n                \\n                    <div class=\"cluster clearfix\">\\n                        <h2>Your Regional News Pages</h2>\\n\\n                        \\n                            <ul  >\\n                                \\n                                    <li class=\"\" style=\"\">\\n                                        \\n                                            <a href=\"https://www.cleveland.com/beachwood\">Beachwood</a>\\n                                        \\n                                    </li>\\n                                \\n                                    <li class=\"\" style=\"\">\\n                                        \\n                                            <a href=\"https://www.cleveland.com/brunswick\">Brunswick</a>\\n                                        \\n                                    </li>\\n                                \\n                                    <li class=\"\" style=\"\">\\n                                        \\n                                            <a href=\"https://www.cleveland.com/lakewood\">Lakewood</a>\\n                                        \\n                                    </li>\\n                                \\n                            </ul>\\n                        \\n                            <ul   aria-label=\"More from Your Regional News Pages\" >\\n                                \\n                                    <li class=\"\" style=\"\">\\n                                        \\n                                            <a href=\"https://www.cleveland.com/parma\">Parma &amp; Parma Heights</a>\\n                                        \\n                                    </li>\\n                                \\n                                    <li class=\"\" style=\"\">\\n                                        \\n                                            <a href=\"https://www.cleveland.com/strongsville\">Strongsville</a>\\n                                        \\n                                    </li>\\n                                \\n                                    <li class=\"\" style=\"\">\\n                                        \\n                                            <a href=\"https://www.cleveland.com/community\">More Communities</a>\\n                                        \\n                                    </li>\\n                                \\n                            </ul>\\n                        \\n                    </div>\\n                \\n                    <div class=\"cluster clearfix\">\\n                        <h2>Mobile</h2>\\n\\n                        \\n                            <ul class=\"full-width\" >\\n                                \\n                                    <li class=\"\" style=\"\">\\n                                        \\n                                            <a href=\"https://www.cleveland.com/mobile-device/\">Mobile Apps</a>\\n                                        \\n                                    </li>\\n                                \\n                            </ul>\\n                        \\n                    </div>\\n                \\n            </div>\\n        \\n            <div id=\"footer-col-3\" class=\"footer-col\">\\n                \\n                    <div class=\"cluster clearfix\">\\n                        <h2>More on Cleveland.com</h2>\\n\\n                        \\n                            <ul  >\\n                                \\n                                    <li class=\"\" style=\"\">\\n                                        \\n                                            <a href=\"https://www.youtube.com/channel/UCJkc1COQO0WiZ2CI7dRdwAQ\">Videos</a>\\n                                        \\n                                    </li>\\n                                \\n                                    <li class=\"\" style=\"\">\\n                                        \\n                                            <a href=\"http://photos.cleveland.com/\">Photos</a>\\n                                        \\n                                    </li>\\n                                \\n                                    <li class=\"\" style=\"\">\\n                                        \\n                                            <a href=\"https://www.cleveland.com/interact/\">Interact with us</a>\\n                                        \\n                                    </li>\\n                                \\n                                    <li class=\"\" style=\"\">\\n                                        \\n                                            <a href=\"https://www.cleveland.com/weather/\">Weather</a>\\n                                        \\n                                    </li>\\n                                \\n                            </ul>\\n                        \\n                            <ul   aria-label=\"More from More on Cleveland.com\" >\\n                                \\n                                    <li class=\"\" style=\"\">\\n                                        \\n                                            <a href=\"https://jobs.cleveland.com/login\">Post a job</a>\\n                                        \\n                                    </li>\\n                                \\n                                    <li class=\"\" style=\"\">\\n                                        \\n                                            <a href=\"https://www.cleveland.com/placead/\">Post a classified ad</a>\\n                                        \\n                                    </li>\\n                                \\n                                    <li class=\"\" style=\"\">\\n                                        \\n                                            <a href=\"https://www.cleveland.com/placead/\">Sell your car</a>\\n                                        \\n                                    </li>\\n                                \\n                                    <li class=\"\" style=\"\">\\n                                        \\n                                            <a href=\"https://www.cleveland.com/placead/\">Sell/rent your home</a>\\n                                        \\n                                    </li>\\n                                \\n                                    <li class=\"\" style=\"\">\\n                                        \\n                                            <a href=\"https://www.cleveland.com/siteindex\">Sitemap &amp; search</a>\\n                                        \\n                                    </li>\\n                                \\n                                    <li class=\"\" style=\"\">\\n                                        \\n                                            <a href=\"https://www.cleveland.com/sponsor-content-index/?prx_adpz=1109\">Sponsor Content</a>\\n                                        \\n                                    </li>\\n                                \\n                            </ul>\\n                        \\n                    </div>\\n                \\n                    <div class=\"cluster clearfix\">\\n                        <h2>Follow Us</h2>\\n\\n                        \\n                            <ul class=\"full-width\" >\\n                                \\n                                    <li class=\"\" style=\"\">\\n                                        \\n                                            <a href=\"https://twitter.com/clevelanddotcom\" class=\"adv-icn-twitter icn-link\">Twitter</a> |  <a href=\"https://www.facebook.com/pages/clevelandcom/48573742500\" class=\"adv-icn-facebook icn-link\">Facebook</a> |  <a href=\"https://plus.google.com/u/0/b/107235278707360504631/107235278707360504631/posts\" class=\"adv-icn-google icn-link\">Google+</a> | <a class=\"adv-icn-instagram icn-link\" href=\"https://instagram.com/clevelanddotcom\">Instagram</a> |  <a class=\"adv-icn-pinterest icn-link\" href=\"https://www.pinterest.com/clevelanddotcom/\">Pinterest</a>\\n                                        \\n                                    </li>\\n                                \\n                            </ul>\\n                        \\n                    </div>\\n                \\n            </div>\\n        \\n\\n    </div>\\n\\n    <div id=\"disclaimer\">\\n        <a href=\"https://www.advancelocal.com/\" id=\"AdvanceDigitalLogo\">Advance Local</a>\\n        <p>\\n            Use of and/or registration on any portion of this site constitutes acceptance of our\\n            <a href=\"https://www.cleveland.com/user-agreement/\">User Agreement</a> (updated 5/25/18) and\\n            <a href=\"https://www.cleveland.com/privacy-policy/\">Privacy Policy and Cookie Statement</a> (updated 5/25/18).\\n        </p>\\n        <p>\\n            &copy; 2018  Advance Local Media LLC. All rights reserved (<a href=\"https://www.cleveland.com/aboutus/\">About Us</a>).<br>\\n            The material on this site may not be reproduced, distributed, transmitted, cached or otherwise used, except with the \\n            prior written permission of Advance Local.\\n        </p>\\n        <p>\\n            <a href=\"https://www.cleveland.com/communityrules\">Community Rules</a>\\n            apply to all content you upload or otherwise submit to this site.\\n        </p>\\n        <p>\\n            <a href=\"/privacy-policy/#california_top\">Your California Privacy Rights</a>\\n        </p>\\n        <p>\\n            <a href=\"https://www.cleveland.com/privacy-policy/#oba_top\">\\n            <img src=\"//static.advance.net/static/common/img/ad_choices_arrow_transparent.png\" alt=\"\"> Ad Choices</a>\\n        </p>\\n    </div>\\n</footer>\\n\\n  \\n  <!-- this is no longer used for site catalyst -->\\n\\n\\n\\t\\n\\n\\n\\n<!-- ./templates/global/shared/nav/footer.mtml end -->\\n\\n\\n\\t\\t\\n\\t\\t<!-- Quantcast Tag moved to bottom_1 -->\\r\\n\\n\\t\\t\\n\\t\\t<!-- Nielsen code moved to bottom1 -->\\r\\n\\n\\n\\t\\t\\n\\t\\t\\t\\n\\t\\t\\t\\t\\n\\t\\t\\t\\t<script type=\"text/javascript\" >\\n\\t\\t\\t\\t/* <![CDATA[ */\\n\\t\\t\\t\\t\\n \\t\\t\\t\\t\\n\\n\\t\\n\\n\\n\\t\\n\\n\\n\\t\\twindow.m_context = \"blog_entry\";\\n\\t\\n\\t\\t\\twindow.m_blog_type = \"text\";\\n\\t\\t\\twindow.m_blog_id = \"8002316\";\\n\\t\\t\\twindow.m_blog_name = \"Metro News\";\\n\\t\\t\\twindow.m_blog_url = \"http://www.cleveland.com/metro/index.ssf/\";\\n\\t\\t\\twindow.m_blog_newspaper = \"The Plain Dealer\";\\n\\t\\t\\twindow.m_section = \"News\";\\n\\t\\t\\twindow.m_subsection = \"\";\\n\\t\\n\\t\\n\\t\\t\\n\\t\\t\\t\\twindow.m_entry_title = \"Case Western Reserve University President Barbara Snyder\\\\\\'s base salary and bonus pay tops among private colleges in Ohio \";\\n\\t\\t\\t\\twindow.m_entry_categories = \"\";\\n\\t\\t\\t\\twindow.m_entry_author_name = \"Karen Farkas, cleveland.com\";\\n\\t\\t\\t\\twindow.m_entry_author_username = \"kfarkas\";\\n\\t\\t\\t\\twindow.m_entry_author_public_email = \"kfarkas@cleveland.com \";\\n\\t\\t\\t\\twindow.m_entry_creation_date = \"Sunday, December 10, 2017,  6:00 PM\";\\n\\t\\t\\t\\twindow.m_entry_wordcount = \"672\";\\n\\n\\t\\t\\t\\n\\t\\t\\t\\n\\t\\t\\t\\t\\n\\t\\t\\t\\t\\t\\twindow.m_page_type = \\'cal\\';\\n\\t\\t\\t\\t\\twindow.moat_section = window.m_page_type;\\n\\t\\t\\t\\t\\n\\t\\t\\t\\n\\t\\t\\n\\t\\t\\twindow.m_entry_basename = \"case_western_reserve_university_president_barbara_snyders_base_salary_and_bonus_pay_tops_among_private_colleges_in_ohio\";\\n\\t\\t\\twindow.m_entry_link = \"http://www.cleveland.com/metro/index.ssf/2017/12/case_western_reserve_university_president_barbara_snyders_base_salary_and_bonus_pay_tops_among_private_colleges_in_ohio.html\";\\n\\t\\t\\twindow.m_entry_tags = \"@fbia;@real-time-news;baldwin-wallace-university;barbara-snyder;case-western-reserve-university;john-carroll-university;oberlin-college\";\\n\\t\\t\\twindow.m_entry_keywords = \"\";\\n\\t\\t\\twindow.m_entry_id = \"21622286\";\\n\\t\\t\\twindow.m_entry_entities = \"[{ \\\\\"entityType\\\\\": \\\\\"JobTitle\\\\\", \\\\\"entity\\\\\": \\\\\"president\\\\\" },{ \\\\\"entityType\\\\\": \\\\\"StateOrCounty\\\\\", \\\\\"entity\\\\\": \\\\\"Ohio\\\\\" },{ \\\\\"entityType\\\\\": \\\\\"Organization\\\\\", \\\\\"entity\\\\\": \\\\\"University of Mount Union\\\\\" },{ \\\\\"entityType\\\\\": \\\\\"Organization\\\\\", \\\\\"entity\\\\\": \\\\\"Case Western Reserve University\\\\\" },{ \\\\\"entityType\\\\\": \\\\\"PrintMedia\\\\\", \\\\\"entity\\\\\": \\\\\"The Chronicle\\\\\" }]\";\\n\\t\\n\\n\\n\\n\\t\\t\\t\\t\\n\\t\\t\\t\\t\\n\\n/* setting vars here; moved core js to media server in movabletype.js */\\n\\twindow.blogId = 8002316;\\n\\twindow.blogIdStr = \"&blog_id=8002316\";\\n\\twindow.blogURL = \"http://www.cleveland.com/metro/index.ssf/\";\\n\\twindow.blogType = \"text\";\\n\\twindow.blogLayout = \"impact_home_newsletter\";\\n\\n\\twindow.advAffiliate = \"cleve\";\\n\\twindow.advDomain = \"cleveland.com\";\\n\\twindow.advEnvPrefix = \"\";\\n\\twindow.advVersion = \"alpha\";\\n\\n\\twindow.mtAffiliate = \"cleve\";\\n\\twindow.mtArmorValue = \"7a66e1e6cfb9858b4098a7d4ae3638b780fdfe18\";\\n\\n\\n\\n\\n\\t\\t\\t\\t\\n\\t\\t\\t\\twindow.Social = {\\n            \\'title\\':\\'Case Western Reserve University President Barbara Snyder\\\\\\'s base salary and bonus pay tops among private colleges in Ohio \\',\\n            \\'link\\':\\'https://www.cleveland.com/metro/index.ssf/2017/12/case_western_reserve_university_president_barbara_snyders_base_salary_and_bonus_pay_tops_among_private_colleges_in_ohio.html\\',\\n            \\'desc\\': \\'Case Western Reserve University President Barbara Snyder\\\\\\'s $700,312 base pay and $175,000 bonus in 2015 again made her the highest paid  private college leader in Ohio, according to an annual report.\\',\\n            \\'thumbnail\\': \\'http://media.cleveland.com/plain_dealer_metro/photo/23873711-standard.jpg\\'\\n   };\\n\\n\\n\\t\\t\\t\\t\\n\\t\\t\\t\\t/* ]]> */\\n\\t\\t\\t\\t</script>\\n\\t\\t\\t\\t<script type=\"text/javascript\">\\n\\t\\t\\t\\t\\twindow.mtCookieName = \"mt_blog_user\";\\n\\t\\t\\t\\t\\twindow.mtSessionCookieName = \"mt_commenter\";\\n\\t\\t\\t\\t\\twindow.mtCookieDomain = document.location.host.replace(/([0-9a-z\\\\-]+?\\\\.)+([0-9a-z\\\\-]+?\\\\.[a-z]{3})/, \".$2\");\\n\\t\\t\\t\\t\\twindow.mtCookiePath = \"/\";\\n\\t\\t\\t\\t\\twindow.mtCookieTimeout = 14400;\\n\\t\\t\\t\\t\\twindow.signinSubDomain = window.advEnvPrefix.match(\"dev\") ? \"http://signup\" : \"https://signup\";\\n\\t\\t\\t\\t\\twindow.mediaURL = \"http://media\" + window.advEnvPrefix + \".\" + window.advDomain + \"/design/\" + window.advVersion;\\n\\t\\t\\t\\t\\twindow.avatarURL = \"http://media\" + window.advEnvPrefix + \".\" + window.advDomain + \"/avatars\";\\n\\t\\t\\t\\t\\twindow.mtRegistrationAllowed = !0;\\n\\t\\t\\t\\t\\twindow.mtRegistrationRequired = !0;\\n\\t\\t\\t\\t\\twindow.mtRegisterCGIPath = window.signinSubDomain + window.advEnvPrefix + \".advance.net/\";\\n\\t\\t\\t\\t\\twindow.mtRelativeCGIPath = \"/cgi-bin/mte/\";\\n\\t\\t\\t\\t\\twindow.mtCommunityScript = \"community/\";\\n\\t\\t\\t\\t\\twindow.mtCaptchaFields = \"\";\\n\\t\\t\\t\\t\\t\\n\\t\\t\\t\\t\\twindow.mmm = {\\n\\t\\t\\t\\t\\t\\tcaption: \"Case Western Reserve University President Barbara Snyder\\\\\\'s base pay and bonus for 2015 ranked her first among private college presidents in Ohio. \",\\n\\t\\t\\t\\t\\t\\tcredit: \"John Kuntz, cleveland.com\",\\n\\t\\t\\t\\t\\t\\tid: \"23873711\",\\n\\t\\t\\t\\t\\t\\t\\n\\t\\t\\t\\t\\t\\ttype: \"photo\",\\n\\t\\t\\t\\t\\t\\turl: \"http://media.cleveland.com/plain_dealer_metro/photo/23873711-small.jpg\"\\n\\t\\t\\t\\t\\t\\t\\n\\t\\t\\t\\t\\t};\\n\\t\\t\\t\\t\\t\\n\\t\\t\\t\\t</script>\\n\\t\\t\\t\\t<script type=\"text/javascript\" src=\"https://static.advance.net/static/cleve/static/js/cal.js\"></script>\\n\\t\\t\\t\\n\\t\\t\\n\\n\\t\\t\\n\\t</body>\\n</html>\\n\\n\\t\\n\\n\\n\\n'"
     ]
    },
    {
     "name": "stdout",
     "output_type": "stream",
     "text": [
      "\n"
     ]
    }
   ],
   "source": [
    "print(r.html.raw_html)"
   ]
  },
  {
   "cell_type": "code",
   "execution_count": 5,
   "metadata": {
    "collapsed": true
   },
   "outputs": [],
   "source": [
    "element=r.html.find('#entryContent > ul:nth-child(7)')"
   ]
  },
  {
   "cell_type": "code",
   "execution_count": 279,
   "metadata": {
    "collapsed": true
   },
   "outputs": [],
   "source": [
    "#print(element[0].text)"
   ]
  },
  {
   "cell_type": "code",
   "execution_count": 284,
   "metadata": {
    "collapsed": true
   },
   "outputs": [],
   "source": [
    "import re\n",
    "import pandas as pd\n",
    "\n",
    "regexWage = r\"\\$\\d+,\\d+\"\n",
    "regexCollege = r\"\\,\\D+[\\,\\(:]\"\n",
    "\n",
    "test_str = (element[0].text)\n",
    "\n",
    "#matches = re.finditer(regex, test_str, re.MULTILINE)\n",
    "p = re.compile(regexWage)\n",
    "s = test_str\n",
    "mylist=p.findall(s)\n",
    "j=0\n",
    "for i in mylist:\n",
    "    mylist[j]=i.strip(\"$\")\n",
    "    j+=1\n",
    "k=0\n",
    "for i in mylist:\n",
    "    mylist[k]=i.replace(',','')\n",
    "    k+=1\n",
    "for item in mylist:\n",
    "    float(item)/2000\n",
    "#print(*[float(i)/2000 for i in mylist])\n",
    "a = re.compile(regexCollege)\n",
    "b = test_str\n",
    "mylistCollege=a.findall(b)\n",
    "z=0\n",
    "for i in mylistCollege:\n",
    "    mylistCollege[z]=i.replace(', ','')\n",
    "    z+=1\n",
    "y=0\n",
    "for i in mylistCollege:\n",
    "    mylistCollege[y]=i.replace(':','')\n",
    "    y+=1\n",
    "x=0\n",
    "for i in mylistCollege:\n",
    "    mylistCollege[x]=i.replace(' (','')\n",
    "    x+=1\n",
    "w=0\n",
    "for i in mylistCollege:\n",
    "    mylistCollege[w]=i.replace('(','')\n",
    "    w+=1\n",
    "v=0\n",
    "for i in mylistCollege:\n",
    "    mylistCollege[v]=i.replace(',','')\n",
    "    v+=1\n",
    "#print(mylistCollege)"
   ]
  },
  {
   "cell_type": "code",
   "execution_count": 285,
   "metadata": {},
   "outputs": [
    {
     "name": "stdout",
     "output_type": "stream",
     "text": [
      "College of Wooster : 455.8255\n",
      "Oberlin College : 414.9565\n",
      "Antioch College : 253.836\n",
      "Wittenberg University : 231.752\n",
      "University of Mount Union : 226.9\n",
      "Kenyon College : 225.849\n",
      "Denison University : 217.661\n",
      "Ohio Northern University : 207.358\n",
      "Capital University : 194.285\n",
      "Muskingum University : 192.1165\n",
      "Otterbein University : 189.0175\n",
      "Ohio Wesleyan University : 183.3125\n",
      "Baldwin Wallace University : 182.808\n",
      "Heidelberg University : 150.0025\n",
      "Hiram College : 146.668\n",
      "Marietta College : 144.1475\n",
      "University of Mount Union : 110.8805\n"
     ]
    }
   ],
   "source": [
    "myzip=list(zip(mylistCollege, mylist))\n",
    "for a, b in myzip:\n",
    "    print(a,':', float(b)/2000)"
   ]
  },
  {
   "cell_type": "markdown",
   "metadata": {},
   "source": [
    "Book Chapters"
   ]
  },
  {
   "cell_type": "code",
   "execution_count": 287,
   "metadata": {},
   "outputs": [
    {
     "name": "stdout",
     "output_type": "stream",
     "text": [
      "0\n"
     ]
    }
   ],
   "source": [
    "import sys\n",
    "count=0\n",
    "for line in sys.stdin:\n",
    "    count+=1\n",
    "print(count)"
   ]
  },
  {
   "cell_type": "code",
   "execution_count": 293,
   "metadata": {},
   "outputs": [
    {
     "name": "stdout",
     "output_type": "stream",
     "text": [
      "usage: most_common_words.py num_words\n"
     ]
    },
    {
     "ename": "SystemExit",
     "evalue": "1",
     "output_type": "error",
     "traceback": [
      "An exception has occurred, use %tb to see the full traceback.\n",
      "\u001b[1;31mSystemExit\u001b[0m\u001b[1;31m:\u001b[0m 1\n"
     ]
    },
    {
     "name": "stderr",
     "output_type": "stream",
     "text": [
      "C:\\Users\\rjf0029\\AppData\\Local\\Continuum\\anaconda3\\lib\\site-packages\\IPython\\core\\interactiveshell.py:2870: UserWarning: To exit: use 'exit', 'quit', or Ctrl-D.\n",
      "  warn(\"To exit: use 'exit', 'quit', or Ctrl-D.\", stacklevel=1)\n"
     ]
    }
   ],
   "source": [
    "# most_common_words.py\n",
    "import sys\n",
    "from collections import Counter\n",
    "# pass in number of words as first argument\n",
    "try:\n",
    "    num_words = int(sys.argv[1])\n",
    "except:\n",
    "    print(\"usage: most_common_words.py num_words\")\n",
    "    sys.exit(1) # non-zero exit code indicates error\n",
    "\n",
    "counter = Counter(word.lower() # lowercase words\n",
    "    for line in sys.stdin #\n",
    "    for word in line.strip().split() # split on spaces\n",
    "    if word) # skip empty 'words'\n",
    "for word, count in counter.most_common(num_words):\n",
    "    sys.stdout.write(str(count))\n",
    "    sys.stdout.write(\"\\t\")\n",
    "    sys.stdout.write(word)\n",
    "    sys.stdout.write(\"\\n\")"
   ]
  },
  {
   "cell_type": "code",
   "execution_count": 314,
   "metadata": {},
   "outputs": [],
   "source": [
    "file_for_reading=open('tab_delimited_stock_prices.txt','r')\n",
    "file_for_writing = open('myfile.txt', 'w')\n",
    "file_for_appending = open('myfile.txt', 'a')\n",
    "file_for_writing.close()\n",
    "with open('myfile.txt','r') as f:\n",
    "    data = list(f)\n",
    " #   write(data)"
   ]
  },
  {
   "cell_type": "code",
   "execution_count": 308,
   "metadata": {},
   "outputs": [],
   "source": [
    "starts_with_hash = 0\n",
    "\n",
    "with open('myfile.txt','r') as f:\n",
    "    for line in f: # look at each line in the file\n",
    "        if re.match(\"^#\",line): # use a regex to see if it starts with '#'\n",
    "            starts_with_hash += 1 # if it does, add 1 to the count"
   ]
  },
  {
   "cell_type": "code",
   "execution_count": 318,
   "metadata": {
    "scrolled": true
   },
   "outputs": [
    {
     "ename": "Error",
     "evalue": "iterator should return strings, not bytes (did you open the file in text mode?)",
     "output_type": "error",
     "traceback": [
      "\u001b[1;31m---------------------------------------------------------------------------\u001b[0m",
      "\u001b[1;31mError\u001b[0m                                     Traceback (most recent call last)",
      "\u001b[1;32m<ipython-input-318-a51e29b3a964>\u001b[0m in \u001b[0;36m<module>\u001b[1;34m()\u001b[0m\n\u001b[0;32m      3\u001b[0m \u001b[1;32mwith\u001b[0m \u001b[0mopen\u001b[0m\u001b[1;33m(\u001b[0m\u001b[1;34m'tab_delimited_stock_prices.txt'\u001b[0m\u001b[1;33m,\u001b[0m \u001b[1;34m'rb'\u001b[0m\u001b[1;33m)\u001b[0m \u001b[1;32mas\u001b[0m \u001b[0mf\u001b[0m\u001b[1;33m:\u001b[0m\u001b[1;33m\u001b[0m\u001b[0m\n\u001b[0;32m      4\u001b[0m     \u001b[0mreader\u001b[0m \u001b[1;33m=\u001b[0m \u001b[0mcsv\u001b[0m\u001b[1;33m.\u001b[0m\u001b[0mreader\u001b[0m\u001b[1;33m(\u001b[0m\u001b[0mf\u001b[0m\u001b[1;33m,\u001b[0m \u001b[0mdelimiter\u001b[0m\u001b[1;33m=\u001b[0m\u001b[1;34m'\\t'\u001b[0m\u001b[1;33m)\u001b[0m\u001b[1;33m\u001b[0m\u001b[0m\n\u001b[1;32m----> 5\u001b[1;33m     \u001b[1;32mfor\u001b[0m \u001b[0mrow\u001b[0m \u001b[1;32min\u001b[0m \u001b[0mreader\u001b[0m\u001b[1;33m:\u001b[0m\u001b[1;33m\u001b[0m\u001b[0m\n\u001b[0m\u001b[0;32m      6\u001b[0m         \u001b[0mdate\u001b[0m \u001b[1;33m=\u001b[0m \u001b[0mrow\u001b[0m\u001b[1;33m[\u001b[0m\u001b[1;36m0\u001b[0m\u001b[1;33m]\u001b[0m\u001b[1;33m\u001b[0m\u001b[0m\n\u001b[0;32m      7\u001b[0m         \u001b[0msymbol\u001b[0m \u001b[1;33m=\u001b[0m \u001b[0mrow\u001b[0m\u001b[1;33m[\u001b[0m\u001b[1;36m1\u001b[0m\u001b[1;33m]\u001b[0m\u001b[1;33m\u001b[0m\u001b[0m\n",
      "\u001b[1;31mError\u001b[0m: iterator should return strings, not bytes (did you open the file in text mode?)"
     ]
    }
   ],
   "source": [
    "import csv\n",
    "\n",
    "with open('tab_delimited_stock_prices.txt', 'rb') as f:\n",
    "    reader = csv.reader(f, delimiter='\\t')\n",
    "    for row in reader:\n",
    "        date = row[0]\n",
    "        symbol = row[1]\n",
    "        closing_price = float(row[2])\n",
    "        process(date, symbol, closing_price)"
   ]
  },
  {
   "cell_type": "code",
   "execution_count": 320,
   "metadata": {},
   "outputs": [
    {
     "ename": "TypeError",
     "evalue": "a bytes-like object is required, not 'str'",
     "output_type": "error",
     "traceback": [
      "\u001b[1;31m---------------------------------------------------------------------------\u001b[0m",
      "\u001b[1;31mTypeError\u001b[0m                                 Traceback (most recent call last)",
      "\u001b[1;32m<ipython-input-320-3fb6caa0d38f>\u001b[0m in \u001b[0;36m<module>\u001b[1;34m()\u001b[0m\n\u001b[0;32m      4\u001b[0m     \u001b[0mwriter\u001b[0m \u001b[1;33m=\u001b[0m \u001b[0mcsv\u001b[0m\u001b[1;33m.\u001b[0m\u001b[0mwriter\u001b[0m\u001b[1;33m(\u001b[0m\u001b[0mf\u001b[0m\u001b[1;33m,\u001b[0m \u001b[0mdelimiter\u001b[0m\u001b[1;33m=\u001b[0m\u001b[1;34m','\u001b[0m\u001b[1;33m)\u001b[0m\u001b[1;33m\u001b[0m\u001b[0m\n\u001b[0;32m      5\u001b[0m     \u001b[1;32mfor\u001b[0m \u001b[0mstock\u001b[0m\u001b[1;33m,\u001b[0m \u001b[0mprice\u001b[0m \u001b[1;32min\u001b[0m \u001b[0mtoday_prices\u001b[0m\u001b[1;33m.\u001b[0m\u001b[0mitems\u001b[0m\u001b[1;33m(\u001b[0m\u001b[1;33m)\u001b[0m\u001b[1;33m:\u001b[0m\u001b[1;33m\u001b[0m\u001b[0m\n\u001b[1;32m----> 6\u001b[1;33m         \u001b[0mwriter\u001b[0m\u001b[1;33m.\u001b[0m\u001b[0mwriterow\u001b[0m\u001b[1;33m(\u001b[0m\u001b[1;33m[\u001b[0m\u001b[0mstock\u001b[0m\u001b[1;33m,\u001b[0m \u001b[0mprice\u001b[0m\u001b[1;33m]\u001b[0m\u001b[1;33m)\u001b[0m\u001b[1;33m\u001b[0m\u001b[0m\n\u001b[0m",
      "\u001b[1;31mTypeError\u001b[0m: a bytes-like object is required, not 'str'"
     ]
    }
   ],
   "source": [
    "today_prices = { 'AAPL' : 90.91, 'MSFT' : 41.68, 'FB' : 64.5 }\n",
    "\n",
    "with open('comma_delimited_stock_prices.txt','wb') as f:\n",
    "    writer = csv.writer(f, delimiter=',')\n",
    "    for stock, price in today_prices.items():\n",
    "        writer.writerow([stock, price])"
   ]
  },
  {
   "cell_type": "code",
   "execution_count": 338,
   "metadata": {},
   "outputs": [],
   "source": [
    "from bs4 import BeautifulSoup\n",
    "import requests\n",
    "html = requests.get(\"http://www.google.com\").text\n",
    "soup = BeautifulSoup(html, 'html5lib')\n",
    "first_paragraph = soup.find('p') # or just soup.p\n",
    "first_paragraph\n",
    "all_paragraphs = soup.find_all('p') # or just soup('p')\n",
    "paragraphs_with_ids = [p for p in soup('p') if p.get('id')]"
   ]
  },
  {
   "cell_type": "code",
   "execution_count": 367,
   "metadata": {},
   "outputs": [],
   "source": [
    "# you don't have to split the url like this unless it needs to fit in a book\n",
    "url = \"http://shop.oreilly.com/category/browse-subjects/\" + \\\n",
    "\"data.do?sortby=publicationDate&page=1\""
   ]
  },
  {
   "cell_type": "code",
   "execution_count": 371,
   "metadata": {},
   "outputs": [
    {
     "data": {
      "text/plain": [
       "[]"
      ]
     },
     "execution_count": 371,
     "metadata": {},
     "output_type": "execute_result"
    }
   ],
   "source": [
    "soup = BeautifulSoup(requests.get(url).text, 'html5lib')\n",
    "tds = soup('td', 'thumbtext')\n",
    "tds\n",
    "# 30"
   ]
  },
  {
   "cell_type": "code",
   "execution_count": 372,
   "metadata": {},
   "outputs": [
    {
     "name": "stdout",
     "output_type": "stream",
     "text": [
      "0\n"
     ]
    }
   ],
   "source": [
    "def is_video(td):\n",
    "    \"\"\"it's a video if it has exactly one pricelabel, and if\n",
    "    the stripped text inside that pricelabel starts with 'Video'\"\"\"\n",
    "    pricelabels = td('span', 'pricelabel')\n",
    "    return (len(pricelabels) == 1 and\n",
    "        pricelabels[0].text.strip().startswith(\"Video\"))\n",
    "print(len([td for td in tds if not is_video(td)]))\n",
    "# 21 for me, might be different for you"
   ]
  },
  {
   "cell_type": "code",
   "execution_count": 373,
   "metadata": {},
   "outputs": [
    {
     "ename": "NameError",
     "evalue": "name 'td' is not defined",
     "output_type": "error",
     "traceback": [
      "\u001b[1;31m---------------------------------------------------------------------------\u001b[0m",
      "\u001b[1;31mNameError\u001b[0m                                 Traceback (most recent call last)",
      "\u001b[1;32m<ipython-input-373-f2fe07c283cc>\u001b[0m in \u001b[0;36m<module>\u001b[1;34m()\u001b[0m\n\u001b[1;32m----> 1\u001b[1;33m \u001b[0mtitle\u001b[0m \u001b[1;33m=\u001b[0m \u001b[0mtd\u001b[0m\u001b[1;33m.\u001b[0m\u001b[0mfind\u001b[0m\u001b[1;33m(\u001b[0m\u001b[1;34m\"div\"\u001b[0m\u001b[1;33m,\u001b[0m \u001b[1;34m\"thumbheader\"\u001b[0m\u001b[1;33m)\u001b[0m\u001b[1;33m.\u001b[0m\u001b[0ma\u001b[0m\u001b[1;33m.\u001b[0m\u001b[0mtext\u001b[0m\u001b[1;33m\u001b[0m\u001b[0m\n\u001b[0m",
      "\u001b[1;31mNameError\u001b[0m: name 'td' is not defined"
     ]
    }
   ],
   "source": [
    "title = td.find(\"div\", \"thumbheader\").a.text"
   ]
  },
  {
   "cell_type": "code",
   "execution_count": 374,
   "metadata": {
    "collapsed": true
   },
   "outputs": [],
   "source": [
    "from bs4 import BeautifulSoup\n",
    "import requests"
   ]
  },
  {
   "cell_type": "code",
   "execution_count": 375,
   "metadata": {
    "collapsed": true
   },
   "outputs": [],
   "source": [
    "from time import sleep\n",
    "base_url = \"http://shop.oreilly.com/category/browse-subjects/\" + \\\n",
    "            \"data.do?sortby=publicationDate&page=\""
   ]
  },
  {
   "cell_type": "code",
   "execution_count": 376,
   "metadata": {
    "collapsed": true
   },
   "outputs": [],
   "source": [
    "books = []\n",
    "NUM_PAGES = 31"
   ]
  },
  {
   "cell_type": "code",
   "execution_count": 379,
   "metadata": {},
   "outputs": [
    {
     "name": "stdout",
     "output_type": "stream",
     "text": [
      "souping page 1 , 0  found so far\n",
      "souping page 2 , 0  found so far\n",
      "souping page 3 , 0  found so far\n",
      "souping page 4 , 0  found so far\n",
      "souping page 5 , 0  found so far\n",
      "souping page 6 , 0  found so far\n",
      "souping page 7 , 0  found so far\n",
      "souping page 8 , 0  found so far\n",
      "souping page 9 , 0  found so far\n",
      "souping page 10 , 0  found so far\n",
      "souping page 11 , 0  found so far\n",
      "souping page 12 , 0  found so far\n",
      "souping page 13 , 0  found so far\n",
      "souping page 14 , 0  found so far\n",
      "souping page 15 , 0  found so far\n",
      "souping page 16 , 0  found so far\n",
      "souping page 17 , 0  found so far\n",
      "souping page 18 , 0  found so far\n",
      "souping page 19 , 0  found so far\n",
      "souping page 20 , 0  found so far\n",
      "souping page 21 , 0  found so far\n",
      "souping page 22 , 0  found so far\n",
      "souping page 23 , 0  found so far\n",
      "souping page 24 , 0  found so far\n",
      "souping page 25 , 0  found so far\n",
      "souping page 26 , 0  found so far\n",
      "souping page 27 , 0  found so far\n",
      "souping page 28 , 0  found so far\n",
      "souping page 29 , 0  found so far\n",
      "souping page 30 , 0  found so far\n",
      "souping page 31 , 0  found so far\n"
     ]
    }
   ],
   "source": [
    "for page_num in range(1, NUM_PAGES + 1):\n",
    "    print(\"souping page\", page_num, \",\", len(books), \" found so far\")\n",
    "    url = base_url + str(page_num)\n",
    "    soup = BeautifulSoup(requests.get(url).text, 'html5lib')\n",
    "    \n",
    "    for td in soup('td', 'thumbtext'):\n",
    "        if not is_video(td):\n",
    "            books.append(book_info(td))\n",
    "# now be a good citizen and respect the robots.txt!\n",
    "sleep(30)"
   ]
  },
  {
   "cell_type": "code",
   "execution_count": 380,
   "metadata": {},
   "outputs": [
    {
     "data": {
      "image/png": "[encoded data removed]",
      "text/plain": [
       "<Figure size 432x288 with 1 Axes>"
      ]
     },
     "metadata": {},
     "output_type": "display_data"
    }
   ],
   "source": [
    "def get_year(book):\n",
    "    \"\"\"book[\"date\"] looks like 'November 2014' so we need to\n",
    "    split on the space and then take the second piece\"\"\"\n",
    "    return int(book[\"date\"].split()[1])\n",
    "\n",
    "# 2014 is the last complete year of data (when I ran this)\n",
    "year_counts = Counter(get_year(book) for book in books\n",
    "                    if get_year(book) <= 2014)\n",
    "\n",
    "import matplotlib.pyplot as plt\n",
    "years = sorted(year_counts)\n",
    "book_counts = [year_counts[year] for year in years]\n",
    "plt.plot(years, book_counts)\n",
    "plt.ylabel(\"# of data books\")\n",
    "plt.title(\"Data is Big!\")\n",
    "plt.show()"
   ]
  },
  {
   "cell_type": "code",
   "execution_count": 381,
   "metadata": {},
   "outputs": [
    {
     "name": "stdout",
     "output_type": "stream",
     "text": [
      "{'title': 'Data Science Book', 'author': 'Joel Grus', 'publicationYear': 2014, 'topics': ['data', 'science', 'data science']}\n"
     ]
    }
   ],
   "source": [
    "import json\n",
    "serialized = \"\"\"{ \"title\" : \"Data Science Book\",\n",
    "                \"author\" : \"Joel Grus\",\n",
    "                \"publicationYear\" : 2014,\n",
    "                \"topics\" : [ \"data\", \"science\", \"data science\"] }\"\"\"\n",
    "\n",
    "# parse the JSON to create a Python dict\n",
    "deserialized = json.loads(serialized)\n",
    "if \"data science\" in deserialized[\"topics\"]:\n",
    "    print(deserialized)"
   ]
  },
  {
   "cell_type": "code",
   "execution_count": 382,
   "metadata": {
    "collapsed": true
   },
   "outputs": [],
   "source": [
    "import requests, json\n",
    "endpoint = \"https://api.github.com/users/joelgrus/repos\"\n",
    "\n",
    "repos = json.loads(requests.get(endpoint).text)"
   ]
  },
  {
   "cell_type": "code",
   "execution_count": 384,
   "metadata": {},
   "outputs": [
    {
     "name": "stdout",
     "output_type": "stream",
     "text": [
      "Requirement already satisfied: python-dateutil in c:\\users\\rjf0029\\appdata\\local\\continuum\\anaconda3\\lib\\site-packages (2.6.1)\n",
      "Requirement already satisfied: six>=1.5 in c:\\users\\rjf0029\\appdata\\local\\continuum\\anaconda3\\lib\\site-packages (from python-dateutil) (1.11.0)\n"
     ]
    },
    {
     "name": "stderr",
     "output_type": "stream",
     "text": [
      "You are using pip version 18.1, however version 19.0.2 is available.\n",
      "You should consider upgrading via the 'python -m pip install --upgrade pip' command.\n"
     ]
    }
   ],
   "source": [
    "!pip install python-dateutil"
   ]
  },
  {
   "cell_type": "code",
   "execution_count": 385,
   "metadata": {
    "collapsed": true
   },
   "outputs": [],
   "source": [
    "from dateutil.parser import parse\n",
    "\n",
    "dates = [parse(repo[\"created_at\"]) for repo in repos]\n",
    "month_counts = Counter(date.month for date in dates)\n",
    "weekday_counts = Counter(date.weekday() for date in dates)"
   ]
  },
  {
   "cell_type": "code",
   "execution_count": 386,
   "metadata": {
    "collapsed": true
   },
   "outputs": [],
   "source": [
    "last_5_repositories = sorted(repos,\n",
    "                            key=lambda r: r[\"created_at\"],\n",
    "                            reverse=True)[:5]\n",
    "last_5_languages = [repo[\"language\"]\n",
    "                    for repo in last_5_repositories]"
   ]
  },
  {
   "cell_type": "code",
   "execution_count": 389,
   "metadata": {
    "scrolled": true
   },
   "outputs": [
    {
     "name": "stdout",
     "output_type": "stream",
     "text": [
      "b'RRISDTech' : b'RT @RRISDCS: What factors make some people live longer than others? Learn to answer big questions! Bootstrap: Data Science | STEM Center |\\xe2\\x80\\xa6'\n",
      "b'e_strategy' : b'How It Feels to Learn Data Science in 2019 https://t.co/82TGVSfXOB'\n",
      "b'Python_USA' : b'Data Science Intern, Motorola Mobility: SunIRef:it Data Science Intern, Motorola Mobility \\xe2\\x80\\x93 Santa Clara, CA 95054 \\xe2\\x80\\x93\\xe2\\x80\\xa6 https://t.co/ySrv7CTSLr'\n",
      "b'Richard_Weber' : b'RT @CrBravoR: Happy to have met all the other @turinginst fellows @unisouthampton! Great group of people working in many different data sci\\xe2\\x80\\xa6'\n",
      "b'souzatharsis' : b'\\xe2\\x80\\x9cData Science\\xe2\\x80\\x8a\\xe2\\x80\\x94\\xe2\\x80\\x8aWhat is Alt Data or Alternative Data?\\xe2\\x80\\x9d https://t.co/50HJN0TXNU'\n",
      "b'pwang' : b'@WillingCarol @dstufft @brettsky @vorpalsmith @zooba @uranusjr @acanthamoeba @ncoghlan_dev @kushaldas Glad to hear\\xe2\\x80\\xa6 https://t.co/bzB7Kbkxdj'\n",
      "b'notorioushilary' : b'RT @analyticbridge: Is data science an academic discipline? https://t.co/VQTU305kbx'\n",
      "b'InfonomicsToday' : b'RT @analyticbridge: Is data science an academic discipline? https://t.co/VQTU305kbx'\n",
      "b'SCCA_Advocacy' : b'RT @VicinityCentres: Congratulations to our General Manager, Data Science and Insights Genevieve Elliot who has been awarded the annual 201\\xe2\\x80\\xa6'\n",
      "b'donaldhelton32' : b'The Complete Course on Data Science &amp; Big Data Analytics https://t.co/orR3tBhDn1 https://t.co/ojbrTye5Pm'\n",
      "b'Billfgreer' : b'RT @BecomingDataSci: Reminder that I have a list of over 1,700 women in data science (and statistics and related fields) on Twitter!\\n\\nLet m\\xe2\\x80\\xa6'\n",
      "b'analyticbridge' : b'Is data science an academic discipline? https://t.co/VQTU305kbx'\n",
      "b'Ztnarg65' : b'\\xe2\\x81\\xa6@NeilJakubowski\\xe2\\x81\\xa9 Self-driving tractors and data science: we visit a modern farm | Ars Technica Just trying to help. https://t.co/aYC68s2Nr7'\n",
      "b'advancedtrainin' : b'12 Truths about data science\\n\\n#hwds #datascience #bigdata https://t.co/hcQL6aN2YV'\n",
      "b'iulian_neagoe' : b'RT @derek_mccallum: #DataScience #machinelearning #ai #ArtificialIntelligence #data\\nhttps://t.co/0Qd6YbvJoH'\n",
      "\n"
     ]
    }
   ],
   "source": [
    "#!pip install twython\n",
    "from twython import Twython\n",
    "\n",
    "twitter = Twython('Lrrgj6b6dLnKEHWNg983JdSW1', '5HqWa8BxaCX38YJwoZZ3epY6Ee3chiGbHiE6vRfqaeNmnuv3UR')\n",
    "\n",
    "# search for tweets containing the phrase \"data science\"\n",
    "for status in twitter.search(q='\"data science\"')[\"statuses\"]:\n",
    "    user = status[\"user\"][\"screen_name\"].encode('utf-8')\n",
    "    text = status[\"text\"].encode('utf-8')\n",
    "    print(user, \":\", text)\n",
    "print()"
   ]
  },
  {
   "cell_type": "code",
   "execution_count": 392,
   "metadata": {
    "collapsed": true
   },
   "outputs": [],
   "source": [
    "from twython import TwythonStreamer\n",
    "\n",
    "# appending data to a global variable is pretty poor form\n",
    "# but it makes the example much simpler\n",
    "tweets = []\n",
    "\n",
    "class MyStreamer(TwythonStreamer):\n",
    "    \"\"\"our own subclass of TwythonStreamer that specifies\n",
    "    how to interact with the stream\"\"\"\n",
    "\n",
    "    def on_success(self, data):\n",
    "        \"\"\"what do we do when twitter sends us data?\n",
    "        here data will be a Python dict representing a tweet\"\"\"\n",
    "\n",
    "        # only want to collect English-language tweets\n",
    "        if data['lang'] == 'en':\n",
    "            tweets.append(data)\n",
    "            print(\"received tweet #\", len(tweets))\n",
    "\n",
    "        # stop when we've collected enough\n",
    "        if len(tweets) >= 1000:\n",
    "            self.disconnect()\n",
    "\n",
    "def on_error(self, status_code, data):\n",
    "    print(status_code, data)\n",
    "    self.disconnect()"
   ]
  },
  {
   "cell_type": "code",
   "execution_count": 394,
   "metadata": {},
   "outputs": [
    {
     "name": "stdout",
     "output_type": "stream",
     "text": [
      "received tweet # 1\n",
      "received tweet # 2\n",
      "received tweet # 3\n",
      "received tweet # 4\n",
      "received tweet # 5\n",
      "received tweet # 6\n",
      "received tweet # 7\n",
      "received tweet # 8\n",
      "received tweet # 9\n",
      "received tweet # 10\n",
      "received tweet # 11\n",
      "received tweet # 12\n",
      "received tweet # 13\n",
      "received tweet # 14\n",
      "received tweet # 15\n",
      "received tweet # 16\n",
      "received tweet # 17\n",
      "received tweet # 18\n",
      "received tweet # 19\n",
      "received tweet # 20\n",
      "received tweet # 21\n",
      "received tweet # 22\n",
      "received tweet # 23\n",
      "received tweet # 24\n",
      "received tweet # 25\n",
      "received tweet # 26\n",
      "received tweet # 27\n",
      "received tweet # 28\n",
      "received tweet # 29\n",
      "received tweet # 30\n",
      "received tweet # 31\n",
      "received tweet # 32\n",
      "received tweet # 33\n",
      "received tweet # 34\n",
      "received tweet # 35\n",
      "received tweet # 36\n",
      "received tweet # 37\n",
      "received tweet # 38\n",
      "received tweet # 39\n",
      "received tweet # 40\n",
      "received tweet # 41\n",
      "received tweet # 42\n",
      "received tweet # 43\n",
      "received tweet # 44\n",
      "received tweet # 45\n",
      "received tweet # 46\n",
      "received tweet # 47\n",
      "received tweet # 48\n",
      "received tweet # 49\n",
      "received tweet # 50\n",
      "received tweet # 51\n",
      "received tweet # 52\n",
      "received tweet # 53\n",
      "received tweet # 54\n",
      "received tweet # 55\n",
      "received tweet # 56\n",
      "received tweet # 57\n",
      "received tweet # 58\n",
      "received tweet # 59\n",
      "received tweet # 60\n",
      "received tweet # 61\n"
     ]
    },
    {
     "ename": "KeyboardInterrupt",
     "evalue": "",
     "output_type": "error",
     "traceback": [
      "\u001b[1;31m---------------------------------------------------------------------------\u001b[0m",
      "\u001b[1;31mWantReadError\u001b[0m                             Traceback (most recent call last)",
      "\u001b[1;32m~\\AppData\\Local\\Continuum\\anaconda3\\lib\\site-packages\\urllib3\\contrib\\pyopenssl.py\u001b[0m in \u001b[0;36mrecv_into\u001b[1;34m(self, *args, **kwargs)\u001b[0m\n\u001b[0;32m    279\u001b[0m         \u001b[1;32mtry\u001b[0m\u001b[1;33m:\u001b[0m\u001b[1;33m\u001b[0m\u001b[0m\n\u001b[1;32m--> 280\u001b[1;33m             \u001b[1;32mreturn\u001b[0m \u001b[0mself\u001b[0m\u001b[1;33m.\u001b[0m\u001b[0mconnection\u001b[0m\u001b[1;33m.\u001b[0m\u001b[0mrecv_into\u001b[0m\u001b[1;33m(\u001b[0m\u001b[1;33m*\u001b[0m\u001b[0margs\u001b[0m\u001b[1;33m,\u001b[0m \u001b[1;33m**\u001b[0m\u001b[0mkwargs\u001b[0m\u001b[1;33m)\u001b[0m\u001b[1;33m\u001b[0m\u001b[0m\n\u001b[0m\u001b[0;32m    281\u001b[0m         \u001b[1;32mexcept\u001b[0m \u001b[0mOpenSSL\u001b[0m\u001b[1;33m.\u001b[0m\u001b[0mSSL\u001b[0m\u001b[1;33m.\u001b[0m\u001b[0mSysCallError\u001b[0m \u001b[1;32mas\u001b[0m \u001b[0me\u001b[0m\u001b[1;33m:\u001b[0m\u001b[1;33m\u001b[0m\u001b[0m\n",
      "\u001b[1;32m~\\AppData\\Local\\Continuum\\anaconda3\\lib\\site-packages\\OpenSSL\\SSL.py\u001b[0m in \u001b[0;36mrecv_into\u001b[1;34m(self, buffer, nbytes, flags)\u001b[0m\n\u001b[0;32m   1624\u001b[0m             \u001b[0mresult\u001b[0m \u001b[1;33m=\u001b[0m \u001b[0m_lib\u001b[0m\u001b[1;33m.\u001b[0m\u001b[0mSSL_read\u001b[0m\u001b[1;33m(\u001b[0m\u001b[0mself\u001b[0m\u001b[1;33m.\u001b[0m\u001b[0m_ssl\u001b[0m\u001b[1;33m,\u001b[0m \u001b[0mbuf\u001b[0m\u001b[1;33m,\u001b[0m \u001b[0mnbytes\u001b[0m\u001b[1;33m)\u001b[0m\u001b[1;33m\u001b[0m\u001b[0m\n\u001b[1;32m-> 1625\u001b[1;33m         \u001b[0mself\u001b[0m\u001b[1;33m.\u001b[0m\u001b[0m_raise_ssl_error\u001b[0m\u001b[1;33m(\u001b[0m\u001b[0mself\u001b[0m\u001b[1;33m.\u001b[0m\u001b[0m_ssl\u001b[0m\u001b[1;33m,\u001b[0m \u001b[0mresult\u001b[0m\u001b[1;33m)\u001b[0m\u001b[1;33m\u001b[0m\u001b[0m\n\u001b[0m\u001b[0;32m   1626\u001b[0m \u001b[1;33m\u001b[0m\u001b[0m\n",
      "\u001b[1;32m~\\AppData\\Local\\Continuum\\anaconda3\\lib\\site-packages\\OpenSSL\\SSL.py\u001b[0m in \u001b[0;36m_raise_ssl_error\u001b[1;34m(self, ssl, result)\u001b[0m\n\u001b[0;32m   1430\u001b[0m         \u001b[1;32mif\u001b[0m \u001b[0merror\u001b[0m \u001b[1;33m==\u001b[0m \u001b[0m_lib\u001b[0m\u001b[1;33m.\u001b[0m\u001b[0mSSL_ERROR_WANT_READ\u001b[0m\u001b[1;33m:\u001b[0m\u001b[1;33m\u001b[0m\u001b[0m\n\u001b[1;32m-> 1431\u001b[1;33m             \u001b[1;32mraise\u001b[0m \u001b[0mWantReadError\u001b[0m\u001b[1;33m(\u001b[0m\u001b[1;33m)\u001b[0m\u001b[1;33m\u001b[0m\u001b[0m\n\u001b[0m\u001b[0;32m   1432\u001b[0m         \u001b[1;32melif\u001b[0m \u001b[0merror\u001b[0m \u001b[1;33m==\u001b[0m \u001b[0m_lib\u001b[0m\u001b[1;33m.\u001b[0m\u001b[0mSSL_ERROR_WANT_WRITE\u001b[0m\u001b[1;33m:\u001b[0m\u001b[1;33m\u001b[0m\u001b[0m\n",
      "\u001b[1;31mWantReadError\u001b[0m: ",
      "\nDuring handling of the above exception, another exception occurred:\n",
      "\u001b[1;31mKeyboardInterrupt\u001b[0m                         Traceback (most recent call last)",
      "\u001b[1;32m<ipython-input-394-3b63508df253>\u001b[0m in \u001b[0;36m<module>\u001b[1;34m()\u001b[0m\n\u001b[0;32m      2\u001b[0m                     '63123768-q36bLqyM4UMv8jd27j2FNLHqTv7EryrF5uOOHFWnO', 'r3hxqlPAcwgQ01oYU61Y2cgwLVHP6s9eoqIltZGOgZlLz')\n\u001b[0;32m      3\u001b[0m \u001b[1;31m# starts consuming public statuses that contain the keyword 'data'\u001b[0m\u001b[1;33m\u001b[0m\u001b[1;33m\u001b[0m\u001b[0m\n\u001b[1;32m----> 4\u001b[1;33m \u001b[0mstream\u001b[0m\u001b[1;33m.\u001b[0m\u001b[0mstatuses\u001b[0m\u001b[1;33m.\u001b[0m\u001b[0mfilter\u001b[0m\u001b[1;33m(\u001b[0m\u001b[0mtrack\u001b[0m\u001b[1;33m=\u001b[0m\u001b[1;34m'data'\u001b[0m\u001b[1;33m)\u001b[0m\u001b[1;33m\u001b[0m\u001b[0m\n\u001b[0m\u001b[0;32m      5\u001b[0m \u001b[1;33m\u001b[0m\u001b[0m\n\u001b[0;32m      6\u001b[0m \u001b[1;31m# if instead we wanted to start consuming a sample of *all* public statuses\u001b[0m\u001b[1;33m\u001b[0m\u001b[1;33m\u001b[0m\u001b[0m\n",
      "\u001b[1;32m~\\AppData\\Local\\Continuum\\anaconda3\\lib\\site-packages\\twython\\streaming\\types.py\u001b[0m in \u001b[0;36mfilter\u001b[1;34m(self, **params)\u001b[0m\n\u001b[0;32m     65\u001b[0m         \u001b[0murl\u001b[0m \u001b[1;33m=\u001b[0m \u001b[1;34m'https://stream.twitter.com/%s/statuses/filter.json'\u001b[0m\u001b[0;31m \u001b[0m\u001b[0;31m\\\u001b[0m\u001b[1;33m\u001b[0m\u001b[0m\n\u001b[0;32m     66\u001b[0m               \u001b[1;33m%\u001b[0m \u001b[0mself\u001b[0m\u001b[1;33m.\u001b[0m\u001b[0mstreamer\u001b[0m\u001b[1;33m.\u001b[0m\u001b[0mapi_version\u001b[0m\u001b[1;33m\u001b[0m\u001b[0m\n\u001b[1;32m---> 67\u001b[1;33m         \u001b[0mself\u001b[0m\u001b[1;33m.\u001b[0m\u001b[0mstreamer\u001b[0m\u001b[1;33m.\u001b[0m\u001b[0m_request\u001b[0m\u001b[1;33m(\u001b[0m\u001b[0murl\u001b[0m\u001b[1;33m,\u001b[0m \u001b[1;34m'POST'\u001b[0m\u001b[1;33m,\u001b[0m \u001b[0mparams\u001b[0m\u001b[1;33m=\u001b[0m\u001b[0mparams\u001b[0m\u001b[1;33m)\u001b[0m\u001b[1;33m\u001b[0m\u001b[0m\n\u001b[0m\u001b[0;32m     68\u001b[0m \u001b[1;33m\u001b[0m\u001b[0m\n\u001b[0;32m     69\u001b[0m     \u001b[1;32mdef\u001b[0m \u001b[0msample\u001b[0m\u001b[1;33m(\u001b[0m\u001b[0mself\u001b[0m\u001b[1;33m,\u001b[0m \u001b[1;33m**\u001b[0m\u001b[0mparams\u001b[0m\u001b[1;33m)\u001b[0m\u001b[1;33m:\u001b[0m\u001b[1;33m\u001b[0m\u001b[0m\n",
      "\u001b[1;32m~\\AppData\\Local\\Continuum\\anaconda3\\lib\\site-packages\\twython\\streaming\\api.py\u001b[0m in \u001b[0;36m_request\u001b[1;34m(self, url, method, params)\u001b[0m\n\u001b[0;32m    139\u001b[0m             \u001b[0mresponse\u001b[0m \u001b[1;33m=\u001b[0m \u001b[0m_send\u001b[0m\u001b[1;33m(\u001b[0m\u001b[0mretry_counter\u001b[0m\u001b[1;33m)\u001b[0m\u001b[1;33m\u001b[0m\u001b[0m\n\u001b[0;32m    140\u001b[0m \u001b[1;33m\u001b[0m\u001b[0m\n\u001b[1;32m--> 141\u001b[1;33m             \u001b[1;32mfor\u001b[0m \u001b[0mline\u001b[0m \u001b[1;32min\u001b[0m \u001b[0mresponse\u001b[0m\u001b[1;33m.\u001b[0m\u001b[0miter_lines\u001b[0m\u001b[1;33m(\u001b[0m\u001b[0mself\u001b[0m\u001b[1;33m.\u001b[0m\u001b[0mchunk_size\u001b[0m\u001b[1;33m)\u001b[0m\u001b[1;33m:\u001b[0m\u001b[1;33m\u001b[0m\u001b[0m\n\u001b[0m\u001b[0;32m    142\u001b[0m                 \u001b[1;32mif\u001b[0m \u001b[1;32mnot\u001b[0m \u001b[0mself\u001b[0m\u001b[1;33m.\u001b[0m\u001b[0mconnected\u001b[0m\u001b[1;33m:\u001b[0m\u001b[1;33m\u001b[0m\u001b[0m\n\u001b[0;32m    143\u001b[0m                     \u001b[1;32mbreak\u001b[0m\u001b[1;33m\u001b[0m\u001b[0m\n",
      "\u001b[1;32m~\\AppData\\Local\\Continuum\\anaconda3\\lib\\site-packages\\requests\\models.py\u001b[0m in \u001b[0;36miter_lines\u001b[1;34m(self, chunk_size, decode_unicode, delimiter)\u001b[0m\n\u001b[0;32m    787\u001b[0m         \u001b[0mpending\u001b[0m \u001b[1;33m=\u001b[0m \u001b[1;32mNone\u001b[0m\u001b[1;33m\u001b[0m\u001b[0m\n\u001b[0;32m    788\u001b[0m \u001b[1;33m\u001b[0m\u001b[0m\n\u001b[1;32m--> 789\u001b[1;33m         \u001b[1;32mfor\u001b[0m \u001b[0mchunk\u001b[0m \u001b[1;32min\u001b[0m \u001b[0mself\u001b[0m\u001b[1;33m.\u001b[0m\u001b[0miter_content\u001b[0m\u001b[1;33m(\u001b[0m\u001b[0mchunk_size\u001b[0m\u001b[1;33m=\u001b[0m\u001b[0mchunk_size\u001b[0m\u001b[1;33m,\u001b[0m \u001b[0mdecode_unicode\u001b[0m\u001b[1;33m=\u001b[0m\u001b[0mdecode_unicode\u001b[0m\u001b[1;33m)\u001b[0m\u001b[1;33m:\u001b[0m\u001b[1;33m\u001b[0m\u001b[0m\n\u001b[0m\u001b[0;32m    790\u001b[0m \u001b[1;33m\u001b[0m\u001b[0m\n\u001b[0;32m    791\u001b[0m             \u001b[1;32mif\u001b[0m \u001b[0mpending\u001b[0m \u001b[1;32mis\u001b[0m \u001b[1;32mnot\u001b[0m \u001b[1;32mNone\u001b[0m\u001b[1;33m:\u001b[0m\u001b[1;33m\u001b[0m\u001b[0m\n",
      "\u001b[1;32m~\\AppData\\Local\\Continuum\\anaconda3\\lib\\site-packages\\requests\\models.py\u001b[0m in \u001b[0;36mgenerate\u001b[1;34m()\u001b[0m\n\u001b[0;32m    743\u001b[0m             \u001b[1;32mif\u001b[0m \u001b[0mhasattr\u001b[0m\u001b[1;33m(\u001b[0m\u001b[0mself\u001b[0m\u001b[1;33m.\u001b[0m\u001b[0mraw\u001b[0m\u001b[1;33m,\u001b[0m \u001b[1;34m'stream'\u001b[0m\u001b[1;33m)\u001b[0m\u001b[1;33m:\u001b[0m\u001b[1;33m\u001b[0m\u001b[0m\n\u001b[0;32m    744\u001b[0m                 \u001b[1;32mtry\u001b[0m\u001b[1;33m:\u001b[0m\u001b[1;33m\u001b[0m\u001b[0m\n\u001b[1;32m--> 745\u001b[1;33m                     \u001b[1;32mfor\u001b[0m \u001b[0mchunk\u001b[0m \u001b[1;32min\u001b[0m \u001b[0mself\u001b[0m\u001b[1;33m.\u001b[0m\u001b[0mraw\u001b[0m\u001b[1;33m.\u001b[0m\u001b[0mstream\u001b[0m\u001b[1;33m(\u001b[0m\u001b[0mchunk_size\u001b[0m\u001b[1;33m,\u001b[0m \u001b[0mdecode_content\u001b[0m\u001b[1;33m=\u001b[0m\u001b[1;32mTrue\u001b[0m\u001b[1;33m)\u001b[0m\u001b[1;33m:\u001b[0m\u001b[1;33m\u001b[0m\u001b[0m\n\u001b[0m\u001b[0;32m    746\u001b[0m                         \u001b[1;32myield\u001b[0m \u001b[0mchunk\u001b[0m\u001b[1;33m\u001b[0m\u001b[0m\n\u001b[0;32m    747\u001b[0m                 \u001b[1;32mexcept\u001b[0m \u001b[0mProtocolError\u001b[0m \u001b[1;32mas\u001b[0m \u001b[0me\u001b[0m\u001b[1;33m:\u001b[0m\u001b[1;33m\u001b[0m\u001b[0m\n",
      "\u001b[1;32m~\\AppData\\Local\\Continuum\\anaconda3\\lib\\site-packages\\urllib3\\response.py\u001b[0m in \u001b[0;36mstream\u001b[1;34m(self, amt, decode_content)\u001b[0m\n\u001b[0;32m    430\u001b[0m         \"\"\"\n\u001b[0;32m    431\u001b[0m         \u001b[1;32mif\u001b[0m \u001b[0mself\u001b[0m\u001b[1;33m.\u001b[0m\u001b[0mchunked\u001b[0m \u001b[1;32mand\u001b[0m \u001b[0mself\u001b[0m\u001b[1;33m.\u001b[0m\u001b[0msupports_chunked_reads\u001b[0m\u001b[1;33m(\u001b[0m\u001b[1;33m)\u001b[0m\u001b[1;33m:\u001b[0m\u001b[1;33m\u001b[0m\u001b[0m\n\u001b[1;32m--> 432\u001b[1;33m             \u001b[1;32mfor\u001b[0m \u001b[0mline\u001b[0m \u001b[1;32min\u001b[0m \u001b[0mself\u001b[0m\u001b[1;33m.\u001b[0m\u001b[0mread_chunked\u001b[0m\u001b[1;33m(\u001b[0m\u001b[0mamt\u001b[0m\u001b[1;33m,\u001b[0m \u001b[0mdecode_content\u001b[0m\u001b[1;33m=\u001b[0m\u001b[0mdecode_content\u001b[0m\u001b[1;33m)\u001b[0m\u001b[1;33m:\u001b[0m\u001b[1;33m\u001b[0m\u001b[0m\n\u001b[0m\u001b[0;32m    433\u001b[0m                 \u001b[1;32myield\u001b[0m \u001b[0mline\u001b[0m\u001b[1;33m\u001b[0m\u001b[0m\n\u001b[0;32m    434\u001b[0m         \u001b[1;32melse\u001b[0m\u001b[1;33m:\u001b[0m\u001b[1;33m\u001b[0m\u001b[0m\n",
      "\u001b[1;32m~\\AppData\\Local\\Continuum\\anaconda3\\lib\\site-packages\\urllib3\\response.py\u001b[0m in \u001b[0;36mread_chunked\u001b[1;34m(self, amt, decode_content)\u001b[0m\n\u001b[0;32m    596\u001b[0m         \u001b[1;32mwith\u001b[0m \u001b[0mself\u001b[0m\u001b[1;33m.\u001b[0m\u001b[0m_error_catcher\u001b[0m\u001b[1;33m(\u001b[0m\u001b[1;33m)\u001b[0m\u001b[1;33m:\u001b[0m\u001b[1;33m\u001b[0m\u001b[0m\n\u001b[0;32m    597\u001b[0m             \u001b[1;32mwhile\u001b[0m \u001b[1;32mTrue\u001b[0m\u001b[1;33m:\u001b[0m\u001b[1;33m\u001b[0m\u001b[0m\n\u001b[1;32m--> 598\u001b[1;33m                 \u001b[0mself\u001b[0m\u001b[1;33m.\u001b[0m\u001b[0m_update_chunk_length\u001b[0m\u001b[1;33m(\u001b[0m\u001b[1;33m)\u001b[0m\u001b[1;33m\u001b[0m\u001b[0m\n\u001b[0m\u001b[0;32m    599\u001b[0m                 \u001b[1;32mif\u001b[0m \u001b[0mself\u001b[0m\u001b[1;33m.\u001b[0m\u001b[0mchunk_left\u001b[0m \u001b[1;33m==\u001b[0m \u001b[1;36m0\u001b[0m\u001b[1;33m:\u001b[0m\u001b[1;33m\u001b[0m\u001b[0m\n\u001b[0;32m    600\u001b[0m                     \u001b[1;32mbreak\u001b[0m\u001b[1;33m\u001b[0m\u001b[0m\n",
      "\u001b[1;32m~\\AppData\\Local\\Continuum\\anaconda3\\lib\\site-packages\\urllib3\\response.py\u001b[0m in \u001b[0;36m_update_chunk_length\u001b[1;34m(self)\u001b[0m\n\u001b[0;32m    538\u001b[0m         \u001b[1;32mif\u001b[0m \u001b[0mself\u001b[0m\u001b[1;33m.\u001b[0m\u001b[0mchunk_left\u001b[0m \u001b[1;32mis\u001b[0m \u001b[1;32mnot\u001b[0m \u001b[1;32mNone\u001b[0m\u001b[1;33m:\u001b[0m\u001b[1;33m\u001b[0m\u001b[0m\n\u001b[0;32m    539\u001b[0m             \u001b[1;32mreturn\u001b[0m\u001b[1;33m\u001b[0m\u001b[0m\n\u001b[1;32m--> 540\u001b[1;33m         \u001b[0mline\u001b[0m \u001b[1;33m=\u001b[0m \u001b[0mself\u001b[0m\u001b[1;33m.\u001b[0m\u001b[0m_fp\u001b[0m\u001b[1;33m.\u001b[0m\u001b[0mfp\u001b[0m\u001b[1;33m.\u001b[0m\u001b[0mreadline\u001b[0m\u001b[1;33m(\u001b[0m\u001b[1;33m)\u001b[0m\u001b[1;33m\u001b[0m\u001b[0m\n\u001b[0m\u001b[0;32m    541\u001b[0m         \u001b[0mline\u001b[0m \u001b[1;33m=\u001b[0m \u001b[0mline\u001b[0m\u001b[1;33m.\u001b[0m\u001b[0msplit\u001b[0m\u001b[1;33m(\u001b[0m\u001b[1;34mb';'\u001b[0m\u001b[1;33m,\u001b[0m \u001b[1;36m1\u001b[0m\u001b[1;33m)\u001b[0m\u001b[1;33m[\u001b[0m\u001b[1;36m0\u001b[0m\u001b[1;33m]\u001b[0m\u001b[1;33m\u001b[0m\u001b[0m\n\u001b[0;32m    542\u001b[0m         \u001b[1;32mtry\u001b[0m\u001b[1;33m:\u001b[0m\u001b[1;33m\u001b[0m\u001b[0m\n",
      "\u001b[1;32m~\\AppData\\Local\\Continuum\\anaconda3\\lib\\socket.py\u001b[0m in \u001b[0;36mreadinto\u001b[1;34m(self, b)\u001b[0m\n\u001b[0;32m    584\u001b[0m         \u001b[1;32mwhile\u001b[0m \u001b[1;32mTrue\u001b[0m\u001b[1;33m:\u001b[0m\u001b[1;33m\u001b[0m\u001b[0m\n\u001b[0;32m    585\u001b[0m             \u001b[1;32mtry\u001b[0m\u001b[1;33m:\u001b[0m\u001b[1;33m\u001b[0m\u001b[0m\n\u001b[1;32m--> 586\u001b[1;33m                 \u001b[1;32mreturn\u001b[0m \u001b[0mself\u001b[0m\u001b[1;33m.\u001b[0m\u001b[0m_sock\u001b[0m\u001b[1;33m.\u001b[0m\u001b[0mrecv_into\u001b[0m\u001b[1;33m(\u001b[0m\u001b[0mb\u001b[0m\u001b[1;33m)\u001b[0m\u001b[1;33m\u001b[0m\u001b[0m\n\u001b[0m\u001b[0;32m    587\u001b[0m             \u001b[1;32mexcept\u001b[0m \u001b[0mtimeout\u001b[0m\u001b[1;33m:\u001b[0m\u001b[1;33m\u001b[0m\u001b[0m\n\u001b[0;32m    588\u001b[0m                 \u001b[0mself\u001b[0m\u001b[1;33m.\u001b[0m\u001b[0m_timeout_occurred\u001b[0m \u001b[1;33m=\u001b[0m \u001b[1;32mTrue\u001b[0m\u001b[1;33m\u001b[0m\u001b[0m\n",
      "\u001b[1;32m~\\AppData\\Local\\Continuum\\anaconda3\\lib\\site-packages\\urllib3\\contrib\\pyopenssl.py\u001b[0m in \u001b[0;36mrecv_into\u001b[1;34m(self, *args, **kwargs)\u001b[0m\n\u001b[0;32m    290\u001b[0m                 \u001b[1;32mraise\u001b[0m\u001b[1;33m\u001b[0m\u001b[0m\n\u001b[0;32m    291\u001b[0m         \u001b[1;32mexcept\u001b[0m \u001b[0mOpenSSL\u001b[0m\u001b[1;33m.\u001b[0m\u001b[0mSSL\u001b[0m\u001b[1;33m.\u001b[0m\u001b[0mWantReadError\u001b[0m\u001b[1;33m:\u001b[0m\u001b[1;33m\u001b[0m\u001b[0m\n\u001b[1;32m--> 292\u001b[1;33m             \u001b[0mrd\u001b[0m \u001b[1;33m=\u001b[0m \u001b[0mutil\u001b[0m\u001b[1;33m.\u001b[0m\u001b[0mwait_for_read\u001b[0m\u001b[1;33m(\u001b[0m\u001b[0mself\u001b[0m\u001b[1;33m.\u001b[0m\u001b[0msocket\u001b[0m\u001b[1;33m,\u001b[0m \u001b[0mself\u001b[0m\u001b[1;33m.\u001b[0m\u001b[0msocket\u001b[0m\u001b[1;33m.\u001b[0m\u001b[0mgettimeout\u001b[0m\u001b[1;33m(\u001b[0m\u001b[1;33m)\u001b[0m\u001b[1;33m)\u001b[0m\u001b[1;33m\u001b[0m\u001b[0m\n\u001b[0m\u001b[0;32m    293\u001b[0m             \u001b[1;32mif\u001b[0m \u001b[1;32mnot\u001b[0m \u001b[0mrd\u001b[0m\u001b[1;33m:\u001b[0m\u001b[1;33m\u001b[0m\u001b[0m\n\u001b[0;32m    294\u001b[0m                 \u001b[1;32mraise\u001b[0m \u001b[0mtimeout\u001b[0m\u001b[1;33m(\u001b[0m\u001b[1;34m'The read operation timed out'\u001b[0m\u001b[1;33m)\u001b[0m\u001b[1;33m\u001b[0m\u001b[0m\n",
      "\u001b[1;32m~\\AppData\\Local\\Continuum\\anaconda3\\lib\\site-packages\\urllib3\\util\\wait.py\u001b[0m in \u001b[0;36mwait_for_read\u001b[1;34m(socks, timeout)\u001b[0m\n\u001b[0;32m     31\u001b[0m     \u001b[1;32mor\u001b[0m \u001b[0moptionally\u001b[0m \u001b[0ma\u001b[0m \u001b[0msingle\u001b[0m \u001b[0msocket\u001b[0m \u001b[1;32mif\u001b[0m \u001b[0mpassed\u001b[0m \u001b[1;32min\u001b[0m\u001b[1;33m.\u001b[0m \u001b[0mReturns\u001b[0m \u001b[0ma\u001b[0m \u001b[0mlist\u001b[0m \u001b[0mof\u001b[0m\u001b[1;33m\u001b[0m\u001b[0m\n\u001b[0;32m     32\u001b[0m     sockets that can be read from immediately. \"\"\"\n\u001b[1;32m---> 33\u001b[1;33m     \u001b[1;32mreturn\u001b[0m \u001b[0m_wait_for_io_events\u001b[0m\u001b[1;33m(\u001b[0m\u001b[0msocks\u001b[0m\u001b[1;33m,\u001b[0m \u001b[0mEVENT_READ\u001b[0m\u001b[1;33m,\u001b[0m \u001b[0mtimeout\u001b[0m\u001b[1;33m)\u001b[0m\u001b[1;33m\u001b[0m\u001b[0m\n\u001b[0m\u001b[0;32m     34\u001b[0m \u001b[1;33m\u001b[0m\u001b[0m\n\u001b[0;32m     35\u001b[0m \u001b[1;33m\u001b[0m\u001b[0m\n",
      "\u001b[1;32m~\\AppData\\Local\\Continuum\\anaconda3\\lib\\site-packages\\urllib3\\util\\wait.py\u001b[0m in \u001b[0;36m_wait_for_io_events\u001b[1;34m(socks, events, timeout)\u001b[0m\n\u001b[0;32m     24\u001b[0m             \u001b[0mselector\u001b[0m\u001b[1;33m.\u001b[0m\u001b[0mregister\u001b[0m\u001b[1;33m(\u001b[0m\u001b[0msock\u001b[0m\u001b[1;33m,\u001b[0m \u001b[0mevents\u001b[0m\u001b[1;33m)\u001b[0m\u001b[1;33m\u001b[0m\u001b[0m\n\u001b[0;32m     25\u001b[0m         return [key[0].fileobj for key in\n\u001b[1;32m---> 26\u001b[1;33m                 selector.select(timeout) if key[1] & events]\n\u001b[0m\u001b[0;32m     27\u001b[0m \u001b[1;33m\u001b[0m\u001b[0m\n\u001b[0;32m     28\u001b[0m \u001b[1;33m\u001b[0m\u001b[0m\n",
      "\u001b[1;32m~\\AppData\\Local\\Continuum\\anaconda3\\lib\\site-packages\\urllib3\\util\\selectors.py\u001b[0m in \u001b[0;36mselect\u001b[1;34m(self, timeout)\u001b[0m\n\u001b[0;32m    318\u001b[0m             \u001b[0mready\u001b[0m \u001b[1;33m=\u001b[0m \u001b[1;33m[\u001b[0m\u001b[1;33m]\u001b[0m\u001b[1;33m\u001b[0m\u001b[0m\n\u001b[0;32m    319\u001b[0m             r, w, _ = _syscall_wrapper(self._select, True, self._readers,\n\u001b[1;32m--> 320\u001b[1;33m                                        self._writers, timeout)\n\u001b[0m\u001b[0;32m    321\u001b[0m             \u001b[0mr\u001b[0m \u001b[1;33m=\u001b[0m \u001b[0mset\u001b[0m\u001b[1;33m(\u001b[0m\u001b[0mr\u001b[0m\u001b[1;33m)\u001b[0m\u001b[1;33m\u001b[0m\u001b[0m\n\u001b[0;32m    322\u001b[0m             \u001b[0mw\u001b[0m \u001b[1;33m=\u001b[0m \u001b[0mset\u001b[0m\u001b[1;33m(\u001b[0m\u001b[0mw\u001b[0m\u001b[1;33m)\u001b[0m\u001b[1;33m\u001b[0m\u001b[0m\n",
      "\u001b[1;32m~\\AppData\\Local\\Continuum\\anaconda3\\lib\\site-packages\\urllib3\\util\\selectors.py\u001b[0m in \u001b[0;36m_syscall_wrapper\u001b[1;34m(func, _, *args, **kwargs)\u001b[0m\n\u001b[0;32m     62\u001b[0m         and recalculate their timeouts. \"\"\"\n\u001b[0;32m     63\u001b[0m         \u001b[1;32mtry\u001b[0m\u001b[1;33m:\u001b[0m\u001b[1;33m\u001b[0m\u001b[0m\n\u001b[1;32m---> 64\u001b[1;33m             \u001b[1;32mreturn\u001b[0m \u001b[0mfunc\u001b[0m\u001b[1;33m(\u001b[0m\u001b[1;33m*\u001b[0m\u001b[0margs\u001b[0m\u001b[1;33m,\u001b[0m \u001b[1;33m**\u001b[0m\u001b[0mkwargs\u001b[0m\u001b[1;33m)\u001b[0m\u001b[1;33m\u001b[0m\u001b[0m\n\u001b[0m\u001b[0;32m     65\u001b[0m         \u001b[1;32mexcept\u001b[0m \u001b[1;33m(\u001b[0m\u001b[0mOSError\u001b[0m\u001b[1;33m,\u001b[0m \u001b[0mIOError\u001b[0m\u001b[1;33m,\u001b[0m \u001b[0mselect\u001b[0m\u001b[1;33m.\u001b[0m\u001b[0merror\u001b[0m\u001b[1;33m)\u001b[0m \u001b[1;32mas\u001b[0m \u001b[0me\u001b[0m\u001b[1;33m:\u001b[0m\u001b[1;33m\u001b[0m\u001b[0m\n\u001b[0;32m     66\u001b[0m             \u001b[0merrcode\u001b[0m \u001b[1;33m=\u001b[0m \u001b[1;32mNone\u001b[0m\u001b[1;33m\u001b[0m\u001b[0m\n",
      "\u001b[1;32m~\\AppData\\Local\\Continuum\\anaconda3\\lib\\site-packages\\urllib3\\util\\selectors.py\u001b[0m in \u001b[0;36m_select\u001b[1;34m(self, r, w, timeout)\u001b[0m\n\u001b[0;32m    308\u001b[0m         \u001b[1;32mdef\u001b[0m \u001b[0m_select\u001b[0m\u001b[1;33m(\u001b[0m\u001b[0mself\u001b[0m\u001b[1;33m,\u001b[0m \u001b[0mr\u001b[0m\u001b[1;33m,\u001b[0m \u001b[0mw\u001b[0m\u001b[1;33m,\u001b[0m \u001b[0mtimeout\u001b[0m\u001b[1;33m=\u001b[0m\u001b[1;32mNone\u001b[0m\u001b[1;33m)\u001b[0m\u001b[1;33m:\u001b[0m\u001b[1;33m\u001b[0m\u001b[0m\n\u001b[0;32m    309\u001b[0m             \u001b[1;34m\"\"\" Wrapper for select.select because timeout is a positional arg \"\"\"\u001b[0m\u001b[1;33m\u001b[0m\u001b[0m\n\u001b[1;32m--> 310\u001b[1;33m             \u001b[1;32mreturn\u001b[0m \u001b[0mselect\u001b[0m\u001b[1;33m.\u001b[0m\u001b[0mselect\u001b[0m\u001b[1;33m(\u001b[0m\u001b[0mr\u001b[0m\u001b[1;33m,\u001b[0m \u001b[0mw\u001b[0m\u001b[1;33m,\u001b[0m \u001b[1;33m[\u001b[0m\u001b[1;33m]\u001b[0m\u001b[1;33m,\u001b[0m \u001b[0mtimeout\u001b[0m\u001b[1;33m)\u001b[0m\u001b[1;33m\u001b[0m\u001b[0m\n\u001b[0m\u001b[0;32m    311\u001b[0m \u001b[1;33m\u001b[0m\u001b[0m\n\u001b[0;32m    312\u001b[0m         \u001b[1;32mdef\u001b[0m \u001b[0mselect\u001b[0m\u001b[1;33m(\u001b[0m\u001b[0mself\u001b[0m\u001b[1;33m,\u001b[0m \u001b[0mtimeout\u001b[0m\u001b[1;33m=\u001b[0m\u001b[1;32mNone\u001b[0m\u001b[1;33m)\u001b[0m\u001b[1;33m:\u001b[0m\u001b[1;33m\u001b[0m\u001b[0m\n",
      "\u001b[1;31mKeyboardInterrupt\u001b[0m: "
     ]
    }
   ],
   "source": [
    "stream = MyStreamer('Lrrgj6b6dLnKEHWNg983JdSW1', '5HqWa8BxaCX38YJwoZZ3epY6Ee3chiGbHiE6vRfqaeNmnuv3UR',\n",
    "                    '63123768-q36bLqyM4UMv8jd27j2FNLHqTv7EryrF5uOOHFWnO', 'r3hxqlPAcwgQ01oYU61Y2cgwLVHP6s9eoqIltZGOgZlLz')\n",
    "# starts consuming public statuses that contain the keyword 'data'\n",
    "stream.statuses.filter(track='data')\n",
    "\n",
    "# if instead we wanted to start consuming a sample of *all* public statuses\n",
    "# stream.statuses.sample()"
   ]
  },
  {
   "cell_type": "code",
   "execution_count": 395,
   "metadata": {},
   "outputs": [
    {
     "name": "stdout",
     "output_type": "stream",
     "text": [
      "[('ai', 2), ('epitwitter', 1), ('kareemhunt', 1), ('fantasyfootball', 1), ('detroitdemolition', 1)]\n"
     ]
    }
   ],
   "source": [
    "top_hashtags = Counter(hashtag['text'].lower()\n",
    "                        for tweet in tweets\n",
    "                        for hashtag in tweet[\"entities\"][\"hashtags\"])\n",
    "\n",
    "print(top_hashtags.most_common(5))"
   ]
  },
  {
   "cell_type": "code",
   "execution_count": 396,
   "metadata": {
    "collapsed": true
   },
   "outputs": [],
   "source": [
    "users = [[0, \"Hero\", 0],\n",
    "[1, \"Dunn\", 2],\n",
    "[2, \"Sue\", 3],\n",
    "[3, \"Chi\", 3]]"
   ]
  },
  {
   "cell_type": "code",
   "execution_count": 433,
   "metadata": {
    "collapsed": true
   },
   "outputs": [],
   "source": [
    "class Table:\n",
    "    def __init__(self, columns):\n",
    "        self.columns = columns\n",
    "        self.rows = []\n",
    "    \n",
    "    def __repr__(self):\n",
    "        \"\"\"pretty representation of the table: columns then rows\"\"\"\n",
    "        return str(self.columns) + \"\\n\" + \"\\n\".join(map(str, self.rows))\n",
    "\n",
    "    def insert(self, row_values):\n",
    "        if len(row_values) != len(self.columns):\n",
    "            raise TypeError(\"wrong number of elements\")\n",
    "        row_dict = dict(zip(self.columns, row_values))\n",
    "        self.rows.append(row_dict)\n",
    "    \n",
    "    def update(self, updates, predicate):\n",
    "        for row in self.rows:\n",
    "            if predicate(row):\n",
    "                for column, new_value in updates.iteritems():\n",
    "                    row[column] = new_value\n",
    "    \n",
    "    def delete(self, predicate=lambda row: True):\n",
    "        \"\"\"delete all rows matching predicate\n",
    "        or all rows if no predicate supplied\"\"\"\n",
    "        self.rows = [row for row in self.rows if not(predicate(row))]\n",
    "    \n",
    "    def select(self, keep_columns=None, additional_columns=None):\n",
    "    \n",
    "        if keep_columns is None: # if no columns specified,\n",
    "            keep_columns = self.columns # return all columns\n",
    "\n",
    "        if additional_columns is None:\n",
    "            additional_columns = {}\n",
    "        # new table for results\n",
    "        result_table = Table(keep_columns + additional_columns.keys())\n",
    "\n",
    "        for row in self.rows:\n",
    "            new_row = [row[column] for column in keep_columns]\n",
    "            for column_name, calculation in additional_columns.iteritems():\n",
    "                new_row.append(calculation(row))\n",
    "            result_table.insert(new_row)\n",
    "        return result_table\n",
    "    \n",
    "    def where(self, predicate=lambda row: True):\n",
    "        \"\"\"return only the rows that satisfy the supplied predicate\"\"\"\n",
    "        where_table = Table(self.columns)\n",
    "        where_table.rows = filter(predicate, self.rows)\n",
    "        return where_table\n",
    "\n",
    "    def limit(self, num_rows):\n",
    "        \"\"\"return only the first num_rows rows\"\"\"\n",
    "        limit_table = Table(self.columns)\n",
    "        limit_table.rows = self.rows[:num_rows]\n",
    "        return limit_table"
   ]
  },
  {
   "cell_type": "code",
   "execution_count": 434,
   "metadata": {
    "scrolled": true
   },
   "outputs": [
    {
     "name": "stdout",
     "output_type": "stream",
     "text": [
      "['user_id', 'name', 'num_friends']\n",
      "{'user_id': 0, 'name': 'Hero', 'num_friends': 0}\n",
      "{'user_id': 1, 'name': 'Dunn', 'num_friends': 2}\n",
      "{'user_id': 2, 'name': 'Sue', 'num_friends': 3}\n",
      "{'user_id': 3, 'name': 'Chi', 'num_friends': 3}\n",
      "{'user_id': 4, 'name': 'Thor', 'num_friends': 3}\n",
      "{'user_id': 5, 'name': 'Clive', 'num_friends': 2}\n",
      "{'user_id': 6, 'name': 'Hicks', 'num_friends': 3}\n",
      "{'user_id': 7, 'name': 'Devin', 'num_friends': 2}\n",
      "{'user_id': 8, 'name': 'Kate', 'num_friends': 2}\n",
      "{'user_id': 9, 'name': 'Klein', 'num_friends': 3}\n",
      "{'user_id': 10, 'name': 'Jen', 'num_friends': 1}\n"
     ]
    }
   ],
   "source": [
    "users = Table([\"user_id\", \"name\", \"num_friends\"])\n",
    "users.insert([0, \"Hero\", 0])\n",
    "users.insert([1, \"Dunn\", 2])\n",
    "users.insert([2, \"Sue\", 3])\n",
    "users.insert([3, \"Chi\", 3])\n",
    "users.insert([4, \"Thor\", 3])\n",
    "users.insert([5, \"Clive\", 2])\n",
    "users.insert([6, \"Hicks\", 3])\n",
    "users.insert([7, \"Devin\", 2])\n",
    "users.insert([8, \"Kate\", 2])\n",
    "users.insert([9, \"Klein\", 3])\n",
    "users.insert([10, \"Jen\", 1])\n",
    "print(users)"
   ]
  },
  {
   "cell_type": "code",
   "execution_count": 420,
   "metadata": {},
   "outputs": [
    {
     "ename": "AttributeError",
     "evalue": "'dict' object has no attribute 'iteritems'",
     "output_type": "error",
     "traceback": [
      "\u001b[1;31m---------------------------------------------------------------------------\u001b[0m",
      "\u001b[1;31mAttributeError\u001b[0m                            Traceback (most recent call last)",
      "\u001b[1;32m<ipython-input-420-067e5ae51fc6>\u001b[0m in \u001b[0;36m<module>\u001b[1;34m()\u001b[0m\n\u001b[0;32m      1\u001b[0m users.update({'num_friends' : 3}, # set num_friends = 3\n\u001b[1;32m----> 2\u001b[1;33m                 lambda row: row['user_id'] == 1) # in rows where user_id == 1\n\u001b[0m",
      "\u001b[1;32m<ipython-input-418-24f5b3d68b0d>\u001b[0m in \u001b[0;36mupdate\u001b[1;34m(self, updates, predicate)\u001b[0m\n\u001b[0;32m     17\u001b[0m         \u001b[1;32mfor\u001b[0m \u001b[0mrow\u001b[0m \u001b[1;32min\u001b[0m \u001b[0mself\u001b[0m\u001b[1;33m.\u001b[0m\u001b[0mrows\u001b[0m\u001b[1;33m:\u001b[0m\u001b[1;33m\u001b[0m\u001b[0m\n\u001b[0;32m     18\u001b[0m             \u001b[1;32mif\u001b[0m \u001b[0mpredicate\u001b[0m\u001b[1;33m(\u001b[0m\u001b[0mrow\u001b[0m\u001b[1;33m)\u001b[0m\u001b[1;33m:\u001b[0m\u001b[1;33m\u001b[0m\u001b[0m\n\u001b[1;32m---> 19\u001b[1;33m                 \u001b[1;32mfor\u001b[0m \u001b[0mcolumn\u001b[0m\u001b[1;33m,\u001b[0m \u001b[0mnew_value\u001b[0m \u001b[1;32min\u001b[0m \u001b[0mupdates\u001b[0m\u001b[1;33m.\u001b[0m\u001b[0miteritems\u001b[0m\u001b[1;33m(\u001b[0m\u001b[1;33m)\u001b[0m\u001b[1;33m:\u001b[0m\u001b[1;33m\u001b[0m\u001b[0m\n\u001b[0m\u001b[0;32m     20\u001b[0m                     \u001b[0mrow\u001b[0m\u001b[1;33m[\u001b[0m\u001b[0mcolumn\u001b[0m\u001b[1;33m]\u001b[0m \u001b[1;33m=\u001b[0m \u001b[0mnew_value\u001b[0m\u001b[1;33m\u001b[0m\u001b[0m\n",
      "\u001b[1;31mAttributeError\u001b[0m: 'dict' object has no attribute 'iteritems'"
     ]
    }
   ],
   "source": [
    "users.update({'num_friends' : 3}, # set num_friends = 3\n",
    "                lambda row: row['user_id'] == 1) # in rows where user_id == 1"
   ]
  },
  {
   "cell_type": "code",
   "execution_count": null,
   "metadata": {
    "collapsed": true
   },
   "outputs": [],
   "source": [
    "def delete(self, predicate=lambda row: True):\n",
    "    \"\"\"delete all rows matching predicate\n",
    "    or all rows if no predicate supplied\"\"\"\n",
    "    self.rows = [row for row in self.rows if not(predicate(row))]"
   ]
  },
  {
   "cell_type": "code",
   "execution_count": 427,
   "metadata": {},
   "outputs": [],
   "source": [
    "users.delete(lambda row: row[\"user_id\"] == 1) # deletes rows with user_id == 1\n",
    "users.delete() # deletes every row"
   ]
  },
  {
   "cell_type": "code",
   "execution_count": 435,
   "metadata": {},
   "outputs": [
    {
     "ename": "TypeError",
     "evalue": "can only concatenate list (not \"dict_keys\") to list",
     "output_type": "error",
     "traceback": [
      "\u001b[1;31m---------------------------------------------------------------------------\u001b[0m",
      "\u001b[1;31mTypeError\u001b[0m                                 Traceback (most recent call last)",
      "\u001b[1;32m<ipython-input-435-bf3c93cf84d0>\u001b[0m in \u001b[0;36m<module>\u001b[1;34m()\u001b[0m\n\u001b[0;32m      1\u001b[0m \u001b[1;31m# SELECT * FROM users;\u001b[0m\u001b[1;33m\u001b[0m\u001b[1;33m\u001b[0m\u001b[0m\n\u001b[1;32m----> 2\u001b[1;33m \u001b[0musers\u001b[0m\u001b[1;33m.\u001b[0m\u001b[0mselect\u001b[0m\u001b[1;33m(\u001b[0m\u001b[1;33m)\u001b[0m\u001b[1;33m\u001b[0m\u001b[0m\n\u001b[0m\u001b[0;32m      3\u001b[0m \u001b[1;33m\u001b[0m\u001b[0m\n\u001b[0;32m      4\u001b[0m \u001b[1;31m# SELECT * FROM users LIMIT 2;\u001b[0m\u001b[1;33m\u001b[0m\u001b[1;33m\u001b[0m\u001b[0m\n\u001b[0;32m      5\u001b[0m \u001b[0musers\u001b[0m\u001b[1;33m.\u001b[0m\u001b[0mlimit\u001b[0m\u001b[1;33m(\u001b[0m\u001b[1;36m2\u001b[0m\u001b[1;33m)\u001b[0m\u001b[1;33m\u001b[0m\u001b[0m\n",
      "\u001b[1;32m<ipython-input-433-7246bae5735b>\u001b[0m in \u001b[0;36mselect\u001b[1;34m(self, keep_columns, additional_columns)\u001b[0m\n\u001b[0;32m     33\u001b[0m             \u001b[0madditional_columns\u001b[0m \u001b[1;33m=\u001b[0m \u001b[1;33m{\u001b[0m\u001b[1;33m}\u001b[0m\u001b[1;33m\u001b[0m\u001b[0m\n\u001b[0;32m     34\u001b[0m         \u001b[1;31m# new table for results\u001b[0m\u001b[1;33m\u001b[0m\u001b[1;33m\u001b[0m\u001b[0m\n\u001b[1;32m---> 35\u001b[1;33m         \u001b[0mresult_table\u001b[0m \u001b[1;33m=\u001b[0m \u001b[0mTable\u001b[0m\u001b[1;33m(\u001b[0m\u001b[0mkeep_columns\u001b[0m \u001b[1;33m+\u001b[0m \u001b[0madditional_columns\u001b[0m\u001b[1;33m.\u001b[0m\u001b[0mkeys\u001b[0m\u001b[1;33m(\u001b[0m\u001b[1;33m)\u001b[0m\u001b[1;33m)\u001b[0m\u001b[1;33m\u001b[0m\u001b[0m\n\u001b[0m\u001b[0;32m     36\u001b[0m \u001b[1;33m\u001b[0m\u001b[0m\n\u001b[0;32m     37\u001b[0m         \u001b[1;32mfor\u001b[0m \u001b[0mrow\u001b[0m \u001b[1;32min\u001b[0m \u001b[0mself\u001b[0m\u001b[1;33m.\u001b[0m\u001b[0mrows\u001b[0m\u001b[1;33m:\u001b[0m\u001b[1;33m\u001b[0m\u001b[0m\n",
      "\u001b[1;31mTypeError\u001b[0m: can only concatenate list (not \"dict_keys\") to list"
     ]
    }
   ],
   "source": [
    "# SELECT * FROM users;\n",
    "users.select()\n",
    "\n",
    "# SELECT * FROM users LIMIT 2;\n",
    "users.limit(2)\n",
    "\n",
    "# SELECT user_id FROM users;\n",
    "users.select(keep_columns=[\"user_id\"])\n",
    "\n",
    "# SELECT user_id FROM users WHERE name = 'Dunn';\n",
    "users.where(lambda row: row[\"name\"] == \"Dunn\") \\\n",
    "    .select(keep_columns=[\"user_id\"])\n",
    "\n",
    "# SELECT LENGTH(name) AS name_length FROM users;\n",
    "def name_length(row): return len(row[\"name\"])\n",
    "\n",
    "users.select(keep_columns=[],\n",
    "            additional_columns = { \"name_length\" : name_length })"
   ]
  },
  {
   "cell_type": "code",
   "execution_count": 436,
   "metadata": {
    "collapsed": true
   },
   "outputs": [],
   "source": [
    "user_interests = Table([\"user_id\", \"interest\"])\n",
    "user_interests.insert([0, \"SQL\"])\n",
    "user_interests.insert([0, \"NoSQL\"])\n",
    "user_interests.insert([2, \"SQL\"])\n",
    "user_interests.insert([2, \"MySQL\"])"
   ]
  }
 ],
 "metadata": {
  "kernelspec": {
   "display_name": "Python 3",
   "language": "python",
   "name": "python3"
  },
  "language_info": {
   "codemirror_mode": {
    "name": "ipython",
    "version": 3
   },
   "file_extension": ".py",
   "mimetype": "text/x-python",
   "name": "python",
   "nbconvert_exporter": "python",
   "pygments_lexer": "ipython3",
   "version": "3.6.3"
  }
 },
 "nbformat": 4,
 "nbformat_minor": 2
}
