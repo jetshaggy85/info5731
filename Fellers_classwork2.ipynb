{
  "nbformat": 4,
  "nbformat_minor": 0,
  "metadata": {
    "colab": {
      "name": "Fellers_classwork2.ipynb",
      "version": "0.3.2",
      "provenance": [],
      "collapsed_sections": [],
      "include_colab_link": true
    },
    "kernelspec": {
      "name": "python3",
      "display_name": "Python 3"
    }
  },
  "cells": [
    {
      "cell_type": "markdown",
      "metadata": {
        "id": "view-in-github",
        "colab_type": "text"
      },
      "source": [
        "<a href=\"https://colab.research.google.com/github/jetshaggy85/info5731/blob/master/Fellers_classwork2.ipynb\" target=\"_parent\"><img src=\"https://colab.research.google.com/assets/colab-badge.svg\" alt=\"Open In Colab\"/></a>"
      ]
    },
    {
      "metadata": {
        "id": "00TbCTENXkDt",
        "colab_type": "text"
      },
      "cell_type": "markdown",
      "source": [
        "# Class work 2"
      ]
    },
    {
      "metadata": {
        "id": "pLDeyVA_XopP",
        "colab_type": "text"
      },
      "cell_type": "markdown",
      "source": [
        "In this class work, you will try to do **Exploratory Data Analysis** with Pandas."
      ]
    },
    {
      "metadata": {
        "id": "yU7U4BV5_zyk",
        "colab_type": "text"
      },
      "cell_type": "markdown",
      "source": [
        "## Data Preperation"
      ]
    },
    {
      "metadata": {
        "id": "iYVG-cN9YanN",
        "colab_type": "text"
      },
      "cell_type": "markdown",
      "source": [
        "Please run the following lines of codes, to get source data."
      ]
    },
    {
      "metadata": {
        "id": "kXj21moT-xkR",
        "colab_type": "code",
        "colab": {
          "base_uri": "https://localhost:8080/",
          "height": 289
        },
        "outputId": "b5d2bc29-2267-4e81-f46b-1e2ac8106034"
      },
      "cell_type": "code",
      "source": [
        "!wget https://github.com/wshuyi/info-5731-public/raw/master/winemag-data-130k-v2.csv.zip"
      ],
      "execution_count": 1,
      "outputs": [
        {
          "output_type": "stream",
          "text": [
            "--2019-02-19 20:45:13--  https://github.com/wshuyi/info-5731-public/raw/master/winemag-data-130k-v2.csv.zip\n",
            "Resolving github.com (github.com)... 192.30.253.113, 192.30.253.112\n",
            "Connecting to github.com (github.com)|192.30.253.113|:443... connected.\n",
            "HTTP request sent, awaiting response... 302 Found\n",
            "Location: https://raw.githubusercontent.com/wshuyi/info-5731-public/master/winemag-data-130k-v2.csv.zip [following]\n",
            "--2019-02-19 20:45:18--  https://raw.githubusercontent.com/wshuyi/info-5731-public/master/winemag-data-130k-v2.csv.zip\n",
            "Resolving raw.githubusercontent.com (raw.githubusercontent.com)... 151.101.0.133, 151.101.64.133, 151.101.128.133, ...\n",
            "Connecting to raw.githubusercontent.com (raw.githubusercontent.com)|151.101.0.133|:443... connected.\n",
            "HTTP request sent, awaiting response... 200 OK\n",
            "Length: 17180932 (16M) [application/zip]\n",
            "Saving to: ‘winemag-data-130k-v2.csv.zip’\n",
            "\n",
            "winemag-data-130k-v 100%[===================>]  16.38M  46.1MB/s    in 0.4s    \n",
            "\n",
            "2019-02-19 20:45:19 (46.1 MB/s) - ‘winemag-data-130k-v2.csv.zip’ saved [17180932/17180932]\n",
            "\n"
          ],
          "name": "stdout"
        }
      ]
    },
    {
      "metadata": {
        "id": "6-kHQW5Q-0hL",
        "colab_type": "code",
        "colab": {
          "base_uri": "https://localhost:8080/",
          "height": 51
        },
        "outputId": "be10b687-baab-460f-eb5e-8df32a6ea4e3"
      },
      "cell_type": "code",
      "source": [
        "!unzip winemag-data-130k-v2.csv.zip"
      ],
      "execution_count": 2,
      "outputs": [
        {
          "output_type": "stream",
          "text": [
            "Archive:  winemag-data-130k-v2.csv.zip\n",
            "  inflating: winemag-data-130k-v2.csv  \n"
          ],
          "name": "stdout"
        }
      ]
    },
    {
      "metadata": {
        "id": "bCMqjn3nXsuk",
        "colab_type": "text"
      },
      "cell_type": "markdown",
      "source": [
        "## Questions\n",
        "\n",
        "5 points for each question, and full score is 100. "
      ]
    },
    {
      "metadata": {
        "id": "75w4RZfS_UQC",
        "colab_type": "text"
      },
      "cell_type": "markdown",
      "source": [
        "**Question 1.** The data file is stored in csv format and named \"winemag-data-130k-v2.csv \". Please read it into a Pandas dataframe, and name the dataframe as \"reviews\". Make sure the first column should be \"country\", instead of a **\"unnamed\"** one. Display the first 5 rows."
      ]
    },
    {
      "metadata": {
        "id": "qW1V3R1K_nMT",
        "colab_type": "code",
        "colab": {}
      },
      "cell_type": "code",
      "source": [
        "import pandas as pd"
      ],
      "execution_count": 0,
      "outputs": []
    },
    {
      "metadata": {
        "id": "umXGoo0ug-gA",
        "colab_type": "code",
        "colab": {}
      },
      "cell_type": "code",
      "source": [
        "reviews=pd.read_csv('winemag-data-130k-v2.csv')\n",
        "reviews.drop('Unnamed: 0',axis=1,inplace=True)"
      ],
      "execution_count": 0,
      "outputs": []
    },
    {
      "metadata": {
        "id": "y49DrHMThfEd",
        "colab_type": "code",
        "colab": {
          "base_uri": "https://localhost:8080/",
          "height": 510
        },
        "outputId": "1b03b9c2-b0ef-4c3a-b4a8-dc59b10f5850"
      },
      "cell_type": "code",
      "source": [
        "reviews.head()"
      ],
      "execution_count": 9,
      "outputs": [
        {
          "output_type": "execute_result",
          "data": {
            "text/html": [
              "<div>\n",
              "<style scoped>\n",
              "    .dataframe tbody tr th:only-of-type {\n",
              "        vertical-align: middle;\n",
              "    }\n",
              "\n",
              "    .dataframe tbody tr th {\n",
              "        vertical-align: top;\n",
              "    }\n",
              "\n",
              "    .dataframe thead th {\n",
              "        text-align: right;\n",
              "    }\n",
              "</style>\n",
              "<table border=\"1\" class=\"dataframe\">\n",
              "  <thead>\n",
              "    <tr style=\"text-align: right;\">\n",
              "      <th></th>\n",
              "      <th>country</th>\n",
              "      <th>description</th>\n",
              "      <th>designation</th>\n",
              "      <th>points</th>\n",
              "      <th>price</th>\n",
              "      <th>province</th>\n",
              "      <th>region_1</th>\n",
              "      <th>region_2</th>\n",
              "      <th>taster_name</th>\n",
              "      <th>taster_twitter_handle</th>\n",
              "      <th>title</th>\n",
              "      <th>variety</th>\n",
              "      <th>winery</th>\n",
              "    </tr>\n",
              "  </thead>\n",
              "  <tbody>\n",
              "    <tr>\n",
              "      <th>0</th>\n",
              "      <td>Italy</td>\n",
              "      <td>Aromas include tropical fruit, broom, brimston...</td>\n",
              "      <td>Vulkà Bianco</td>\n",
              "      <td>87</td>\n",
              "      <td>NaN</td>\n",
              "      <td>Sicily &amp; Sardinia</td>\n",
              "      <td>Etna</td>\n",
              "      <td>NaN</td>\n",
              "      <td>Kerin O’Keefe</td>\n",
              "      <td>@kerinokeefe</td>\n",
              "      <td>Nicosia 2013 Vulkà Bianco  (Etna)</td>\n",
              "      <td>White Blend</td>\n",
              "      <td>Nicosia</td>\n",
              "    </tr>\n",
              "    <tr>\n",
              "      <th>1</th>\n",
              "      <td>Portugal</td>\n",
              "      <td>This is ripe and fruity, a wine that is smooth...</td>\n",
              "      <td>Avidagos</td>\n",
              "      <td>87</td>\n",
              "      <td>15.0</td>\n",
              "      <td>Douro</td>\n",
              "      <td>NaN</td>\n",
              "      <td>NaN</td>\n",
              "      <td>Roger Voss</td>\n",
              "      <td>@vossroger</td>\n",
              "      <td>Quinta dos Avidagos 2011 Avidagos Red (Douro)</td>\n",
              "      <td>Portuguese Red</td>\n",
              "      <td>Quinta dos Avidagos</td>\n",
              "    </tr>\n",
              "    <tr>\n",
              "      <th>2</th>\n",
              "      <td>US</td>\n",
              "      <td>Tart and snappy, the flavors of lime flesh and...</td>\n",
              "      <td>NaN</td>\n",
              "      <td>87</td>\n",
              "      <td>14.0</td>\n",
              "      <td>Oregon</td>\n",
              "      <td>Willamette Valley</td>\n",
              "      <td>Willamette Valley</td>\n",
              "      <td>Paul Gregutt</td>\n",
              "      <td>@paulgwine</td>\n",
              "      <td>Rainstorm 2013 Pinot Gris (Willamette Valley)</td>\n",
              "      <td>Pinot Gris</td>\n",
              "      <td>Rainstorm</td>\n",
              "    </tr>\n",
              "    <tr>\n",
              "      <th>3</th>\n",
              "      <td>US</td>\n",
              "      <td>Pineapple rind, lemon pith and orange blossom ...</td>\n",
              "      <td>Reserve Late Harvest</td>\n",
              "      <td>87</td>\n",
              "      <td>13.0</td>\n",
              "      <td>Michigan</td>\n",
              "      <td>Lake Michigan Shore</td>\n",
              "      <td>NaN</td>\n",
              "      <td>Alexander Peartree</td>\n",
              "      <td>NaN</td>\n",
              "      <td>St. Julian 2013 Reserve Late Harvest Riesling ...</td>\n",
              "      <td>Riesling</td>\n",
              "      <td>St. Julian</td>\n",
              "    </tr>\n",
              "    <tr>\n",
              "      <th>4</th>\n",
              "      <td>US</td>\n",
              "      <td>Much like the regular bottling from 2012, this...</td>\n",
              "      <td>Vintner's Reserve Wild Child Block</td>\n",
              "      <td>87</td>\n",
              "      <td>65.0</td>\n",
              "      <td>Oregon</td>\n",
              "      <td>Willamette Valley</td>\n",
              "      <td>Willamette Valley</td>\n",
              "      <td>Paul Gregutt</td>\n",
              "      <td>@paulgwine</td>\n",
              "      <td>Sweet Cheeks 2012 Vintner's Reserve Wild Child...</td>\n",
              "      <td>Pinot Noir</td>\n",
              "      <td>Sweet Cheeks</td>\n",
              "    </tr>\n",
              "  </tbody>\n",
              "</table>\n",
              "</div>"
            ],
            "text/plain": [
              "    country                                        description  \\\n",
              "0     Italy  Aromas include tropical fruit, broom, brimston...   \n",
              "1  Portugal  This is ripe and fruity, a wine that is smooth...   \n",
              "2        US  Tart and snappy, the flavors of lime flesh and...   \n",
              "3        US  Pineapple rind, lemon pith and orange blossom ...   \n",
              "4        US  Much like the regular bottling from 2012, this...   \n",
              "\n",
              "                          designation  points  price           province  \\\n",
              "0                        Vulkà Bianco      87    NaN  Sicily & Sardinia   \n",
              "1                            Avidagos      87   15.0              Douro   \n",
              "2                                 NaN      87   14.0             Oregon   \n",
              "3                Reserve Late Harvest      87   13.0           Michigan   \n",
              "4  Vintner's Reserve Wild Child Block      87   65.0             Oregon   \n",
              "\n",
              "              region_1           region_2         taster_name  \\\n",
              "0                 Etna                NaN       Kerin O’Keefe   \n",
              "1                  NaN                NaN          Roger Voss   \n",
              "2    Willamette Valley  Willamette Valley        Paul Gregutt   \n",
              "3  Lake Michigan Shore                NaN  Alexander Peartree   \n",
              "4    Willamette Valley  Willamette Valley        Paul Gregutt   \n",
              "\n",
              "  taster_twitter_handle                                              title  \\\n",
              "0          @kerinokeefe                  Nicosia 2013 Vulkà Bianco  (Etna)   \n",
              "1            @vossroger      Quinta dos Avidagos 2011 Avidagos Red (Douro)   \n",
              "2           @paulgwine       Rainstorm 2013 Pinot Gris (Willamette Valley)   \n",
              "3                   NaN  St. Julian 2013 Reserve Late Harvest Riesling ...   \n",
              "4           @paulgwine   Sweet Cheeks 2012 Vintner's Reserve Wild Child...   \n",
              "\n",
              "          variety               winery  \n",
              "0     White Blend              Nicosia  \n",
              "1  Portuguese Red  Quinta dos Avidagos  \n",
              "2      Pinot Gris            Rainstorm  \n",
              "3        Riesling           St. Julian  \n",
              "4      Pinot Noir         Sweet Cheeks  "
            ]
          },
          "metadata": {
            "tags": []
          },
          "execution_count": 9
        }
      ]
    },
    {
      "metadata": {
        "id": "SLIvVmMncJp4",
        "colab_type": "code",
        "colab": {}
      },
      "cell_type": "code",
      "source": [
        "# Expected Output:\n",
        "image_url = \"https://github.com/wshuyi/github_pub_img/raw/master/assets/2019-02-18-10-21-51-880386.png\"\n",
        "from IPython.display import Image\n",
        "Image(image_url)"
      ],
      "execution_count": 0,
      "outputs": []
    },
    {
      "metadata": {
        "id": "IcCTDpO1AwkP",
        "colab_type": "text"
      },
      "cell_type": "markdown",
      "source": [
        "**Question 2.** What is the data type of the `points` column in the dataset?"
      ]
    },
    {
      "metadata": {
        "colab_type": "code",
        "id": "UBAPam8FXTyX",
        "colab": {
          "base_uri": "https://localhost:8080/",
          "height": 34
        },
        "outputId": "01220766-233f-45cb-dfda-24183bc64cbd"
      },
      "cell_type": "code",
      "source": [
        "reviews.points.dtypes"
      ],
      "execution_count": 12,
      "outputs": [
        {
          "output_type": "execute_result",
          "data": {
            "text/plain": [
              "dtype('int64')"
            ]
          },
          "metadata": {
            "tags": []
          },
          "execution_count": 12
        }
      ]
    },
    {
      "metadata": {
        "id": "3FWHkhoFctMa",
        "colab_type": "code",
        "colab": {}
      },
      "cell_type": "code",
      "source": [
        "# Expected Output:\n",
        "image_url = \"https://github.com/wshuyi/github_pub_img/raw/master/assets/2019-02-18-10-22-08-367025.png\"\n",
        "from IPython.display import Image\n",
        "Image(image_url)"
      ],
      "execution_count": 0,
      "outputs": []
    },
    {
      "metadata": {
        "id": "kzK8xgGaOhS6",
        "colab_type": "text"
      },
      "cell_type": "markdown",
      "source": [
        "**Question 3.** Select the `description` column from `reviews` and assign the result to the variable `desc`. Show the first 5 rows of `desc`."
      ]
    },
    {
      "metadata": {
        "colab_type": "code",
        "id": "TqrZGd7wXUSa",
        "colab": {
          "base_uri": "https://localhost:8080/",
          "height": 119
        },
        "outputId": "3cd56540-caa9-4ec3-add1-efeab1376627"
      },
      "cell_type": "code",
      "source": [
        "reviews['desc']=reviews.description\n",
        "reviews.desc.head()"
      ],
      "execution_count": 16,
      "outputs": [
        {
          "output_type": "execute_result",
          "data": {
            "text/plain": [
              "0    Aromas include tropical fruit, broom, brimston...\n",
              "1    This is ripe and fruity, a wine that is smooth...\n",
              "2    Tart and snappy, the flavors of lime flesh and...\n",
              "3    Pineapple rind, lemon pith and orange blossom ...\n",
              "4    Much like the regular bottling from 2012, this...\n",
              "Name: desc, dtype: object"
            ]
          },
          "metadata": {
            "tags": []
          },
          "execution_count": 16
        }
      ]
    },
    {
      "metadata": {
        "id": "VxnoTs4NcvEM",
        "colab_type": "code",
        "colab": {}
      },
      "cell_type": "code",
      "source": [
        "# Expected Output:\n",
        "image_url = \"https://github.com/wshuyi/github_pub_img/raw/master/assets/2019-02-18-10-22-46-339216.png\"\n",
        "from IPython.display import Image\n",
        "Image(image_url)"
      ],
      "execution_count": 0,
      "outputs": []
    },
    {
      "metadata": {
        "id": "3EcvMcQVOuRF",
        "colab_type": "text"
      },
      "cell_type": "markdown",
      "source": [
        "**Question 4.** what type of object is `desc`?"
      ]
    },
    {
      "metadata": {
        "colab_type": "code",
        "id": "Ntt-XJeiXUv9",
        "colab": {
          "base_uri": "https://localhost:8080/",
          "height": 34
        },
        "outputId": "725f7b10-b70e-465f-92f2-dde86b75b38c"
      },
      "cell_type": "code",
      "source": [
        "type(reviews.desc)"
      ],
      "execution_count": 20,
      "outputs": [
        {
          "output_type": "execute_result",
          "data": {
            "text/plain": [
              "pandas.core.series.Series"
            ]
          },
          "metadata": {
            "tags": []
          },
          "execution_count": 20
        }
      ]
    },
    {
      "metadata": {
        "id": "SseLGPuScyAM",
        "colab_type": "code",
        "colab": {}
      },
      "cell_type": "code",
      "source": [
        "# Expected Output:\n",
        "image_url = \"https://github.com/wshuyi/github_pub_img/raw/master/assets/2019-02-18-10-22-58-641958.png\"\n",
        "from IPython.display import Image\n",
        "Image(image_url)"
      ],
      "execution_count": 0,
      "outputs": []
    },
    {
      "metadata": {
        "id": "CwrlkouyO2hs",
        "colab_type": "text"
      },
      "cell_type": "markdown",
      "source": [
        "**Question 5.** Select the first value from the description column of `reviews`, assigning it to variable `first_description`. Show the content of `first_description`."
      ]
    },
    {
      "metadata": {
        "colab_type": "code",
        "id": "RskJKxrkXVQD",
        "colab": {
          "base_uri": "https://localhost:8080/",
          "height": 54
        },
        "outputId": "15197637-e222-4e01-f07f-86003545e6f3"
      },
      "cell_type": "code",
      "source": [
        "first_description=reviews.loc[0,'description']\n",
        "first_description"
      ],
      "execution_count": 30,
      "outputs": [
        {
          "output_type": "execute_result",
          "data": {
            "text/plain": [
              "\"Aromas include tropical fruit, broom, brimstone and dried herb. The palate isn't overly expressive, offering unripened apple, citrus and dried sage alongside brisk acidity.\""
            ]
          },
          "metadata": {
            "tags": []
          },
          "execution_count": 30
        }
      ]
    },
    {
      "metadata": {
        "id": "6g_osKvBc0qp",
        "colab_type": "code",
        "colab": {}
      },
      "cell_type": "code",
      "source": [
        "# Expected Output:\n",
        "image_url = \"https://github.com/wshuyi/github_pub_img/raw/master/assets/2019-02-18-10-23-18-848390.png\"\n",
        "from IPython.display import Image\n",
        "Image(image_url)"
      ],
      "execution_count": 0,
      "outputs": []
    },
    {
      "metadata": {
        "id": "7vqxm9CaPLPZ",
        "colab_type": "text"
      },
      "cell_type": "markdown",
      "source": [
        "**Question 6.** Select the first row of data (the first record) from `reviews`, assigning it to the variable `first_row`. Show the content of `first_row`."
      ]
    },
    {
      "metadata": {
        "colab_type": "code",
        "id": "QNZfRkHHXVpm",
        "colab": {
          "base_uri": "https://localhost:8080/",
          "height": 255
        },
        "outputId": "1950bca1-97ba-4687-85fd-f47dd2442ba2"
      },
      "cell_type": "code",
      "source": [
        "first_row=reviews.loc[0,]\n",
        "first_row"
      ],
      "execution_count": 49,
      "outputs": [
        {
          "output_type": "execute_result",
          "data": {
            "text/plain": [
              "country                                                              Italy\n",
              "description              Aromas include tropical fruit, broom, brimston...\n",
              "designation                                                   Vulkà Bianco\n",
              "points                                                                  87\n",
              "price                                                                  NaN\n",
              "province                                                 Sicily & Sardinia\n",
              "region_1                                                              Etna\n",
              "region_2                                                               NaN\n",
              "taster_name                                                  Kerin O’Keefe\n",
              "taster_twitter_handle                                         @kerinokeefe\n",
              "title                                    Nicosia 2013 Vulkà Bianco  (Etna)\n",
              "variety                                                        White Blend\n",
              "winery                                                             Nicosia\n",
              "Name: 0, dtype: object"
            ]
          },
          "metadata": {
            "tags": []
          },
          "execution_count": 49
        }
      ]
    },
    {
      "metadata": {
        "id": "1xGiCixEc58C",
        "colab_type": "code",
        "colab": {}
      },
      "cell_type": "code",
      "source": [
        "# Expected Output:\n",
        "image_url = \"https://github.com/wshuyi/github_pub_img/raw/master/assets/2019-02-18-10-23-29-081662.png\"\n",
        "from IPython.display import Image\n",
        "Image(image_url)"
      ],
      "execution_count": 0,
      "outputs": []
    },
    {
      "metadata": {
        "id": "bXaPGZyKPYPT",
        "colab_type": "text"
      },
      "cell_type": "markdown",
      "source": [
        "**Question 7.** Select the first 10 values from the `description` column in `reviews`, assigning the result to variable `first_descriptions`. Show the content of `first_descriptions`. (Hint: format your output as a `pandas` `Series`.)"
      ]
    },
    {
      "metadata": {
        "colab_type": "code",
        "id": "gXjvqaoXXWGK",
        "colab": {
          "base_uri": "https://localhost:8080/",
          "height": 204
        },
        "outputId": "fe7728d4-4ee1-4047-bee6-f77b2701bd68"
      },
      "cell_type": "code",
      "source": [
        "first_descriptions=reviews.loc[0:9,'description']\n",
        "first_descriptions"
      ],
      "execution_count": 54,
      "outputs": [
        {
          "output_type": "execute_result",
          "data": {
            "text/plain": [
              "0    Aromas include tropical fruit, broom, brimston...\n",
              "1    This is ripe and fruity, a wine that is smooth...\n",
              "2    Tart and snappy, the flavors of lime flesh and...\n",
              "3    Pineapple rind, lemon pith and orange blossom ...\n",
              "4    Much like the regular bottling from 2012, this...\n",
              "5    Blackberry and raspberry aromas show a typical...\n",
              "6    Here's a bright, informal red that opens with ...\n",
              "7    This dry and restrained wine offers spice in p...\n",
              "8    Savory dried thyme notes accent sunnier flavor...\n",
              "9    This has great depth of flavor with its fresh ...\n",
              "Name: description, dtype: object"
            ]
          },
          "metadata": {
            "tags": []
          },
          "execution_count": 54
        }
      ]
    },
    {
      "metadata": {
        "id": "Yx_gKZgXc8bF",
        "colab_type": "code",
        "colab": {}
      },
      "cell_type": "code",
      "source": [
        "# Expected Output:\n",
        "image_url = \"https://github.com/wshuyi/github_pub_img/raw/master/assets/2019-02-18-10-23-54-273700.png\"\n",
        "from IPython.display import Image\n",
        "Image(image_url)"
      ],
      "execution_count": 0,
      "outputs": []
    },
    {
      "metadata": {
        "id": "nU_kWzEWPlhU",
        "colab_type": "text"
      },
      "cell_type": "markdown",
      "source": [
        "**Question 8.** Select the records with index labels `1`, `2`, `4`, `5`, and `7`, assigning the result to the variable `sample_reviews`. Show first 5 rows of `sample_reviews`."
      ]
    },
    {
      "metadata": {
        "colab_type": "code",
        "id": "_B5NkoPeXWtW",
        "colab": {
          "base_uri": "https://localhost:8080/",
          "height": 459
        },
        "outputId": "f9545038-1145-45d5-8242-0a934629eff8"
      },
      "cell_type": "code",
      "source": [
        "sample_reviews=reviews.loc[[1,2,4,5,7],]\n",
        "sample_reviews.head()"
      ],
      "execution_count": 57,
      "outputs": [
        {
          "output_type": "execute_result",
          "data": {
            "text/html": [
              "<div>\n",
              "<style scoped>\n",
              "    .dataframe tbody tr th:only-of-type {\n",
              "        vertical-align: middle;\n",
              "    }\n",
              "\n",
              "    .dataframe tbody tr th {\n",
              "        vertical-align: top;\n",
              "    }\n",
              "\n",
              "    .dataframe thead th {\n",
              "        text-align: right;\n",
              "    }\n",
              "</style>\n",
              "<table border=\"1\" class=\"dataframe\">\n",
              "  <thead>\n",
              "    <tr style=\"text-align: right;\">\n",
              "      <th></th>\n",
              "      <th>country</th>\n",
              "      <th>description</th>\n",
              "      <th>designation</th>\n",
              "      <th>points</th>\n",
              "      <th>price</th>\n",
              "      <th>province</th>\n",
              "      <th>region_1</th>\n",
              "      <th>region_2</th>\n",
              "      <th>taster_name</th>\n",
              "      <th>taster_twitter_handle</th>\n",
              "      <th>title</th>\n",
              "      <th>variety</th>\n",
              "      <th>winery</th>\n",
              "    </tr>\n",
              "  </thead>\n",
              "  <tbody>\n",
              "    <tr>\n",
              "      <th>1</th>\n",
              "      <td>Portugal</td>\n",
              "      <td>This is ripe and fruity, a wine that is smooth...</td>\n",
              "      <td>Avidagos</td>\n",
              "      <td>87</td>\n",
              "      <td>15.0</td>\n",
              "      <td>Douro</td>\n",
              "      <td>NaN</td>\n",
              "      <td>NaN</td>\n",
              "      <td>Roger Voss</td>\n",
              "      <td>@vossroger</td>\n",
              "      <td>Quinta dos Avidagos 2011 Avidagos Red (Douro)</td>\n",
              "      <td>Portuguese Red</td>\n",
              "      <td>Quinta dos Avidagos</td>\n",
              "    </tr>\n",
              "    <tr>\n",
              "      <th>2</th>\n",
              "      <td>US</td>\n",
              "      <td>Tart and snappy, the flavors of lime flesh and...</td>\n",
              "      <td>NaN</td>\n",
              "      <td>87</td>\n",
              "      <td>14.0</td>\n",
              "      <td>Oregon</td>\n",
              "      <td>Willamette Valley</td>\n",
              "      <td>Willamette Valley</td>\n",
              "      <td>Paul Gregutt</td>\n",
              "      <td>@paulgwine</td>\n",
              "      <td>Rainstorm 2013 Pinot Gris (Willamette Valley)</td>\n",
              "      <td>Pinot Gris</td>\n",
              "      <td>Rainstorm</td>\n",
              "    </tr>\n",
              "    <tr>\n",
              "      <th>4</th>\n",
              "      <td>US</td>\n",
              "      <td>Much like the regular bottling from 2012, this...</td>\n",
              "      <td>Vintner's Reserve Wild Child Block</td>\n",
              "      <td>87</td>\n",
              "      <td>65.0</td>\n",
              "      <td>Oregon</td>\n",
              "      <td>Willamette Valley</td>\n",
              "      <td>Willamette Valley</td>\n",
              "      <td>Paul Gregutt</td>\n",
              "      <td>@paulgwine</td>\n",
              "      <td>Sweet Cheeks 2012 Vintner's Reserve Wild Child...</td>\n",
              "      <td>Pinot Noir</td>\n",
              "      <td>Sweet Cheeks</td>\n",
              "    </tr>\n",
              "    <tr>\n",
              "      <th>5</th>\n",
              "      <td>Spain</td>\n",
              "      <td>Blackberry and raspberry aromas show a typical...</td>\n",
              "      <td>Ars In Vitro</td>\n",
              "      <td>87</td>\n",
              "      <td>15.0</td>\n",
              "      <td>Northern Spain</td>\n",
              "      <td>Navarra</td>\n",
              "      <td>NaN</td>\n",
              "      <td>Michael Schachner</td>\n",
              "      <td>@wineschach</td>\n",
              "      <td>Tandem 2011 Ars In Vitro Tempranillo-Merlot (N...</td>\n",
              "      <td>Tempranillo-Merlot</td>\n",
              "      <td>Tandem</td>\n",
              "    </tr>\n",
              "    <tr>\n",
              "      <th>7</th>\n",
              "      <td>France</td>\n",
              "      <td>This dry and restrained wine offers spice in p...</td>\n",
              "      <td>NaN</td>\n",
              "      <td>87</td>\n",
              "      <td>24.0</td>\n",
              "      <td>Alsace</td>\n",
              "      <td>Alsace</td>\n",
              "      <td>NaN</td>\n",
              "      <td>Roger Voss</td>\n",
              "      <td>@vossroger</td>\n",
              "      <td>Trimbach 2012 Gewurztraminer (Alsace)</td>\n",
              "      <td>Gewürztraminer</td>\n",
              "      <td>Trimbach</td>\n",
              "    </tr>\n",
              "  </tbody>\n",
              "</table>\n",
              "</div>"
            ],
            "text/plain": [
              "    country                                        description  \\\n",
              "1  Portugal  This is ripe and fruity, a wine that is smooth...   \n",
              "2        US  Tart and snappy, the flavors of lime flesh and...   \n",
              "4        US  Much like the regular bottling from 2012, this...   \n",
              "5     Spain  Blackberry and raspberry aromas show a typical...   \n",
              "7    France  This dry and restrained wine offers spice in p...   \n",
              "\n",
              "                          designation  points  price        province  \\\n",
              "1                            Avidagos      87   15.0           Douro   \n",
              "2                                 NaN      87   14.0          Oregon   \n",
              "4  Vintner's Reserve Wild Child Block      87   65.0          Oregon   \n",
              "5                        Ars In Vitro      87   15.0  Northern Spain   \n",
              "7                                 NaN      87   24.0          Alsace   \n",
              "\n",
              "            region_1           region_2        taster_name  \\\n",
              "1                NaN                NaN         Roger Voss   \n",
              "2  Willamette Valley  Willamette Valley       Paul Gregutt   \n",
              "4  Willamette Valley  Willamette Valley       Paul Gregutt   \n",
              "5            Navarra                NaN  Michael Schachner   \n",
              "7             Alsace                NaN         Roger Voss   \n",
              "\n",
              "  taster_twitter_handle                                              title  \\\n",
              "1            @vossroger      Quinta dos Avidagos 2011 Avidagos Red (Douro)   \n",
              "2           @paulgwine       Rainstorm 2013 Pinot Gris (Willamette Valley)   \n",
              "4           @paulgwine   Sweet Cheeks 2012 Vintner's Reserve Wild Child...   \n",
              "5           @wineschach  Tandem 2011 Ars In Vitro Tempranillo-Merlot (N...   \n",
              "7            @vossroger              Trimbach 2012 Gewurztraminer (Alsace)   \n",
              "\n",
              "              variety               winery  \n",
              "1      Portuguese Red  Quinta dos Avidagos  \n",
              "2          Pinot Gris            Rainstorm  \n",
              "4          Pinot Noir         Sweet Cheeks  \n",
              "5  Tempranillo-Merlot               Tandem  \n",
              "7      Gewürztraminer             Trimbach  "
            ]
          },
          "metadata": {
            "tags": []
          },
          "execution_count": 57
        }
      ]
    },
    {
      "metadata": {
        "id": "NJTA8Xc3c_oM",
        "colab_type": "code",
        "colab": {}
      },
      "cell_type": "code",
      "source": [
        "# Expected Output:\n",
        "image_url = \"https://github.com/wshuyi/github_pub_img/raw/master/assets/2019-02-18-10-24-11-414043.png\"\n",
        "from IPython.display import Image\n",
        "Image(image_url)"
      ],
      "execution_count": 0,
      "outputs": []
    },
    {
      "metadata": {
        "id": "O1S9d3roQF50",
        "colab_type": "text"
      },
      "cell_type": "markdown",
      "source": [
        "**Question 9.** Create a variable df containing the country, province, region_1, and region_2 columns of the records with the index labels 0, 2, 20, and 200. Show the content of df."
      ]
    },
    {
      "metadata": {
        "colab_type": "code",
        "id": "raPuwVGzXXSk",
        "colab": {
          "base_uri": "https://localhost:8080/",
          "height": 173
        },
        "outputId": "e89b5a47-4c7f-460f-973b-5ce9a79b5034"
      },
      "cell_type": "code",
      "source": [
        "df=reviews.loc[[0,2,20,200],['country', 'province', 'region_1','region_2']]\n",
        "df"
      ],
      "execution_count": 61,
      "outputs": [
        {
          "output_type": "execute_result",
          "data": {
            "text/html": [
              "<div>\n",
              "<style scoped>\n",
              "    .dataframe tbody tr th:only-of-type {\n",
              "        vertical-align: middle;\n",
              "    }\n",
              "\n",
              "    .dataframe tbody tr th {\n",
              "        vertical-align: top;\n",
              "    }\n",
              "\n",
              "    .dataframe thead th {\n",
              "        text-align: right;\n",
              "    }\n",
              "</style>\n",
              "<table border=\"1\" class=\"dataframe\">\n",
              "  <thead>\n",
              "    <tr style=\"text-align: right;\">\n",
              "      <th></th>\n",
              "      <th>country</th>\n",
              "      <th>province</th>\n",
              "      <th>region_1</th>\n",
              "      <th>region_2</th>\n",
              "    </tr>\n",
              "  </thead>\n",
              "  <tbody>\n",
              "    <tr>\n",
              "      <th>0</th>\n",
              "      <td>Italy</td>\n",
              "      <td>Sicily &amp; Sardinia</td>\n",
              "      <td>Etna</td>\n",
              "      <td>NaN</td>\n",
              "    </tr>\n",
              "    <tr>\n",
              "      <th>2</th>\n",
              "      <td>US</td>\n",
              "      <td>Oregon</td>\n",
              "      <td>Willamette Valley</td>\n",
              "      <td>Willamette Valley</td>\n",
              "    </tr>\n",
              "    <tr>\n",
              "      <th>20</th>\n",
              "      <td>US</td>\n",
              "      <td>Virginia</td>\n",
              "      <td>Virginia</td>\n",
              "      <td>NaN</td>\n",
              "    </tr>\n",
              "    <tr>\n",
              "      <th>200</th>\n",
              "      <td>Italy</td>\n",
              "      <td>Tuscany</td>\n",
              "      <td>Brunello di Montalcino</td>\n",
              "      <td>NaN</td>\n",
              "    </tr>\n",
              "  </tbody>\n",
              "</table>\n",
              "</div>"
            ],
            "text/plain": [
              "    country           province                region_1           region_2\n",
              "0     Italy  Sicily & Sardinia                    Etna                NaN\n",
              "2        US             Oregon       Willamette Valley  Willamette Valley\n",
              "20       US           Virginia                Virginia                NaN\n",
              "200   Italy            Tuscany  Brunello di Montalcino                NaN"
            ]
          },
          "metadata": {
            "tags": []
          },
          "execution_count": 61
        }
      ]
    },
    {
      "metadata": {
        "id": "nwnj42P7dC9n",
        "colab_type": "code",
        "colab": {}
      },
      "cell_type": "code",
      "source": [
        "# Expected Output:\n",
        "image_url = \"https://github.com/wshuyi/github_pub_img/raw/master/assets/2019-02-18-10-24-23-881864.png\"\n",
        "from IPython.display import Image\n",
        "Image(image_url)"
      ],
      "execution_count": 0,
      "outputs": []
    },
    {
      "metadata": {
        "id": "G_VHzIziQnHY",
        "colab_type": "text"
      },
      "cell_type": "markdown",
      "source": [
        "**Question 10.** Create a variable `df` containing the `country` and `variety` columns of the first 100 records. Show the shape of `df`."
      ]
    },
    {
      "metadata": {
        "colab_type": "code",
        "id": "qwDRwkt0XXwY",
        "colab": {
          "base_uri": "https://localhost:8080/",
          "height": 34
        },
        "outputId": "6e543e96-b698-4d73-d31a-2275cdde992e"
      },
      "cell_type": "code",
      "source": [
        "df=reviews.loc[:99,['country','variety']]\n",
        "df.shape"
      ],
      "execution_count": 65,
      "outputs": [
        {
          "output_type": "execute_result",
          "data": {
            "text/plain": [
              "(100, 2)"
            ]
          },
          "metadata": {
            "tags": []
          },
          "execution_count": 65
        }
      ]
    },
    {
      "metadata": {
        "id": "qB3NnyugdF3B",
        "colab_type": "code",
        "colab": {}
      },
      "cell_type": "code",
      "source": [
        "# Expected Output:\n",
        "image_url = \"https://github.com/wshuyi/github_pub_img/raw/master/assets/2019-02-18-10-24-36-554850.png\"\n",
        "from IPython.display import Image\n",
        "Image(image_url)"
      ],
      "execution_count": 0,
      "outputs": []
    },
    {
      "metadata": {
        "id": "kdXXjNbrRHJQ",
        "colab_type": "text"
      },
      "cell_type": "markdown",
      "source": [
        "**Question 11.** Create a DataFrame `france_wines` containing reviews of wines made in `France`. Show the shape of `france_wines`."
      ]
    },
    {
      "metadata": {
        "colab_type": "code",
        "id": "Qj0i2yHlXYRa",
        "colab": {
          "base_uri": "https://localhost:8080/",
          "height": 34
        },
        "outputId": "298993f6-3ba8-4337-a1ef-d0fb6de9d51c"
      },
      "cell_type": "code",
      "source": [
        "france_wines=reviews[reviews.country=='France']\n",
        "france_wines.shape"
      ],
      "execution_count": 69,
      "outputs": [
        {
          "output_type": "execute_result",
          "data": {
            "text/plain": [
              "(22093, 13)"
            ]
          },
          "metadata": {
            "tags": []
          },
          "execution_count": 69
        }
      ]
    },
    {
      "metadata": {
        "id": "f-bb0pA9dIa1",
        "colab_type": "code",
        "colab": {}
      },
      "cell_type": "code",
      "source": [
        "# Expected Output:\n",
        "image_url = \"https://github.com/wshuyi/github_pub_img/raw/master/assets/2019-02-18-10-24-49-026089.png\"\n",
        "from IPython.display import Image\n",
        "Image(image_url)"
      ],
      "execution_count": 0,
      "outputs": []
    },
    {
      "metadata": {
        "id": "BtH67scWR6Q0",
        "colab_type": "text"
      },
      "cell_type": "markdown",
      "source": [
        "**Question 12.** Create a DataFrame `top_north_america_wines` containing all reviews with at least 95 points (out of 100) for wines from US or Canada. Show the shape of `top_north_america_wines`."
      ]
    },
    {
      "metadata": {
        "colab_type": "code",
        "id": "8lLrtjfZXY5A",
        "colab": {
          "base_uri": "https://localhost:8080/",
          "height": 34
        },
        "outputId": "742d0606-43c3-4812-cc67-9b8c156e43f3"
      },
      "cell_type": "code",
      "source": [
        "top_north_america_wines=reviews[(reviews.points>=95) & (reviews.country.isin(['US','Canada']))]\n",
        "top_north_america_wines.shape"
      ],
      "execution_count": 86,
      "outputs": [
        {
          "output_type": "execute_result",
          "data": {
            "text/plain": [
              "(993, 13)"
            ]
          },
          "metadata": {
            "tags": []
          },
          "execution_count": 86
        }
      ]
    },
    {
      "metadata": {
        "id": "Hs_AHPJkdL8e",
        "colab_type": "code",
        "colab": {}
      },
      "cell_type": "code",
      "source": [
        "# Expected Output:\n",
        "image_url = \"https://github.com/wshuyi/github_pub_img/raw/master/assets/2019-02-18-10-24-59-291835.png\"\n",
        "from IPython.display import Image\n",
        "Image(image_url)"
      ],
      "execution_count": 0,
      "outputs": []
    },
    {
      "metadata": {
        "id": "LOyxmO1jS1hw",
        "colab_type": "text"
      },
      "cell_type": "markdown",
      "source": [
        "**Question 13.** What is the minimum value of the points column in the reviews DataFrame?"
      ]
    },
    {
      "metadata": {
        "colab_type": "code",
        "id": "0DBqUOWXXZWF",
        "colab": {
          "base_uri": "https://localhost:8080/",
          "height": 34
        },
        "outputId": "37e70cef-1789-4751-90a5-5f8439e30826"
      },
      "cell_type": "code",
      "source": [
        "reviews.points.min()"
      ],
      "execution_count": 87,
      "outputs": [
        {
          "output_type": "execute_result",
          "data": {
            "text/plain": [
              "80"
            ]
          },
          "metadata": {
            "tags": []
          },
          "execution_count": 87
        }
      ]
    },
    {
      "metadata": {
        "id": "vKQo3CFpdUl2",
        "colab_type": "code",
        "colab": {}
      },
      "cell_type": "code",
      "source": [
        "# Expected Output:\n",
        "image_url = \"https://github.com/wshuyi/github_pub_img/raw/master/assets/2019-02-18-10-25-07-722360.png\"\n",
        "from IPython.display import Image\n",
        "Image(image_url)"
      ],
      "execution_count": 0,
      "outputs": []
    },
    {
      "metadata": {
        "id": "MX_JIp-MS_Wf",
        "colab_type": "text"
      },
      "cell_type": "markdown",
      "source": [
        "**Question 14.** What countries are represented in the dataset? (Your answer should not include any duplicates.)"
      ]
    },
    {
      "metadata": {
        "colab_type": "code",
        "id": "qCkLxWp5XZzn",
        "colab": {
          "base_uri": "https://localhost:8080/",
          "height": 170
        },
        "outputId": "79a536f8-8fe4-4c20-963d-1b2b031b0273"
      },
      "cell_type": "code",
      "source": [
        "reviews.country.unique()"
      ],
      "execution_count": 89,
      "outputs": [
        {
          "output_type": "execute_result",
          "data": {
            "text/plain": [
              "array(['Italy', 'Portugal', 'US', 'Spain', 'France', 'Germany',\n",
              "       'Argentina', 'Chile', 'Australia', 'Austria', 'South Africa',\n",
              "       'New Zealand', 'Israel', 'Hungary', 'Greece', 'Romania', 'Mexico',\n",
              "       'Canada', nan, 'Turkey', 'Czech Republic', 'Slovenia',\n",
              "       'Luxembourg', 'Croatia', 'Georgia', 'Uruguay', 'England',\n",
              "       'Lebanon', 'Serbia', 'Brazil', 'Moldova', 'Morocco', 'Peru',\n",
              "       'India', 'Bulgaria', 'Cyprus', 'Armenia', 'Switzerland',\n",
              "       'Bosnia and Herzegovina', 'Ukraine', 'Slovakia', 'Macedonia',\n",
              "       'China', 'Egypt'], dtype=object)"
            ]
          },
          "metadata": {
            "tags": []
          },
          "execution_count": 89
        }
      ]
    },
    {
      "metadata": {
        "id": "KWw-LwoVdXut",
        "colab_type": "code",
        "colab": {}
      },
      "cell_type": "code",
      "source": [
        "# Expected Output:\n",
        "image_url = \"https://github.com/wshuyi/github_pub_img/raw/master/assets/2019-02-18-10-25-17-210421.png\"\n",
        "from IPython.display import Image\n",
        "Image(image_url)"
      ],
      "execution_count": 0,
      "outputs": []
    },
    {
      "metadata": {
        "id": "N4drEZ3XTJ_w",
        "colab_type": "text"
      },
      "cell_type": "markdown",
      "source": [
        "**Question 15.** How often does each country appear in the dataset? Create a Series `reviews_per_country` mapping countries to the count of reviews of wines from that country. Show the first 10 rows of `reviews_per_country`."
      ]
    },
    {
      "metadata": {
        "colab_type": "code",
        "id": "9EVSTey8XaTe",
        "colab": {
          "base_uri": "https://localhost:8080/",
          "height": 204
        },
        "outputId": "b1c9e983-bc80-4c36-e497-b664ad9f7cc4"
      },
      "cell_type": "code",
      "source": [
        "reviews_per_country=reviews.country.value_counts()\n",
        "reviews_per_country.head(10)"
      ],
      "execution_count": 93,
      "outputs": [
        {
          "output_type": "execute_result",
          "data": {
            "text/plain": [
              "US           54504\n",
              "France       22093\n",
              "Italy        19540\n",
              "Spain         6645\n",
              "Portugal      5691\n",
              "Chile         4472\n",
              "Argentina     3800\n",
              "Austria       3345\n",
              "Australia     2329\n",
              "Germany       2165\n",
              "Name: country, dtype: int64"
            ]
          },
          "metadata": {
            "tags": []
          },
          "execution_count": 93
        }
      ]
    },
    {
      "metadata": {
        "id": "pZoH_XEJdaTb",
        "colab_type": "code",
        "colab": {}
      },
      "cell_type": "code",
      "source": [
        "# Expected Output:\n",
        "image_url = \"https://github.com/wshuyi/github_pub_img/raw/master/assets/2019-02-18-10-25-25-429171.png\"\n",
        "from IPython.display import Image\n",
        "Image(image_url)"
      ],
      "execution_count": 0,
      "outputs": []
    },
    {
      "metadata": {
        "id": "OkItiZ9bTXbY",
        "colab_type": "text"
      },
      "cell_type": "markdown",
      "source": [
        "**Question 16.** Create variable `centered_price` containing a version of the `price` column with the mean price subtracted. Show the first 10 rows of `centered_price`."
      ]
    },
    {
      "metadata": {
        "colab_type": "code",
        "id": "wkhpuwJyXa3G",
        "colab": {
          "base_uri": "https://localhost:8080/",
          "height": 204
        },
        "outputId": "0537b437-45fa-44c2-fc63-b7772986a682"
      },
      "cell_type": "code",
      "source": [
        "centered_price=reviews.price-reviews.price.mean()\n",
        "centered_price.head(10)"
      ],
      "execution_count": 97,
      "outputs": [
        {
          "output_type": "execute_result",
          "data": {
            "text/plain": [
              "0          NaN\n",
              "1   -20.363389\n",
              "2   -21.363389\n",
              "3   -22.363389\n",
              "4    29.636611\n",
              "5   -20.363389\n",
              "6   -19.363389\n",
              "7   -11.363389\n",
              "8   -23.363389\n",
              "9    -8.363389\n",
              "Name: price, dtype: float64"
            ]
          },
          "metadata": {
            "tags": []
          },
          "execution_count": 97
        }
      ]
    },
    {
      "metadata": {
        "id": "7ghmK9B6dczN",
        "colab_type": "code",
        "colab": {}
      },
      "cell_type": "code",
      "source": [
        "# Expected Output:\n",
        "image_url = \"https://github.com/wshuyi/github_pub_img/raw/master/assets/2019-02-18-10-25-34-260297.png\"\n",
        "from IPython.display import Image\n",
        "Image(image_url)"
      ],
      "execution_count": 0,
      "outputs": []
    },
    {
      "metadata": {
        "id": "Hb8pgT_3T2Pl",
        "colab_type": "text"
      },
      "cell_type": "markdown",
      "source": [
        "**Question 17.** Create a variable `bargain_wine` with the title of the wine with the highest points-to-price ratio in the dataset. Show the value of `bargain_wine`."
      ]
    },
    {
      "metadata": {
        "colab_type": "code",
        "id": "WeLLzohEXbwM",
        "colab": {
          "base_uri": "https://localhost:8080/",
          "height": 68
        },
        "outputId": "d5d146b4-d0af-4159-e28b-ab95d987a976"
      },
      "cell_type": "code",
      "source": [
        "reviews['points_to_price']=reviews.points/reviews.price\n",
        "bargain_wine=reviews.loc[reviews.points_to_price==reviews.points_to_price.max(),'title']\n",
        "bargain_wine"
      ],
      "execution_count": 118,
      "outputs": [
        {
          "output_type": "execute_result",
          "data": {
            "text/plain": [
              "64590                         Bandit NV Merlot (California)\n",
              "126096    Cramele Recas 2011 UnWineD Pinot Grigio (Viile...\n",
              "Name: title, dtype: object"
            ]
          },
          "metadata": {
            "tags": []
          },
          "execution_count": 118
        }
      ]
    },
    {
      "metadata": {
        "id": "zIoymH_Gde7y",
        "colab_type": "code",
        "colab": {}
      },
      "cell_type": "code",
      "source": [
        "# Expected Output:\n",
        "image_url = \"https://github.com/wshuyi/github_pub_img/raw/master/assets/2019-02-18-10-25-45-425172.png\"\n",
        "from IPython.display import Image\n",
        "Image(image_url)"
      ],
      "execution_count": 0,
      "outputs": []
    },
    {
      "metadata": {
        "id": "WmeqXrx2U5_X",
        "colab_type": "text"
      },
      "cell_type": "markdown",
      "source": [
        "**Question 18.** Is a wine more likely to be \"tropical\" or \"fruity\"? Create a Series `descriptor_counts` counting how many times each of these two words appears in the description column in the dataset. Show the content of `descriptor_counts`."
      ]
    },
    {
      "metadata": {
        "colab_type": "code",
        "id": "zDxikAMBXcVF",
        "colab": {}
      },
      "cell_type": "code",
      "source": [
        "#SKIPPED\n",
        "reviews['descriptor_counts']=reviews.description.str.contains('tropical').astype(int)\n",
        "reviews.groupby('continent').beer_servings.mean()"
      ],
      "execution_count": 0,
      "outputs": []
    },
    {
      "metadata": {
        "id": "XVg01XtddhOv",
        "colab_type": "code",
        "colab": {}
      },
      "cell_type": "code",
      "source": [
        "# Expected Output:\n",
        "image_url = \"https://github.com/wshuyi/github_pub_img/raw/master/assets/2019-02-18-10-25-56-543545.png\"\n",
        "from IPython.display import Image\n",
        "Image(image_url)"
      ],
      "execution_count": 0,
      "outputs": []
    },
    {
      "metadata": {
        "id": "sHhgidRBBgih",
        "colab_type": "text"
      },
      "cell_type": "markdown",
      "source": [
        "**Question 19.** Sometimes the price column is null. How many reviews in the dataset are missing a price?"
      ]
    },
    {
      "metadata": {
        "colab_type": "code",
        "id": "7Q_D-rdfXc7D",
        "colab": {
          "base_uri": "https://localhost:8080/",
          "height": 34
        },
        "outputId": "11137e9e-1d17-4778-e395-74997b5bc3d2"
      },
      "cell_type": "code",
      "source": [
        "import numpy as np\n",
        "reviews.price.value_counts(dropna = False)[np.nan]"
      ],
      "execution_count": 143,
      "outputs": [
        {
          "output_type": "execute_result",
          "data": {
            "text/plain": [
              "8996"
            ]
          },
          "metadata": {
            "tags": []
          },
          "execution_count": 143
        }
      ]
    },
    {
      "metadata": {
        "id": "YF8MDwvRdjil",
        "colab_type": "code",
        "colab": {}
      },
      "cell_type": "code",
      "source": [
        "# Expected Output:\n",
        "image_url = \"https://github.com/wshuyi/github_pub_img/raw/master/assets/2019-02-18-10-26-07-921120.png\"\n",
        "from IPython.display import Image\n",
        "Image(image_url)"
      ],
      "execution_count": 0,
      "outputs": []
    },
    {
      "metadata": {
        "id": "qNNNW2pxCy5g",
        "colab_type": "text"
      },
      "cell_type": "markdown",
      "source": [
        "**Question 20.** What are the most common wine-producing regions? Create a `Series` counting the number of times each value occurs in the `region_1` field. This field is often missing data, so replace missing values with `Unknown`. Sort in descending order. Show the first 10 rows of the series."
      ]
    },
    {
      "metadata": {
        "colab_type": "code",
        "id": "x_yQWKbWXdW8",
        "colab": {}
      },
      "cell_type": "code",
      "source": [
        "#SKIPPED\n",
        "counts_by_region=reviews.groupby('region_1').country.count()\n",
        "#counts_by_region=counts_by_region.str.replace('','_')\n",
        "counts_by_region.describe\n"
      ],
      "execution_count": 0,
      "outputs": []
    },
    {
      "metadata": {
        "id": "u1sJt5_8dm4G",
        "colab_type": "code",
        "colab": {}
      },
      "cell_type": "code",
      "source": [
        "# Expected Output:\n",
        "image_url = \"https://github.com/wshuyi/github_pub_img/raw/master/assets/2019-02-18-10-26-19-518545.png\"\n",
        "from IPython.display import Image\n",
        "Image(image_url)"
      ],
      "execution_count": 0,
      "outputs": []
    },
    {
      "metadata": {
        "id": "MVws7H5u-iVp",
        "colab_type": "text"
      },
      "cell_type": "markdown",
      "source": [
        "**Question 21.** Who are the most common wine reviewers in the dataset? Create a `Series` whose index is the `taster_twitter_handle` category from the dataset, and whose values count how many reviews each person wrote. Show the series."
      ]
    },
    {
      "metadata": {
        "colab_type": "code",
        "id": "3LUo7_L7XeAp",
        "colab": {
          "base_uri": "https://localhost:8080/",
          "height": 289
        },
        "outputId": "9dcdfbdb-f983-4463-a87b-39b720ed9a40"
      },
      "cell_type": "code",
      "source": [
        "most_common_reviewers=reviews.taster_twitter_handle.value_counts()\n",
        "most_common_reviewers"
      ],
      "execution_count": 164,
      "outputs": [
        {
          "output_type": "execute_result",
          "data": {
            "text/plain": [
              "@vossroger          25514\n",
              "@wineschach         15134\n",
              "@kerinokeefe        10776\n",
              "@vboone              9537\n",
              "@paulgwine           9532\n",
              "@mattkettmann        6332\n",
              "@JoeCz               5147\n",
              "@wawinereport        4966\n",
              "@gordone_cellars     4177\n",
              "@AnneInVino          3685\n",
              "@laurbuzz            1835\n",
              "@suskostrzewa        1085\n",
              "@worldwineguys       1005\n",
              "@bkfiona               27\n",
              "@winewchristina         6\n",
              "Name: taster_twitter_handle, dtype: int64"
            ]
          },
          "metadata": {
            "tags": []
          },
          "execution_count": 164
        }
      ]
    },
    {
      "metadata": {
        "id": "mrCz-Dyvdph8",
        "colab_type": "code",
        "colab": {}
      },
      "cell_type": "code",
      "source": [
        "# Expected Output:\n",
        "image_url = \"https://github.com/wshuyi/github_pub_img/raw/master/assets/2019-02-18-10-26-32-243770.png\"\n",
        "from IPython.display import Image\n",
        "Image(image_url)"
      ],
      "execution_count": 0,
      "outputs": []
    },
    {
      "metadata": {
        "id": "hMslbuXrB9XH",
        "colab_type": "text"
      },
      "cell_type": "markdown",
      "source": [
        "**Question 22.** What is the best wine I can buy for a given amount of money? Create a `Series` whose index is wine prices and whose values is the maximum number of points a wine costing that much was given in a review. Sort the values by price, Descending (so that `3300.0` dollars is at the top and `4.0` dollars is at the bottom). Show the first 5 rows of the series."
      ]
    },
    {
      "metadata": {
        "colab_type": "code",
        "id": "9jRym3pNXelc",
        "colab": {
          "base_uri": "https://localhost:8080/",
          "height": 136
        },
        "outputId": "676c6d16-fe84-44f4-8bbc-6c7382301f62"
      },
      "cell_type": "code",
      "source": [
        "max_value=reviews.groupby('price').points.max()\n",
        "max_value\n",
        "max_value.sort_index(axis=0,ascending=False,inplace=True)\n",
        "max_value.head()"
      ],
      "execution_count": 191,
      "outputs": [
        {
          "output_type": "execute_result",
          "data": {
            "text/plain": [
              "price\n",
              "3300.0    88\n",
              "2500.0    96\n",
              "2013.0    91\n",
              "2000.0    97\n",
              "1900.0    98\n",
              "Name: points, dtype: int64"
            ]
          },
          "metadata": {
            "tags": []
          },
          "execution_count": 191
        }
      ]
    },
    {
      "metadata": {
        "id": "pNemORACdtnz",
        "colab_type": "code",
        "colab": {}
      },
      "cell_type": "code",
      "source": [
        "# Expected Output:\n",
        "image_url = \"https://github.com/wshuyi/github_pub_img/raw/master/assets/2019-02-18-10-26-40-741397.png\"\n",
        "from IPython.display import Image\n",
        "Image(image_url)"
      ],
      "execution_count": 0,
      "outputs": []
    },
    {
      "metadata": {
        "id": "AEhk3H2NCfNt",
        "colab_type": "text"
      },
      "cell_type": "markdown",
      "source": [
        "**Question 23.** What are the minimum, maximum and median prices for each `variety` of wine? Create a `DataFrame` whose index is the `variety` category from the dataset and whose values are the `min`, `max` and `medium` values thereof. Show the 5 rows of the dataframe."
      ]
    },
    {
      "metadata": {
        "colab_type": "code",
        "id": "oPGnkUYjXfG4",
        "colab": {
          "base_uri": "https://localhost:8080/",
          "height": 235
        },
        "outputId": "cec9d0df-d3cf-42b2-a5f3-f086ae8b7e9d"
      },
      "cell_type": "code",
      "source": [
        "agg_review=pd.DataFrame(reviews.groupby('variety').price.agg(['min','max','median']))\n",
        "agg_review.head()"
      ],
      "execution_count": 188,
      "outputs": [
        {
          "output_type": "execute_result",
          "data": {
            "text/html": [
              "<div>\n",
              "<style scoped>\n",
              "    .dataframe tbody tr th:only-of-type {\n",
              "        vertical-align: middle;\n",
              "    }\n",
              "\n",
              "    .dataframe tbody tr th {\n",
              "        vertical-align: top;\n",
              "    }\n",
              "\n",
              "    .dataframe thead th {\n",
              "        text-align: right;\n",
              "    }\n",
              "</style>\n",
              "<table border=\"1\" class=\"dataframe\">\n",
              "  <thead>\n",
              "    <tr style=\"text-align: right;\">\n",
              "      <th></th>\n",
              "      <th>min</th>\n",
              "      <th>max</th>\n",
              "      <th>median</th>\n",
              "    </tr>\n",
              "    <tr>\n",
              "      <th>variety</th>\n",
              "      <th></th>\n",
              "      <th></th>\n",
              "      <th></th>\n",
              "    </tr>\n",
              "  </thead>\n",
              "  <tbody>\n",
              "    <tr>\n",
              "      <th>Abouriou</th>\n",
              "      <td>15.0</td>\n",
              "      <td>75.0</td>\n",
              "      <td>15.0</td>\n",
              "    </tr>\n",
              "    <tr>\n",
              "      <th>Agiorgitiko</th>\n",
              "      <td>10.0</td>\n",
              "      <td>66.0</td>\n",
              "      <td>20.0</td>\n",
              "    </tr>\n",
              "    <tr>\n",
              "      <th>Aglianico</th>\n",
              "      <td>6.0</td>\n",
              "      <td>180.0</td>\n",
              "      <td>33.5</td>\n",
              "    </tr>\n",
              "    <tr>\n",
              "      <th>Aidani</th>\n",
              "      <td>27.0</td>\n",
              "      <td>27.0</td>\n",
              "      <td>27.0</td>\n",
              "    </tr>\n",
              "    <tr>\n",
              "      <th>Airen</th>\n",
              "      <td>8.0</td>\n",
              "      <td>10.0</td>\n",
              "      <td>9.0</td>\n",
              "    </tr>\n",
              "  </tbody>\n",
              "</table>\n",
              "</div>"
            ],
            "text/plain": [
              "              min    max  median\n",
              "variety                         \n",
              "Abouriou     15.0   75.0    15.0\n",
              "Agiorgitiko  10.0   66.0    20.0\n",
              "Aglianico     6.0  180.0    33.5\n",
              "Aidani       27.0   27.0    27.0\n",
              "Airen         8.0   10.0     9.0"
            ]
          },
          "metadata": {
            "tags": []
          },
          "execution_count": 188
        }
      ]
    },
    {
      "metadata": {
        "id": "LuYH6K5kdvvH",
        "colab_type": "code",
        "colab": {}
      },
      "cell_type": "code",
      "source": [
        "# Expected Output:\n",
        "image_url = \"https://github.com/wshuyi/github_pub_img/raw/master/assets/2019-02-18-10-27-01-991324.png\"\n",
        "from IPython.display import Image\n",
        "Image(image_url)"
      ],
      "execution_count": 0,
      "outputs": []
    },
    {
      "metadata": {
        "id": "vUeHL6ZNGiXz",
        "colab_type": "text"
      },
      "cell_type": "markdown",
      "source": [
        "**Question 24.** What are the most expensive wine varieties? Create a variable `sorted_varieties` containing a copy of the dataframe from the previous question where varieties are sorted in descending order based on minimum price, then on maximum price (to break ties). Show the 5 rows of the dataframe."
      ]
    },
    {
      "metadata": {
        "colab_type": "code",
        "id": "9HMY8ioPXf0p",
        "colab": {
          "base_uri": "https://localhost:8080/",
          "height": 235
        },
        "outputId": "559495d5-e901-43a6-f1aa-725ddb024e3b"
      },
      "cell_type": "code",
      "source": [
        "sorted_varieties=pd.DataFrame(agg_review.sort_values(['min','max'],ascending=False))\n",
        "sorted_varieties.head()"
      ],
      "execution_count": 196,
      "outputs": [
        {
          "output_type": "execute_result",
          "data": {
            "text/html": [
              "<div>\n",
              "<style scoped>\n",
              "    .dataframe tbody tr th:only-of-type {\n",
              "        vertical-align: middle;\n",
              "    }\n",
              "\n",
              "    .dataframe tbody tr th {\n",
              "        vertical-align: top;\n",
              "    }\n",
              "\n",
              "    .dataframe thead th {\n",
              "        text-align: right;\n",
              "    }\n",
              "</style>\n",
              "<table border=\"1\" class=\"dataframe\">\n",
              "  <thead>\n",
              "    <tr style=\"text-align: right;\">\n",
              "      <th></th>\n",
              "      <th>min</th>\n",
              "      <th>max</th>\n",
              "      <th>median</th>\n",
              "    </tr>\n",
              "    <tr>\n",
              "      <th>variety</th>\n",
              "      <th></th>\n",
              "      <th></th>\n",
              "      <th></th>\n",
              "    </tr>\n",
              "  </thead>\n",
              "  <tbody>\n",
              "    <tr>\n",
              "      <th>Ramisco</th>\n",
              "      <td>495.0</td>\n",
              "      <td>495.0</td>\n",
              "      <td>495.0</td>\n",
              "    </tr>\n",
              "    <tr>\n",
              "      <th>Terrantez</th>\n",
              "      <td>236.0</td>\n",
              "      <td>236.0</td>\n",
              "      <td>236.0</td>\n",
              "    </tr>\n",
              "    <tr>\n",
              "      <th>Francisa</th>\n",
              "      <td>160.0</td>\n",
              "      <td>160.0</td>\n",
              "      <td>160.0</td>\n",
              "    </tr>\n",
              "    <tr>\n",
              "      <th>Rosenmuskateller</th>\n",
              "      <td>150.0</td>\n",
              "      <td>150.0</td>\n",
              "      <td>150.0</td>\n",
              "    </tr>\n",
              "    <tr>\n",
              "      <th>Tinta Negra Mole</th>\n",
              "      <td>112.0</td>\n",
              "      <td>112.0</td>\n",
              "      <td>112.0</td>\n",
              "    </tr>\n",
              "  </tbody>\n",
              "</table>\n",
              "</div>"
            ],
            "text/plain": [
              "                    min    max  median\n",
              "variety                               \n",
              "Ramisco           495.0  495.0   495.0\n",
              "Terrantez         236.0  236.0   236.0\n",
              "Francisa          160.0  160.0   160.0\n",
              "Rosenmuskateller  150.0  150.0   150.0\n",
              "Tinta Negra Mole  112.0  112.0   112.0"
            ]
          },
          "metadata": {
            "tags": []
          },
          "execution_count": 196
        }
      ]
    },
    {
      "metadata": {
        "id": "qanE3Hnxd0nU",
        "colab_type": "code",
        "colab": {}
      },
      "cell_type": "code",
      "source": [
        "# Expected Output:\n",
        "image_url = \"https://github.com/wshuyi/github_pub_img/raw/master/assets/2019-02-18-10-27-12-370129.png\"\n",
        "from IPython.display import Image\n",
        "Image(image_url)"
      ],
      "execution_count": 0,
      "outputs": []
    },
    {
      "metadata": {
        "id": "WFcue3FdHeoc",
        "colab_type": "text"
      },
      "cell_type": "markdown",
      "source": [
        "**Question 25.** Create a Series whose index is reviewers and whose values is the average review score given out by that reviewer. Show the first 5 rows of the series (Hint: name of reviewer is in `taster_name`.)"
      ]
    },
    {
      "metadata": {
        "colab_type": "code",
        "id": "zA6DhhyzXgeY",
        "colab": {
          "base_uri": "https://localhost:8080/",
          "height": 136
        },
        "outputId": "1e1655cb-7e8f-4fb0-88e2-844f4475b66a"
      },
      "cell_type": "code",
      "source": [
        "average_reviews=reviews.groupby('taster_name').points.mean()\n",
        "average_reviews.head()"
      ],
      "execution_count": 199,
      "outputs": [
        {
          "output_type": "execute_result",
          "data": {
            "text/plain": [
              "taster_name\n",
              "Alexander Peartree    85.855422\n",
              "Anna Lee C. Iijima    88.415629\n",
              "Anne Krebiehl MW      90.562551\n",
              "Carrie Dykes          86.395683\n",
              "Christina Pickard     87.833333\n",
              "Name: points, dtype: float64"
            ]
          },
          "metadata": {
            "tags": []
          },
          "execution_count": 199
        }
      ]
    },
    {
      "metadata": {
        "id": "BNM0Pz0gd3zo",
        "colab_type": "code",
        "colab": {}
      },
      "cell_type": "code",
      "source": [
        "# Expected Output:\n",
        "image_url = \"https://github.com/wshuyi/github_pub_img/raw/master/assets/2019-02-18-10-27-35-752685.png\"\n",
        "from IPython.display import Image\n",
        "Image(image_url)"
      ],
      "execution_count": 0,
      "outputs": []
    },
    {
      "metadata": {
        "id": "PPK_WSfh_1Tq",
        "colab_type": "text"
      },
      "cell_type": "markdown",
      "source": [
        "**Question 26.** What combination of countries and varieties are most common? Create a `Series` whose index is a `MultiIndex`of `{country, variety}` pairs. For example, a pinot noir produced in the US should map to `{\"US\", \"Pinot Noir\"}`. Sort the values in the `Series` in descending order based on wine count. Show the first 10 rows of the series."
      ]
    },
    {
      "metadata": {
        "colab_type": "code",
        "id": "9gfF9jcfXg-R",
        "colab": {}
      },
      "cell_type": "code",
      "source": [
        "# TODO: your code here"
      ],
      "execution_count": 0,
      "outputs": []
    },
    {
      "metadata": {
        "id": "l0GMu9VTd74H",
        "colab_type": "code",
        "colab": {}
      },
      "cell_type": "code",
      "source": [
        "# Expected Output:\n",
        "image_url = \"https://github.com/wshuyi/github_pub_img/raw/master/assets/2019-02-18-10-27-42-958620.png\"\n",
        "from IPython.display import Image\n",
        "Image(image_url)"
      ],
      "execution_count": 0,
      "outputs": []
    },
    {
      "metadata": {
        "id": "zxjiMPEaF9hY",
        "colab_type": "text"
      },
      "cell_type": "markdown",
      "source": [
        "**Question 27.** `region_1` and `region_2` are pretty uninformative names for locale columns in the dataset. Create a copy of `reviews` with these columns renamed to `region` and `locale`, respectively. Show the first 5 rows of the renamed dataframe."
      ]
    },
    {
      "metadata": {
        "colab_type": "code",
        "id": "suFObsSmXhv8",
        "colab": {
          "base_uri": "https://localhost:8080/",
          "height": 632
        },
        "outputId": "730a04c9-de47-470f-db46-7ebbbadd1f49"
      },
      "cell_type": "code",
      "source": [
        "reviews_renamed=pd.DataFrame(reviews.rename(columns={'region_1':'region','region_2':'locale'}))\n",
        "reviews_renamed.head()\n"
      ],
      "execution_count": 204,
      "outputs": [
        {
          "output_type": "execute_result",
          "data": {
            "text/html": [
              "<div>\n",
              "<style scoped>\n",
              "    .dataframe tbody tr th:only-of-type {\n",
              "        vertical-align: middle;\n",
              "    }\n",
              "\n",
              "    .dataframe tbody tr th {\n",
              "        vertical-align: top;\n",
              "    }\n",
              "\n",
              "    .dataframe thead th {\n",
              "        text-align: right;\n",
              "    }\n",
              "</style>\n",
              "<table border=\"1\" class=\"dataframe\">\n",
              "  <thead>\n",
              "    <tr style=\"text-align: right;\">\n",
              "      <th></th>\n",
              "      <th>country</th>\n",
              "      <th>description</th>\n",
              "      <th>designation</th>\n",
              "      <th>points</th>\n",
              "      <th>price</th>\n",
              "      <th>province</th>\n",
              "      <th>region</th>\n",
              "      <th>locale</th>\n",
              "      <th>taster_name</th>\n",
              "      <th>taster_twitter_handle</th>\n",
              "      <th>title</th>\n",
              "      <th>variety</th>\n",
              "      <th>winery</th>\n",
              "      <th>points_to_price</th>\n",
              "      <th>descriptor_counts</th>\n",
              "    </tr>\n",
              "  </thead>\n",
              "  <tbody>\n",
              "    <tr>\n",
              "      <th>0</th>\n",
              "      <td>Italy</td>\n",
              "      <td>Aromas include tropical fruit, broom, brimston...</td>\n",
              "      <td>Vulkà Bianco</td>\n",
              "      <td>87</td>\n",
              "      <td>NaN</td>\n",
              "      <td>Sicily &amp; Sardinia</td>\n",
              "      <td>Etna</td>\n",
              "      <td>NaN</td>\n",
              "      <td>Kerin O’Keefe</td>\n",
              "      <td>@kerinokeefe</td>\n",
              "      <td>Nicosia 2013 Vulkà Bianco  (Etna)</td>\n",
              "      <td>White Blend</td>\n",
              "      <td>Nicosia</td>\n",
              "      <td>NaN</td>\n",
              "      <td>1</td>\n",
              "    </tr>\n",
              "    <tr>\n",
              "      <th>1</th>\n",
              "      <td>Portugal</td>\n",
              "      <td>This is ripe and fruity, a wine that is smooth...</td>\n",
              "      <td>Avidagos</td>\n",
              "      <td>87</td>\n",
              "      <td>15.0</td>\n",
              "      <td>Douro</td>\n",
              "      <td>NaN</td>\n",
              "      <td>NaN</td>\n",
              "      <td>Roger Voss</td>\n",
              "      <td>@vossroger</td>\n",
              "      <td>Quinta dos Avidagos 2011 Avidagos Red (Douro)</td>\n",
              "      <td>Portuguese Red</td>\n",
              "      <td>Quinta dos Avidagos</td>\n",
              "      <td>5.800000</td>\n",
              "      <td>0</td>\n",
              "    </tr>\n",
              "    <tr>\n",
              "      <th>2</th>\n",
              "      <td>US</td>\n",
              "      <td>Tart and snappy, the flavors of lime flesh and...</td>\n",
              "      <td>NaN</td>\n",
              "      <td>87</td>\n",
              "      <td>14.0</td>\n",
              "      <td>Oregon</td>\n",
              "      <td>Willamette Valley</td>\n",
              "      <td>Willamette Valley</td>\n",
              "      <td>Paul Gregutt</td>\n",
              "      <td>@paulgwine</td>\n",
              "      <td>Rainstorm 2013 Pinot Gris (Willamette Valley)</td>\n",
              "      <td>Pinot Gris</td>\n",
              "      <td>Rainstorm</td>\n",
              "      <td>6.214286</td>\n",
              "      <td>0</td>\n",
              "    </tr>\n",
              "    <tr>\n",
              "      <th>3</th>\n",
              "      <td>US</td>\n",
              "      <td>Pineapple rind, lemon pith and orange blossom ...</td>\n",
              "      <td>Reserve Late Harvest</td>\n",
              "      <td>87</td>\n",
              "      <td>13.0</td>\n",
              "      <td>Michigan</td>\n",
              "      <td>Lake Michigan Shore</td>\n",
              "      <td>NaN</td>\n",
              "      <td>Alexander Peartree</td>\n",
              "      <td>NaN</td>\n",
              "      <td>St. Julian 2013 Reserve Late Harvest Riesling ...</td>\n",
              "      <td>Riesling</td>\n",
              "      <td>St. Julian</td>\n",
              "      <td>6.692308</td>\n",
              "      <td>0</td>\n",
              "    </tr>\n",
              "    <tr>\n",
              "      <th>4</th>\n",
              "      <td>US</td>\n",
              "      <td>Much like the regular bottling from 2012, this...</td>\n",
              "      <td>Vintner's Reserve Wild Child Block</td>\n",
              "      <td>87</td>\n",
              "      <td>65.0</td>\n",
              "      <td>Oregon</td>\n",
              "      <td>Willamette Valley</td>\n",
              "      <td>Willamette Valley</td>\n",
              "      <td>Paul Gregutt</td>\n",
              "      <td>@paulgwine</td>\n",
              "      <td>Sweet Cheeks 2012 Vintner's Reserve Wild Child...</td>\n",
              "      <td>Pinot Noir</td>\n",
              "      <td>Sweet Cheeks</td>\n",
              "      <td>1.338462</td>\n",
              "      <td>0</td>\n",
              "    </tr>\n",
              "  </tbody>\n",
              "</table>\n",
              "</div>"
            ],
            "text/plain": [
              "    country                                        description  \\\n",
              "0     Italy  Aromas include tropical fruit, broom, brimston...   \n",
              "1  Portugal  This is ripe and fruity, a wine that is smooth...   \n",
              "2        US  Tart and snappy, the flavors of lime flesh and...   \n",
              "3        US  Pineapple rind, lemon pith and orange blossom ...   \n",
              "4        US  Much like the regular bottling from 2012, this...   \n",
              "\n",
              "                          designation  points  price           province  \\\n",
              "0                        Vulkà Bianco      87    NaN  Sicily & Sardinia   \n",
              "1                            Avidagos      87   15.0              Douro   \n",
              "2                                 NaN      87   14.0             Oregon   \n",
              "3                Reserve Late Harvest      87   13.0           Michigan   \n",
              "4  Vintner's Reserve Wild Child Block      87   65.0             Oregon   \n",
              "\n",
              "                region             locale         taster_name  \\\n",
              "0                 Etna                NaN       Kerin O’Keefe   \n",
              "1                  NaN                NaN          Roger Voss   \n",
              "2    Willamette Valley  Willamette Valley        Paul Gregutt   \n",
              "3  Lake Michigan Shore                NaN  Alexander Peartree   \n",
              "4    Willamette Valley  Willamette Valley        Paul Gregutt   \n",
              "\n",
              "  taster_twitter_handle                                              title  \\\n",
              "0          @kerinokeefe                  Nicosia 2013 Vulkà Bianco  (Etna)   \n",
              "1            @vossroger      Quinta dos Avidagos 2011 Avidagos Red (Douro)   \n",
              "2           @paulgwine       Rainstorm 2013 Pinot Gris (Willamette Valley)   \n",
              "3                   NaN  St. Julian 2013 Reserve Late Harvest Riesling ...   \n",
              "4           @paulgwine   Sweet Cheeks 2012 Vintner's Reserve Wild Child...   \n",
              "\n",
              "          variety               winery  points_to_price  descriptor_counts  \n",
              "0     White Blend              Nicosia              NaN                  1  \n",
              "1  Portuguese Red  Quinta dos Avidagos         5.800000                  0  \n",
              "2      Pinot Gris            Rainstorm         6.214286                  0  \n",
              "3        Riesling           St. Julian         6.692308                  0  \n",
              "4      Pinot Noir         Sweet Cheeks         1.338462                  0  "
            ]
          },
          "metadata": {
            "tags": []
          },
          "execution_count": 204
        }
      ]
    },
    {
      "metadata": {
        "id": "vj9N5aGQd-YM",
        "colab_type": "code",
        "colab": {}
      },
      "cell_type": "code",
      "source": [
        "# Expected Output:\n",
        "image_url = \"https://github.com/wshuyi/github_pub_img/raw/master/assets/2019-02-18-10-27-54-120816.png\"\n",
        "from IPython.display import Image\n",
        "Image(image_url)"
      ],
      "execution_count": 0,
      "outputs": []
    },
    {
      "metadata": {
        "id": "D73vqBKbGOdx",
        "colab_type": "code",
        "colab": {}
      },
      "cell_type": "code",
      "source": [
        ""
      ],
      "execution_count": 0,
      "outputs": []
    }
  ]
}